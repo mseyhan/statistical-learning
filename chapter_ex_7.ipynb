{
 "cells": [
  {
   "cell_type": "code",
   "execution_count": 2,
   "metadata": {
    "collapsed": true
   },
   "outputs": [],
   "source": [
    "import pandas as pd\n",
    "import numpy as np\n",
    "import random\n",
    "import scipy.stats\n",
    "import math\n",
    "import seaborn as sns\n",
    "from matplotlib import pyplot as plt\n",
    "from random import sample\n",
    "from scipy.stats import chisquare\n",
    "from scipy.stats import geom\n",
    "from scipy.stats import t\n",
    "from scipy import stats\n",
    "z90 = 1.645\n",
    "z95 = 1.96\n",
    "z99 = 2.576\n",
    "%matplotlib inline"
   ]
  },
  {
   "cell_type": "code",
   "execution_count": 7,
   "metadata": {},
   "outputs": [
    {
     "name": "stdout",
     "output_type": "stream",
     "text": [
      "it's an experiment,\n",
      "we're assuming conditions for inference are satisfied,\n",
      "because the our p-value of 0.0358 is smaller than our significance level of 0.05, we reject the null hypothesis and conclude\n",
      "there's a significant difference in the mean biscuit consumption between treatment and control groups.\n",
      "\n"
     ]
    }
   ],
   "source": [
    "'''7.47 Gaming and distracted eating, Part I. A group of researchers are interested in the possible effects of\n",
    "distracting stimuli during eating, such as an increase or decrease in the amount of food consumption. To test\n",
    "this hypothesis, they monitored food intake for a group of 44 patients who were randomized into two equal\n",
    "groups. The treatment group ate lunch while playing solitaire, and the control group ate lunch without any\n",
    "added distractions. Patients in the treatment group ate 52.1 grams of biscuits, with a standard deviation of\n",
    "45.1 grams, and patients in the control group ate 27.1 grams of biscuits, with a standard deviation of 26.4\n",
    "grams. Do these data provide convincing evidence that the average food intake (measured in amount of\n",
    "biscuits consumed) is different for the patients in the treatment group? Assume that conditions for inference\n",
    "are satisfied.'''\n",
    "n = 44\n",
    "n_t = 22\n",
    "xbar_t = 52.1\n",
    "s_t = 45.1\n",
    "\n",
    "n_c = 22\n",
    "xbar_c = 27.1\n",
    "s_c = 26.4\n",
    "\n",
    "sl = .05\n",
    "dof = n_t - 1 # i need to better understand how to set degrees of freedom.\n",
    "xbar = xbar_t - xbar_c\n",
    "x0 = 0\n",
    "se = np.sqrt((s_t**2/n_t) + (s_c**2/n_c))\n",
    "t = (xbar-x0) / se\n",
    "two_t = [t,(t*(-1))]\n",
    "p1t = stats.t.cdf(x=min(two_t), df=dof) # one tail probability -left tail-\n",
    "p = stats.t.cdf(x=min(two_t), df=dof) * 2 # two tailed p-value of corresponding t-score\n",
    "print(f'''it's an experiment,\n",
    "we're assuming conditions for inference are satisfied,\n",
    "because the our p-value of {p:.4f} is smaller than our significance level of {sl}, we reject the null hypothesis and conclude\n",
    "there's a significant difference in the average biscuit consumption between treatment and control groups.\n",
    "''')"
   ]
  },
  {
   "cell_type": "code",
   "execution_count": 12,
   "metadata": {},
   "outputs": [
    {
     "name": "stdout",
     "output_type": "stream",
     "text": [
      "it's an experiment,\n",
      "we're assuming conditions for inference are satisfied,\n",
      "because the our p-value of 0.0383 is smaller than our significance level of 0.05, we reject the null hypothesis and conclude\n",
      "there's a significant difference in the average recall of food between treatment and control groups. In other words,\n",
      "the patients in the treatment group who were playing solitaire ordered less times than the patients who are in control group.\n",
      "\n"
     ]
    }
   ],
   "source": [
    "'''7.48 Gaming and distracted eating, Part II. The researchers from Exercise 7.47 also investigated the effects\n",
    "of being distracted by a game on how much people eat. The 22 patients in the treatment group who ate\n",
    "their lunch while playing solitaire were asked to do a serial-order recall of the food lunch items they ate.\n",
    "The average number of items recalled by the patients in this group was 4. 9, with a standard deviation of\n",
    "1.8. The average number of items recalled by the patients in the control group (no distraction) was 6.1, with\n",
    "a standard deviation of 1.8. Do these data provide strong evidence that the average number of food items\n",
    "recalled by the patients in the treatment and control groups are different?'''\n",
    "\n",
    "n_t = 22\n",
    "xbar_t = 4.9\n",
    "s_t = 1.8\n",
    "\n",
    "n_c = 22\n",
    "xbar_c = 6.1\n",
    "s_c = 1.8\n",
    "\n",
    "sl = .05\n",
    "dof = n_t - 1 # i need to better understand how to set degrees of freedom.\n",
    "xbar = xbar_t - xbar_c\n",
    "x0 = 0\n",
    "se = np.sqrt((s_t**2/n_t) + (s_c**2/n_c))\n",
    "t = (xbar-x0) / se\n",
    "two_t = [t,(t*(-1))]\n",
    "p1t = stats.t.cdf(x=min(two_t), df=dof) # one tail probability -left tail-\n",
    "p = stats.t.cdf(x=min(two_t), df=dof) * 2 # two tailed p-value of corresponding t-score\n",
    "print(f'''it's an experiment,\n",
    "we're assuming conditions for inference are satisfied,\n",
    "because the our p-value of {p:.4f} is smaller than our significance level of {sl}, we reject the null hypothesis and conclude\n",
    "there's a significant difference in the average recall of food between treatment and control groups. In other words,\n",
    "the patients in the treatment group who were playing solitaire ordered less times than the patients who are in control group.\n",
    "''')"
   ]
  },
  {
   "cell_type": "code",
   "execution_count": 14,
   "metadata": {},
   "outputs": [
    {
     "name": "stdout",
     "output_type": "stream",
     "text": [
      "false. even though the same sample size needed in the paired tests, it does not mean that if we have equal sample sizes\n",
      "we must conduct paired tests. in paired tests, we look for the special correspondence between each pair of observations.\n",
      "\n"
     ]
    }
   ],
   "source": [
    "'''7.49 Sample size and pairing. Determine if the following statement is true or false, and if false, explain\n",
    "your reasoning: If comparing means of two groups with equal sample sizes, always use a paired test.'''\n",
    "print('''false. even though the same sample size needed in the paired tests, it does not mean that if we have equal sample sizes\n",
    "we must conduct paired tests. in paired tests, we look for the special correspondence between each pair of observations.\n",
    "''')"
   ]
  },
  {
   "cell_type": "code",
   "execution_count": 6,
   "metadata": {},
   "outputs": [
    {
     "data": {
      "text/plain": [
       "\"7.50 College credits. A college counselor is interested in estimating how many credits a student typically\\nenrolls in each semester. The counselor decides to randomly sample 100 students by using the registrar's\\ndatabase of students. The histogram below shows the distribution of the number of credits taken by these\\nstudents. Sample statistics for this distribution are also provided.\\n(a) What is the point estimate for the average number of credits taken per semester by students at this\\ncollege? What about the median?\\n(b) What is the point estimate for the standard deviation of the number of credits taken per semester by\\nstudents at this college? What about the IQR?\\n(c) Is a load of 16 credits unusually high for this college? What about 18 credits? Explain your reasoning.\\n(d) The college counselor takes another random sample of 100 students and this time \\nnds a sample mean\\nof 14.02 units. Should she be surprised that this sample statistic is slightly di\\nerent than the one from\\nthe original sample? Explain your reasoning.\\n(e) The sample means given above are point estimates for the mean number of credits taken by all students\\nat that college. What measures do we use to quantify the variability of this estimate? Compute this\\nquantity using the data from the original sample.\""
      ]
     },
     "execution_count": 6,
     "metadata": {},
     "output_type": "execute_result"
    }
   ],
   "source": [
    "'''7.50 College credits. A college counselor is interested in estimating how many credits a student typically\n",
    "enrolls in each semester. The counselor decides to randomly sample 100 students by using the registrar's\n",
    "database of students. The histogram below shows the distribution of the number of credits taken by these\n",
    "students. Sample statistics for this distribution are also provided.\n",
    "(a) What is the point estimate for the average number of credits taken per semester by students at this\n",
    "college? What about the median?\n",
    "(b) What is the point estimate for the standard deviation of the number of credits taken per semester by\n",
    "students at this college? What about the IQR?\n",
    "(c) Is a load of 16 credits unusually high for this college? What about 18 credits? Explain your reasoning.\n",
    "(d) The college counselor takes another random sample of 100 students and this time finds a sample mean\n",
    "of 14.02 units. Should she be surprised that this sample statistic is slightly different than the one from\n",
    "the original sample? Explain your reasoning.\n",
    "(e) The sample means given above are point estimates for the mean number of credits taken by all students\n",
    "at that college. What measures do we use to quantify the variability of this estimate? Compute this\n",
    "quantity using the data from the original sample.'''\n",
    "\n",
    "print('''a) point estimate for the average number of credits taken per semester is 13.65\n",
    "b) standard deviation is 1.91, IQR is 2 points\n",
    "c) \n",
    "''')"
   ]
  },
  {
   "cell_type": "code",
   "execution_count": 6,
   "metadata": {},
   "outputs": [
    {
     "data": {
      "text/plain": [
       "\"7.51 Hen eggs. The distribution of the number of eggs laid by a certain species of hen during their breeding\\nperiod has a mean of 35 eggs with a standard deviation of 18.2. Suppose a group of researchers randomly\\nsamples 45 hens of this species, counts the number of eggs laid during their breeding period, and records\\nthe sample mean. They repeat this 1,000 times, and build a distribution of sample means.\\n(a) What is this distribution called?\\n(b) Would you expect the shape of this distribution to be symmetric, right skewed, or left skewed? Explain\\nyour reasoning.\\n(c) Calculate the variability of this distribution and state the appropriate term used to refer to this value.\\n(d) Suppose the researchers' budget is reduced and they are only able to collect random samples of 10 hens.\\nThe sample mean of the number of eggs is recorded, and we repeat this 1,000 times, and build a new\\ndistribution of sample means. How will the variability of this new distribution compare to the variability\\nof the original distribution?\""
      ]
     },
     "execution_count": 6,
     "metadata": {},
     "output_type": "execute_result"
    }
   ],
   "source": [
    "'''7.51 Hen eggs. The distribution of the number of eggs laid by a certain species of hen during their breeding\n",
    "period has a mean of 35 eggs with a standard deviation of 18.2. Suppose a group of researchers randomly\n",
    "samples 45 hens of this species, counts the number of eggs laid during their breeding period, and records\n",
    "the sample mean. They repeat this 1,000 times, and build a distribution of sample means.\n",
    "(a) What is this distribution called?\n",
    "(b) Would you expect the shape of this distribution to be symmetric, right skewed, or left skewed? Explain\n",
    "your reasoning.\n",
    "(c) Calculate the variability of this distribution and state the appropriate term used to refer to this value.\n",
    "(d) Suppose the researchers' budget is reduced and they are only able to collect random samples of 10 hens.\n",
    "The sample mean of the number of eggs is recorded, and we repeat this 1,000 times, and build a new\n",
    "distribution of sample means. How will the variability of this new distribution compare to the variability\n",
    "of the original distribution?'''"
   ]
  },
  {
   "cell_type": "code",
   "execution_count": 7,
   "metadata": {},
   "outputs": [
    {
     "data": {
      "text/plain": [
       "'7.52 Forest management. Forest rangers wanted to better understand the rate of growth for younger trees\\nin the park. They took measurements of a random sample of 50 young trees in 2009 and again measured\\nthose same trees in 2019. The data below summarize their measurements, where the heights are in feet:\\nConstruct a 99% confidence interval for the average growth of (what had been) younger trees in the park\\nover 2009-2019.'"
      ]
     },
     "execution_count": 7,
     "metadata": {},
     "output_type": "execute_result"
    }
   ],
   "source": [
    "'''7.52 Forest management. Forest rangers wanted to better understand the rate of growth for younger trees\n",
    "in the park. They took measurements of a random sample of 50 young trees in 2009 and again measured\n",
    "those same trees in 2019. The data below summarize their measurements, where the heights are in feet:\n",
    "Construct a 99% confidence interval for the average growth of (what had been) younger trees in the park\n",
    "over 2009-2019.'''"
   ]
  },
  {
   "cell_type": "code",
   "execution_count": 8,
   "metadata": {},
   "outputs": [
    {
     "data": {
      "text/plain": [
       "'7.53 Experiment resizing. At a startup company running a new weather app, an engineering team\\ngenerally runs experiments where a random sample of 1% of the app\\'s visitors in the control group and\\nanother 1% were in the treatment group to test each new feature. The team\\'s core goal is to increase a\\nmetric called daily visitors, which is essentially the number of visitors to the app each day. They track\\nthis metric in each experiment arm and as their core experiment metric. In their most recent experiment,\\nthe team tested including a new animation when the app started, and the number of daily visitors in this\\nexperiment stabilized at +1.2% with a 95% con\\ndence interval of (-0.2%, +2.6%). This means if this new\\napp start animation was launched, the team thinks they might lose as many as 0.2% of daily visitors or\\ngain as many as 2.6% more daily visitors. Suppose you are consulting as the team\\'s data scientist, and after\\ndiscussing with the team, you and they agree that they should run another experiment that is bigger. You\\nalso agree that this new experiment should be able to detect a gain in the daily visitors metric of 1.0% or\\nmore with 80% power. Now they turn to you and ask, \\\\How big of an experiment do we need to run to\\nensure we can detect this e\\nect?\"\\n(a) How small must the standard error be if the team is to be able to detect an e\\nect of 1.0% with 80%\\npower and a signi\\ncance level of \\n = 0:05? You may safely assume the percent change in daily visitors\\nmetric follows a normal distribution.\\n(b) Consider the \\nrst experiment, where the point estimate was +1.2% and the 95% con\\ndence interval was\\n(-0.2%, +2.6%). If that point estimate followed a normal distribution, what was the standard error of\\nthe estimate?\\n(c) The ratio of the standard error from part (a) vs the standard error from part (b) should be 1.97. How\\nmuch bigger of an experiment is needed to shrink a standard error by a factor of 1.97?\\n(d) Using your answer from part (c) and that the original experiment was a 1% vs 1% experiment to\\nrecommend an experiment size to the team.'"
      ]
     },
     "execution_count": 8,
     "metadata": {},
     "output_type": "execute_result"
    }
   ],
   "source": [
    "'''7.53 Experiment resizing. At a startup company running a new weather app, an engineering team\n",
    "generally runs experiments where a random sample of 1% of the app's visitors in the control group and\n",
    "another 1% were in the treatment group to test each new feature. The team's core goal is to increase a\n",
    "metric called daily visitors, which is essentially the number of visitors to the app each day. They track\n",
    "this metric in each experiment arm and as their core experiment metric. In their most recent experiment,\n",
    "the team tested including a new animation when the app started, and the number of daily visitors in this\n",
    "experiment stabilized at +1.2% with a 95% confidence interval of (-0.2%, +2.6%). This means if this new\n",
    "app start animation was launched, the team thinks they might lose as many as 0.2% of daily visitors or\n",
    "gain as many as 2.6% more daily visitors. Suppose you are consulting as the team's data scientist, and after\n",
    "discussing with the team, you and they agree that they should run another experiment that is bigger. You\n",
    "also agree that this new experiment should be able to detect a gain in the daily visitors metric of 1.0% or\n",
    "more with 80% power. Now they turn to you and ask, \"How big of an experiment do we need to run to\n",
    "ensure we can detect this effect?\"\n",
    "(a) How small must the standard error be if the team is to be able to detect an effect of 1.0% with 80%\n",
    "power and a significance level of 0.05? You may safely assume the percent change in daily visitors\n",
    "metric follows a normal distribution.\n",
    "(b) Consider the first experiment, where the point estimate was +1.2% and the 95% confidence interval was\n",
    "(-0.2%, +2.6%). If that point estimate followed a normal distribution, what was the standard error of\n",
    "the estimate?\n",
    "(c) The ratio of the standard error from part (a) vs the standard error from part (b) should be 1.97. How\n",
    "much bigger of an experiment is needed to shrink a standard error by a factor of 1.97?\n",
    "(d) Using your answer from part (c) and that the original experiment was a 1% vs 1% experiment to\n",
    "recommend an experiment size to the team.'''"
   ]
  },
  {
   "cell_type": "code",
   "execution_count": 10,
   "metadata": {},
   "outputs": [
    {
     "data": {
      "text/plain": [
       "'7.54 Torque on a rusty bolt. Project Farm is a YouTube channel that routinely compares different\\nproducts. In one episode, the channel evaluated different options for loosening rusty bolts.40 Eight options\\nwere evaluated, including a control group where no treatment was given (\"none\" in the graph), to determine\\nwhich was most effective. For all treatments, there were four bolts tested, except for a treatment of heat\\nwith a blow torch, where only two data points were collected. The results are shown in the figure below:\\n(a) Do you think it is reasonable to apply ANOVA in this case?\\n(b) Regardless of your answer in part (a), describe hypotheses for ANOVA in this context, and use the table\\nbelow to carry out the test. Give your conclusion in the context of the data.\\n(c) The table below are p-values for pairwise t-tests comparing each of the different groups. These p-values\\nhave not been corrected for multiple comparisons. Which pair of groups appears most likely to represent\\na difference?\\n(d) There are 28 p-values shown in the table in part (c). Determine if any of them are statistically signi\\ncant\\nafter correcting for multiple comparisons. If so, which one(s)? Explain your answer.'"
      ]
     },
     "execution_count": 10,
     "metadata": {},
     "output_type": "execute_result"
    }
   ],
   "source": [
    "'''7.54 Torque on a rusty bolt. Project Farm is a YouTube channel that routinely compares different\n",
    "products. In one episode, the channel evaluated different options for loosening rusty bolts.40 Eight options\n",
    "were evaluated, including a control group where no treatment was given (\"none\" in the graph), to determine\n",
    "which was most effective. For all treatments, there were four bolts tested, except for a treatment of heat\n",
    "with a blow torch, where only two data points were collected. The results are shown in the figure below:\n",
    "(a) Do you think it is reasonable to apply ANOVA in this case?\n",
    "(b) Regardless of your answer in part (a), describe hypotheses for ANOVA in this context, and use the table\n",
    "below to carry out the test. Give your conclusion in the context of the data.\n",
    "(c) The table below are p-values for pairwise t-tests comparing each of the different groups. These p-values\n",
    "have not been corrected for multiple comparisons. Which pair of groups appears most likely to represent\n",
    "a difference?\n",
    "(d) There are 28 p-values shown in the table in part (c). Determine if any of them are statistically signi\f",
    "cant\n",
    "after correcting for multiple comparisons. If so, which one(s)? Explain your answer.'''"
   ]
  },
  {
   "cell_type": "code",
   "execution_count": 11,
   "metadata": {},
   "outputs": [
    {
     "data": {
      "text/plain": [
       "'7.55 Exclusive relationships. A survey conducted on a reasonably random sample of 203 undergraduates\\nasked, among many other questions, about the number of exclusive relationships these students have been\\nin. The histogram below shows the distribution of the data from this sample. The sample average is 3.2\\nwith a standard deviation of 1.97.\\nNumber of exclusive relationships\\n0 2 4 6 8 10\\n0\\n20\\n40\\n60\\n80\\n100\\nEstimate the average number of exclusive relationships Duke students have been in using a 90% con\\ndence\\ninterval and interpret this interval in context. Check any conditions required for inference, and note any\\nassumptions you must make as you proceed with your calculations and conclusions.'"
      ]
     },
     "execution_count": 11,
     "metadata": {},
     "output_type": "execute_result"
    }
   ],
   "source": [
    "'''7.55 Exclusive relationships. A survey conducted on a reasonably random sample of 203 undergraduates\n",
    "asked, among many other questions, about the number of exclusive relationships these students have been\n",
    "in. The histogram below shows the distribution of the data from this sample. The sample average is 3.2\n",
    "with a standard deviation of 1.97.\n",
    "Estimate the average number of exclusive relationships Duke students have been in using a 90% confidence\n",
    "interval and interpret this interval in context. Check any conditions required for inference, and note any\n",
    "assumptions you must make as you proceed with your calculations and conclusions.'''"
   ]
  },
  {
   "cell_type": "code",
   "execution_count": 8,
   "metadata": {},
   "outputs": [
    {
     "data": {
      "text/plain": [
       "\"7.56 Age at first marriage, Part I. The National Survey of Family Growth conducted by the Centers\\nfor Disease Control gathers information on family life, marriage and divorce, pregnancy, infertility, use of\\ncontraception, and men's and women's health. One of the variables collected on this survey is the age at\\nfirst marriage. The histogram below shows the distribution of ages at first marriage of 5,534 randomly\\nsampled women between 2006 and 2010. The average age at first marriage among these women is 23.44 with\\na standard deviation of 4.72.\\nEstimate the average age at first marriage of women using a 95% confidence interval, and interpret this\\ninterval in context. Discuss any relevant assumptions.\""
      ]
     },
     "execution_count": 8,
     "metadata": {},
     "output_type": "execute_result"
    }
   ],
   "source": [
    "'''7.56 Age at first marriage, Part I. The National Survey of Family Growth conducted by the Centers\n",
    "for Disease Control gathers information on family life, marriage and divorce, pregnancy, infertility, use of\n",
    "contraception, and men's and women's health. One of the variables collected on this survey is the age at\n",
    "first marriage. The histogram below shows the distribution of ages at first marriage of 5,534 randomly\n",
    "sampled women between 2006 and 2010. The average age at first marriage among these women is 23.44 with\n",
    "a standard deviation of 4.72.\n",
    "Estimate the average age at first marriage of women using a 95% confidence interval, and interpret this\n",
    "interval in context. Discuss any relevant assumptions.'''"
   ]
  },
  {
   "cell_type": "code",
   "execution_count": 14,
   "metadata": {},
   "outputs": [
    {
     "data": {
      "text/plain": [
       "'7.57 Online communication. A study suggests that the average college student spends 10 hours per week\\ncommunicating with others online. You believe that this is an underestimate and decide to collect your own\\nsample for a hypothesis test. You randomly sample 60 students from your dorm and \\nnd that on average\\nthey spent 13.5 hours a week communicating with others online. A friend of yours, who o\\ners to help you\\nwith the hypothesis test, comes up with the following set of hypotheses. Indicate any errors you see.\\nH0 : \\x16x < 10 hours\\nHA : \\x16x > 13:5 hours\\n7.58 Age at first marriage, Part II. Exercise 7.56 presents the results of a 2006 - 2010 survey showing that\\nthe average age of women at \\nrst marriage is 23.44. Suppose a social scientist thinks this value has changed\\nsince the survey was taken. Below is how she set up her hypotheses. Indicate any errors you see.\\nH0 : \\x16x 6= 23:44 years old\\nHA : \\x16x = 23:44 years old'"
      ]
     },
     "execution_count": 14,
     "metadata": {},
     "output_type": "execute_result"
    }
   ],
   "source": [
    "'''7.57 Online communication. A study suggests that the average college student spends 10 hours per week\n",
    "communicating with others online. You believe that this is an underestimate and decide to collect your own\n",
    "sample for a hypothesis test. You randomly sample 60 students from your dorm and \f",
    "nd that on average\n",
    "they spent 13.5 hours a week communicating with others online. A friend of yours, who o\u000b",
    "ers to help you\n",
    "with the hypothesis test, comes up with the following set of hypotheses. Indicate any errors you see.\n",
    "H0 : \u0016x < 10 hours\n",
    "HA : \u0016x > 13:5 hours\n",
    "7.58 Age at first marriage, Part II. Exercise 7.56 presents the results of a 2006 - 2010 survey showing that\n",
    "the average age of women at \f",
    "rst marriage is 23.44. Suppose a social scientist thinks this value has changed\n",
    "since the survey was taken. Below is how she set up her hypotheses. Indicate any errors you see.\n",
    "H0 : \u0016x 6= 23:44 years old\n",
    "HA : \u0016x = 23:44 years old'''"
   ]
  },
  {
   "cell_type": "code",
   "execution_count": null,
   "metadata": {
    "collapsed": true
   },
   "outputs": [],
   "source": []
  }
 ],
 "metadata": {
  "kernelspec": {
   "display_name": "Python 3",
   "language": "python",
   "name": "python3"
  },
  "language_info": {
   "codemirror_mode": {
    "name": "ipython",
    "version": 3
   },
   "file_extension": ".py",
   "mimetype": "text/x-python",
   "name": "python",
   "nbconvert_exporter": "python",
   "pygments_lexer": "ipython3",
   "version": "3.6.1"
  }
 },
 "nbformat": 4,
 "nbformat_minor": 2
}
