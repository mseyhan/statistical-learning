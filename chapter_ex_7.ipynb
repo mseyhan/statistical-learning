{
 "cells": [
  {
   "cell_type": "code",
   "execution_count": 1,
   "metadata": {
    "collapsed": true
   },
   "outputs": [],
   "source": [
    "import pandas as pd\n",
    "import numpy as np\n",
    "import random\n",
    "import scipy.stats\n",
    "import math\n",
    "import seaborn as sns\n",
    "from matplotlib import pyplot as plt\n",
    "from random import sample\n",
    "from scipy.stats import chisquare\n",
    "from scipy.stats import geom\n",
    "from scipy.stats import t\n",
    "from scipy import stats\n",
    "z90 = 1.645\n",
    "z95 = 1.96\n",
    "z99 = 2.576\n",
    "%matplotlib inline"
   ]
  },
  {
   "cell_type": "code",
   "execution_count": 2,
   "metadata": {},
   "outputs": [
    {
     "data": {
      "text/plain": [
       "'7.47 Gaming and distracted eating, Part I. A group of researchers are interested in the possible e\\nects of\\ndistracting stimuli during eating, such as an increase or decrease in the amount of food consumption. To test\\nthis hypothesis, they monitored food intake for a group of 44 patients who were randomized into two equal\\ngroups. The treatment group ate lunch while playing solitaire, and the control group ate lunch without any\\nadded distractions. Patients in the treatment group ate 52.1 grams of biscuits, with a standard deviation of\\n45.1 grams, and patients in the control group ate 27.1 grams of biscuits, with a standard deviation of 26.4\\ngrams. Do these data provide convincing evidence that the average food intake (measured in amount of\\nbiscuits consumed) is di\\nerent for the patients in the treatment group? Assume that conditions for inference\\nare satis\\ned.39\\n'"
      ]
     },
     "execution_count": 2,
     "metadata": {},
     "output_type": "execute_result"
    }
   ],
   "source": [
    "'''7.47 Gaming and distracted eating, Part I. A group of researchers are interested in the possible e\u000b",
    "ects of\n",
    "distracting stimuli during eating, such as an increase or decrease in the amount of food consumption. To test\n",
    "this hypothesis, they monitored food intake for a group of 44 patients who were randomized into two equal\n",
    "groups. The treatment group ate lunch while playing solitaire, and the control group ate lunch without any\n",
    "added distractions. Patients in the treatment group ate 52.1 grams of biscuits, with a standard deviation of\n",
    "45.1 grams, and patients in the control group ate 27.1 grams of biscuits, with a standard deviation of 26.4\n",
    "grams. Do these data provide convincing evidence that the average food intake (measured in amount of\n",
    "biscuits consumed) is di\u000b",
    "erent for the patients in the treatment group? Assume that conditions for inference\n",
    "are satis\f",
    "ed.39\n",
    "'''"
   ]
  },
  {
   "cell_type": "code",
   "execution_count": 3,
   "metadata": {},
   "outputs": [
    {
     "data": {
      "text/plain": [
       "'7.48 Gaming and distracted eating, Part II. The researchers from Exercise 7.47 also investigated the e\\nects\\nof being distracted by a game on how much people eat. The 22 patients in the treatment group who ate\\ntheir lunch while playing solitaire were asked to do a serial-order recall of the food lunch items they ate.\\nThe average number of items recalled by the patients in this group was 4. 9, with a standard deviation of\\n1.8. The average number of items recalled by the patients in the control group (no distraction) was 6.1, with\\na standard deviation of 1.8. Do these data provide strong evidence that the average number of food items\\nrecalled by the patients in the treatment and control groups are di\\nerent?'"
      ]
     },
     "execution_count": 3,
     "metadata": {},
     "output_type": "execute_result"
    }
   ],
   "source": [
    "'''7.48 Gaming and distracted eating, Part II. The researchers from Exercise 7.47 also investigated the e\u000b",
    "ects\n",
    "of being distracted by a game on how much people eat. The 22 patients in the treatment group who ate\n",
    "their lunch while playing solitaire were asked to do a serial-order recall of the food lunch items they ate.\n",
    "The average number of items recalled by the patients in this group was 4. 9, with a standard deviation of\n",
    "1.8. The average number of items recalled by the patients in the control group (no distraction) was 6.1, with\n",
    "a standard deviation of 1.8. Do these data provide strong evidence that the average number of food items\n",
    "recalled by the patients in the treatment and control groups are di\u000b",
    "erent?'''"
   ]
  },
  {
   "cell_type": "code",
   "execution_count": 4,
   "metadata": {},
   "outputs": [
    {
     "data": {
      "text/plain": [
       "'7.49 Sample size and pairing. Determine if the following statement is true or false, and if false, explain\\nyour reasoning: If comparing means of two groups with equal sample sizes, always use a paired test.'"
      ]
     },
     "execution_count": 4,
     "metadata": {},
     "output_type": "execute_result"
    }
   ],
   "source": [
    "'''7.49 Sample size and pairing. Determine if the following statement is true or false, and if false, explain\n",
    "your reasoning: If comparing means of two groups with equal sample sizes, always use a paired test.'''"
   ]
  },
  {
   "cell_type": "code",
   "execution_count": 5,
   "metadata": {},
   "outputs": [
    {
     "data": {
      "text/plain": [
       "\"7.50 College credits. A college counselor is interested in estimating how many credits a student typically\\nenrolls in each semester. The counselor decides to randomly sample 100 students by using the registrar's\\ndatabase of students. The histogram below shows the distribution of the number of credits taken by these\\nstudents. Sample statistics for this distribution are also provided.\\nNumber of credits\\nFrequency\\n8 10 12 14 16 18\\n0\\n10\\n20 Min 8\\nQ1 13\\nMedian 14\\nMean 13.65\\nSD 1.91\\nQ3 15\\nMax 18\\n(a) What is the point estimate for the average number of credits taken per semester by students at this\\ncollege? What about the median?\\n(b) What is the point estimate for the standard deviation of the number of credits taken per semester by\\nstudents at this college? What about the IQR?\\n(c) Is a load of 16 credits unusually high for this college? What about 18 credits? Explain your reasoning.\\n(d) The college counselor takes another random sample of 100 students and this time \\nnds a sample mean\\nof 14.02 units. Should she be surprised that this sample statistic is slightly di\\nerent than the one from\\nthe original sample? Explain your reasoning.\\n(e) The sample means given above are point estimates for the mean number of credits taken by all students\\nat that college. What measures do we use to quantify the variability of this estimate? Compute this\\nquantity using the data from the original sample.\""
      ]
     },
     "execution_count": 5,
     "metadata": {},
     "output_type": "execute_result"
    }
   ],
   "source": [
    "'''7.50 College credits. A college counselor is interested in estimating how many credits a student typically\n",
    "enrolls in each semester. The counselor decides to randomly sample 100 students by using the registrar's\n",
    "database of students. The histogram below shows the distribution of the number of credits taken by these\n",
    "students. Sample statistics for this distribution are also provided.\n",
    "Number of credits\n",
    "Frequency\n",
    "8 10 12 14 16 18\n",
    "0\n",
    "10\n",
    "20 Min 8\n",
    "Q1 13\n",
    "Median 14\n",
    "Mean 13.65\n",
    "SD 1.91\n",
    "Q3 15\n",
    "Max 18\n",
    "(a) What is the point estimate for the average number of credits taken per semester by students at this\n",
    "college? What about the median?\n",
    "(b) What is the point estimate for the standard deviation of the number of credits taken per semester by\n",
    "students at this college? What about the IQR?\n",
    "(c) Is a load of 16 credits unusually high for this college? What about 18 credits? Explain your reasoning.\n",
    "(d) The college counselor takes another random sample of 100 students and this time \f",
    "nds a sample mean\n",
    "of 14.02 units. Should she be surprised that this sample statistic is slightly di\u000b",
    "erent than the one from\n",
    "the original sample? Explain your reasoning.\n",
    "(e) The sample means given above are point estimates for the mean number of credits taken by all students\n",
    "at that college. What measures do we use to quantify the variability of this estimate? Compute this\n",
    "quantity using the data from the original sample.'''"
   ]
  },
  {
   "cell_type": "code",
   "execution_count": 6,
   "metadata": {},
   "outputs": [
    {
     "data": {
      "text/plain": [
       "\"7.51 Hen eggs. The distribution of the number of eggs laid by a certain species of hen during their breeding\\nperiod has a mean of 35 eggs with a standard deviation of 18.2. Suppose a group of researchers randomly\\nsamples 45 hens of this species, counts the number of eggs laid during their breeding period, and records\\nthe sample mean. They repeat this 1,000 times, and build a distribution of sample means.\\n(a) What is this distribution called?\\n(b) Would you expect the shape of this distribution to be symmetric, right skewed, or left skewed? Explain\\nyour reasoning.\\n(c) Calculate the variability of this distribution and state the appropriate term used to refer to this value.\\n(d) Suppose the researchers' budget is reduced and they are only able to collect random samples of 10 hens.\\nThe sample mean of the number of eggs is recorded, and we repeat this 1,000 times, and build a new\\ndistribution of sample means. How will the variability of this new distribution compare to the variability\\nof the original distribution?\""
      ]
     },
     "execution_count": 6,
     "metadata": {},
     "output_type": "execute_result"
    }
   ],
   "source": [
    "'''7.51 Hen eggs. The distribution of the number of eggs laid by a certain species of hen during their breeding\n",
    "period has a mean of 35 eggs with a standard deviation of 18.2. Suppose a group of researchers randomly\n",
    "samples 45 hens of this species, counts the number of eggs laid during their breeding period, and records\n",
    "the sample mean. They repeat this 1,000 times, and build a distribution of sample means.\n",
    "(a) What is this distribution called?\n",
    "(b) Would you expect the shape of this distribution to be symmetric, right skewed, or left skewed? Explain\n",
    "your reasoning.\n",
    "(c) Calculate the variability of this distribution and state the appropriate term used to refer to this value.\n",
    "(d) Suppose the researchers' budget is reduced and they are only able to collect random samples of 10 hens.\n",
    "The sample mean of the number of eggs is recorded, and we repeat this 1,000 times, and build a new\n",
    "distribution of sample means. How will the variability of this new distribution compare to the variability\n",
    "of the original distribution?'''"
   ]
  },
  {
   "cell_type": "code",
   "execution_count": 7,
   "metadata": {},
   "outputs": [
    {
     "data": {
      "text/plain": [
       "'7.52 Forest management. Forest rangers wanted to better understand the rate of growth for younger trees\\nin the park. They took measurements of a random sample of 50 young trees in 2009 and again measured\\nthose same trees in 2019. The data below summarize their measurements, where the heights are in feet:\\n2009 2019 Di\\nerences\\n\\x16x 12.0 24.5 12.5\\ns 3.5 9.5 7.2\\nn 50 50 50\\nConstruct a 99% con\\ndence interval for the average growth of (what had been) younger trees in the park\\nover 2009-2019.'"
      ]
     },
     "execution_count": 7,
     "metadata": {},
     "output_type": "execute_result"
    }
   ],
   "source": [
    "'''7.52 Forest management. Forest rangers wanted to better understand the rate of growth for younger trees\n",
    "in the park. They took measurements of a random sample of 50 young trees in 2009 and again measured\n",
    "those same trees in 2019. The data below summarize their measurements, where the heights are in feet:\n",
    "2009 2019 Di\u000b",
    "erences\n",
    "\u0016x 12.0 24.5 12.5\n",
    "s 3.5 9.5 7.2\n",
    "n 50 50 50\n",
    "Construct a 99% con\f",
    "dence interval for the average growth of (what had been) younger trees in the park\n",
    "over 2009-2019.'''"
   ]
  },
  {
   "cell_type": "code",
   "execution_count": 8,
   "metadata": {},
   "outputs": [
    {
     "data": {
      "text/plain": [
       "'7.53 Experiment resizing. At a startup company running a new weather app, an engineering team\\ngenerally runs experiments where a random sample of 1% of the app\\'s visitors in the control group and\\nanother 1% were in the treatment group to test each new feature. The team\\'s core goal is to increase a\\nmetric called daily visitors, which is essentially the number of visitors to the app each day. They track\\nthis metric in each experiment arm and as their core experiment metric. In their most recent experiment,\\nthe team tested including a new animation when the app started, and the number of daily visitors in this\\nexperiment stabilized at +1.2% with a 95% con\\ndence interval of (-0.2%, +2.6%). This means if this new\\napp start animation was launched, the team thinks they might lose as many as 0.2% of daily visitors or\\ngain as many as 2.6% more daily visitors. Suppose you are consulting as the team\\'s data scientist, and after\\ndiscussing with the team, you and they agree that they should run another experiment that is bigger. You\\nalso agree that this new experiment should be able to detect a gain in the daily visitors metric of 1.0% or\\nmore with 80% power. Now they turn to you and ask, \\\\How big of an experiment do we need to run to\\nensure we can detect this e\\nect?\"\\n(a) How small must the standard error be if the team is to be able to detect an e\\nect of 1.0% with 80%\\npower and a signi\\ncance level of \\n = 0:05? You may safely assume the percent change in daily visitors\\nmetric follows a normal distribution.\\n(b) Consider the \\nrst experiment, where the point estimate was +1.2% and the 95% con\\ndence interval was\\n(-0.2%, +2.6%). If that point estimate followed a normal distribution, what was the standard error of\\nthe estimate?\\n(c) The ratio of the standard error from part (a) vs the standard error from part (b) should be 1.97. How\\nmuch bigger of an experiment is needed to shrink a standard error by a factor of 1.97?\\n(d) Using your answer from part (c) and that the original experiment was a 1% vs 1% experiment to\\nrecommend an experiment size to the team.'"
      ]
     },
     "execution_count": 8,
     "metadata": {},
     "output_type": "execute_result"
    }
   ],
   "source": [
    "'''7.53 Experiment resizing. At a startup company running a new weather app, an engineering team\n",
    "generally runs experiments where a random sample of 1% of the app's visitors in the control group and\n",
    "another 1% were in the treatment group to test each new feature. The team's core goal is to increase a\n",
    "metric called daily visitors, which is essentially the number of visitors to the app each day. They track\n",
    "this metric in each experiment arm and as their core experiment metric. In their most recent experiment,\n",
    "the team tested including a new animation when the app started, and the number of daily visitors in this\n",
    "experiment stabilized at +1.2% with a 95% con\f",
    "dence interval of (-0.2%, +2.6%). This means if this new\n",
    "app start animation was launched, the team thinks they might lose as many as 0.2% of daily visitors or\n",
    "gain as many as 2.6% more daily visitors. Suppose you are consulting as the team's data scientist, and after\n",
    "discussing with the team, you and they agree that they should run another experiment that is bigger. You\n",
    "also agree that this new experiment should be able to detect a gain in the daily visitors metric of 1.0% or\n",
    "more with 80% power. Now they turn to you and ask, \\How big of an experiment do we need to run to\n",
    "ensure we can detect this e\u000b",
    "ect?\"\n",
    "(a) How small must the standard error be if the team is to be able to detect an e\u000b",
    "ect of 1.0% with 80%\n",
    "power and a signi\f",
    "cance level of \u000b",
    " = 0:05? You may safely assume the percent change in daily visitors\n",
    "metric follows a normal distribution.\n",
    "(b) Consider the \f",
    "rst experiment, where the point estimate was +1.2% and the 95% con\f",
    "dence interval was\n",
    "(-0.2%, +2.6%). If that point estimate followed a normal distribution, what was the standard error of\n",
    "the estimate?\n",
    "(c) The ratio of the standard error from part (a) vs the standard error from part (b) should be 1.97. How\n",
    "much bigger of an experiment is needed to shrink a standard error by a factor of 1.97?\n",
    "(d) Using your answer from part (c) and that the original experiment was a 1% vs 1% experiment to\n",
    "recommend an experiment size to the team.'''"
   ]
  },
  {
   "cell_type": "code",
   "execution_count": 10,
   "metadata": {},
   "outputs": [
    {
     "data": {
      "text/plain": [
       "'7.54 Torque on a rusty bolt. Project Farm is a YouTube channel that routinely compares di\\nerent\\nproducts. In one episode, the channel evaluated di\\nerent options for loosening rusty bolts.40 Eight options\\nwere evaluated, including a control group where no treatment was given (\\none\" in the graph), to determine\\nwhich was most e\\nective. For all treatments, there were four bolts tested, except for a treatment of heat\\nwith a blow torch, where only two data points were collected. The results are shown in the \\ngure below:\\nTorque Required to Loosen Rusty Bolt, in Foot−Pounds\\n90 100 110 120 130 140\\nnone\\nAcetone/ATF\\nAeroKroil\\nLiquid Wrench\\nPB Blaster\\nRoyal Purple\\nWD−40\\nHeat\\n(a) Do you think it is reasonable to apply ANOVA in this case?\\n(b) Regardless of your answer in part (a), describe hypotheses for ANOVA in this context, and use the table\\nbelow to carry out the test. Give your conclusion in the context of the data.\\nDf Sum Sq Mean Sq F value Pr(>F)\\ntreatment 7 3603.43 514.78 4.03 0.0056\\nResiduals 22 2812.80 127.85\\n(c) The table below are p-values for pairwise t-tests comparing each of the di\\nerent groups. These p-values\\nhave not been corrected for multiple comparisons. Which pair of groups appears most likely to represent\\na di\\nerence?\\nAeroKroil Heat Liquid Wrench none PB Blaster Royal Purple WD-40\\nAcetone/ATF 0.2026 0.0308 0.0476 0.1542 0.3294 0.5222 0.3744\\nAeroKroil 0.0027 0.0025 0.8723 0.7551 0.5143 0.6883\\nHeat 0.5580 0.0020 0.0050 0.0096 0.0059\\nLiquid Wrench 0.0017 0.0053 0.0117 0.0065\\nnone 0.6371 0.4180 0.5751\\nPB Blaster 0.7318 0.9286\\nRoyal Purple 0.8000\\n(d) There are 28 p-values shown in the table in part (c). Determine if any of them are statistically signi\\ncant\\nafter correcting for multiple comparisons. If so, which one(s)? Explain your answer.'"
      ]
     },
     "execution_count": 10,
     "metadata": {},
     "output_type": "execute_result"
    }
   ],
   "source": [
    "'''7.54 Torque on a rusty bolt. Project Farm is a YouTube channel that routinely compares di\u000b",
    "erent\n",
    "products. In one episode, the channel evaluated di\u000b",
    "erent options for loosening rusty bolts.40 Eight options\n",
    "were evaluated, including a control group where no treatment was given (\\none\" in the graph), to determine\n",
    "which was most e\u000b",
    "ective. For all treatments, there were four bolts tested, except for a treatment of heat\n",
    "with a blow torch, where only two data points were collected. The results are shown in the \f",
    "gure below:\n",
    "Torque Required to Loosen Rusty Bolt, in Foot−Pounds\n",
    "90 100 110 120 130 140\n",
    "none\n",
    "Acetone/ATF\n",
    "AeroKroil\n",
    "Liquid Wrench\n",
    "PB Blaster\n",
    "Royal Purple\n",
    "WD−40\n",
    "Heat\n",
    "(a) Do you think it is reasonable to apply ANOVA in this case?\n",
    "(b) Regardless of your answer in part (a), describe hypotheses for ANOVA in this context, and use the table\n",
    "below to carry out the test. Give your conclusion in the context of the data.\n",
    "Df Sum Sq Mean Sq F value Pr(>F)\n",
    "treatment 7 3603.43 514.78 4.03 0.0056\n",
    "Residuals 22 2812.80 127.85\n",
    "(c) The table below are p-values for pairwise t-tests comparing each of the di\u000b",
    "erent groups. These p-values\n",
    "have not been corrected for multiple comparisons. Which pair of groups appears most likely to represent\n",
    "a di\u000b",
    "erence?\n",
    "AeroKroil Heat Liquid Wrench none PB Blaster Royal Purple WD-40\n",
    "Acetone/ATF 0.2026 0.0308 0.0476 0.1542 0.3294 0.5222 0.3744\n",
    "AeroKroil 0.0027 0.0025 0.8723 0.7551 0.5143 0.6883\n",
    "Heat 0.5580 0.0020 0.0050 0.0096 0.0059\n",
    "Liquid Wrench 0.0017 0.0053 0.0117 0.0065\n",
    "none 0.6371 0.4180 0.5751\n",
    "PB Blaster 0.7318 0.9286\n",
    "Royal Purple 0.8000\n",
    "(d) There are 28 p-values shown in the table in part (c). Determine if any of them are statistically signi\f",
    "cant\n",
    "after correcting for multiple comparisons. If so, which one(s)? Explain your answer.'''"
   ]
  },
  {
   "cell_type": "code",
   "execution_count": 11,
   "metadata": {},
   "outputs": [
    {
     "data": {
      "text/plain": [
       "'7.55 Exclusive relationships. A survey conducted on a reasonably random sample of 203 undergraduates\\nasked, among many other questions, about the number of exclusive relationships these students have been\\nin. The histogram below shows the distribution of the data from this sample. The sample average is 3.2\\nwith a standard deviation of 1.97.\\nNumber of exclusive relationships\\n0 2 4 6 8 10\\n0\\n20\\n40\\n60\\n80\\n100\\nEstimate the average number of exclusive relationships Duke students have been in using a 90% con\\ndence\\ninterval and interpret this interval in context. Check any conditions required for inference, and note any\\nassumptions you must make as you proceed with your calculations and conclusions.'"
      ]
     },
     "execution_count": 11,
     "metadata": {},
     "output_type": "execute_result"
    }
   ],
   "source": [
    "'''7.55 Exclusive relationships. A survey conducted on a reasonably random sample of 203 undergraduates\n",
    "asked, among many other questions, about the number of exclusive relationships these students have been\n",
    "in. The histogram below shows the distribution of the data from this sample. The sample average is 3.2\n",
    "with a standard deviation of 1.97.\n",
    "Number of exclusive relationships\n",
    "0 2 4 6 8 10\n",
    "0\n",
    "20\n",
    "40\n",
    "60\n",
    "80\n",
    "100\n",
    "Estimate the average number of exclusive relationships Duke students have been in using a 90% con\f",
    "dence\n",
    "interval and interpret this interval in context. Check any conditions required for inference, and note any\n",
    "assumptions you must make as you proceed with your calculations and conclusions.'''"
   ]
  },
  {
   "cell_type": "code",
   "execution_count": 12,
   "metadata": {},
   "outputs": [
    {
     "data": {
      "text/plain": [
       "\"7.56 Age at first marriage, Part I. The National Survey of Family Growth conducted by the Centers\\nfor Disease Control gathers information on family life, marriage and divorce, pregnancy, infertility, use of\\ncontraception, and men's and women's health. One of the variables collected on this survey is the age at\\n\\nrst marriage. The histogram below shows the distribution of ages at \\nrst marriage of 5,534 randomly\\nsampled women between 2006 and 2010. The average age at \\nrst marriage among these women is 23.44 with\\na standard deviation of 4.72.41\\nAge at first marriage\\n10 15 20 25 30 35 40 45\\n0\\n200\\n400\\n600\\n800\\n1000\\nEstimate the average age at \\nrst marriage of women using a 95% con\\ndence interval, and interpret this\\ninterval in context. Discuss any relevant assumptions.\""
      ]
     },
     "execution_count": 12,
     "metadata": {},
     "output_type": "execute_result"
    }
   ],
   "source": [
    "'''7.56 Age at first marriage, Part I. The National Survey of Family Growth conducted by the Centers\n",
    "for Disease Control gathers information on family life, marriage and divorce, pregnancy, infertility, use of\n",
    "contraception, and men's and women's health. One of the variables collected on this survey is the age at\n",
    "\f",
    "rst marriage. The histogram below shows the distribution of ages at \f",
    "rst marriage of 5,534 randomly\n",
    "sampled women between 2006 and 2010. The average age at \f",
    "rst marriage among these women is 23.44 with\n",
    "a standard deviation of 4.72.41\n",
    "Age at first marriage\n",
    "10 15 20 25 30 35 40 45\n",
    "0\n",
    "200\n",
    "400\n",
    "600\n",
    "800\n",
    "1000\n",
    "Estimate the average age at \f",
    "rst marriage of women using a 95% con\f",
    "dence interval, and interpret this\n",
    "interval in context. Discuss any relevant assumptions.'''"
   ]
  },
  {
   "cell_type": "code",
   "execution_count": 14,
   "metadata": {},
   "outputs": [
    {
     "data": {
      "text/plain": [
       "'7.57 Online communication. A study suggests that the average college student spends 10 hours per week\\ncommunicating with others online. You believe that this is an underestimate and decide to collect your own\\nsample for a hypothesis test. You randomly sample 60 students from your dorm and \\nnd that on average\\nthey spent 13.5 hours a week communicating with others online. A friend of yours, who o\\ners to help you\\nwith the hypothesis test, comes up with the following set of hypotheses. Indicate any errors you see.\\nH0 : \\x16x < 10 hours\\nHA : \\x16x > 13:5 hours\\n7.58 Age at first marriage, Part II. Exercise 7.56 presents the results of a 2006 - 2010 survey showing that\\nthe average age of women at \\nrst marriage is 23.44. Suppose a social scientist thinks this value has changed\\nsince the survey was taken. Below is how she set up her hypotheses. Indicate any errors you see.\\nH0 : \\x16x 6= 23:44 years old\\nHA : \\x16x = 23:44 years old'"
      ]
     },
     "execution_count": 14,
     "metadata": {},
     "output_type": "execute_result"
    }
   ],
   "source": [
    "'''7.57 Online communication. A study suggests that the average college student spends 10 hours per week\n",
    "communicating with others online. You believe that this is an underestimate and decide to collect your own\n",
    "sample for a hypothesis test. You randomly sample 60 students from your dorm and \f",
    "nd that on average\n",
    "they spent 13.5 hours a week communicating with others online. A friend of yours, who o\u000b",
    "ers to help you\n",
    "with the hypothesis test, comes up with the following set of hypotheses. Indicate any errors you see.\n",
    "H0 : \u0016x < 10 hours\n",
    "HA : \u0016x > 13:5 hours\n",
    "7.58 Age at first marriage, Part II. Exercise 7.56 presents the results of a 2006 - 2010 survey showing that\n",
    "the average age of women at \f",
    "rst marriage is 23.44. Suppose a social scientist thinks this value has changed\n",
    "since the survey was taken. Below is how she set up her hypotheses. Indicate any errors you see.\n",
    "H0 : \u0016x 6= 23:44 years old\n",
    "HA : \u0016x = 23:44 years old'''"
   ]
  },
  {
   "cell_type": "code",
   "execution_count": null,
   "metadata": {
    "collapsed": true
   },
   "outputs": [],
   "source": []
  }
 ],
 "metadata": {
  "kernelspec": {
   "display_name": "Python 3",
   "language": "python",
   "name": "python3"
  },
  "language_info": {
   "codemirror_mode": {
    "name": "ipython",
    "version": 3
   },
   "file_extension": ".py",
   "mimetype": "text/x-python",
   "name": "python",
   "nbconvert_exporter": "python",
   "pygments_lexer": "ipython3",
   "version": "3.6.1"
  }
 },
 "nbformat": 4,
 "nbformat_minor": 2
}
