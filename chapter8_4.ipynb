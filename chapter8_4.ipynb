{
 "cells": [
  {
   "cell_type": "code",
   "execution_count": 2,
   "metadata": {
    "collapsed": true
   },
   "outputs": [],
   "source": [
    "import pandas as pd\n",
    "import numpy as np\n",
    "import random\n",
    "import scipy.stats\n",
    "import math\n",
    "import seaborn as sns\n",
    "from matplotlib import pyplot as plt\n",
    "from random import sample\n",
    "from scipy.stats import chisquare\n",
    "from scipy.stats import geom\n",
    "from scipy.stats import t\n",
    "from scipy import stats\n",
    "from sklearn.linear_model import LinearRegression\n",
    "from sklearn.metrics import r2_score\n",
    "from matplotlib.ticker import AutoMinorLocator\n",
    "%matplotlib inline"
   ]
  },
  {
   "cell_type": "code",
   "execution_count": 8,
   "metadata": {
    "collapsed": true
   },
   "outputs": [],
   "source": [
    "'''Compute the 95% confidence interval for the family income coe\u000ecient using the regression output\n",
    "from Table 8.21.'''\n",
    "\n",
    "b0 = 24319.3\n",
    "s_b0 = 1291.5\n",
    "t_b0 = 18.83\n",
    "\n",
    "b1 = -0.0431\n",
    "s_b1 = .0108\n",
    "t_b1 = -3.98\n",
    "\n",
    "xbar = b1\n",
    "se = s_b1\n",
    "dof = 48\n",
    "cl = .95\n",
    "sl = 1-cl\n"
   ]
  },
  {
   "cell_type": "code",
   "execution_count": 13,
   "metadata": {},
   "outputs": [
    {
     "name": "stdout",
     "output_type": "stream",
     "text": [
      "CONFIDENCE INTERVAL\n",
      "a) standard error = 0.0108, me = 0.0217, dof = 48, t_conf = 2.0106\n",
      "b) we're 95% confident that the with each dollar increase in family_income, the university's gift aid is predicted to \n",
      "decrease on average by -0.0648 and -0.0214\n",
      "\n"
     ]
    },
    {
     "name": "stderr",
     "output_type": "stream",
     "text": [
      "C:\\Program Files (x86)\\Anaconda3\\lib\\site-packages\\matplotlib\\patches.py:121: UserWarning: Setting the 'color' property will overridethe edgecolor or facecolor properties. \n",
      "  warnings.warn(\"Setting the 'color' property will override\"\n"
     ]
    },
    {
     "data": {
      "image/png": "[encoded data removed]",
      "text/plain": [
       "<matplotlib.figure.Figure at 0x1e6ca5a0550>"
      ]
     },
     "metadata": {},
     "output_type": "display_data"
    }
   ],
   "source": [
    "# CONFIDENCE INTERVAL\n",
    "fig = plt.figure(figsize=(14,4))\n",
    "x = np.linspace(-4, 4, 500)\n",
    "s1t = sl / 2\n",
    "t_conf = stats.t.ppf(1-s1t, dof) # upper tail is 1 - confidence level /2 (one tail)\n",
    "se = s_b1\n",
    "me = t_conf * se\n",
    "lo = xbar - me\n",
    "hi = xbar + me\n",
    "print('''CONFIDENCE INTERVAL\n",
    "a) standard error = {se:.4f}, me = {me:.4f}, dof = {dof}, t_conf = {t_conf:.4f}\n",
    "b) we're {cl:.0%} confident that the with each dollar increase in family_income, the university's gift aid is predicted to \n",
    "decrease on average by {lo:.4f} and {hi:.4f}\n",
    "'''\n",
    ".format(cl=cl,se=se,me=me,lo=lo,hi=hi,dof=dof,t_conf=t_conf))\n",
    "\n",
    "ax_conf = fig.add_subplot(1,2,2)\n",
    "y = stats.t.pdf(x, dof)\n",
    "two_t_conf = [t_conf, (t_conf)*-1]\n",
    "\n",
    "ax_conf.plot(x, y, color='black',label=f' t-distribution, df= {dof}'.format(df=dof))\n",
    "ax_conf.fill_between(x, y, color='blue', alpha=0.5, where= ~((x<min(two_t_conf)) | (x>max(two_t_conf))) ,label=\"confidence interval\")\n",
    "ax_conf.set_ylabel('Probability Density')\n",
    "ax_conf.set_xlabel('Standard Deviations')\n",
    "ax_conf.set_title('Confidence Interval')\n",
    "ax_conf.text(min(two_t_conf), stats.t.cdf(x=min(two_t_conf), df=dof), '{t_lo:.2f}'.format(t_lo=lo), color='black', \n",
    "        bbox=dict(facecolor='none', edgecolor='black', boxstyle='round,pad=1', color='gray'),fontsize='x-small')\n",
    "ax_conf.text(max(two_t_conf), stats.t.cdf(x=min(two_t_conf), df=dof), '{t_hi:.2f}'.format(t_hi=hi), color='black', \n",
    "        bbox=dict(facecolor='none', edgecolor='black', boxstyle='round,pad=1', color='gray'),fontsize='x-small')\n",
    "legend = ax_conf.legend(shadow=True,fontsize='small')"
   ]
  },
  {
   "cell_type": "code",
   "execution_count": 14,
   "metadata": {},
   "outputs": [
    {
     "data": {
      "text/plain": [
       "'8.31 Body measurements, Part IV. The scatterplot and least squares summary below show the relation-\\nship between weight measured in kilograms and height measured in centimeters of 507 physically active\\nindividuals.\\nHeight (cm)\\nWeight (kg)\\n150 175 200\\n50\\n70\\n90\\n110\\nEstimate Std. Error t value Pr(>jtj)\\n(Intercept) -105.0113 7.5394 -13.93 0.0000\\nheight 1.0176 0.0440 23.13 0.0000\\n(a) Describe the relationship between height and weight.\\n(b) Write the equation of the regression line. Interpret the slope and intercept in context.\\n(c) Do the data provide strong evidence that an increase in height is associated with an increase in weight?\\nState the null and alternative hypotheses, report the p-value, and state your conclusion.\\n(d) The correlation coe\\x0ecient for height and weight is 0.72. Calculate R2 and interpret it in context.'"
      ]
     },
     "execution_count": 14,
     "metadata": {},
     "output_type": "execute_result"
    }
   ],
   "source": [
    "'''8.31 Body measurements, Part IV. The scatterplot and least squares summary below show the relation-\n",
    "ship between weight measured in kilograms and height measured in centimeters of 507 physically active\n",
    "individuals.\n",
    "Height (cm)\n",
    "Weight (kg)\n",
    "150 175 200\n",
    "50\n",
    "70\n",
    "90\n",
    "110\n",
    "Estimate Std. Error t value Pr(>jtj)\n",
    "(Intercept) -105.0113 7.5394 -13.93 0.0000\n",
    "height 1.0176 0.0440 23.13 0.0000\n",
    "(a) Describe the relationship between height and weight.\n",
    "(b) Write the equation of the regression line. Interpret the slope and intercept in context.\n",
    "(c) Do the data provide strong evidence that an increase in height is associated with an increase in weight?\n",
    "State the null and alternative hypotheses, report the p-value, and state your conclusion.\n",
    "(d) The correlation coe\u000ecient for height and weight is 0.72. Calculate R2 and interpret it in context.'''"
   ]
  },
  {
   "cell_type": "code",
   "execution_count": 15,
   "metadata": {},
   "outputs": [
    {
     "data": {
      "text/plain": [
       "'8.32 Beer and blood alcohol content. Many people believe that gender, weight, drinking habits, and many\\nother factors are much more important in predicting blood alcohol content (BAC) than simply considering\\nthe number of drinks a person consumed. Here we examine data from sixteen student volunteers at Ohio\\nState University who each drank a randomly assigned number of cans of beer. These students were evenly\\ndivided between men and women, and they di\\nered in weight and drinking habits. Thirty minutes later, a\\npolice o\\x0ecer measured their blood alcohol content (BAC) in grams of alcohol per deciliter of blood.19 The\\nscatterplot and regression table summarize the \\nndings.\\nl\\nl\\nl\\nl\\nl\\nl\\nl\\nl\\nl\\nl\\nl\\nl\\nl\\nl\\nl\\nl\\n2 4 6 8\\n0.05 0.10 0.15\\nCans of beer\\nBAC (grams / deciliter)\\nEstimate Std. Error t value Pr(>jtj)\\n(Intercept) -0.0127 0.0126 -1.00 0.3320\\nbeers 0.0180 0.0024 7.48 0.0000\\n(a) Describe the relationship between the number of cans of beer and BAC.\\n(b) Write the equation of the regression line. Interpret the slope and intercept in context.\\n(c) Do the data provide strong evidence that drinking more cans of beer is associated with an increase in\\nblood alcohol? State the null and alternative hypotheses, report the p-value, and state your conclusion.\\n(d) The correlation coe\\x0ecient for number of cans of beer and BAC is 0.89. Calculate R2 and interpret it in\\ncontext.\\n(e) Suppose we visit a bar, ask people how many drinks they have had, and also take their BAC. Do you\\nthink the relationship between number of drinks and BAC would be as strong as the relationship found\\nin the Ohio State study?'"
      ]
     },
     "execution_count": 15,
     "metadata": {},
     "output_type": "execute_result"
    }
   ],
   "source": [
    "'''8.32 Beer and blood alcohol content. Many people believe that gender, weight, drinking habits, and many\n",
    "other factors are much more important in predicting blood alcohol content (BAC) than simply considering\n",
    "the number of drinks a person consumed. Here we examine data from sixteen student volunteers at Ohio\n",
    "State University who each drank a randomly assigned number of cans of beer. These students were evenly\n",
    "divided between men and women, and they di\u000b",
    "ered in weight and drinking habits. Thirty minutes later, a\n",
    "police o\u000ecer measured their blood alcohol content (BAC) in grams of alcohol per deciliter of blood.19 The\n",
    "scatterplot and regression table summarize the \f",
    "ndings.\n",
    "l\n",
    "l\n",
    "l\n",
    "l\n",
    "l\n",
    "l\n",
    "l\n",
    "l\n",
    "l\n",
    "l\n",
    "l\n",
    "l\n",
    "l\n",
    "l\n",
    "l\n",
    "l\n",
    "2 4 6 8\n",
    "0.05 0.10 0.15\n",
    "Cans of beer\n",
    "BAC (grams / deciliter)\n",
    "Estimate Std. Error t value Pr(>jtj)\n",
    "(Intercept) -0.0127 0.0126 -1.00 0.3320\n",
    "beers 0.0180 0.0024 7.48 0.0000\n",
    "(a) Describe the relationship between the number of cans of beer and BAC.\n",
    "(b) Write the equation of the regression line. Interpret the slope and intercept in context.\n",
    "(c) Do the data provide strong evidence that drinking more cans of beer is associated with an increase in\n",
    "blood alcohol? State the null and alternative hypotheses, report the p-value, and state your conclusion.\n",
    "(d) The correlation coe\u000ecient for number of cans of beer and BAC is 0.89. Calculate R2 and interpret it in\n",
    "context.\n",
    "(e) Suppose we visit a bar, ask people how many drinks they have had, and also take their BAC. Do you\n",
    "think the relationship between number of drinks and BAC would be as strong as the relationship found\n",
    "in the Ohio State study?'''"
   ]
  },
  {
   "cell_type": "code",
   "execution_count": 16,
   "metadata": {},
   "outputs": [
    {
     "data": {
      "text/plain": [
       "'8.33 Husbands and wives, Part II. The scatterplot below summarizes husbands\\' and wives\\' heights in a\\nrandom sample of 170 married couples in Britain, where both partners\\' ages are below 65 years. Summary\\noutput of the least squares \\nt for predicting wife\\'s height from husband\\'s height is also provided in the table.\\nHusband\\'s height (in inches)\\nWife\\'s height (in inches)\\n60 65 70 75\\n55\\n60\\n65\\n70\\nEstimate Std. Error t value Pr(>jtj)\\n(Intercept) 43.5755 4.6842 9.30 0.0000\\nheight husband 0.2863 0.0686 4.17 0.0000\\n(a) Is there strong evidence that taller men marry taller women? State the hypotheses and include any\\ninformation used to conduct the test.\\n(b) Write the equation of the regression line for predicting wife\\'s height from husband\\'s height.\\n(c) Interpret the slope and intercept in the context of the application.\\n(d) Given that R2 = 0:09, what is the correlation of heights in this data set?\\n(e) You meet a married man from Britain who is 5\\'9\" (69 inches). What would you predict his wife\\'s height\\nto be? How reliable is this prediction?\\n(f) You meet another married man from Britain who is 6\\'7\" (79 inches). Would it be wise to use the same\\nlinear model to predict his wife\\'s height? Why or why not?'"
      ]
     },
     "execution_count": 16,
     "metadata": {},
     "output_type": "execute_result"
    }
   ],
   "source": [
    "'''8.33 Husbands and wives, Part II. The scatterplot below summarizes husbands' and wives' heights in a\n",
    "random sample of 170 married couples in Britain, where both partners' ages are below 65 years. Summary\n",
    "output of the least squares \f",
    "t for predicting wife's height from husband's height is also provided in the table.\n",
    "Husband's height (in inches)\n",
    "Wife's height (in inches)\n",
    "60 65 70 75\n",
    "55\n",
    "60\n",
    "65\n",
    "70\n",
    "Estimate Std. Error t value Pr(>jtj)\n",
    "(Intercept) 43.5755 4.6842 9.30 0.0000\n",
    "height husband 0.2863 0.0686 4.17 0.0000\n",
    "(a) Is there strong evidence that taller men marry taller women? State the hypotheses and include any\n",
    "information used to conduct the test.\n",
    "(b) Write the equation of the regression line for predicting wife's height from husband's height.\n",
    "(c) Interpret the slope and intercept in the context of the application.\n",
    "(d) Given that R2 = 0:09, what is the correlation of heights in this data set?\n",
    "(e) You meet a married man from Britain who is 5'9\" (69 inches). What would you predict his wife's height\n",
    "to be? How reliable is this prediction?\n",
    "(f) You meet another married man from Britain who is 6'7\" (79 inches). Would it be wise to use the same\n",
    "linear model to predict his wife's height? Why or why not?'''"
   ]
  },
  {
   "cell_type": "code",
   "execution_count": 17,
   "metadata": {},
   "outputs": [
    {
     "data": {
      "text/plain": [
       "'8.34 Urban homeowners, Part II. Exercise 8.29 gives a scatterplot displaying the relationship between the\\npercent of families that own their home and the percent of the population living in urban areas. Below is a\\nsimilar scatterplot, excluding District of Columbia, as well as the residuals plot. There were 51 cases.\\n(a) For these data, R2 = 0:28. What is the\\ncorrelation? How can you tell if it is\\npositive or negative?\\n(b) Examine the residual plot. What do you\\nobserve? Is a simple least squares \\nt\\nappropriate for these data?'"
      ]
     },
     "execution_count": 17,
     "metadata": {},
     "output_type": "execute_result"
    }
   ],
   "source": [
    "'''8.34 Urban homeowners, Part II. Exercise 8.29 gives a scatterplot displaying the relationship between the\n",
    "percent of families that own their home and the percent of the population living in urban areas. Below is a\n",
    "similar scatterplot, excluding District of Columbia, as well as the residuals plot. There were 51 cases.\n",
    "(a) For these data, R2 = 0:28. What is the\n",
    "correlation? How can you tell if it is\n",
    "positive or negative?\n",
    "(b) Examine the residual plot. What do you\n",
    "observe? Is a simple least squares \f",
    "t\n",
    "appropriate for these data?'''"
   ]
  },
  {
   "cell_type": "code",
   "execution_count": 18,
   "metadata": {},
   "outputs": [
    {
     "data": {
      "text/plain": [
       "'8.35 Murders and poverty, Part II. Exercise 8.25 presents regression output from a model for predicting\\nannual murders per million from percentage living in poverty based on a random sample of 20 metropolitan\\nareas. The model output is also provided below.\\nEstimate Std. Error t value Pr(>jtj)\\n(Intercept) -29.901 7.789 -3.839 0.001\\npoverty% 2.559 0.390 6.562 0.000\\ns = 5:512 R2 = 70:52% R2\\nadj = 68:89%\\n(a) What are the hypotheses for evaluating whether poverty percentage is a signi\\ncant predictor of murder\\nrate?\\n(b) State the conclusion of the hypothesis test from part (a) in context of the data.\\n(c) Calculate a 95% con\\ndence interval for the slope of poverty percentage, and interpret it in context of\\nthe data.\\n(d) Do your results from the hypothesis test and the con\\ndence interval agree? Explain.'"
      ]
     },
     "execution_count": 18,
     "metadata": {},
     "output_type": "execute_result"
    }
   ],
   "source": [
    "'''8.35 Murders and poverty, Part II. Exercise 8.25 presents regression output from a model for predicting\n",
    "annual murders per million from percentage living in poverty based on a random sample of 20 metropolitan\n",
    "areas. The model output is also provided below.\n",
    "Estimate Std. Error t value Pr(>jtj)\n",
    "(Intercept) -29.901 7.789 -3.839 0.001\n",
    "poverty% 2.559 0.390 6.562 0.000\n",
    "s = 5:512 R2 = 70:52% R2\n",
    "adj = 68:89%\n",
    "(a) What are the hypotheses for evaluating whether poverty percentage is a signi\f",
    "cant predictor of murder\n",
    "rate?\n",
    "(b) State the conclusion of the hypothesis test from part (a) in context of the data.\n",
    "(c) Calculate a 95% con\f",
    "dence interval for the slope of poverty percentage, and interpret it in context of\n",
    "the data.\n",
    "(d) Do your results from the hypothesis test and the con\f",
    "dence interval agree? Explain.'''"
   ]
  },
  {
   "cell_type": "code",
   "execution_count": 19,
   "metadata": {},
   "outputs": [
    {
     "data": {
      "text/plain": [
       "'8.36 Babies. Is the gestational age (time between conception and birth) of a low birth-weight baby useful\\nin predicting head circumference at birth? Twenty-\\nve low birth-weight babies were studied at a Harvard\\nteaching hospital; the investigators calculated the regression of head circumference (measured in centimeters)\\nagainst gestational age (measured in weeks). The estimated regression line is\\nhead circdumference = 3:91 + 0:78 \\x02 gestational age\\n(a) What is the predicted head circumference for a baby whose gestational age is 28 weeks?\\n(b) The standard error for the coe\\x0ecient of gestational age is 0. 35, which is associated with df = 23. Does\\nthe model provide strong evidence that gestational age is signi\\ncantly associated with head circumfer-\\nence?'"
      ]
     },
     "execution_count": 19,
     "metadata": {},
     "output_type": "execute_result"
    }
   ],
   "source": [
    "'''8.36 Babies. Is the gestational age (time between conception and birth) of a low birth-weight baby useful\n",
    "in predicting head circumference at birth? Twenty-\f",
    "ve low birth-weight babies were studied at a Harvard\n",
    "teaching hospital; the investigators calculated the regression of head circumference (measured in centimeters)\n",
    "against gestational age (measured in weeks). The estimated regression line is\n",
    "head circdumference = 3:91 + 0:78 \u0002 gestational age\n",
    "(a) What is the predicted head circumference for a baby whose gestational age is 28 weeks?\n",
    "(b) The standard error for the coe\u000ecient of gestational age is 0. 35, which is associated with df = 23. Does\n",
    "the model provide strong evidence that gestational age is signi\f",
    "cantly associated with head circumfer-\n",
    "ence?'''"
   ]
  },
  {
   "cell_type": "code",
   "execution_count": null,
   "metadata": {
    "collapsed": true
   },
   "outputs": [],
   "source": []
  }
 ],
 "metadata": {
  "kernelspec": {
   "display_name": "Python 3",
   "language": "python",
   "name": "python3"
  },
  "language_info": {
   "codemirror_mode": {
    "name": "ipython",
    "version": 3
   },
   "file_extension": ".py",
   "mimetype": "text/x-python",
   "name": "python",
   "nbconvert_exporter": "python",
   "pygments_lexer": "ipython3",
   "version": "3.6.1"
  }
 },
 "nbformat": 4,
 "nbformat_minor": 2
}
