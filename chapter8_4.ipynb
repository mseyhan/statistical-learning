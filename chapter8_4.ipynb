{
 "cells": [
  {
   "cell_type": "code",
   "execution_count": 1,
   "metadata": {
    "collapsed": true
   },
   "outputs": [],
   "source": [
    "import pandas as pd\n",
    "import numpy as np\n",
    "import random\n",
    "import scipy.stats\n",
    "import math\n",
    "import seaborn as sns\n",
    "from matplotlib import pyplot as plt\n",
    "from random import sample\n",
    "from scipy.stats import chisquare\n",
    "from scipy.stats import geom\n",
    "from scipy.stats import t\n",
    "from scipy import stats\n",
    "from sklearn.linear_model import LinearRegression\n",
    "from sklearn.metrics import r2_score\n",
    "from matplotlib.ticker import AutoMinorLocator\n",
    "%matplotlib inline"
   ]
  },
  {
   "cell_type": "code",
   "execution_count": 2,
   "metadata": {},
   "outputs": [
    {
     "name": "stdout",
     "output_type": "stream",
     "text": [
      "CONFIDENCE INTERVAL\n",
      "a) standard error = 0.0108, me = 0.0217, dof = 48, t_conf = 2.0106\n",
      "b) we're 95% confident that the with each dollar increase in family_income, the university's gift aid is predicted to \n",
      "decrease on average by -0.0648 and -0.0214\n",
      "\n"
     ]
    },
    {
     "name": "stderr",
     "output_type": "stream",
     "text": [
      "C:\\Program Files (x86)\\Anaconda3\\lib\\site-packages\\matplotlib\\patches.py:121: UserWarning: Setting the 'color' property will overridethe edgecolor or facecolor properties. \n",
      "  warnings.warn(\"Setting the 'color' property will override\"\n"
     ]
    },
    {
     "data": {
      "image/png": "[encoded data removed]",
      "text/plain": [
       "<matplotlib.figure.Figure at 0x13611fdb320>"
      ]
     },
     "metadata": {},
     "output_type": "display_data"
    }
   ],
   "source": [
    "'''Compute the 95% confidence interval for the family income coe\u000ecient using the regression output\n",
    "from Table 8.21.'''\n",
    "\n",
    "b0 = 24319.3\n",
    "s_b0 = 1291.5\n",
    "t_b0 = 18.83\n",
    "\n",
    "b1 = -0.0431\n",
    "s_b1 = .0108\n",
    "t_b1 = -3.98\n",
    "\n",
    "xbar = b1\n",
    "se = s_b1\n",
    "dof = 48\n",
    "cl = .95\n",
    "sl = 1-cl\n",
    "\n",
    "# CONFIDENCE INTERVAL\n",
    "fig = plt.figure(figsize=(14,4))\n",
    "x = np.linspace(-4, 4, 500)\n",
    "s1t = sl / 2\n",
    "t_conf = stats.t.ppf(1-s1t, dof) # upper tail is 1 - confidence level /2 (one tail)\n",
    "se = s_b1\n",
    "me = t_conf * se\n",
    "lo = xbar - me\n",
    "hi = xbar + me\n",
    "print('''CONFIDENCE INTERVAL\n",
    "a) standard error = {se:.4f}, me = {me:.4f}, dof = {dof}, t_conf = {t_conf:.4f}\n",
    "b) we're {cl:.0%} confident that the with each dollar increase in family_income, the university's gift aid is predicted to \n",
    "decrease on average by {lo:.4f} and {hi:.4f}\n",
    "'''\n",
    ".format(cl=cl,se=se,me=me,lo=lo,hi=hi,dof=dof,t_conf=t_conf))\n",
    "\n",
    "ax_conf = fig.add_subplot(1,2,2)\n",
    "y = stats.t.pdf(x, dof)\n",
    "two_t_conf = [t_conf, (t_conf)*-1]\n",
    "\n",
    "ax_conf.plot(x, y, color='black',label=f' t-distribution, df= {dof}'.format(df=dof))\n",
    "ax_conf.fill_between(x, y, color='blue', alpha=0.5, where= ~((x<min(two_t_conf)) | (x>max(two_t_conf))) ,label=\"confidence interval\")\n",
    "ax_conf.set_ylabel('Probability Density')\n",
    "ax_conf.set_xlabel('Standard Deviations')\n",
    "ax_conf.set_title('Confidence Interval')\n",
    "ax_conf.text(min(two_t_conf), stats.t.cdf(x=min(two_t_conf), df=dof), '{t_lo:.2f}'.format(t_lo=lo), color='black', \n",
    "        bbox=dict(facecolor='none', edgecolor='black', boxstyle='round,pad=1', color='gray'),fontsize='x-small')\n",
    "ax_conf.text(max(two_t_conf), stats.t.cdf(x=min(two_t_conf), df=dof), '{t_hi:.2f}'.format(t_hi=hi), color='black', \n",
    "        bbox=dict(facecolor='none', edgecolor='black', boxstyle='round,pad=1', color='gray'),fontsize='x-small')\n",
    "legend = ax_conf.legend(shadow=True,fontsize='small')"
   ]
  },
  {
   "cell_type": "code",
   "execution_count": 3,
   "metadata": {},
   "outputs": [
    {
     "name": "stdout",
     "output_type": "stream",
     "text": [
      "Midterm elections and unemployment\n",
      "\n",
      "assessing the validity of \"the higher the unemployment rate the worse the president's party will do in midterm elections\n",
      "\n",
      "when we fit a regression line, there's two estimates as b0 and b0, slope and intercept. because those are the estimates of the parameter, whether their values are valid for us, \n",
      "we might want to check if the true slope parameter is different than zero. (the classic hypothesis test approach) is this convincing evidence that the true linear model has a\n",
      "negative slope. to assess the hypotheses, we identify a standard error for the estimate, compute an appropriate test statistic, and identify the p-value.\n",
      "\n",
      "since the statistical softwares does not check whether the method is appropriate, we should still verify our conditionsare met for the test. \n"
     ]
    }
   ],
   "source": [
    "print('''Midterm elections and unemployment\n",
    "\n",
    "assessing the validity of \"the higher the unemployment rate the worse the president's party will do in midterm elections\n",
    "\n",
    "when we fit a regression line, there's two estimates as b0 and b0, slope and intercept. because those are the estimates of the parameter, whether their values are valid for us, \n",
    "we might want to check if the true slope parameter is different than zero. (the classic hypothesis test approach) is this convincing evidence that the true linear model has a\n",
    "negative slope. to assess the hypotheses, we identify a standard error for the estimate, compute an appropriate test statistic, and identify the p-value.\n",
    "\n",
    "since the statistical softwares does not check whether the method is appropriate, we should still verify our conditionsare met for the test. ''')"
   ]
  },
  {
   "cell_type": "code",
   "execution_count": 4,
   "metadata": {},
   "outputs": [
    {
     "name": "stdout",
     "output_type": "stream",
     "text": [
      "a) there's a positive, strong linear relationship between height and weight\n",
      "b) regression line: weight = -105.0113 + 1.0176 * height\n",
      "the interpretation of the intercept might sound bizarre. someone who have 0 centimeters of height (which is nonexistent :D)\n",
      "is expected to weight -105.0113 grams.\n",
      "slope: a person who has one more centimeter is expected to weight 1.0176 kg more.\n",
      "c) H0: there's no association between height and weight. (the true slope for weight is 0)\n",
      "HA: there's an association between height and weight. (the true slope for weight is different than 0)\n",
      "because the p value of the coefficient is less than our significance level, we reject the null hypothesis and conclude\n",
      "there's an association between height and weight variables.\n",
      "d) R^2 = 0.5184. %51.84 of the variability in the height is explained by the height of individuals.\n"
     ]
    }
   ],
   "source": [
    "'''8.31 Body measurements, Part IV. The scatterplot and least squares summary below show the relation-\n",
    "ship between weight measured in kilograms and height measured in centimeters of 507 physically active\n",
    "individuals.\n",
    "(a) Describe the relationship between height and weight.\n",
    "(b) Write the equation of the regression line. Interpret the slope and intercept in context.\n",
    "(c) Do the data provide strong evidence that an increase in height is associated with an increase in weight?\n",
    "State the null and alternative hypotheses, report the p-value, and state your conclusion.\n",
    "(d) The correlation coefficient for height and weight is 0.72. Calculate R2 and interpret it in context.'''\n",
    "\n",
    "print('''a) there's a positive, strong linear relationship between height and weight\n",
    "b) regression line: weight = -105.0113 + 1.0176 * height\n",
    "the interpretation of the intercept might sound bizarre. someone who have 0 centimeters of height (which is nonexistent :D)\n",
    "is expected to weight -105.0113 grams.\n",
    "slope: a person who has one more centimeter is expected to weight 1.0176 kg more.\n",
    "c) H0: there's no association between height and weight. (the true slope for weight is 0)\n",
    "HA: there's an association between height and weight. (the true slope for weight is different than 0)\n",
    "because the p value of the coefficient is less than our significance level, we reject the null hypothesis and conclude\n",
    "there's an association between height and weight variables.\n",
    "d) R^2 = 0.5184. %51.84 of the variability in the height is explained by the height of individuals.''')"
   ]
  },
  {
   "cell_type": "code",
   "execution_count": 5,
   "metadata": {},
   "outputs": [
    {
     "name": "stdout",
     "output_type": "stream",
     "text": [
      "a) there's a strong positive linear relationship between cans of beer and BAC in blood.\n",
      "b) regression line: BAC in blood = -0.0127 + 0.0180 * beers \n",
      "the interpretation of the intercept might sound bizarre. someone who have drank no cans of beer is expected to \n",
      "have -105.0113 grams/deciliters of BAC in the blood.\n",
      "slope: drinking one more beer is expected increase the BAC in blood by 0.0180 grams/deciliters.\n",
      "c) H0: there's no association between beers and BAC in blood. (the true slope of BAC is 0)\n",
      "HA: there's an association between beers and BAC in blood. (the true slope of BAC is different than 0)\n",
      "because the p value of the coefficient is less than our significance level, we reject the null hypothesis and conclude\n",
      "there's an association between height and weight variables.\n",
      "d) 79.21% of the variability in the BAC level in blood is explained by the amount of beer drank.\n",
      "e) because this is a study, i think this would result better than the method explained in this question. also, the answers\n",
      "retrieved from people would be biased. that would change the slope.\n"
     ]
    }
   ],
   "source": [
    "'''8.32 Beer and blood alcohol content. Many people believe that gender, weight, drinking habits, and many\n",
    "other factors are much more important in predicting blood alcohol content (BAC) than simply considering\n",
    "the number of drinks a person consumed. Here we examine data from sixteen student volunteers at Ohio\n",
    "State University who each drank a randomly assigned number of cans of beer. These students were evenly\n",
    "divided between men and women, and they differed in weight and drinking habits. Thirty minutes later, a\n",
    "police officer measured their blood alcohol content (BAC) in grams of alcohol per deciliter of blood.19 The\n",
    "scatterplot and regression table summarize the findings.\n",
    "(a) Describe the relationship between the number of cans of beer and BAC.\n",
    "(b) Write the equation of the regression line. Interpret the slope and intercept in context.\n",
    "(c) Do the data provide strong evidence that drinking more cans of beer is associated with an increase in\n",
    "blood alcohol? State the null and alternative hypotheses, report the p-value, and state your conclusion.\n",
    "(d) The correlation coefficient for number of cans of beer and BAC is 0.89. Calculate R2 and interpret it in\n",
    "context.\n",
    "(e) Suppose we visit a bar, ask people how many drinks they have had, and also take their BAC. Do you\n",
    "think the relationship between number of drinks and BAC would be as strong as the relationship found\n",
    "in the Ohio State study?'''\n",
    "print('''a) there's a strong positive linear relationship between cans of beer and BAC in blood.\n",
    "b) regression line: BAC in blood = -0.0127 + 0.0180 * beers \n",
    "the interpretation of the intercept might sound bizarre. someone who have drank no cans of beer is expected to \n",
    "have -105.0113 grams/deciliters of BAC in the blood.\n",
    "slope: drinking one more beer is expected increase the BAC in blood by 0.0180 grams/deciliters.\n",
    "c) H0: there's no association between beers and BAC in blood. (the true slope of BAC is 0)\n",
    "HA: there's an association between beers and BAC in blood. (the true slope of BAC is different than 0)\n",
    "because the p value of the coefficient is less than our significance level, we reject the null hypothesis and conclude\n",
    "there's an association between height and weight variables.\n",
    "d) 79.21% of the variability in the BAC level in blood is explained by the amount of beer drank.\n",
    "e) because this is a study, i think this would result better than the method explained in this question. also, the answers\n",
    "retrieved from people would be biased. that would change the slope.''')"
   ]
  },
  {
   "cell_type": "code",
   "execution_count": 13,
   "metadata": {},
   "outputs": [
    {
     "name": "stdout",
     "output_type": "stream",
     "text": [
      "a) yes. since the p value of the slope coefficient of height_husband is too low, we can say the slope of\n",
      "the true regression line is different than 0. taller men marry taller women.\n",
      "b) height_wife = 43.5755 + 0.2863 * height_husband\n",
      "c) slope: for each additional inches of a husband will, the average height of the wife is expected to be 0.2863 on average. \n",
      "intercept: a husband who is 0 inches tall (which is nonextistent :D) would have a wife who is 42.5755 inches.\n",
      "d) 0.3 is the correlation.\n",
      "e) regression line: 43.5755 + 0.2863 * height_husband >> put 69 inches for explanatory variable >> 63.3302\n",
      "we would state that she's 63.3302 inches long. However, this wouldn't be a reliable estimate because the\n",
      "correlation is too low for those data.\n",
      "f) wouldn't be wise. since 79 inches tall observation is too far away from the data's realm, this would require extrapolation.\n"
     ]
    }
   ],
   "source": [
    "'''8.33 Husbands and wives, Part II. The scatterplot below summarizes husbands' and wives' heights in a\n",
    "random sample of 170 married couples in Britain, where both partners' ages are below 65 years. Summary\n",
    "output of the least squares fit for predicting wife's height from husband's height is also provided in the table.\n",
    "(a) Is there strong evidence that taller men marry taller women? State the hypotheses and include any\n",
    "information used to conduct the test.\n",
    "(b) Write the equation of the regression line for predicting wife's height from husband's height.\n",
    "(c) Interpret the slope and intercept in the context of the application.\n",
    "(d) Given that R2 = 0.09, what is the correlation of heights in this data set?\n",
    "(e) You meet a married man from Britain who is 5'9\" (69 inches). What would you predict his wife's height\n",
    "to be? How reliable is this prediction?\n",
    "(f) You meet another married man from Britain who is 6'7\" (79 inches). Would it be wise to use the same\n",
    "linear model to predict his wife's height? Why or why not?'''\n",
    "print(f'''a) yes. since the p value of the slope coefficient of height_husband is too low, we can say the slope of\n",
    "the true regression line is different than 0. taller men marry taller women.\n",
    "b) height_wife = 43.5755 + 0.2863 * height_husband\n",
    "c) slope: for each additional inches of a husband will, the average height of the wife is expected to be 0.2863 on average. \n",
    "intercept: a husband who is 0 inches tall (which is nonextistent :D) would have a wife who is 42.5755 inches.\n",
    "d) {np.sqrt(0.09)} is the correlation.\n",
    "e) regression line: 43.5755 + 0.2863 * height_husband >> put 69 inches for explanatory variable >> {43.5755 + 0.2863 * 69}\n",
    "we would state that she's {43.5755 + 0.2863 * 69} inches long. However, this wouldn't be a reliable estimate because the\n",
    "correlation is too low for those data.\n",
    "f) wouldn't be wise. since 79 inches tall observation is too far away from the data's realm, this would require extrapolation.''')"
   ]
  },
  {
   "cell_type": "code",
   "execution_count": 19,
   "metadata": {},
   "outputs": [
    {
     "name": "stdout",
     "output_type": "stream",
     "text": [
      "a) it's negative, can be seen in the scatter plot. line is going downwards. the correlation is 0.53\n",
      "b) we should check the conditions for least squares regression:\n",
      "linearity. the data shows an almost linear trend. might fail.\n",
      "nearly normal residuals. there are outliers in the data. some residuals are far away from the center of the data. fails.\n",
      "constant variability. the residuals are bigger for bigger x. this condition fails\n",
      "independent observations. the data does not include a sequence in collection. probably the observations are independent.\n"
     ]
    }
   ],
   "source": [
    "'''8.34 Urban homeowners, Part II. Exercise 8.29 gives a scatterplot displaying the relationship between the\n",
    "percent of families that own their home and the percent of the population living in urban areas. Below is a\n",
    "similar scatterplot, excluding District of Columbia, as well as the residuals plot. There were 51 cases.\n",
    "(a) For these data, R2 = 0.28. What is the\n",
    "correlation? How can you tell if it is\n",
    "positive or negative?\n",
    "(b) Examine the residual plot. What do you\n",
    "observe? Is a simple least squares fit\n",
    "appropriate for these data?'''\n",
    "\n",
    "print(f'''a) it's negative, can be seen in the scatter plot. line is going downwards. the correlation is {np.sqrt(.28):.2f}\n",
    "b) we should check the conditions for least squares regression:\n",
    "linearity. the data shows an almost linear trend. might fail.\n",
    "nearly normal residuals. there are outliers in the data. some residuals are far away from the center of the data. fails.\n",
    "constant variability. the residuals are bigger for bigger x. this condition fails\n",
    "independent observations. the data does not include a sequence in collection. probably the observations are independent.''')"
   ]
  },
  {
   "cell_type": "code",
   "execution_count": 28,
   "metadata": {},
   "outputs": [
    {
     "name": "stdout",
     "output_type": "stream",
     "text": [
      "a) hypotheses:\n",
      "H0: the true slope coefficient between percent in poverty and annual murders per million is 0.\n",
      "HA: the true slope coefficient between percent in poverty and annual murders per million is different than 0.\n",
      "b) since the p value is lower than our significance level, we reject the null hypthesis and conclude\n",
      "the data provide convincing evidence that the poverty percentage is a significant predictor of murder rate.\n",
      "c) CONFIDENCE INTERVAL\n",
      "standard error = 0.3900, me = 0.8163, dof = 20, t_conf = 2.0930\n",
      "we're 95% confident that the with each percent increase in poverty the annual murders per million is predicted to\n",
      "increase on average by 1.7427 and 3.3753 \n",
      "d) yes, we decided the null hypothesis is rejected. since we can't see the 0 in our confidence interval, we can say it agrees \n"
     ]
    },
    {
     "name": "stderr",
     "output_type": "stream",
     "text": [
      "C:\\Program Files (x86)\\Anaconda3\\lib\\site-packages\\matplotlib\\patches.py:121: UserWarning: Setting the 'color' property will overridethe edgecolor or facecolor properties. \n",
      "  warnings.warn(\"Setting the 'color' property will override\"\n"
     ]
    },
    {
     "data": {
      "image/png": "[encoded data removed]",
      "text/plain": [
       "<matplotlib.figure.Figure at 0x136131fd320>"
      ]
     },
     "metadata": {},
     "output_type": "display_data"
    }
   ],
   "source": [
    "'''8.35 Murders and poverty, Part II. Exercise 8.25 presents regression output from a model for predicting\n",
    "annual murders per million from percentage living in poverty based on a random sample of 20 metropolitan\n",
    "areas. The model output is also provided below.\n",
    "(a) What are the hypotheses for evaluating whether poverty percentage is a significant predictor of murder\n",
    "rate?\n",
    "(b) State the conclusion of the hypothesis test from part (a) in context of the data.\n",
    "(c) Calculate a 95% confidence interval for the slope of poverty percentage, and interpret it in context of\n",
    "the data.\n",
    "(d) Do your results from the hypothesis test and the confidence interval agree? Explain.'''\n",
    "b0 = -29.901\n",
    "s_b0 = 7.789\n",
    "t_b0 = -3.839\n",
    "\n",
    "b1 = 2.559\n",
    "s_b1 = .390\n",
    "t_b1 = 6.562\n",
    "\n",
    "xbar = b1\n",
    "se = s_b1\n",
    "dof = 20\n",
    "cl = .95\n",
    "sl = 1-cl\n",
    "print(f'''a) hypotheses:\n",
    "H0: the true slope coefficient between percent in poverty and annual murders per million is 0.\n",
    "HA: the true slope coefficient between percent in poverty and annual murders per million is different than 0.\n",
    "b) since the p value is lower than our significance level, we reject the null hypthesis and conclude\n",
    "the data provide convincing evidence that the poverty percentage is a significant predictor of murder rate.\n",
    "c) CONFIDENCE INTERVAL\n",
    "standard error = {se:.4f}, me = {me:.4f}, dof = {dof}, t_conf = {t_conf:.4f}\n",
    "we're {cl:.0%} confident that the with each percent increase in poverty the annual murders per million is predicted to\n",
    "increase on average by {lo:.4f} and {hi:.4f} \n",
    "d) yes, we decided the null hypothesis is rejected. since we can't see the 0 in our confidence interval, we can say it agrees ''')\n",
    "# CONFIDENCE INTERVAL\n",
    "fig = plt.figure(figsize=(14,4))\n",
    "x = np.linspace(-4, 4, 500)\n",
    "s1t = sl / 2\n",
    "t_conf = stats.t.ppf(1-s1t, dof) # upper tail is 1 - confidence level /2 (one tail)\n",
    "se = s_b1\n",
    "me = t_conf * se\n",
    "lo = xbar - me\n",
    "hi = xbar + me\n",
    "ax_conf = fig.add_subplot(1,2,2)\n",
    "y = stats.t.pdf(x, dof)\n",
    "two_t_conf = [t_conf, (t_conf)*-1]\n",
    "\n",
    "ax_conf.plot(x, y, color='black',label=f' t-distribution, df= {dof}'.format(df=dof))\n",
    "ax_conf.fill_between(x, y, color='blue', alpha=0.5, where= ~((x<min(two_t_conf)) | (x>max(two_t_conf))) ,label=\"confidence interval\")\n",
    "ax_conf.set_ylabel('Probability Density')\n",
    "ax_conf.set_xlabel('Standard Deviations')\n",
    "ax_conf.set_title('Confidence Interval')\n",
    "ax_conf.text(min(two_t_conf), stats.t.cdf(x=min(two_t_conf), df=dof), '{t_lo:.2f}'.format(t_lo=lo), color='black', \n",
    "        bbox=dict(facecolor='none', edgecolor='black', boxstyle='round,pad=1', color='gray'),fontsize='x-small')\n",
    "ax_conf.text(max(two_t_conf), stats.t.cdf(x=min(two_t_conf), df=dof), '{t_hi:.2f}'.format(t_hi=hi), color='black', \n",
    "        bbox=dict(facecolor='none', edgecolor='black', boxstyle='round,pad=1', color='gray'),fontsize='x-small')\n",
    "legend = ax_conf.legend(shadow=True,fontsize='small')"
   ]
  },
  {
   "cell_type": "code",
   "execution_count": 39,
   "metadata": {},
   "outputs": [
    {
     "name": "stdout",
     "output_type": "stream",
     "text": [
      "a) 25.75 is the predicted head circumference for a baby\n",
      "b) t-score: 2.2285714285714286\n",
      "two tailed p-value of corresponding t-score: 0.0359\n",
      "the model provide strong evidence that the gestational age is significantly associated with head circumference.\n"
     ]
    }
   ],
   "source": [
    "'''8.36 Babies. Is the gestational age (time between conception and birth) of a low birth-weight baby useful\n",
    "in predicting head circumference at birth? Twenty-five low birth-weight babies were studied at a Harvard\n",
    "teaching hospital; the investigators calculated the regression of head circumference (measured in centimeters)\n",
    "against gestational age (measured in weeks). The estimated regression line is\n",
    "head circdumference = 3.91 + 0.78 * gestational age\n",
    "(a) What is the predicted head circumference for a baby whose gestational age is 28 weeks?\n",
    "(b) The standard error for the coefficient of gestational age is 0. 35, which is associated with df = 23. Does\n",
    "the model provide strong evidence that gestational age is significantly associated with head circumfer-\n",
    "ence?'''\n",
    "stats.t.cdf(x=-((0.78-0)/.35), df=23) * 2 # two tailed p-value of corresponding t-score\n",
    "\n",
    "print(f'''a) {3.91+0.78*28} is the predicted head circumference for a baby\n",
    "b) t-score: {(0.78-0)/ .35}\n",
    "two tailed p-value of corresponding t-score: {stats.t.cdf(x=-((0.78-0)/.35), df=23) * 2:.4f}\n",
    "the model provide strong evidence that the gestational age is significantly associated with head circumference.''')"
   ]
  },
  {
   "cell_type": "code",
   "execution_count": null,
   "metadata": {
    "collapsed": true
   },
   "outputs": [],
   "source": []
  }
 ],
 "metadata": {
  "kernelspec": {
   "display_name": "Python 3",
   "language": "python",
   "name": "python3"
  },
  "language_info": {
   "codemirror_mode": {
    "name": "ipython",
    "version": 3
   },
   "file_extension": ".py",
   "mimetype": "text/x-python",
   "name": "python",
   "nbconvert_exporter": "python",
   "pygments_lexer": "ipython3",
   "version": "3.6.1"
  }
 },
 "nbformat": 4,
 "nbformat_minor": 2
}
