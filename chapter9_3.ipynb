{
 "cells": [
  {
   "cell_type": "code",
   "execution_count": 2,
   "metadata": {
    "collapsed": true
   },
   "outputs": [],
   "source": [
    "import pandas as pd\n",
    "import numpy as np\n",
    "import random\n",
    "import scipy.stats\n",
    "import math\n",
    "import seaborn as sns\n",
    "from matplotlib import pyplot as plt\n",
    "from random import sample\n",
    "from scipy.stats import chisquare\n",
    "from scipy.stats import geom\n",
    "from scipy.stats import t\n",
    "from scipy import stats\n",
    "from sklearn.linear_model import LinearRegression\n",
    "from sklearn.metrics import r2_score\n",
    "from matplotlib.ticker import AutoMinorLocator\n",
    "%matplotlib inline"
   ]
  },
  {
   "cell_type": "code",
   "execution_count": 3,
   "metadata": {},
   "outputs": [
    {
     "name": "stdout",
     "output_type": "stream",
     "text": [
      "there are no particularly extreme outliers in the dataset, its distribution is nearly normal. \n",
      "residuals versus fitted values shows there's no particular structure.\n",
      "order of collection shows no pattern.\n",
      "each of the variables' residuals contains no particular structure or pattern.\n",
      "if the values are too low or high, residuals seems to grow.\n"
     ]
    }
   ],
   "source": [
    "'''9.13 Baby weights, Part VI. Exercise 9.3 presents a regression model for predicting the average birth weight\n",
    "of babies based on length of gestation, parity, height, weight, and smoking status of the mother. Determine\n",
    "if the model assumptions are met using the plots below. If not, describe how to proceed with the analysis.\n",
    "'''\n",
    "print('''there are no particularly extreme outliers in the dataset, its distribution is nearly normal. \n",
    "residuals versus fitted values shows there's no particular structure.\n",
    "order of collection shows no pattern.\n",
    "each of the variables' residuals contains no particular structure or pattern.\n",
    "if the values are too low or high, residuals seems to grow.''')"
   ]
  },
  {
   "cell_type": "code",
   "execution_count": 4,
   "metadata": {},
   "outputs": [
    {
     "data": {
      "text/plain": [
       "'9.14 Movie returns, Part I. A FiveThirtyEight.com article reports that \\\\Horror movies get nowhere near\\nas much draw at the box office as the big-time summer blockbusters or action/adventure movies ... but\\nthere\\'s a huge incentive for studios to continue pushing them out. The return-on-investment potential for\\nhorror movies is absurd.\" To investigate how the return-on-investment compares between genres and how\\nthis relationship has changed over time, an introductory statistics student fit a model predicting the ratio of\\ngross revenue of movies from genre and release year for 1,070 movies released between 2000 and 2018. Using\\nthe plots given below, determine if this regression model is appropriate for these data.\\n'"
      ]
     },
     "execution_count": 4,
     "metadata": {},
     "output_type": "execute_result"
    }
   ],
   "source": [
    "'''9.14 Movie returns, Part I. A FiveThirtyEight.com article reports that \\Horror movies get nowhere near\n",
    "as much draw at the box office as the big-time summer blockbusters or action/adventure movies ... but\n",
    "there's a huge incentive for studios to continue pushing them out. The return-on-investment potential for\n",
    "horror movies is absurd.\" To investigate how the return-on-investment compares between genres and how\n",
    "this relationship has changed over time, an introductory statistics student fit a model predicting the ratio of\n",
    "gross revenue of movies from genre and release year for 1,070 movies released between 2000 and 2018. Using\n",
    "the plots given below, determine if this regression model is appropriate for these data.\n",
    "'''\n",
    "print('''\n",
    "''')"
   ]
  }
 ],
 "metadata": {
  "kernelspec": {
   "display_name": "Python 3",
   "language": "python",
   "name": "python3"
  },
  "language_info": {
   "codemirror_mode": {
    "name": "ipython",
    "version": 3
   },
   "file_extension": ".py",
   "mimetype": "text/x-python",
   "name": "python",
   "nbconvert_exporter": "python",
   "pygments_lexer": "ipython3",
   "version": "3.6.1"
  }
 },
 "nbformat": 4,
 "nbformat_minor": 2
}
