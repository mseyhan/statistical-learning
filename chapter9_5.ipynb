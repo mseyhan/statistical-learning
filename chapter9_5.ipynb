{
 "cells": [
  {
   "cell_type": "code",
   "execution_count": 3,
   "metadata": {
    "collapsed": true
   },
   "outputs": [],
   "source": [
    "import pandas as pd\n",
    "import numpy as np\n",
    "import random\n",
    "import scipy.stats\n",
    "import math\n",
    "import seaborn as sns\n",
    "from matplotlib import pyplot as plt\n",
    "from random import sample\n",
    "from scipy.stats import chisquare\n",
    "from scipy.stats import geom\n",
    "from scipy.stats import t\n",
    "from scipy import stats\n",
    "from sklearn.linear_model import LinearRegression\n",
    "from sklearn.metrics import r2_score\n",
    "from matplotlib.ticker import AutoMinorLocator\n",
    "import statsmodels.api as sm\n",
    "from statsmodels.api import OLS\n",
    "from statsmodels.formula.api import ols\n",
    "from sklearn.model_selection import train_test_split\n",
    "%matplotlib inline"
   ]
  },
  {
   "cell_type": "code",
   "execution_count": 13,
   "metadata": {},
   "outputs": [
    {
     "name": "stdout",
     "output_type": "stream",
     "text": [
      "<class 'pandas.core.frame.DataFrame'>\n",
      "RangeIndex: 4870 entries, 0 to 4869\n",
      "Data columns (total 30 columns):\n",
      "job_ad_id                 4870 non-null int64\n",
      "job_city                  4870 non-null object\n",
      "job_industry              4870 non-null object\n",
      "job_type                  4870 non-null object\n",
      "job_fed_contractor        3102 non-null float64\n",
      "job_equal_opp_employer    4870 non-null int64\n",
      "job_ownership             4870 non-null object\n",
      "job_req_any               4870 non-null int64\n",
      "job_req_communication     4870 non-null int64\n",
      "job_req_education         4870 non-null int64\n",
      "job_req_min_experience    2124 non-null object\n",
      "job_req_computer          4870 non-null int64\n",
      "job_req_organization      4870 non-null int64\n",
      "job_req_school            4870 non-null object\n",
      "received_callback         4870 non-null int64\n",
      "firstname                 4870 non-null object\n",
      "race                      4870 non-null object\n",
      "gender                    4870 non-null object\n",
      "years_college             4870 non-null int64\n",
      "college_degree            4870 non-null int64\n",
      "honors                    4870 non-null int64\n",
      "worked_during_school      4870 non-null int64\n",
      "years_experience          4870 non-null int64\n",
      "computer_skills           4870 non-null int64\n",
      "special_skills            4870 non-null int64\n",
      "volunteer                 4870 non-null int64\n",
      "military                  4870 non-null int64\n",
      "employment_holes          4870 non-null int64\n",
      "has_email_address         4870 non-null int64\n",
      "resume_quality            4870 non-null object\n",
      "dtypes: float64(1), int64(19), object(10)\n",
      "memory usage: 1.1+ MB\n"
     ]
    }
   ],
   "source": [
    "resume = pd.read_csv(\"data/resume.csv\", na_values = \"null\")\n",
    "resume.info()"
   ]
  },
  {
   "cell_type": "code",
   "execution_count": 12,
   "metadata": {},
   "outputs": [
    {
     "data": {
      "text/plain": [
       "6"
      ]
     },
     "execution_count": 12,
     "metadata": {},
     "output_type": "execute_result"
    }
   ],
   "source": [
    "len(resume.job_type.unique())"
   ]
  }
 ],
 "metadata": {
  "kernelspec": {
   "display_name": "Python 3",
   "language": "python",
   "name": "python3"
  },
  "language_info": {
   "codemirror_mode": {
    "name": "ipython",
    "version": 3
   },
   "file_extension": ".py",
   "mimetype": "text/x-python",
   "name": "python",
   "nbconvert_exporter": "python",
   "pygments_lexer": "ipython3",
   "version": "3.6.1"
  }
 },
 "nbformat": 4,
 "nbformat_minor": 2
}
