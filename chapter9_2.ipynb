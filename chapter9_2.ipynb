{
 "cells": [
  {
   "cell_type": "code",
   "execution_count": 1,
   "metadata": {
    "collapsed": true
   },
   "outputs": [],
   "source": [
    "import pandas as pd\n",
    "import numpy as np\n",
    "import random\n",
    "import scipy.stats\n",
    "import math\n",
    "import seaborn as sns\n",
    "from matplotlib import pyplot as plt\n",
    "from random import sample\n",
    "from scipy.stats import chisquare\n",
    "from scipy.stats import geom\n",
    "from scipy.stats import t\n",
    "from scipy import stats\n",
    "from sklearn.linear_model import LinearRegression\n",
    "from sklearn.metrics import r2_score\n",
    "from matplotlib.ticker import AutoMinorLocator\n",
    "%matplotlib inline"
   ]
  },
  {
   "cell_type": "code",
   "execution_count": 2,
   "metadata": {
    "collapsed": true
   },
   "outputs": [],
   "source": [
    "# backward elimination\n",
    "# forward selection\n",
    "# \n",
    "# "
   ]
  },
  {
   "cell_type": "code",
   "execution_count": 9,
   "metadata": {},
   "outputs": [
    {
     "name": "stdout",
     "output_type": "stream",
     "text": [
      "Without age variable, the model's adjusted R2 became higher, so first we should remove age variable from the model \n"
     ]
    }
   ],
   "source": [
    "'''9.7 Baby weights, Part IV. Exercise 9.3 considers a model that predicts a newborn's weight using several\n",
    "predictors (gestation length, parity, age of mother, height of mother, weight of mother, smoking status of\n",
    "mother). The table below shows the adjusted R-squared for the full model as well as adjusted R-squared\n",
    "values for all models we evaluate in the first step of the backwards elimination process.\n",
    "Model Adjusted R2\n",
    "1 Full model 0.2541\n",
    "2 No gestation 0.1031\n",
    "3 No parity 0.2492\n",
    "4 No age 0.2547\n",
    "5 No height 0.2311\n",
    "6 No weight 0.2536\n",
    "7 No smoking status 0.2072\n",
    "Which, if any, variable should be removed from the model first?'''\n",
    "print('''Without age variable, the model's adjusted R2 became higher, so first we should remove age variable from the model ''')"
   ]
  },
  {
   "cell_type": "code",
   "execution_count": 10,
   "metadata": {},
   "outputs": [
    {
     "name": "stdout",
     "output_type": "stream",
     "text": [
      "Without learner status, the model's adjusted R2 became higher, so first we should remove learner status from the model\n"
     ]
    }
   ],
   "source": [
    "'''9.8 Absenteeism, Part II. Exercise 9.4 considers a model that predicts the number of days absent using\n",
    "three predictors: ethnic background (eth), gender (sex), and learner status (lrn). The table below shows\n",
    "the adjusted R-squared for the model as well as adjusted R-squared values for all models we evaluate in the\n",
    "first step of the backwards elimination process.\n",
    "Model Adjusted R2\n",
    "1 Full model 0.0701\n",
    "2 No ethnicity -0.0033\n",
    "3 No sex 0.0676\n",
    "4 No learner status 0.0723\n",
    "Which, if any, variable should be removed from the model first?\n",
    "'''\n",
    "print('''Without learner status, the model's adjusted R2 became higher, so first we should remove learner status from the model''')"
   ]
  },
  {
   "cell_type": "code",
   "execution_count": 11,
   "metadata": {},
   "outputs": [
    {
     "name": "stdout",
     "output_type": "stream",
     "text": [
      "gestation variable should be added first since it has the biggest adjusted R2. \n"
     ]
    }
   ],
   "source": [
    "'''9.9 Baby weights, Part V. Exercise 9.3 provides regression output for the full model (including all explana-\n",
    "tory variables available in the data set) for predicting birth weight of babies. In this exercise we consider\n",
    "a forward-selection algorithm and add variables to the model one-at-a-time. The table below shows the\n",
    "p-value and adjusted R2 of each model where we include only the corresponding predictor. Based on this\n",
    "table, which variable should be added to the model first?'''\n",
    "print('''gestation variable should be added first since it has the biggest adjusted R2. ''')"
   ]
  },
  {
   "cell_type": "code",
   "execution_count": 14,
   "metadata": {},
   "outputs": [
    {
     "name": "stdout",
     "output_type": "stream",
     "text": [
      "ethnicity variable should be added first since it has the biggest adjusted R2 and the lowest p-value\n"
     ]
    }
   ],
   "source": [
    "'''9.10 Absenteeism, Part III. Exercise 9.4 provides regression output for the full model, including all ex-\n",
    "planatory variables available in the data set, for predicting the number of days absent from school. In this\n",
    "exercise we consider a forward-selection algorithm and add variables to the model one-at-a-time. The table\n",
    "below shows the p-value and adjusted R2 of each model where we include only the corresponding predictor.\n",
    "Based on this table, which variable should be added to the model first?'''\n",
    "print('''ethnicity variable should be added first since it has the biggest adjusted R2 and the lowest p-value''')"
   ]
  },
  {
   "cell_type": "code",
   "execution_count": 17,
   "metadata": {},
   "outputs": [
    {
     "name": "stdout",
     "output_type": "stream",
     "text": [
      "She should use p-value approach, since she'll be aiming for selecting which variables are significant predictors,\n",
      "rather than an optimization of the predictions.\n"
     ]
    }
   ],
   "source": [
    "'''9.11 Movie lovers, Part I. Suppose a social scientist is interested in studying what makes audiences love\n",
    "or hate a movie. She collects a random sample of movies (genre, length, cast, director, budget, etc.) as\n",
    "well as a measure of the success of the movie (score on a film review aggregator website). If as part of her\n",
    "research she is interested in finding out which variables are significant predictors of movie success, what type\n",
    "of model selection method should she use?'''\n",
    "print('''She should use p-value approach, since she'll be aiming for selecting which variables are significant predictors,\n",
    "rather than an optimization of the predictions.''')"
   ]
  },
  {
   "cell_type": "code",
   "execution_count": 18,
   "metadata": {},
   "outputs": [
    {
     "name": "stdout",
     "output_type": "stream",
     "text": [
      "Since the company is aiming for providing the best prediction to the customer to increase the satisfaction levels,\n",
      "the main concern for them would be optimization of the predictions. for this concern, from backward elimination or forward\n",
      "selection, the one that provides a bigger adj. R2 should be selected.\n",
      "\n"
     ]
    }
   ],
   "source": [
    "'''9.12 Movie lovers, Part II. Suppose an online media streaming company is interested in building a movie\n",
    "recommendation system. The website maintains data on the movies in their database (genre, length, cast,\n",
    "director, budget, etc.) and additionally collects data from their subscribers ( demographic information,\n",
    "previously watched movies, how they rated previously watched movies, etc.). The recommendation sys-\n",
    "tem will be deemed successful if subscribers actually watch, and rate highly, the movies recommended to\n",
    "them. Should the company use the adjusted R2 or the p-value approach in selecting variables for their\n",
    "recommendation system?'''\n",
    "print('''Since the company is aiming for providing the best prediction to the customer to increase the satisfaction levels,\n",
    "the main concern for them would be optimization of the predictions. for this concern, from backward elimination or forward\n",
    "selection, the one that provides a bigger adj. R2 should be selected.\n",
    "''')"
   ]
  },
  {
   "cell_type": "code",
   "execution_count": null,
   "metadata": {
    "collapsed": true
   },
   "outputs": [],
   "source": []
  }
 ],
 "metadata": {
  "kernelspec": {
   "display_name": "Python 3",
   "language": "python",
   "name": "python3"
  },
  "language_info": {
   "codemirror_mode": {
    "name": "ipython",
    "version": 3
   },
   "file_extension": ".py",
   "mimetype": "text/x-python",
   "name": "python",
   "nbconvert_exporter": "python",
   "pygments_lexer": "ipython3",
   "version": "3.6.1"
  }
 },
 "nbformat": 4,
 "nbformat_minor": 2
}
