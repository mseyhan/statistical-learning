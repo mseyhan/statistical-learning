{
 "cells": [
  {
   "cell_type": "code",
   "execution_count": 1,
   "metadata": {},
   "outputs": [],
   "source": [
    "import pandas as pd\n",
    "import numpy as np\n",
    "import random\n",
    "import scipy.stats\n",
    "import math\n",
    "import seaborn as sns\n",
    "from matplotlib import pyplot as plt\n",
    "from random import sample\n",
    "from scipy.stats import chisquare\n",
    "from scipy.stats import geom\n",
    "from scipy.stats import t\n",
    "from scipy import stats\n",
    "from sklearn.linear_model import LinearRegression\n",
    "from sklearn.metrics import r2_score\n",
    "from matplotlib.ticker import AutoMinorLocator\n",
    "%matplotlib inline"
   ]
  },
  {
   "cell_type": "code",
   "execution_count": 22,
   "metadata": {},
   "outputs": [
    {
     "name": "stdout",
     "output_type": "stream",
     "text": [
      "there's no units for the correlation coefficient\n",
      "intercept: kg\n",
      "slope: kg/cm\n"
     ]
    }
   ],
   "source": [
    "'''8.17 Units of regression. Consider a regression predicting weight (kg) from height (cm) for a sample of\n",
    "adult males. What are the units of the correlation coefficient, the intercept, and the slope?'''\n",
    "print('''there's no units for the correlation coefficient\n",
    "intercept: kg\n",
    "slope: kg/cm''')"
   ]
  },
  {
   "cell_type": "code",
   "execution_count": 28,
   "metadata": {},
   "outputs": [
    {
     "name": "stdout",
     "output_type": "stream",
     "text": [
      "they're equal. because the scatter around the regresison line shows the magnitude of the residuals.\n",
      "those two conditions won't show a bigger or smaller slope for the regression.\n"
     ]
    }
   ],
   "source": [
    "'''8.18 Which is higher? Determine if I or II is higher or if they are equal. Explain your reasoning. For a\n",
    "regression line, the uncertainty associated with the slope estimate, b1, is higher when\n",
    "I. there is a lot of scatter around the regression line or\n",
    "II. there is very little scatter around the regression line'''\n",
    "print('''they're equal. because the scatter around the regresison line shows the magnitude of the residuals.\n",
    "those two conditions won't show a bigger or smaller slope for the regression.''')"
   ]
  },
  {
   "cell_type": "code",
   "execution_count": 27,
   "metadata": {},
   "outputs": [
    {
     "name": "stdout",
     "output_type": "stream",
     "text": [
      "overestimate. because the residual is negative, our regression line is above the average residual.\n",
      "this means we overestimated the shelf-life of the apple.\n"
     ]
    }
   ],
   "source": [
    "'''8.19 Over-under, Part I. Suppose we fit a regression line to predict the shelf life of an apple based on its\n",
    "weight. For a particular apple, we predict the shelf life to be 4.6 days. The apple's residual is -0.6 days. Did\n",
    "we over or under estimate the shelf-life of the apple? Explain your reasoning.'''\n",
    "print('''overestimate. because the residual is negative, our regression line is above the average residual.\n",
    "this means we overestimated the shelf-life of the apple.''')"
   ]
  },
  {
   "cell_type": "code",
   "execution_count": 30,
   "metadata": {},
   "outputs": [
    {
     "name": "stdout",
     "output_type": "stream",
     "text": [
      "underestimate. because the residual is positive, our regression line is below the average residual.\n",
      "this means we underestimated the incidence of skin cancer.\n"
     ]
    }
   ],
   "source": [
    "'''8.20 Over-under, Part II. Suppose we fit a regression line to predict the number of incidents of skin cancer\n",
    "per 1,000 people from the number of sunny days in a year. For a particular year, we predict the incidence of\n",
    "skin cancer to be 1.5 per 1,000 people, and the residual for this year is 0.5. Did we over or under estimate\n",
    "the incidence of skin cancer? Explain your reasoning.'''\n",
    "print('''underestimate. because the residual is positive, our regression line is below the average residual.\n",
    "this means we underestimated the incidence of skin cancer.''')"
   ]
  },
  {
   "cell_type": "code",
   "execution_count": 32,
   "metadata": {},
   "outputs": [
    {
     "name": "stdout",
     "output_type": "stream",
     "text": [
      "a) strong, positive, linear relationship between two variables.\n",
      "b) explanatory: number of tourists(thousands) , response: spending in million dollars\n",
      "c) it can be a useful information for the country since it'll give the ability to forecast the spendings of tourists\n",
      "and they can plan the spendings from those revenues, etc.\n",
      "d) the conditions for least squares line:\n",
      "linearity. the data shows a linear trend in the first plot but the residuals shows there's no linear trend.\n",
      "nearly normal residuals. third plot, the histogram shows that the distribution of the residuals is nearly normal.\n",
      "constant variability. it does not meet this condition since it's visible in the second plot that the residuals are bigger\n",
      "when the value of explanatory variable (number of tourists) grow, and there seems to be a pattern in this relation.\n",
      "independent observations. because the data collected sequentially, there may be a hidden structure or pattern inside the\n",
      "data so the data probably is not independent.\n",
      "simple linear model is not suitable for this dataset\n"
     ]
    }
   ],
   "source": [
    "'''8.21 Tourism spending. The Association of Turkish Travel Agencies reports the number of foreign tourists\n",
    "visiting Turkey and tourist spending by year.14 Three plots are provided: scatterplot showing the relationship\n",
    "between these two variables along with the least squares fit, residuals plot, and histogram of residuals.\n",
    "(a) Describe the relationship between number of tourists and spending.\n",
    "(b) What are the explanatory and response variables?\n",
    "(c) Why might we want to fit a regression line to these data?\n",
    "(d) Do the data meet the conditions required for fitting a least squares line? In addition to the scatterplot,\n",
    "use the residual plot and histogram to answer this question.'''\n",
    "print('''a) strong, positive, linear relationship between two variables.\n",
    "b) explanatory: number of tourists(thousands) , response: spending in million dollars\n",
    "c) it can be a useful information for the country since it'll give the ability to forecast the spendings of tourists\n",
    "and they can plan the spendings from those revenues, etc.\n",
    "d) the conditions for least squares line:\n",
    "linearity. the data shows a linear trend in the first plot but the residuals shows there's no linear trend.\n",
    "nearly normal residuals. third plot, the histogram shows that the distribution of the residuals is nearly normal.\n",
    "constant variability. it does not meet this condition since it's visible in the second plot that the residuals are bigger\n",
    "when the value of explanatory variable (number of tourists) grow, and there seems to be a pattern in this relation.\n",
    "independent observations. because the data collected sequentially, there may be a hidden structure or pattern inside the\n",
    "data so the data probably is not independent.\n",
    "simple linear model is not suitable for this data''')"
   ]
  },
  {
   "cell_type": "code",
   "execution_count": 35,
   "metadata": {},
   "outputs": [
    {
     "name": "stdout",
     "output_type": "stream",
     "text": [
      "a) moderate, positive, linear relationship between number of calories and amount of carbohydrates (in grams).\n",
      "b) explanatory: calories , response: amount of carbohydrates (in grams)\n",
      "c) because we want to predict the amount of carbs a menu item has based on its calorie content.\n",
      "d) the conditions for least squares line:\n",
      "linearity. the data shows a linear trend in the first plot.\n",
      "nearly normal residuals. third plot, the histogram shows that the distribution of the residuals is nearly normal.\n",
      "constant variability. when the amount of calories increases (the explanatory) residuals seems to grow. the variability\n",
      "is not constant.\n",
      "independent observations. observations can be independent, but maybe starbucks uses high or low quality carbs, which\n",
      "will include higher calorie nutrition, in that case it would be a little dependency between observations.\n"
     ]
    }
   ],
   "source": [
    "'''8.22 Nutrition at Starbucks, Part I. The scatterplot below shows the relationship between the number of\n",
    "calories and amount of carbohydrates (in grams) Starbucks food menu items contain. Since Starbucks only\n",
    "lists the number of calories on the display items, we are interested in predicting the amount of carbs a menu\n",
    "item has based on its calorie content.\n",
    "(a) Describe the relationship between number of calories and amount of carbohydrates (in grams) that\n",
    "Starbucks food menu items contain.\n",
    "(b) In this scenario, what are the explanatory and response variables?\n",
    "(c) Why might we want to fit a regression line to these data?\n",
    "(d) Do these data meet the conditions required for fitting a least squares line?'''\n",
    "print('''a) moderate, positive, linear relationship between number of calories and amount of carbohydrates (in grams).\n",
    "b) explanatory: calories , response: amount of carbohydrates (in grams)\n",
    "c) because we want to predict the amount of carbs a menu item has based on its calorie content.\n",
    "d) the conditions for least squares line:\n",
    "linearity. the data shows a linear trend in the first plot.\n",
    "nearly normal residuals. third plot, the histogram shows that the distribution of the residuals is nearly normal.\n",
    "constant variability. when the amount of calories increases (the explanatory) residuals seems to grow. the variability\n",
    "is not constant.\n",
    "independent observations. observations can be independent, but maybe starbucks uses high or low quality carbs, which\n",
    "will include higher calorie nutrition, in that case it would be a little dependency between observations.''')"
   ]
  },
  {
   "cell_type": "code",
   "execution_count": 60,
   "metadata": {},
   "outputs": [
    {
     "name": "stdout",
     "output_type": "stream",
     "text": [
      "50.598545454545444\n",
      "a) b1 (slope) = 0.726 , b0 (intercept) = 50.60\n",
      "b) slope: or each additional unit of distance we expect distance to increase 0.726 minutes of travel time\n",
      "intercept: it's pointless to measure this on its own beacuse when we interpret in this context, a bizarre conclusion as\n",
      "\"when the distance traveled is 0 miles, travel time is expected to be 51 minutes.\" comes up.\n",
      "c) r2 = 0.404496 . in this context, 40.4% of variation in the time travelled is explained by the linear model.\n",
      "d) b0+(b1*103) = 125.37\n",
      "e) predicted: b0+(b1*168) = 125.37 , actual: 168\n",
      "residual = 42.62969696969698\n",
      "f) no, because if we try to calculate 500 miles, it's not in the realm of the data, it's an extrapolation. \n"
     ]
    }
   ],
   "source": [
    "'''8.23 The Coast Starlight, Part II. Exercise 8.11 introduces data on the Coast Starlight Amtrak train that\n",
    "runs from Seattle to Los Angeles. The mean travel time from one stop to the next on the Coast Starlight\n",
    "is 129 mins, with a standard deviation of 113 minutes. The mean distance traveled from one stop to the\n",
    "next is 108 miles with a standard deviation of 99 miles. The correlation between travel time and distance is\n",
    "0.636.\n",
    "(a) Write the equation of the regression line for predicting travel time.\n",
    "(b) Interpret the slope and the intercept in this context.\n",
    "(c) Calculate R2 of the regression line for predicting travel time from distance traveled for the Coast\n",
    "Starlight, and interpret R2 in the context of the application.\n",
    "(d) The distance between Santa Barbara and Los Angeles is 103 miles. Use the model to estimate the time\n",
    "it takes for the Starlight to travel between these two cities.\n",
    "(e) It actually takes the Coast Starlight about 168 mins to travel from Santa Barbara to Los Angeles.\n",
    "Calculate the residual and explain the meaning of this residual value.\n",
    "(f) Suppose Amtrak is considering adding a stop to the Coast Starlight 500 miles away from Los Angeles.\n",
    "Would it be appropriate to use this linear model to predict the travel time from Los Angeles to this\n",
    "point?'''\n",
    "r = .636\n",
    "r2 = r**2\n",
    "xbar = 108\n",
    "s_x = 99\n",
    "ybar = 129\n",
    "s_y = 113\n",
    "b1 = s_y / s_x * r # formula of the slope\n",
    "b0 = ybar - (b1*xbar) # simplified the y = intercept + (slope*x)\n",
    "print(b0)\n",
    "print(f'''a) b1 (slope) = {b1:.3f} , b0 (intercept) = {b0:.2f}\n",
    "b) slope: or each additional unit of distance we expect distance to increase {b1:.3f} minutes of travel time\n",
    "intercept: it's pointless to measure this on its own beacuse when we interpret in this context, a bizarre conclusion as\n",
    "\"when the distance traveled is 0 miles, travel time is expected to be 51 minutes.\" comes up.\n",
    "c) r2 = {r2} . in this context, {r2:.1%} of variation in the time travelled is explained by the linear model.\n",
    "d) b0+(b1*103) = {b0+(b1*103):.2f}\n",
    "e) predicted: b0+(b1*103) = {b0+(b1*103):.2f} , actual: 168\n",
    "residual = {168-(b0+(b1*103))}\n",
    "f) no, because if we try to calculate 500 miles, it's not in the realm of the data, it's an extrapolation. ''')"
   ]
  },
  {
   "cell_type": "code",
   "execution_count": 80,
   "metadata": {},
   "outputs": [
    {
     "name": "stdout",
     "output_type": "stream",
     "text": [
      "a) REGRESSION LINE: y = b0+(b1*x) //  y = 105.97+(0.61*x)\n",
      "b) b1 (slope) = 0.608 // we expect that when an additional unit of centimeter of change in shoulder girth would result\n",
      "in 0.608 change in height. \n",
      "b0 (intercept) = 105.97 // !something bizarre! if someone has no shoulder girth(?) that person would have 105.97 \n",
      "centimeters in height.\n",
      "c) r2 = 0.449 . in this context, 44.9% of variation in the height is explained by the linear model. i.e. the shoulder girth\n",
      "d) b0+(b1*100) = 166.76\n",
      "e) predicted: b0+(b1*100) = 166.76 , actual: 160\n",
      "residual = -6.762580520732854\n",
      "our linear model is overestimated that student's height\n",
      "f) we can't, because it needs extrapolation.\n"
     ]
    }
   ],
   "source": [
    "'''8.24 Body measurements, Part III. Exercise 8.13 introduces data on shoulder girth and height of a group\n",
    "of individuals. The mean shoulder girth is 107.20 cm with a standard deviation of 10.37 cm. The mean\n",
    "height is 171.14 cm with a standard deviation of 9.41 cm. The correlation between height and shoulder girth\n",
    "is 0.67.\n",
    "(a) Write the equation of the regression line for predicting height.\n",
    "(b) Interpret the slope and the intercept in this context.\n",
    "(c) Calculate R2 of the regression line for predicting height from shoulder girth, and interpret it in the\n",
    "context of the application.\n",
    "(d) A randomly selected student from your class has a shoulder girth of 100 cm. Predict the height of this\n",
    "student using the model.\n",
    "(e) The student from part (d) is 160 cm tall. Calculate the residual, and explain what this residual means.\n",
    "(f) A one year old has a shoulder girth of 56 cm. Would it be appropriate to use this linear model to predict\n",
    "the height of this child?'''\n",
    "r = .67\n",
    "r2 = r**2\n",
    "xbar = 107.20\n",
    "s_x = 10.37\n",
    "ybar = 171.14\n",
    "s_y = 9.41\n",
    "b1 = s_y / s_x * r # formula of the slope\n",
    "b0 = ybar - (b1*xbar) # simplified the y = intercept + (slope*x)\n",
    "print(f'''a) REGRESSION LINE: y = b0+(b1*x) //  y = {b0:.2f}+({b1:.2f}*x)\n",
    "b) b1 (slope) = {b1:.3f} // we expect that when an additional unit of centimeter of change in shoulder girth would result\n",
    "in {b1:.3f} change in height. \n",
    "b0 (intercept) = {b0:.2f} // !something bizarre! if someone has no shoulder girth(?) that person would have {b0:.2f} \n",
    "centimeters in height.\n",
    "c) r2 = {r2:.3f} . in this context, {r2:.1%} of variation in the height is explained by the linear model. i.e. the shoulder girth\n",
    "d) b0+(b1*100) = {b0+(b1*100):.2f}\n",
    "e) predicted: b0+(b1*100) = {b0+(b1*100):.2f} , actual: 160\n",
    "residual = {160-(b0+(b1*100))}\n",
    "our linear model is overestimated that student's height\n",
    "f) we can't, because it needs extrapolation.''')"
   ]
  },
  {
   "cell_type": "code",
   "execution_count": 95,
   "metadata": {},
   "outputs": [
    {
     "name": "stdout",
     "output_type": "stream",
     "text": [
      "a) REGRESSION LINE: y = b0+(b1*x) //  y = -29.901+(2.559*x)\n",
      "b) when poverty percent of a city is 0, people will commit -29.901 annual murders per million.\n",
      "c) an additional percent in poverty will result as additional 2.559 annual murders per million.\n",
      "d) in this context, 70.52% of variation in the annual murders per million is explained by the linear model. \n",
      "e) 0.8398\n"
     ]
    }
   ],
   "source": [
    "'''8.25 Murders and poverty, Part I. The following regression output is for predicting annual murders per\n",
    "million from percentage living in poverty in a random sample of 20 metropolitan areas.\n",
    "(a) Write out the linear model.\n",
    "(b) Interpret the intercept.\n",
    "(c) Interpret the slope.\n",
    "(d) Interpret R2.\n",
    "(e) Calculate the correlation coefficient.'''\n",
    "r2 = .7052\n",
    "b0 = -29.901 \n",
    "b1 = 2.559 \n",
    "\n",
    "print(f'''a) REGRESSION LINE: y = b0+(b1*x) //  y = {b0:.3f}+({b1:.3f}*x)\n",
    "b) when poverty percent of a city is 0, people will commit {b0} annual murders per million.\n",
    "c) an additional percent in poverty will result as additional {b1} annual murders per million.\n",
    "d) in this context, {r2:.2%} of variation in the annual murders per million is explained by the linear model. \n",
    "e) {np.sqrt(r2):.4f}''')"
   ]
  },
  {
   "cell_type": "code",
   "execution_count": 98,
   "metadata": {},
   "outputs": [
    {
     "name": "stdout",
     "output_type": "stream",
     "text": [
      "a) REGRESSION LINE: y = b0+(b1*x) //  y = -0.357+(4.034*x)\n",
      "b) when the body weight of a cat is 0, its heart weight would be -0.357.\n",
      "c) an additional kg in body weight of a cat would result as additional 4.034 grams of heart weight.\n",
      "d) in this context, 64.66% of variation in the heart weight of cats is explained by the linear model. \n",
      "e) 0.8041\n"
     ]
    }
   ],
   "source": [
    "'''8.26 Cats, Part I. The following regression output is for predicting the heart weight (in g) of cats from\n",
    "their body weight (in kg). The coefficients are estimated using a dataset of 144 domestic cats.\n",
    "Estimate Std. Error t value Pr(>jtj)\n",
    "(Intercept) -0.357 0.692 -0.515 0.607\n",
    "body wt 4.034 0.250 16.119 0.000\n",
    "s = 1:452 R2 = 64:66% R2\n",
    "adj = 64:41%\n",
    "(a) Write out the linear model.\n",
    "(b) Interpret the intercept.\n",
    "(c) Interpret the slope.\n",
    "(d) Interpret R2.\n",
    "(e) Calculate the correlation coefficient.'''\n",
    "r2 = .6466\n",
    "b0 = -.357 \n",
    "b1 = 4.034 \n",
    "\n",
    "print(f'''a) REGRESSION LINE: y = b0+(b1*x) //  y = {b0:.3f}+({b1:.3f}*x)\n",
    "b) when the body weight of a cat is 0, its heart weight would be {b0}.\n",
    "c) an additional kg in body weight of a cat would result as additional {b1} grams of heart weight.\n",
    "d) in this context, {r2:.2%} of variation in the heart weight of cats is explained by the linear model. \n",
    "e) {np.sqrt(r2):.4f}''')"
   ]
  },
  {
   "cell_type": "code",
   "execution_count": null,
   "metadata": {},
   "outputs": [],
   "source": []
  }
 ],
 "metadata": {
  "kernelspec": {
   "display_name": "Python 3",
   "language": "python",
   "name": "python3"
  },
  "language_info": {
   "codemirror_mode": {
    "name": "ipython",
    "version": 3
   },
   "file_extension": ".py",
   "mimetype": "text/x-python",
   "name": "python",
   "nbconvert_exporter": "python",
   "pygments_lexer": "ipython3",
   "version": "3.7.13 (default, Mar 28 2022, 08:03:21) [MSC v.1916 64 bit (AMD64)]"
  },
  "orig_nbformat": 4,
  "vscode": {
   "interpreter": {
    "hash": "1cca9558bc5ad879ec93cc030b157d75f18267527c60932cecaace349eef54dd"
   }
  }
 },
 "nbformat": 4,
 "nbformat_minor": 2
}
