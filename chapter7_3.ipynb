{
 "cells": [
  {
   "cell_type": "code",
   "execution_count": 1,
   "metadata": {
    "collapsed": true
   },
   "outputs": [],
   "source": [
    "import pandas as pd\n",
    "import numpy as np\n",
    "import random\n",
    "import scipy.stats\n",
    "import math\n",
    "import seaborn as sns\n",
    "from matplotlib import pyplot as plt\n",
    "from random import sample\n",
    "from scipy.stats import chisquare\n",
    "from scipy.stats import geom\n",
    "from scipy.stats import t\n",
    "from scipy import stats\n",
    "z90 = 1.645\n",
    "z95 = 1.96\n",
    "z99 = 2.576\n",
    "%matplotlib inline"
   ]
  },
  {
   "cell_type": "code",
   "execution_count": 21,
   "metadata": {},
   "outputs": [
    {
     "name": "stdout",
     "output_type": "stream",
     "text": [
      "CONFIDENCE INTERVAL\n",
      "a) standard error = 1.9535, me = 4.5048, dof = 8, t_conf = 2.3060\n",
      "b) we're 95% confident that\n",
      "is between 3.3252 and 12.3348\n",
      "c) .\n"
     ]
    },
    {
     "name": "stderr",
     "output_type": "stream",
     "text": [
      "C:\\Program Files (x86)\\Anaconda3\\lib\\site-packages\\matplotlib\\patches.py:121: UserWarning: Setting the 'color' property will overridethe edgecolor or facecolor properties. \n",
      "  warnings.warn(\"Setting the 'color' property will override\"\n"
     ]
    },
    {
     "data": {
      "image/png": "[encoded data removed]",
      "text/plain": [
       "<matplotlib.figure.Figure at 0x1cbb961bcc0>"
      ]
     },
     "metadata": {},
     "output_type": "display_data"
    }
   ],
   "source": [
    "# confidence interval for a difference of means\n",
    "# example 7.21\n",
    "\n",
    "# ESCs\n",
    "n1 = 9\n",
    "xbar1 = 3.50\n",
    "s1 = 5.17\n",
    "# control\n",
    "n2 = 9\n",
    "xbar2 = -4.33\n",
    "s2 = 2.76\n",
    "n = 9\n",
    "\n",
    "xbar = xbar1 - xbar2\n",
    "cl = .95\n",
    "sl = 1-cl\n",
    "dof = n-1\n",
    "\n",
    "# CONFIDENCE INTERVAL\n",
    "fig = plt.figure(figsize=(14,4))\n",
    "x = np.linspace(-4, 4, 500)\n",
    "s1t = sl / 2\n",
    "t_conf = stats.t.ppf(1-s1t, dof) # upper tail is 1 - confidence level /2 (one tail)\n",
    "se = np.sqrt((s1**2/n1) +(s2**2/n2))  \n",
    "me = t_conf * se\n",
    "lo = xbar - me\n",
    "hi = xbar + me\n",
    "print('''CONFIDENCE INTERVAL\n",
    "a) standard error = {se:.4f}, me = {me:.4f}, dof = {dof}, t_conf = {t_conf:.4f}\n",
    "b) we're {cl:.0%} confident that\n",
    "is between {lo:.4f} and {hi:.4f}\n",
    "c) .'''\n",
    ".format(cl=cl,se=se,me=me,lo=lo,hi=hi,dof=dof,t_conf=t_conf))\n",
    "\n",
    "ax_conf = fig.add_subplot(1,2,2)\n",
    "y = stats.t.pdf(x, dof)\n",
    "two_t_conf = [t_conf, (t_conf)*-1]\n",
    "\n",
    "ax_conf.plot(x, y, color='black',label=f' t-distribution, df= {dof}'.format(df=dof))\n",
    "ax_conf.fill_between(x, y, color='blue', alpha=0.5, where= ~((x<min(two_t_conf)) | (x>max(two_t_conf))) ,label=\"confidence interval\")\n",
    "ax_conf.set_ylabel('Probability Density')\n",
    "ax_conf.set_xlabel('Standard Deviations')\n",
    "ax_conf.set_title('Confidence Interval')\n",
    "ax_conf.text(min(two_t_conf), stats.t.cdf(x=min(two_t_conf), df=dof), '{t_lo:.2f}'.format(t_lo=lo), color='black', \n",
    "        bbox=dict(facecolor='none', edgecolor='black', boxstyle='round,pad=1', color='gray'),fontsize='x-small')\n",
    "ax_conf.text(max(two_t_conf), stats.t.cdf(x=min(two_t_conf), df=dof), '{t_hi:.2f}'.format(t_hi=hi), color='black', \n",
    "        bbox=dict(facecolor='none', edgecolor='black', boxstyle='round,pad=1', color='gray'),fontsize='x-small')\n",
    "legend = ax_conf.legend(shadow=True,fontsize='small')"
   ]
  },
  {
   "cell_type": "code",
   "execution_count": 17,
   "metadata": {},
   "outputs": [
    {
     "data": {
      "text/plain": [
       "1.9535295692099921"
      ]
     },
     "execution_count": 17,
     "metadata": {},
     "output_type": "execute_result"
    }
   ],
   "source": []
  },
  {
   "cell_type": "code",
   "execution_count": 19,
   "metadata": {},
   "outputs": [
    {
     "data": {
      "text/plain": [
       "1.8595480375228424"
      ]
     },
     "execution_count": 19,
     "metadata": {},
     "output_type": "execute_result"
    }
   ],
   "source": []
  },
  {
   "cell_type": "code",
   "execution_count": null,
   "metadata": {
    "collapsed": true
   },
   "outputs": [],
   "source": []
  }
 ],
 "metadata": {
  "kernelspec": {
   "display_name": "Python 3",
   "language": "python",
   "name": "python3"
  },
  "language_info": {
   "codemirror_mode": {
    "name": "ipython",
    "version": 3
   },
   "file_extension": ".py",
   "mimetype": "text/x-python",
   "name": "python",
   "nbconvert_exporter": "python",
   "pygments_lexer": "ipython3",
   "version": "3.6.1"
  }
 },
 "nbformat": 4,
 "nbformat_minor": 2
}
