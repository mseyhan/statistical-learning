{
 "cells": [
  {
   "cell_type": "code",
   "execution_count": 1,
   "metadata": {
    "collapsed": true
   },
   "outputs": [],
   "source": [
    "import pandas as pd\n",
    "import numpy as np\n",
    "import random\n",
    "import scipy.stats\n",
    "import math\n",
    "import seaborn as sns\n",
    "from matplotlib import pyplot as plt\n",
    "from random import sample\n",
    "from scipy.stats import chisquare\n",
    "from scipy.stats import geom\n",
    "from scipy.stats import t\n",
    "from scipy import stats\n",
    "z90 = 1.645\n",
    "z95 = 1.96\n",
    "z99 = 2.576\n",
    "%matplotlib inline"
   ]
  },
  {
   "cell_type": "code",
   "execution_count": 2,
   "metadata": {},
   "outputs": [
    {
     "name": "stdout",
     "output_type": "stream",
     "text": [
      "H0: the average score is identical in all lectures. Any observed difference is due to chance. u_1 = u_2 = u_3\n",
      "HA: at last one lecture's average score is different than others. \n",
      "\n"
     ]
    }
   ],
   "source": [
    "# example 7.40\n",
    "print('''H0: the average score is identical in all lectures. Any observed difference is due to chance. u_1 = u_2 = u_3\n",
    "HA: at last one lecture's average score is different than others. \n",
    "''')"
   ]
  },
  {
   "cell_type": "code",
   "execution_count": 5,
   "metadata": {
    "scrolled": false
   },
   "outputs": [
    {
     "name": "stdout",
     "output_type": "stream",
     "text": [
      "      count      mean       std\n",
      "pos1                           \n",
      "C      64.0  0.301938  0.038171\n",
      "IF    205.0  0.318385  0.037931\n",
      "OF    160.0  0.319819  0.042607\n",
      "H0: the average on-base percentage does not vary across player positions. u_c = u_of = u_if\n",
      "HA: the average on-base percentage varies across at least between some player positions.\n",
      "\n",
      "independence: if it's a simple random sample of players, independence condition satisfies.\n",
      "normality: since the data has too many observations, we'll only look for the extreme outliers, there are no extreme outliers.\n",
      "the data spread normal.\n",
      "variability: variability in data don't look quite identical but it looks similar\n",
      "\n"
     ]
    },
    {
     "data": {
      "image/png": "[encoded data removed]",
      "text/plain": [
       "<matplotlib.figure.Figure at 0x1c6abaddbe0>"
      ]
     },
     "metadata": {},
     "output_type": "display_data"
    }
   ],
   "source": [
    "# guided practice 7.42, example 7.43, 7.44\n",
    "bat18 = pd.read_csv(\"data/bat18.csv\", na_values = \"null\")\n",
    "#print(bat18.info())\n",
    "bat = bat18[ ~((bat18[\"position\"]==\"P\") | (bat18[\"position\"]==\"DH\")) & (bat18[\"AB\"] >= 100)][[\"name\",\"team\",\"position\",\"AB\",\"H\",\"HR\",\"RBI\",\"AVG\",\"OBP\"]]\n",
    "c = [\"C\"]\n",
    "of = ['RF', 'LF', 'CF']\n",
    "bat[\"pos1\"] = bat[\"position\"].apply(lambda x: \"C\" if x in c else \"OF\" if x in of else \"IF\")\n",
    "fig = plt.figure(figsize=(10,10))\n",
    "ax = fig.add_subplot(1,1,1)\n",
    "sns.boxplot(data=bat, x=\"pos1\", y=\"OBP\", ax=ax)\n",
    "print(bat.groupby(\"pos1\")[\"OBP\"].describe()[[\"count\",\"mean\",\"std\"]])\n",
    "print('''H0: the average on-base percentage does not vary across player positions. u_c = u_of = u_if\n",
    "HA: the average on-base percentage varies across at least between some player positions.\n",
    "\n",
    "independence: if it's a simple random sample of players, independence condition satisfies.\n",
    "normality: since the data has too many observations, we'll only look for the extreme outliers, there are no extreme outliers.\n",
    "the data spread normal.\n",
    "variability: variability in data don't look quite identical but it looks similar\n",
    "''')"
   ]
  },
  {
   "cell_type": "code",
   "execution_count": 6,
   "metadata": {},
   "outputs": [
    {
     "name": "stdout",
     "output_type": "stream",
     "text": [
      "When doing an ANOVA, you observe large differences in means between groups.\n",
      "Within the ANOVA framework, this would most likely be interpreted as evidence strongly favoring the alternative\n",
      "hypothesis.\n"
     ]
    }
   ],
   "source": [
    "'''7.35 Fill in the blank. When doing an ANOVA, you observe large differences in means between groups.\n",
    "Within the ANOVA framework, this would most likely be interpreted as evidence strongly favoring the\n",
    "hypothesis.'''\n",
    "print('''When doing an ANOVA, you observe large differences in means between groups.\n",
    "Within the ANOVA framework, this would most likely be interpreted as evidence strongly favoring the alternative\n",
    "hypothesis.''')"
   ]
  },
  {
   "cell_type": "code",
   "execution_count": 7,
   "metadata": {},
   "outputs": [
    {
     "name": "stdout",
     "output_type": "stream",
     "text": [
      "ANOVA, because we're testing whether there are differences in multiple groups, we should use ANOVA\n",
      "to test this problem\n"
     ]
    }
   ],
   "source": [
    "'''7.36 Which test? We would like to test if students who are in the social sciences, natural sciences, arts\n",
    "and humanities, and other fields spend the same amount of time studying for this course. What type of test\n",
    "should we use? Explain your reasoning.'''\n",
    "print('''ANOVA, because we're testing whether there are differences in multiple groups, we should use ANOVA\n",
    "to test this problem''')"
   ]
  },
  {
   "cell_type": "code",
   "execution_count": 8,
   "metadata": {},
   "outputs": [
    {
     "name": "stdout",
     "output_type": "stream",
     "text": [
      "PREPARE. \n",
      "As given in the ANOVA summary table in the example, we should use ANOVA test for this problem. \n",
      "H0: every type of feed's effect in average is the same. u_1 = u_2 = ... = u_n\n",
      "HA: at least one type of feed's effect in average is different.\n",
      "\n",
      "CHECK. there are three conditions to check for ANOVA:\n",
      "independence: it's a simple random sample, so independence condition satisfies.\n",
      "normality: for sunflower, there are some extreme outliers in the data. not every group seems normally distributed.\n",
      "variance: the variance in groups are not close.\n",
      "in these conditions, it's not suitable to conduct a hypothesis test using ANOVA for that dataset.\n",
      "Taking a look at the given side-by-side bar plots,\n",
      "\n",
      "CALCULATE.\n",
      "already done in the example.\n",
      "\n",
      "CONCLUDE.\n",
      "p value of corresponding f-score is almost 0, so we reject the null hypothesis and conclude,\n",
      "there's strong evidence in the data that suggests at least some types of chick feed performs different than others.\n"
     ]
    }
   ],
   "source": [
    "'''7.37 Chicken diet and weight, Part III. In Exercises 7.27 and 7.29 we compared the effects of two types\n",
    "of feed at a time. A better analysis would first consider all feed types at once: casein, horsebean, linseed,\n",
    "meat meal, soybean, and sunflower. The ANOVA output below can be used to test for differences between\n",
    "the average weights of chicks on different diets.\n",
    "\n",
    "Conduct a hypothesis test to determine if these data provide convincing evidence that the average weight\n",
    "of chicks varies across some (or all) groups. Make sure to check relevant conditions. Figures and summary\n",
    "statistics are shown below.\n",
    "'''\n",
    "print('''PREPARE. \n",
    "As given in the ANOVA summary table in the example, we should use ANOVA test for this problem. \n",
    "H0: every type of feed's effect in average is the same. u_1 = u_2 = ... = u_n\n",
    "HA: at least one type of feed's effect in average is different.\n",
    "\n",
    "CHECK. there are three conditions to check for ANOVA:\n",
    "independence: it's a simple random sample, so independence condition satisfies.\n",
    "normality: for sunflower, there are some extreme outliers in the data. not every group seems normally distributed.\n",
    "variance: the variance in groups are not close.\n",
    "in these conditions, it's not suitable to conduct a hypothesis test using ANOVA for that dataset.\n",
    "Taking a look at the given side-by-side bar plots,\n",
    "\n",
    "CALCULATE.\n",
    "already done in the example.\n",
    "\n",
    "CONCLUDE.\n",
    "p value of corresponding f-score is almost 0, so we reject the null hypothesis and conclude,\n",
    "there's strong evidence in the data that suggests at least some types of chick feed performs different than others.''')"
   ]
  },
  {
   "cell_type": "code",
   "execution_count": 9,
   "metadata": {},
   "outputs": [
    {
     "name": "stdout",
     "output_type": "stream",
     "text": [
      "a) H0: average test scores of 5 different method groups are the same.\n",
      "HA: at least one of the 5 different method groups' average test scores are the different than others.\n",
      "b) 5-1 = 4 degrees of freedom associated with the F-test\n",
      "C) at least one of the means are different.\n"
     ]
    }
   ],
   "source": [
    "'''7.38 Teaching descriptive statistics. A study compared five different methods for teaching descriptive\n",
    "statistics. The five methods were traditional lecture and discussion, programmed textbook instruction,\n",
    "programmed text with lectures, computer instruction, and computer instruction with lectures. 45 students\n",
    "were randomly assigned, 9 to each method. After completing the course, students took a 1-hour exam.\n",
    "(a) What are the hypotheses for evaluating if the average test scores are different for the different teaching\n",
    "methods?\n",
    "(b) What are the degrees of freedom associated with the F-test for evaluating these hypotheses?\n",
    "(c) Suppose the p-value for this test is 0.0168. What is the conclusion?'''\n",
    "print('''a) H0: average test scores of 5 different method groups are the same.\n",
    "HA: at least one of the 5 different method groups' average test scores are the different than others.\n",
    "b) 5-1 = 4 degrees of freedom associated with the F-test\n",
    "C) at least one of the means are different.''')"
   ]
  },
  {
   "cell_type": "code",
   "execution_count": 10,
   "metadata": {},
   "outputs": [
    {
     "name": "stdout",
     "output_type": "stream",
     "text": [
      "a) H0: tthe population mean of MET for each group is equal to the others.\n",
      "HA: At least one pair of means is different.\n",
      "b) independence: if it's a simple random sample, the condition satisfies.\n",
      "normality: we should see some diferent visualizations to conclude whether this condition satisfies or not.\n",
      "but, there are enough data in every group. so if there are no extreme outliers in the data, this seems okay.\n",
      "variance: the variances are fairly equal. condition satisfied.\n"
     ]
    }
   ],
   "source": [
    "'''7.39 Coffee, depression, and physical activity. Caffeine is the world's most widely used stimulant, with\n",
    "approximately 80% consumed in the form of coffee. Participants in a study investigating the relationship\n",
    "between coffee consumption and exercise were asked to report the number of hours they spent per week on\n",
    "moderate (e.g., brisk walking) and vigorous (e.g., strenuous sports and jogging) exercise. Based on these\n",
    "data the researchers estimated the total hours of metabolic equivalent tasks (MET) per week, a value always\n",
    "greater than 0. The table below gives summary statistics of MET for women in this study based on the\n",
    "amount of coffee consumed.\n",
    "\n",
    "(a) Write the hypotheses for evaluating if the average physical activity level varies among the different levels\n",
    "of coffee consumption.\n",
    "(b) Check conditions and describe any assumptions you must make to proceed with the test.\n",
    "(c) Below is part of the output associated with this test. Fill in the empty cells.\n",
    "(d) What is the conclusion of the test?'''\n",
    "\n",
    "print('''a) H0: tthe population mean of MET for each group is equal to the others.\n",
    "HA: At least one pair of means is different.\n",
    "b) independence: if it's a simple random sample, the condition satisfies.\n",
    "normality: we should see some diferent visualizations to conclude whether this condition satisfies or not.\n",
    "but, there are enough data in every group. so if there are no extreme outliers in the data, this seems okay.\n",
    "variance: the variances are fairly equal. condition satisfied.''')"
   ]
  },
  {
   "cell_type": "code",
   "execution_count": 11,
   "metadata": {},
   "outputs": [
    {
     "name": "stdout",
     "output_type": "stream",
     "text": [
      "PREPARE.\n",
      "H0: average student performance is the same in each discussion section u_1 = u_2 = ... = u_n\n",
      "HA: average student performance in at least one group is different than others.\n",
      "\n",
      "CHECK.\n",
      "independence: we don't know about if it's a random assignment. if not, we can't proceed to ANOVA.\n",
      "normality: in some groups, there are enough samples (students) but in some of them there aren't. for them,\n",
      "we need to know about the mins and maximums to better assess if the condition satisfies.\n",
      "constant variance: the variance doesn't look equal. the condition does not satisfy.\n",
      "\n",
      "CALCULATE.\n",
      "already given in the example.\n",
      "\n",
      "CONCLUDE.\n",
      "since p-value is over significance level of .05, we fail to reject the null hypothesis and conclude\n",
      "the data does not provide sufficient evidence to believe there's a difference in those groups other than chance.\n"
     ]
    }
   ],
   "source": [
    "'''7.40 Student performance across discussion sections. A professor who teaches a large introductory\n",
    "statistics class (197 students) with eight discussion sections would like to test if student performance differs\n",
    "by discussion section, where each discussion section has a different teaching assistant. The summary table\n",
    "below shows the average final exam score for each discussion section as well as the standard deviation of\n",
    "scores and the number of students in each section.\n",
    "The ANOVA output below can be used to test for differences between the average scores from the different\n",
    "discussion sections.\n",
    "Conduct a hypothesis test to determine if these data provide convincing evidence that the average score varies\n",
    "across some (or all) groups. Check conditions and describe any assumptions you must make to proceed with\n",
    "the test.'''\n",
    "print('''PREPARE.\n",
    "H0: average student performance is the same in each discussion section u_1 = u_2 = ... = u_n\n",
    "HA: average student performance in at least one group is different than others.\n",
    "\n",
    "CHECK.\n",
    "independence: we don't know about if it's a random assignment. if not, we can't proceed to ANOVA.\n",
    "normality: in some groups, there are enough samples (students) but in some of them there aren't. for them,\n",
    "we need to know about the mins and maximums to better assess if the condition satisfies.\n",
    "constant variance: the variance doesn't look equal. the condition does not satisfy.\n",
    "\n",
    "CALCULATE.\n",
    "already given in the example.\n",
    "\n",
    "CONCLUDE.\n",
    "since p-value is over significance level of .05, we fail to reject the null hypothesis and conclude\n",
    "the data does not provide sufficient evidence to believe there's a difference in those groups other than chance.''')"
   ]
  },
  {
   "cell_type": "code",
   "execution_count": 12,
   "metadata": {},
   "outputs": [
    {
     "name": "stdout",
     "output_type": "stream",
     "text": [
      "a) PREPARE.\n",
      "H0: there are no difference in average GPAs across majors. u_1 = u_2 = u_3\n",
      "HA: at least one major's average GPA differ from others significantly other than chance alone.\n",
      "\n",
      "CHECK.\n",
      "independence: we don't know about if it's a random assignment. if not, we can't proceed to ANOVA.\n",
      "normality: looking at the side-by-side box plot, the distribution of the GPAs look quite similar and normal.\n",
      "constant variance: the variance look equal. the condition satisfies.\n",
      "\n",
      "CALCULATE.\n",
      "already given in the example.\n",
      "\n",
      "b) CONCLUDE.\n",
      "since p-value is over significance level of .05, we fail to reject the null hypothesis and conclude\n",
      "the data does not provide convinving evidence to believe there's a difference between the average\n",
      "GPAs across those majors.\n",
      "c) 198 is the sample size.\n"
     ]
    }
   ],
   "source": [
    "'''7.41 GPA and major. Undergraduate students taking an introductory statistics course at Duke University\n",
    "conducted a survey about GPA and major. The side-by-side box plots show the distribution of GPA among\n",
    "three groups of majors. Also provided is the ANOVA output.\n",
    "(a) Write the hypotheses for testing for a difference between average GPA across majors.\n",
    "(b) What is the conclusion of the hypothesis test?\n",
    "(c) How many students answered these questions on the survey, i.e. what is the sample size?'''\n",
    "print('''a) PREPARE.\n",
    "H0: there are no difference in average GPAs across majors. u_1 = u_2 = u_3\n",
    "HA: at least one major's average GPA differ from others significantly other than chance alone.\n",
    "\n",
    "CHECK.\n",
    "independence: we don't know about if it's a random assignment. if not, we can't proceed to ANOVA.\n",
    "normality: looking at the side-by-side box plot, the distribution of the GPAs look quite similar and normal.\n",
    "constant variance: the variance look equal. the condition satisfies.\n",
    "\n",
    "CALCULATE.\n",
    "already given in the example.\n",
    "\n",
    "b) CONCLUDE.\n",
    "since p-value is over significance level of .05, we fail to reject the null hypothesis and conclude\n",
    "the data does not provide convinving evidence to believe there's a difference between the average\n",
    "GPAs across those majors.\n",
    "c) 198 is the sample size.''')"
   ]
  },
  {
   "cell_type": "code",
   "execution_count": 3,
   "metadata": {},
   "outputs": [
    {
     "name": "stdout",
     "output_type": "stream",
     "text": [
      "PREPARE.\n",
      "\"df_degree = 4, df_residuals = 1167\"\n",
      "H0: average work hours is the same across all the educational attainment groups.\n",
      "HA: at least some of the educational attainment groups differ in average work hours.\n",
      "\n",
      "CHECK. \n",
      "independence: if it's randomly sampled, -not given in the example- condition satisfies.\n",
      "normality: all groups looks normal.\n",
      "constant variance: across the groups, variability looks sufficiently same.\n",
      "\n",
      "CALCULATE.\n",
      "f-value = 2.1889312141329578, p = 0.0682\n",
      "\n",
      "CONCLUDE.\n",
      "since the p-value is greater than our significance level of .05, we fail to reject the H0 and conclude,\n",
      "the data doesn't provide convincing evidence of working hours depends on educational attainment.\n"
     ]
    }
   ],
   "source": [
    "'''7.42 Work hours and education. The General Social Survey collects data on demographics, education,\n",
    "and work, among many other characteristics of US residents. Using ANOVA, we can consider educa-\n",
    "tional attainment levels for all 1,172 respondents at once. Below are the distributions of hours worked by\n",
    "educational attainment and relevant summary statistics that will be helpful in carrying out this analysis.\n",
    "\n",
    "(a) Write hypotheses for evaluating whether the average number of hours worked varies across the five groups.\n",
    "(b) Check conditions and describe any assumptions you must make to proceed with the test.\n",
    "(c) Below is part of the output associated with this test. Fill in the empty cells.\n",
    "(d) What is the conclusion of the test?\n",
    "'''\n",
    "n = 1172\n",
    "k = 5\n",
    "dfn = k-1\n",
    "dfd = n-k\n",
    "p = .0682\n",
    "f = scipy.stats.f.ppf(q=1-p, dfn=dfn, dfd=dfd) # find critical F-value given degrees of freedom and p-value\n",
    "\n",
    "print(f'''PREPARE.\n",
    "\"df_degree = {dfn}, df_residuals = {dfd}\"\n",
    "H0: average work hours is the same across all the educational attainment groups.\n",
    "HA: at least some of the educational attainment groups differ in average work hours.\n",
    "\n",
    "CHECK. \n",
    "independence: if it's randomly sampled, -not given in the example- condition satisfies.\n",
    "normality: all groups looks normal.\n",
    "constant variance: across the groups, variability looks sufficiently same.\n",
    "\n",
    "CALCULATE.\n",
    "f-value = {f}, p = {p}\n",
    "\n",
    "CONCLUDE.\n",
    "since the p-value is greater than our significance level of .05, we fail to reject the H0 and conclude,\n",
    "the data doesn't provide convincing evidence of working hours depends on educational attainment.''')"
   ]
  },
  {
   "cell_type": "code",
   "execution_count": 4,
   "metadata": {},
   "outputs": [
    {
     "name": "stdout",
     "output_type": "stream",
     "text": [
      "a) false. modified significance level decreases when number of groups increases.\n",
      "b) true.\n",
      "c) true.\n",
      "d) false. independence condition depends on if its randomly sampled. but sometimes when there are too\n",
      "many observations, we can count it is actually independent.\n",
      "\n"
     ]
    }
   ],
   "source": [
    "'''7.43 True / False: ANOVA, Part I. Determine if the following statements are true or false in ANOVA, and\n",
    "explain your reasoning for statements you identify as false.\n",
    "(a) As the number of groups increases, the modified significance level for pairwise tests increases as well.\n",
    "(b) As the total sample size increases, the degrees of freedom for the residuals increases as well.\n",
    "(c) The constant variance condition can be somewhat relaxed when the sample sizes are relatively consistent\n",
    "across groups.\n",
    "(d) The independence assumption can be relaxed when the total sample size is large.'''\n",
    "\n",
    "print('''a) false. modified significance level decreases when number of groups increases.\n",
    "b) true.\n",
    "c) true.\n",
    "d) false. independence condition depends on if its randomly sampled. but sometimes when there are too\n",
    "many observations, we can count it is actually independent.\n",
    "''')"
   ]
  },
  {
   "cell_type": "code",
   "execution_count": 5,
   "metadata": {},
   "outputs": [
    {
     "name": "stdout",
     "output_type": "stream",
     "text": [
      "a) H0: there's no difference in taking care of their children across parent groups of \n",
      "different educational attainment levels. u_1 = u_2 = ... = u_n\n",
      "HA: at least one parent group is different than others in terms of taking care of their children.\n",
      "b) since p is bigger than our significance level of .05, we fail to reject the null hypothesis and conclude\n",
      "the data does not provide strong evidence of a difference in average taking care of their children across those\n",
      "parent groups.\n",
      "\n"
     ]
    }
   ],
   "source": [
    "'''7.44 Child care hours. The China Health and Nutrition Survey aims to examine the effects of the health,\n",
    "nutrition, and family planning policies and programs implemented by national and local governments. It,\n",
    "for example, collects information on number of hours Chinese parents spend taking care of their children\n",
    "under age 6. The side-by-side box plots below show the distribution of this variable by educational attainment\n",
    "of the parent. Also provided below is the ANOVA output for comparing average hours across educational\n",
    "attainment categories.\n",
    "(a) Write the hypotheses for testing for a difference between the average number of hours spent on child\n",
    "care across educational attainment levels.\n",
    "(b) What is the conclusion of the hypothesis test?'''\n",
    "print('''a) H0: there's no difference in taking care of their children across parent groups of \n",
    "different educational attainment levels. u_1 = u_2 = ... = u_n\n",
    "HA: at least one parent group is different than others in terms of taking care of their children.\n",
    "b) since p is bigger than our significance level of .05, we fail to reject the null hypothesis and conclude\n",
    "the data does not provide strong evidence of a difference in average taking care of their children across those\n",
    "parent groups.\n",
    "''')"
   ]
  },
  {
   "cell_type": "code",
   "execution_count": 6,
   "metadata": {},
   "outputs": [
    {
     "name": "stdout",
     "output_type": "stream",
     "text": [
      "a) H0: there's no significant difference in average deviant T score differences across groups. all groups are\n",
      "equally effective.\n",
      "HA: there's significant difference in average deviant T score differences in at least across two groups groups. some groups \n",
      "is more effective than others.\n",
      "b) because the p-value of 0.0461 is lower than .05 significance level, we reject the H0 and conclude,\n",
      "in at least some of the groups there are significant differences in average deviant T score differences. some groups are more \n",
      "effective than others.\n",
      "\n",
      "Pairwise t-test between treatment 1 and 2:\n",
      "since p = 0.3710 bigger than our corrected significance level of 0.0167, we fail to reject the null hypothesis and conclude,\n",
      "the data does not provide strong evidence of a difference between the effectiveness of treatment 1 and 2.\n",
      "\n",
      "Pairwise t-test between treatment 1 and 3:\n",
      "since p = 0.0150 smaller than our corrected significance level of 0.0167, we reject the null hypothesis and conclude,\n",
      "there is a statistically significant difference between the effectiveness of treatment 1 and 3. \n",
      "\n",
      "Pairwise t-test between treatment 2 and 3:\n",
      "since p = 0.1091 bigger than our corrected significance level of 0.0167, we fail to reject the null hypothesis and conclude,\n",
      "the data does not provide strong evidence of a difference between the effectiveness of treatment 2 and 3.\n"
     ]
    }
   ],
   "source": [
    "'''7.45 Prison isolation experiment, Part II. Exercise 7.31 introduced an experiment that was conducted\n",
    "with the goal of identifying a treatment that reduces subjects' psychopathic deviant T scores, where this\n",
    "score measures a person's need for control or his rebellion against control. In Exercise 7.31 you evaluated the\n",
    "success of each treatment individually. An alternative analysis involves comparing the success of treatments.\n",
    "The relevant ANOVA output is given below.\n",
    "\n",
    "(a) What are the hypotheses?\n",
    "(b) What is the conclusion of the test? Use a 5% significance level.\n",
    "(c) If in part (b) you determined that the test is significant, conduct pairwise tests to determine which\n",
    "groups are different from each other. If you did not reject the null hypothesis in part (b), recheck your\n",
    "answer. Summary statistics for each group are provided below.\n",
    "'''\n",
    "# comparing the success of treatments with ANOVA.\n",
    "print('''a) H0: there's no significant difference in average deviant T score differences across groups. all groups are\n",
    "equally effective.\n",
    "HA: there's significant difference in average deviant T score differences in at least across two groups groups. some groups \n",
    "is more effective than others.\n",
    "b) because the p-value of 0.0461 is lower than .05 significance level, we reject the H0 and conclude,\n",
    "in at least some of the groups there are significant differences in average deviant T score differences. some groups are more \n",
    "effective than others.\n",
    "''')\n",
    "# PAIRWISE t-TESTS.\n",
    "means = [6.21,2.86,-3.21]\n",
    "s_p = 9.793\n",
    "ns = [14,14,14]\n",
    "\n",
    "# 1 to 2\n",
    "xbar = means[0] - means[1]\n",
    "se = np.sqrt((s_p**2 / ns[0]) + (s_p**2 / ns[1]))\n",
    "df_p = 39\n",
    "K = (3*(3-1))/2\n",
    "sl = .05 / K\n",
    "t = xbar/se\n",
    "two_t = [t,t*(-1)] # t-scores for right and left tail\n",
    "p1t = stats.t.cdf(x=min(two_t), df=df_p) # one tail probability -left tail-\n",
    "p = stats.t.cdf(x=min(two_t), df=df_p) * 2 # two tailed p-value of corresponding t-score\n",
    "print(f'''Pairwise t-test between treatment 1 and 2:\n",
    "since p = {p:.4f} bigger than our corrected significance level of {sl:.4f}, we fail to reject the null hypothesis and conclude,\n",
    "the data does not provide strong evidence of a difference between the effectiveness of treatment 1 and 2.\n",
    "''')\n",
    "\n",
    "# 1 to 3\n",
    "xbar = means[0] - means[2]\n",
    "se = np.sqrt((s_p**2 / ns[0]) + (s_p**2 / ns[2]))\n",
    "df_p = 39\n",
    "K = (3*(3-1))/2\n",
    "sl = .05 / K\n",
    "t = xbar/se\n",
    "two_t = [t,t*(-1)] # t-scores for right and left tail\n",
    "p1t = stats.t.cdf(x=min(two_t), df=df_p) # one tail probability -left tail-\n",
    "p = stats.t.cdf(x=min(two_t), df=df_p) * 2 # two tailed p-value of corresponding t-score\n",
    "print(f'''Pairwise t-test between treatment 1 and 3:\n",
    "since p = {p:.4f} smaller than our corrected significance level of {sl:.4f}, we reject the null hypothesis and conclude,\n",
    "there is a statistically significant difference between the effectiveness of treatment 1 and 3. \n",
    "''')\n",
    "\n",
    "# 2 to 3\n",
    "xbar = means[1] - means[2]\n",
    "se = np.sqrt((s_p**2 / ns[1]) + (s_p**2 / ns[2]))\n",
    "df_p = 39\n",
    "K = (3*(3-1))/2\n",
    "sl = .05 / K\n",
    "t = xbar/se\n",
    "two_t = [t,t*(-1)] # t-scores for right and left tail\n",
    "p1t = stats.t.cdf(x=min(two_t), df=df_p) # one tail probability -left tail-\n",
    "p = stats.t.cdf(x=min(two_t), df=df_p) * 2 # two tailed p-value of corresponding t-score\n",
    "print(f'''Pairwise t-test between treatment 2 and 3:\n",
    "since p = {p:.4f} bigger than our corrected significance level of {sl:.4f}, we fail to reject the null hypothesis and conclude,\n",
    "the data does not provide strong evidence of a difference between the effectiveness of treatment 2 and 3.''')"
   ]
  },
  {
   "cell_type": "code",
   "execution_count": 7,
   "metadata": {},
   "outputs": [
    {
     "name": "stdout",
     "output_type": "stream",
     "text": [
      "a) false, we can't. because, ANOVA checks all groups simultaneously and detects if there are differences at least \n",
      "somewhere in the data. but that doesn't mean all of the groups are different from one another.\n",
      "b) true.\n",
      "c) false. might not. maybe there's a difference that we can't detect with pairwise tests.\n",
      "d) false. K should be (4*(4-1))/2 = 6. corrected significance =  alpha / K = .05 / 6 = 0.0083\n"
     ]
    }
   ],
   "source": [
    "'''7.46 True / False: ANOVA, Part II. Determine if the following statements are true or false, and explain\n",
    "your reasoning for statements you identify as false.\n",
    "If the null hypothesis that the means of four groups are all the same is rejected using ANOVA at a 5%\n",
    "significance level, then ...\n",
    "(a) we can then conclude that all the means are different from one another.\n",
    "(b) the standardized variability between groups is higher than the standardized variability within groups.\n",
    "(c) the pairwise analysis will identify at least one pair of means that are significantly different.\n",
    "(d) the appropriate significance to be used in pairwise comparisons is 0.05 / 4 = 0.0125 since there are four groups.'''\n",
    "print('''a) false, we can't. because, ANOVA checks all groups simultaneously and detects if there are differences at least \n",
    "somewhere in the data. but that doesn't mean all of the groups are different from one another.\n",
    "b) true.\n",
    "c) false. might not. maybe there's a difference that we can't detect with pairwise tests.\n",
    "d) false. K should be (4*(4-1))/2 = 6. corrected significance =  alpha / K = .05 / 6 = 0.0083''')"
   ]
  },
  {
   "cell_type": "code",
   "execution_count": null,
   "metadata": {
    "collapsed": true
   },
   "outputs": [],
   "source": []
  }
 ],
 "metadata": {
  "kernelspec": {
   "display_name": "Python 3",
   "language": "python",
   "name": "python3"
  },
  "language_info": {
   "codemirror_mode": {
    "name": "ipython",
    "version": 3
   },
   "file_extension": ".py",
   "mimetype": "text/x-python",
   "name": "python",
   "nbconvert_exporter": "python",
   "pygments_lexer": "ipython3",
   "version": "3.6.1"
  },
  "vscode": {
   "interpreter": {
    "hash": "1cca9558bc5ad879ec93cc030b157d75f18267527c60932cecaace349eef54dd"
   }
  }
 },
 "nbformat": 4,
 "nbformat_minor": 2
}
