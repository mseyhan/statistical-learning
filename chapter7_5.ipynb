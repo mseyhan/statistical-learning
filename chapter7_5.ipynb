{
 "cells": [
  {
   "cell_type": "code",
   "execution_count": 17,
   "metadata": {
    "collapsed": true
   },
   "outputs": [],
   "source": [
    "import pandas as pd\n",
    "import numpy as np\n",
    "import random\n",
    "import scipy.stats\n",
    "import math\n",
    "import seaborn as sns\n",
    "from matplotlib import pyplot as plt\n",
    "from random import sample\n",
    "from scipy.stats import chisquare\n",
    "from scipy.stats import geom\n",
    "from scipy.stats import t\n",
    "from scipy import stats\n",
    "z90 = 1.645\n",
    "z95 = 1.96\n",
    "z99 = 2.576\n",
    "%matplotlib inline"
   ]
  },
  {
   "cell_type": "code",
   "execution_count": 18,
   "metadata": {},
   "outputs": [
    {
     "name": "stdout",
     "output_type": "stream",
     "text": [
      "H0: the average score is identical in all lectures. Any observed difference is due to chance. u_1 = u_2 = u_3\n",
      "HA: \n",
      "\n"
     ]
    }
   ],
   "source": [
    "# example 7.40\n",
    "print('''H0: the average score is identical in all lectures. Any observed difference is due to chance. u_1 = u_2 = u_3\n",
    "HA: \n",
    "''')"
   ]
  },
  {
   "cell_type": "code",
   "execution_count": 19,
   "metadata": {
    "scrolled": false
   },
   "outputs": [
    {
     "name": "stdout",
     "output_type": "stream",
     "text": [
      "      count      mean       std\n",
      "pos1                           \n",
      "C      64.0  0.301938  0.038171\n",
      "IF    205.0  0.318385  0.037931\n",
      "OF    160.0  0.319819  0.042607\n",
      "H0: the average on-base percentage does not vary across player positions. u_c = u_of = u_if\n",
      "HA: the average on-base percentage varies across at least between some player positions.\n",
      "\n",
      "independence: if it's a simple random sample of players, independence condition satisfies.\n",
      "normality: since the data has too many observations, we'll only look for the extreme outliers, there are no extreme outliers.\n",
      "the data spread normal.\n",
      "variability: variability in data don't look quite identical but it looks similar\n",
      "\n"
     ]
    },
    {
     "data": {
      "image/png": "[encoded data removed]",
      "text/plain": [
       "<Figure size 720x720 with 1 Axes>"
      ]
     },
     "metadata": {
      "needs_background": "light"
     },
     "output_type": "display_data"
    }
   ],
   "source": [
    "# guided practice 7.42, example 7.43, 7.44\n",
    "bat18 = pd.read_csv(\"data/bat18.csv\", na_values = \"null\")\n",
    "#print(bat18.info())\n",
    "bat = bat18[ ~((bat18[\"position\"]==\"P\") | (bat18[\"position\"]==\"DH\")) & (bat18[\"AB\"] >= 100)][[\"name\",\"team\",\"position\",\"AB\",\"H\",\"HR\",\"RBI\",\"AVG\",\"OBP\"]]\n",
    "c = [\"C\"]\n",
    "of = ['RF', 'LF', 'CF']\n",
    "bat[\"pos1\"] = bat[\"position\"].apply(lambda x: \"C\" if x in c else \"OF\" if x in of else \"IF\")\n",
    "fig = plt.figure(figsize=(10,10))\n",
    "ax = fig.add_subplot(1,1,1)\n",
    "sns.boxplot(data=bat, x=\"pos1\", y=\"OBP\", ax=ax)\n",
    "print(bat.groupby(\"pos1\")[\"OBP\"].describe()[[\"count\",\"mean\",\"std\"]])\n",
    "print('''H0: the average on-base percentage does not vary across player positions. u_c = u_of = u_if\n",
    "HA: the average on-base percentage varies across at least between some player positions.\n",
    "\n",
    "independence: if it's a simple random sample of players, independence condition satisfies.\n",
    "normality: since the data has too many observations, we'll only look for the extreme outliers, there are no extreme outliers.\n",
    "the data spread normal.\n",
    "variability: variability in data don't look quite identical but it looks similar\n",
    "''')"
   ]
  },
  {
   "cell_type": "code",
   "execution_count": 20,
   "metadata": {},
   "outputs": [
    {
     "name": "stdout",
     "output_type": "stream",
     "text": [
      "When doing an ANOVA, you observe large differences in means between groups.\n",
      "Within the ANOVA framework, this would most likely be interpreted as evidence strongly favoring the alternative\n",
      "hypothesis.\n"
     ]
    }
   ],
   "source": [
    "'''7.35 Fill in the blank. When doing an ANOVA, you observe large differences in means between groups.\n",
    "Within the ANOVA framework, this would most likely be interpreted as evidence strongly favoring the\n",
    "hypothesis.'''\n",
    "print('''When doing an ANOVA, you observe large differences in means between groups.\n",
    "Within the ANOVA framework, this would most likely be interpreted as evidence strongly favoring the alternative\n",
    "hypothesis.''')"
   ]
  },
  {
   "cell_type": "code",
   "execution_count": 21,
   "metadata": {},
   "outputs": [
    {
     "name": "stdout",
     "output_type": "stream",
     "text": [
      "ANOVA, because we're testing whether there are differences in multiple groups, we should use ANOVA\n",
      "to test this problem\n"
     ]
    }
   ],
   "source": [
    "'''7.36 Which test? We would like to test if students who are in the social sciences, natural sciences, arts\n",
    "and humanities, and other fields spend the same amount of time studying for this course. What type of test\n",
    "should we use? Explain your reasoning.'''\n",
    "print('''ANOVA, because we're testing whether there are differences in multiple groups, we should use ANOVA\n",
    "to test this problem''')"
   ]
  },
  {
   "cell_type": "code",
   "execution_count": 22,
   "metadata": {},
   "outputs": [
    {
     "name": "stdout",
     "output_type": "stream",
     "text": [
      "PREPARE. \n",
      "As given in the ANOVA summary table in the example, we should use ANOVA test for this problem. \n",
      "H0: every type of feed's effect in average is the same. u_1 = u_2 = ... = u_n\n",
      "HA: at least one type of feed's effect in average is different.\n",
      "\n",
      "CHECK. there are three conditions to check for ANOVA:\n",
      "independence: it's a simple random sample, so independence condition satisfies.\n",
      "normality: for sunflower, there are some extreme outliers in the data. not every group seems normally distributed.\n",
      "variance: the variance in groups are not close.\n",
      "in these conditions, it's not suitable to conduct a hypothesis test using ANOVA for that dataset.\n",
      "Taking a look at the given side-by-side bar plots,\n",
      "\n",
      "CALCULATE.\n",
      "already done in the example.\n",
      "\n",
      "CONCLUDE.\n",
      "p value of corresponding f-score is almost 0, so we reject the null hypothesis and conclude,\n",
      "there's strong evidence in the data that suggests at least some types of chick feed performs different than others.\n"
     ]
    }
   ],
   "source": [
    "'''7.37 Chicken diet and weight, Part III. In Exercises 7.27 and 7.29 we compared the effects of two types\n",
    "of feed at a time. A better analysis would first consider all feed types at once: casein, horsebean, linseed,\n",
    "meat meal, soybean, and sunflower. The ANOVA output below can be used to test for differences between\n",
    "the average weights of chicks on different diets.\n",
    "\n",
    "Conduct a hypothesis test to determine if these data provide convincing evidence that the average weight\n",
    "of chicks varies across some (or all) groups. Make sure to check relevant conditions. Figures and summary\n",
    "statistics are shown below.\n",
    "'''\n",
    "print('''PREPARE. \n",
    "As given in the ANOVA summary table in the example, we should use ANOVA test for this problem. \n",
    "H0: every type of feed's effect in average is the same. u_1 = u_2 = ... = u_n\n",
    "HA: at least one type of feed's effect in average is different.\n",
    "\n",
    "CHECK. there are three conditions to check for ANOVA:\n",
    "independence: it's a simple random sample, so independence condition satisfies.\n",
    "normality: for sunflower, there are some extreme outliers in the data. not every group seems normally distributed.\n",
    "variance: the variance in groups are not close.\n",
    "in these conditions, it's not suitable to conduct a hypothesis test using ANOVA for that dataset.\n",
    "Taking a look at the given side-by-side bar plots,\n",
    "\n",
    "CALCULATE.\n",
    "already done in the example.\n",
    "\n",
    "CONCLUDE.\n",
    "p value of corresponding f-score is almost 0, so we reject the null hypothesis and conclude,\n",
    "there's strong evidence in the data that suggests at least some types of chick feed performs different than others.''')"
   ]
  },
  {
   "cell_type": "code",
   "execution_count": 23,
   "metadata": {},
   "outputs": [
    {
     "name": "stdout",
     "output_type": "stream",
     "text": [
      "a) H0: average test scores of 5 different method groups are the same.\n",
      "HA: at least one of the 5 different method groups' average test scores are the different than others.\n",
      "b) 5-1 = 4 degrees of freedom associated with the F-test\n",
      "C) at least one of the means are different.\n"
     ]
    }
   ],
   "source": [
    "'''7.38 Teaching descriptive statistics. A study compared five different methods for teaching descriptive\n",
    "statistics. The five methods were traditional lecture and discussion, programmed textbook instruction,\n",
    "programmed text with lectures, computer instruction, and computer instruction with lectures. 45 students\n",
    "were randomly assigned, 9 to each method. After completing the course, students took a 1-hour exam.\n",
    "(a) What are the hypotheses for evaluating if the average test scores are different for the different teaching\n",
    "methods?\n",
    "(b) What are the degrees of freedom associated with the F-test for evaluating these hypotheses?\n",
    "(c) Suppose the p-value for this test is 0.0168. What is the conclusion?'''\n",
    "print('''a) H0: average test scores of 5 different method groups are the same.\n",
    "HA: at least one of the 5 different method groups' average test scores are the different than others.\n",
    "b) 5-1 = 4 degrees of freedom associated with the F-test\n",
    "C) at least one of the means are different.''')"
   ]
  },
  {
   "cell_type": "code",
   "execution_count": 24,
   "metadata": {},
   "outputs": [
    {
     "name": "stdout",
     "output_type": "stream",
     "text": [
      "a) H0: tthe population mean of MET for each group is equal to the others.\n",
      "HA: At least one pair of means is different.\n",
      "b) independence: if it's a simple random sample, the condition satisfies.\n",
      "normality: we should see some diferent visualizations to conclude whether this condition satisfies or not.\n",
      "but, there are enough data in every group. so if there are no extreme outliers in the data, this seems okay.\n",
      "variance: the variances are fairly equal. condition satisfied.\n"
     ]
    }
   ],
   "source": [
    "'''7.39 Coffee, depression, and physical activity. Caffeine is the world's most widely used stimulant, with\n",
    "approximately 80% consumed in the form of coffee. Participants in a study investigating the relationship\n",
    "between coffee consumption and exercise were asked to report the number of hours they spent per week on\n",
    "moderate (e.g., brisk walking) and vigorous (e.g., strenuous sports and jogging) exercise. Based on these\n",
    "data the researchers estimated the total hours of metabolic equivalent tasks (MET) per week, a value always\n",
    "greater than 0. The table below gives summary statistics of MET for women in this study based on the\n",
    "amount of coffee consumed.\n",
    "\n",
    "(a) Write the hypotheses for evaluating if the average physical activity level varies among the different levels\n",
    "of coffee consumption.\n",
    "(b) Check conditions and describe any assumptions you must make to proceed with the test.\n",
    "(c) Below is part of the output associated with this test. Fill in the empty cells.\n",
    "(d) What is the conclusion of the test?'''\n",
    "\n",
    "print('''a) H0: tthe population mean of MET for each group is equal to the others.\n",
    "HA: At least one pair of means is different.\n",
    "b) independence: if it's a simple random sample, the condition satisfies.\n",
    "normality: we should see some diferent visualizations to conclude whether this condition satisfies or not.\n",
    "but, there are enough data in every group. so if there are no extreme outliers in the data, this seems okay.\n",
    "variance: the variances are fairly equal. condition satisfied.''')"
   ]
  },
  {
   "cell_type": "code",
   "execution_count": 25,
   "metadata": {},
   "outputs": [
    {
     "name": "stdout",
     "output_type": "stream",
     "text": [
      "PREPARE.\n",
      "H0: average student performance is the same in each discussion section u_1 = u_2 = ... = u_n\n",
      "HA: average student performance in at least one group is different than others.\n",
      "\n",
      "CHECK.\n",
      "independence: we don't know about if it's a random assignment. if not, we can't proceed to ANOVA.\n",
      "normality: in some groups, there are enough samples (students) but in some of them there aren't. for them,\n",
      "we need to know about the mins and maximums to better assess if the condition satisfies.\n",
      "constant variance: the variance doesn't look equal. the condition does not satisfy.\n",
      "\n",
      "CALCULATE.\n",
      "already given in the example.\n",
      "\n",
      "CONCLUDE.\n",
      "since p-value is over significance level of .05, we fail to reject the null hypothesis and conclude\n",
      "the data does not provide sufficient evidence to believe there's a difference in those groups other than chance.\n"
     ]
    }
   ],
   "source": [
    "'''7.40 Student performance across discussion sections. A professor who teaches a large introductory\n",
    "statistics class (197 students) with eight discussion sections would like to test if student performance differs\n",
    "by discussion section, where each discussion section has a different teaching assistant. The summary table\n",
    "below shows the average final exam score for each discussion section as well as the standard deviation of\n",
    "scores and the number of students in each section.\n",
    "The ANOVA output below can be used to test for differences between the average scores from the different\n",
    "discussion sections.\n",
    "Conduct a hypothesis test to determine if these data provide convincing evidence that the average score varies\n",
    "across some (or all) groups. Check conditions and describe any assumptions you must make to proceed with\n",
    "the test.'''\n",
    "print('''PREPARE.\n",
    "H0: average student performance is the same in each discussion section u_1 = u_2 = ... = u_n\n",
    "HA: average student performance in at least one group is different than others.\n",
    "\n",
    "CHECK.\n",
    "independence: we don't know about if it's a random assignment. if not, we can't proceed to ANOVA.\n",
    "normality: in some groups, there are enough samples (students) but in some of them there aren't. for them,\n",
    "we need to know about the mins and maximums to better assess if the condition satisfies.\n",
    "constant variance: the variance doesn't look equal. the condition does not satisfy.\n",
    "\n",
    "CALCULATE.\n",
    "already given in the example.\n",
    "\n",
    "CONCLUDE.\n",
    "since p-value is over significance level of .05, we fail to reject the null hypothesis and conclude\n",
    "the data does not provide sufficient evidence to believe there's a difference in those groups other than chance.''')"
   ]
  },
  {
   "cell_type": "code",
   "execution_count": 26,
   "metadata": {},
   "outputs": [
    {
     "name": "stdout",
     "output_type": "stream",
     "text": [
      "a) PREPARE.\n",
      "H0: there are no difference in average GPAs across majors. u_1 = u_2 = u_3\n",
      "HA: at least one major's average GPA differ from others significantly other than chance alone.\n",
      "\n",
      "CHECK.\n",
      "independence: we don't know about if it's a random assignment. if not, we can't proceed to ANOVA.\n",
      "normality: looking at the side-by-side box plot, the distribution of the GPAs look quite similar and normal.\n",
      "constant variance: the variance look equal. the condition satisfies.\n",
      "\n",
      "CALCULATE.\n",
      "already given in the example.\n",
      "\n",
      "b) CONCLUDE.\n",
      "since p-value is over significance level of .05, we fail to reject the null hypothesis and conclude\n",
      "the data does not provide convinving evidence to believe there's a difference between the average\n",
      "GPAs across those majors.\n",
      "c) 198 is the sample size.\n"
     ]
    }
   ],
   "source": [
    "'''7.41 GPA and major. Undergraduate students taking an introductory statistics course at Duke University\n",
    "conducted a survey about GPA and major. The side-by-side box plots show the distribution of GPA among\n",
    "three groups of majors. Also provided is the ANOVA output.\n",
    "(a) Write the hypotheses for testing for a difference between average GPA across majors.\n",
    "(b) What is the conclusion of the hypothesis test?\n",
    "(c) How many students answered these questions on the survey, i.e. what is the sample size?'''\n",
    "print('''a) PREPARE.\n",
    "H0: there are no difference in average GPAs across majors. u_1 = u_2 = u_3\n",
    "HA: at least one major's average GPA differ from others significantly other than chance alone.\n",
    "\n",
    "CHECK.\n",
    "independence: we don't know about if it's a random assignment. if not, we can't proceed to ANOVA.\n",
    "normality: looking at the side-by-side box plot, the distribution of the GPAs look quite similar and normal.\n",
    "constant variance: the variance look equal. the condition satisfies.\n",
    "\n",
    "CALCULATE.\n",
    "already given in the example.\n",
    "\n",
    "b) CONCLUDE.\n",
    "since p-value is over significance level of .05, we fail to reject the null hypothesis and conclude\n",
    "the data does not provide convinving evidence to believe there's a difference between the average\n",
    "GPAs across those majors.\n",
    "c) 198 is the sample size.''')"
   ]
  },
  {
   "cell_type": "code",
   "execution_count": 27,
   "metadata": {},
   "outputs": [
    {
     "data": {
      "text/plain": [
       "'7.42 Work hours and education. The General Social Survey collects data on demographics, education,\\nand work, among many other characteristics of US residents. Using ANOVA, we can consider educa-\\ntional attainment levels for all 1,172 respondents at once. Below are the distributions of hours worked by\\neducational attainment and relevant summary statistics that will be helpful in carrying out this analysis.\\n\\n(a) Write hypotheses for evaluating whether the average number of hours worked varies across the five groups.\\n(b) Check conditions and describe any assumptions you must make to proceed with the test.\\n(c) Below is part of the output associated with this test. Fill in the empty cells.\\n(d) What is the conclusion of the test?\\n'"
      ]
     },
     "execution_count": 27,
     "metadata": {},
     "output_type": "execute_result"
    }
   ],
   "source": [
    "'''7.42 Work hours and education. The General Social Survey collects data on demographics, education,\n",
    "and work, among many other characteristics of US residents. Using ANOVA, we can consider educa-\n",
    "tional attainment levels for all 1,172 respondents at once. Below are the distributions of hours worked by\n",
    "educational attainment and relevant summary statistics that will be helpful in carrying out this analysis.\n",
    "\n",
    "(a) Write hypotheses for evaluating whether the average number of hours worked varies across the five groups.\n",
    "(b) Check conditions and describe any assumptions you must make to proceed with the test.\n",
    "(c) Below is part of the output associated with this test. Fill in the empty cells.\n",
    "(d) What is the conclusion of the test?\n",
    "'''"
   ]
  },
  {
   "cell_type": "code",
   "execution_count": 28,
   "metadata": {},
   "outputs": [
    {
     "data": {
      "text/plain": [
       "'7.43 True / False: ANOVA, Part I. Determine if the following statements are true or false in ANOVA, and\\nexplain your reasoning for statements you identify as false.\\n(a) As the number of groups increases, the modified significance level for pairwise tests increases as well.\\n(b) As the total sample size increases, the degrees of freedom for the residuals increases as well.\\n(c) The constant variance condition can be somewhat relaxed when the sample sizes are relatively consistent\\nacross groups.\\n(d) The independence assumption can be relaxed when the total sample size is large.'"
      ]
     },
     "execution_count": 28,
     "metadata": {},
     "output_type": "execute_result"
    }
   ],
   "source": [
    "'''7.43 True / False: ANOVA, Part I. Determine if the following statements are true or false in ANOVA, and\n",
    "explain your reasoning for statements you identify as false.\n",
    "(a) As the number of groups increases, the modified significance level for pairwise tests increases as well.\n",
    "(b) As the total sample size increases, the degrees of freedom for the residuals increases as well.\n",
    "(c) The constant variance condition can be somewhat relaxed when the sample sizes are relatively consistent\n",
    "across groups.\n",
    "(d) The independence assumption can be relaxed when the total sample size is large.'''"
   ]
  },
  {
   "cell_type": "code",
   "execution_count": 29,
   "metadata": {},
   "outputs": [
    {
     "data": {
      "text/plain": [
       "'7.44 Child care hours. The China Health and Nutrition Survey aims to examine the e\\x0b\\nects of the health,\\nnutrition, and family planning policies and programs implemented by national and local governments.38 It,\\nfor example, collects information on number of hours Chinese parents spend taking care of their children\\nunder age 6. The side-by-side box plots below show the distribution of this variable by educational attainment\\nof the parent. Also provided below is the ANOVA output for comparing average hours across educational\\nattainment categories.\\nChild care hours\\nPrimary school Lower middle school Upper middle school Technical or vocational College\\n0\\n50\\n100\\n150\\nDf Sum Sq Mean Sq F value Pr(>F)\\neducation 4 4142.09 1035.52 1.26 0.2846\\nResiduals 794 653047.83 822.48\\n(a) Write the hypotheses for testing for a di\\x0b\\nerence between the average number of hours spent on child\\ncare across educational attainment levels.\\n(b) What is the conclusion of the hypothesis test?'"
      ]
     },
     "execution_count": 29,
     "metadata": {},
     "output_type": "execute_result"
    }
   ],
   "source": [
    "'''7.44 Child care hours. The China Health and Nutrition Survey aims to examine the e\u000b\n",
    "ects of the health,\n",
    "nutrition, and family planning policies and programs implemented by national and local governments.38 It,\n",
    "for example, collects information on number of hours Chinese parents spend taking care of their children\n",
    "under age 6. The side-by-side box plots below show the distribution of this variable by educational attainment\n",
    "of the parent. Also provided below is the ANOVA output for comparing average hours across educational\n",
    "attainment categories.\n",
    "Child care hours\n",
    "Primary school Lower middle school Upper middle school Technical or vocational College\n",
    "0\n",
    "50\n",
    "100\n",
    "150\n",
    "Df Sum Sq Mean Sq F value Pr(>F)\n",
    "education 4 4142.09 1035.52 1.26 0.2846\n",
    "Residuals 794 653047.83 822.48\n",
    "(a) Write the hypotheses for testing for a di\u000b\n",
    "erence between the average number of hours spent on child\n",
    "care across educational attainment levels.\n",
    "(b) What is the conclusion of the hypothesis test?'''"
   ]
  },
  {
   "cell_type": "code",
   "execution_count": 30,
   "metadata": {},
   "outputs": [
    {
     "data": {
      "text/plain": [
       "\"7.45 Prison isolation experiment, Part II. Exercise 7.31 introduced an experiment that was conducted\\nwith the goal of identifying a treatment that reduces subjects' psychopathic deviant T scores, where this\\nscore measures a person's need for control or his rebellion against control. In Exercise 7.31 you evaluated the\\nsuccess of each treatment individually. An alternative analysis involves comparing the success of treatments.\\nThe relevant ANOVA output is given below.\\nDf Sum Sq Mean Sq F value Pr(>F)\\ntreatment 2 639.48 319.74 3.33 0.0461\\nResiduals 39 3740.43 95.91\\nspooled = 9:793 on df = 39\\n(a) What are the hypotheses?\\n(b) What is the conclusion of the test? Use a 5% signi\\x0c\\ncance level.\\n(c) If in part (b) you determined that the test is signi\\x0c\\ncant, conduct pairwise tests to determine which\\ngroups are di\\x0b\\nerent from each other. If you did not reject the null hypothesis in part (b), recheck your\\nanswer. Summary statistics for each group are provided below\\nTr 1 Tr 2 Tr 3\\nMean 6.21 2.86 -3.21\\nSD 12.3 7.94 8.57\\nn 14 14 14\""
      ]
     },
     "execution_count": 30,
     "metadata": {},
     "output_type": "execute_result"
    }
   ],
   "source": [
    "'''7.45 Prison isolation experiment, Part II. Exercise 7.31 introduced an experiment that was conducted\n",
    "with the goal of identifying a treatment that reduces subjects' psychopathic deviant T scores, where this\n",
    "score measures a person's need for control or his rebellion against control. In Exercise 7.31 you evaluated the\n",
    "success of each treatment individually. An alternative analysis involves comparing the success of treatments.\n",
    "The relevant ANOVA output is given below.\n",
    "Df Sum Sq Mean Sq F value Pr(>F)\n",
    "treatment 2 639.48 319.74 3.33 0.0461\n",
    "Residuals 39 3740.43 95.91\n",
    "spooled = 9:793 on df = 39\n",
    "(a) What are the hypotheses?\n",
    "(b) What is the conclusion of the test? Use a 5% signi\f\n",
    "cance level.\n",
    "(c) If in part (b) you determined that the test is signi\f\n",
    "cant, conduct pairwise tests to determine which\n",
    "groups are di\u000b\n",
    "erent from each other. If you did not reject the null hypothesis in part (b), recheck your\n",
    "answer. Summary statistics for each group are provided below\n",
    "Tr 1 Tr 2 Tr 3\n",
    "Mean 6.21 2.86 -3.21\n",
    "SD 12.3 7.94 8.57\n",
    "n 14 14 14'''"
   ]
  },
  {
   "cell_type": "code",
   "execution_count": 31,
   "metadata": {},
   "outputs": [
    {
     "data": {
      "text/plain": [
       "'7.46 True / False: ANOVA, Part II. Determine if the following statements are true or false, and explain\\nyour reasoning for statements you identify as false.\\nIf the null hypothesis that the means of four groups are all the same is rejected using ANOVA at a 5%\\nsigni\\x0c\\ncance level, then ...\\n(a) we can then conclude that all the means are di\\x0b\\nerent from one another.\\n(b) the standardized variability between groups is higher than the standardized variability within groups.\\n(c) the pairwise analysis will identify at least one pair of means that are signi\\x0c\\ncantly di\\x0b\\nerent.\\n(d) the appropriate \\x0b\\n to be used in pairwise comparisons is 0.05 / 4 = 0.0125 since there are four groups.'"
      ]
     },
     "execution_count": 31,
     "metadata": {},
     "output_type": "execute_result"
    }
   ],
   "source": [
    "'''7.46 True / False: ANOVA, Part II. Determine if the following statements are true or false, and explain\n",
    "your reasoning for statements you identify as false.\n",
    "If the null hypothesis that the means of four groups are all the same is rejected using ANOVA at a 5%\n",
    "signi\f\n",
    "cance level, then ...\n",
    "(a) we can then conclude that all the means are di\u000b\n",
    "erent from one another.\n",
    "(b) the standardized variability between groups is higher than the standardized variability within groups.\n",
    "(c) the pairwise analysis will identify at least one pair of means that are signi\f\n",
    "cantly di\u000b\n",
    "erent.\n",
    "(d) the appropriate \u000b\n",
    " to be used in pairwise comparisons is 0.05 / 4 = 0.0125 since there are four groups.'''"
   ]
  },
  {
   "cell_type": "code",
   "execution_count": null,
   "metadata": {
    "collapsed": true
   },
   "outputs": [],
   "source": []
  }
 ],
 "metadata": {
  "kernelspec": {
   "display_name": "Python 3.7.13",
   "language": "python",
   "name": "python3"
  },
  "language_info": {
   "codemirror_mode": {
    "name": "ipython",
    "version": 3
   },
   "file_extension": ".py",
   "mimetype": "text/x-python",
   "name": "python",
   "nbconvert_exporter": "python",
   "pygments_lexer": "ipython3",
   "version": "3.7.13"
  },
  "vscode": {
   "interpreter": {
    "hash": "1cca9558bc5ad879ec93cc030b157d75f18267527c60932cecaace349eef54dd"
   }
  }
 },
 "nbformat": 4,
 "nbformat_minor": 2
}
