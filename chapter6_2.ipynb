{
 "cells": [
  {
   "cell_type": "code",
   "execution_count": 2,
   "metadata": {
    "collapsed": true
   },
   "outputs": [],
   "source": [
    "import pandas as pd\n",
    "import numpy as np\n",
    "import random\n",
    "import scipy.stats\n",
    "import math\n",
    "from matplotlib import pyplot as plt\n",
    "from random import sample\n",
    "z90 = 1.645\n",
    "z95 = 1.96\n",
    "z99 = 2.576"
   ]
  },
  {
   "cell_type": "code",
   "execution_count": 98,
   "metadata": {},
   "outputs": [
    {
     "name": "stdout",
     "output_type": "stream",
     "text": [
      "Result     died  survived  All\n",
      "Group                         \n",
      "control      39        11   50\n",
      "treatment    26        14   40\n",
      "All          65        25   90\n",
      "\n",
      "checking independence. this is a randomized experiment, the condition is satisfied.\n",
      "s/f condition: each experiment arm has at least 10 successes and failures. satisfied.\n",
      "sample proportions can be modeled as normal distribution.\n",
      "creating 90% confidence interval:\n",
      "SE = 0.09549607321769832\n",
      "z* = 1.645 , margin of error: z* x SE = 0.15709104044311373\n",
      "confidence interval: (phat - z* x SE , phat + z* x SE) = (-0.027,0.287)\n",
      "we're 90% confident that the blood thinners have a difference of -0.027 to 0.287 percentage point impact on survival rate.\n",
      "because the confidence interval contains the 0%, we can conclude we don't have enough information to state there's a \n",
      "statistically significant difference whether using blood thinners or not for a CPR.\n",
      "\n"
     ]
    }
   ],
   "source": [
    "# example 6.11: generating the contingency table in the example \n",
    "group = np.array([\"control\",\"treatment\"])\n",
    "group = np.repeat(group, [50,40],axis=0)\n",
    "result = np.array([\"survived\",\"died\",\"survived\",\"died\"])\n",
    "result = np.repeat(result,[11,39,14,26],axis=0)\n",
    "df = pd.DataFrame ({'Group':group,'Result':result})\n",
    "group = df[\"Group\"]\n",
    "result = df[\"Result\"]\n",
    "ct = pd.crosstab(group,result,margins=True,normalize=False)\n",
    "ct_n = pd.crosstab(group,result,margins=True,normalize='index')\n",
    "print(ct)\n",
    "print('''\n",
    "checking independence. this is a randomized experiment, the condition is satisfied.\n",
    "s/f condition: each experiment arm has at least 10 successes and failures. satisfied.\n",
    "sample proportions can be modeled as normal distribution.\n",
    "creating 90% confidence interval:''')\n",
    "phat_1 = ct_n[\"survived\"][\"control\"] # survive rate of the control group\n",
    "minus_phat1 = 1 - phat_1\n",
    "n1 = ct[\"All\"][\"control\"] # sample size of the control group\n",
    "phat_2 = ct_n[\"survived\"][\"treatment\"] # survive rate of the treatment group.\n",
    "minus_phat2 = 1 - phat_2\n",
    "n2 = ct[\"All\"][\"treatment\"] # sample size of the treatment group\n",
    "# we want the difference between two groups, there are two point estimates and we'll use their differences as last point estimate.\n",
    "phat =  phat_2 - phat_1\n",
    "\n",
    "z = z90 # for the 90% confidence level.\n",
    "se = np.sqrt( (phat_1*minus_phat1 / n1) + (phat_2 *minus_phat2 / n2) )\n",
    "me = z * se\n",
    "lo = phat - me\n",
    "hi = phat + me\n",
    "print('''SE = {se}\n",
    "z* = {z} , margin of error: z* x SE = {me}\n",
    "confidence interval: (phat - z* x SE , phat + z* x SE) = ({lo},{hi})\n",
    "we're 90% confident that the blood thinners have a difference of {lo} to {hi} percentage point impact on survival rate.\n",
    "because the confidence interval contains the 0%, we can conclude we don't have enough information to state there's a \n",
    "statistically significant difference whether using blood thinners or not for a CPR.\n",
    "'''.format(z=z,se = se, me = me, lo=format(lo, '.3f'), hi=format(hi, '.3f')))\n"
   ]
  },
  {
   "cell_type": "code",
   "execution_count": 130,
   "metadata": {},
   "outputs": [
    {
     "name": "stdout",
     "output_type": "stream",
     "text": [
      "Outcome   heart attack  no event    All\n",
      "Group                                  \n",
      "fish oil           145     12788  12933\n",
      "placebo            200     12738  12938\n",
      "All                345     25526  25871\n",
      "\n",
      "checking independence. this is a randomized experiment, the condition is satisfied.\n",
      "s/f condition: each experiment arm has at least 10 successes and failures. satisfied.\n",
      "sample proportions can be modeled as normal distribution.\n",
      "\n",
      "creating 95% confidence interval:\n",
      "SE = 0.0014260130479947562\n",
      "z* = 1.96 , margin of error: z* x SE = 0.002794985574069722\n",
      "confidence interval: (phat - z* x SE , phat + z* x SE) = (-0.0070,-0.0015)\n",
      "we're 95% confident that fish oil decrease heart attack rate from -0.0070 to -0.0015.\n",
      "because the confidence interval doesn't contain the 0%, we can conclude there's a statistically significant evidence that \n",
      "fish oil decreass heart attacks.\n"
     ]
    }
   ],
   "source": [
    "# guided practice 6.11: generating the contingency table in the example\n",
    "# for 2x2 matrices\n",
    "group_t = 'fish oil'\n",
    "group_c = 'placebo'\n",
    "outcome_s = 'heart attack'\n",
    "outcome_f = 'no event'\n",
    "group = np.array([group_t,group_c])\n",
    "group = np.repeat(group, [12933,12938],axis=0)\n",
    "outcome = np.array([outcome_s,outcome_f,outcome_s,outcome_f])\n",
    "outcome = np.repeat(outcome,[145,12788,200,12738],axis=0)\n",
    "df = pd.DataFrame ({'Group':group,'Outcome':outcome})\n",
    "group = df[\"Group\"]\n",
    "outcome = df[\"Outcome\"]\n",
    "ct = pd.crosstab(group,outcome,margins=True,normalize=False)\n",
    "ct_n = pd.crosstab(group,outcome,margins=True,normalize='index')\n",
    "print(ct)\n",
    "print('''\n",
    "checking independence. this is a randomized experiment, the condition is satisfied.\n",
    "s/f condition: each experiment arm has at least 10 successes and failures. satisfied.\n",
    "sample proportions can be modeled as normal distribution.\n",
    "\n",
    "creating 95% confidence interval:''')\n",
    "phat_1 = ct_n[outcome_s][group_c] # survive rate of the control group\n",
    "minus_phat1 = 1 - phat_1\n",
    "n1 = ct[\"All\"][group_c] # sample size of the control group\n",
    "phat_2 = ct_n[outcome_s][group_t] # survive rate of the treatment group.\n",
    "minus_phat2 = 1 - phat_2\n",
    "n2 = ct[\"All\"][group_t] # sample size of the treatment group\n",
    "# we want the difference between two groups, there are two point estimates and we'll use their differences as last point estimate.\n",
    "phat =  phat_2 - phat_1\n",
    "z = z95 # for the 95% confidence level.\n",
    "se = np.sqrt( (phat_1*minus_phat1 / n1) + (phat_2 *minus_phat2 / n2) ) # extended standard error calculation for two proportions\n",
    "me = z * se\n",
    "lo = phat - me\n",
    "hi = phat + me\n",
    "print('''SE = {se}\n",
    "z* = {z} , margin of error: z* x SE = {me}\n",
    "confidence interval: (phat - z* x SE , phat + z* x SE) = ({lo},{hi})\n",
    "we're 95% confident that fish oil decrease heart attack rate from {lo} to {hi}.\n",
    "because the confidence interval doesn't contain the 0%, we can conclude there's a statistically significant evidence that \n",
    "fish oil decreass heart attacks.'''.format(z=z,se = se, me = me, lo=format(lo, '.4f'), hi=format(hi, '.4f')))"
   ]
  },
  {
   "cell_type": "code",
   "execution_count": 197,
   "metadata": {},
   "outputs": [
    {
     "name": "stdout",
     "output_type": "stream",
     "text": [
      "Outcome    dead  not dead    All\n",
      "Group                           \n",
      "control     505     44405  44910\n",
      "mammogram   500     44425  44925\n",
      "All        1005     88830  89835\n",
      "\n",
      "H0: there's no difference in breath cancer death rate whether using mammogram or not. phat_trt - phat_ctrl = 0\n",
      "HA: there's a difference in breath cancer death rate whether using mammogram or not. phat_trt - phat_ctrl != 0\n",
      "\n",
      "checking independence. this is a randomized experiment, the condition is satisfied.\n",
      "s/f condition: for the hypothesis tests that contains two proportion (phat1-phat2 = 0) we have to use the pooled proportion.\n",
      "pooled * n_control = 502.41609617632326 // (1-pooled) * n_control = 44407.58390382368 ==> satisfied.\n",
      "pooled * n_treatment = 502.5839038236768 // (1- pooled) * n_treatment = 44422.41609617633 ==> satisfied.\n",
      "sample proportions can be modeled as normal distribution since all conditions are satisfied.\n",
      "\n",
      "SE = 0.0007018184952669552 , z* = -0.1639328415192579 , p-value = 0.869784\n",
      "for a .05 significance level, because the p-value is larger than significance, we can't reject H0 and conclude\n",
      "the difference in breast cancer death rates are reasonably explained by chance. in the data, we don't observe any benefits\n",
      "or harm from mammograms relative to a regular breast exam.\n",
      "\n"
     ]
    }
   ],
   "source": [
    "# guided practice 6.11: generating the contingency table in the example\n",
    "# for 2x2 matrices\n",
    "group_t = 'mammogram'\n",
    "group_c = 'control'\n",
    "outcome_s = 'dead'\n",
    "outcome_f = 'not dead'\n",
    "group = np.array([group_t,group_c])\n",
    "group = np.repeat(group, [44925,44910],axis=0)\n",
    "outcome = np.array([outcome_s,outcome_f,outcome_s,outcome_f])\n",
    "outcome = np.repeat(outcome,[500,44425,505,44405],axis=0)\n",
    "df = pd.DataFrame ({'Group':group,'Outcome':outcome})\n",
    "group = df[\"Group\"]\n",
    "outcome = df[\"Outcome\"]\n",
    "ct = pd.crosstab(group,outcome,margins=True,normalize=False) # the version that the values are not normalized\n",
    "ct_n = pd.crosstab(group,outcome,margins=True,normalize='index') # the normalized version based on group totals.\n",
    "ct_n1 = pd.crosstab(group,outcome,margins=True,normalize=True) # the normalized version based on the sample size of entire study.\n",
    "print(ct)\n",
    "p_pooled = ct_n1[\"dead\"][\"All\"] # pooled proportion is: # of successes in study / sample size in the entire study.\n",
    "# we use pooled proportion since the difference between two samples that we're testing in our hypotheses is 0\n",
    "minus_p_pooled = 1 - p_pooled\n",
    "succ_t = p_pooled * ct[\"All\"][group_t]\n",
    "fail_t = minus_p_pooled * ct[\"All\"][group_t]\n",
    "succ_c = p_pooled * ct[\"All\"][group_c]\n",
    "fail_c = minus_p_pooled * ct[\"All\"][group_c]\n",
    "print('''\n",
    "H0: there's no difference in breath cancer death rate whether using mammogram or not. phat_trt - phat_ctrl = 0\n",
    "HA: there's a difference in breath cancer death rate whether using mammogram or not. phat_trt - phat_ctrl != 0\n",
    "\n",
    "checking independence. this is a randomized experiment, the condition is satisfied.\n",
    "s/f condition: for the hypothesis tests that contains two proportion (phat1-phat2 = 0) we have to use the pooled proportion.\n",
    "pooled * n_control = {succ_c} // (1-pooled) * n_control = {fail_c} ==> satisfied.\n",
    "pooled * n_treatment = {succ_t} // (1- pooled) * n_treatment = {fail_t} ==> satisfied.\n",
    "sample proportions can be modeled as normal distribution since all conditions are satisfied.\n",
    "'''.format(succ_t=succ_t, fail_t=fail_t, succ_c=succ_c, fail_c=fail_c))\n",
    "phat_1 = ct_n[outcome_s][group_c] # survive rate of the control group\n",
    "minus_phat1 = 1 - phat_1\n",
    "n1 = ct[\"All\"][group_c] # sample size of the control group\n",
    "phat_2 = ct_n[outcome_s][group_t] # survive rate of the treatment group.\n",
    "minus_phat2 = 1 - phat_2\n",
    "n2 = ct[\"All\"][group_t] # sample size of the treatment group\n",
    "# we want the difference between two groups, there are two point estimates and we'll use their differences as last point estimate.\n",
    "phat =  phat_2 - phat_1\n",
    "p0 = 0 # null value is: there's no difference, [phat_treatment - phat_control = 0]\n",
    "se = np.sqrt( (phat_1*minus_phat1 / n1) + (phat_2 *minus_phat2 / n2) ) # extended standard error calculation for two proportions\n",
    "z = (phat-p0)/se # how many standard errors away the phat is from the null value in the null distribution\n",
    "pvalue = scipy.stats.norm.sf(abs(z))*2 # find p-value for two-tailed test\n",
    "\n",
    "print('''SE = {se} , z* = {z} , p-value = {pvalue}\n",
    "for a .05 significance level, because the p-value is larger than significance, we can't reject H0 and conclude\n",
    "the difference in breast cancer death rates are reasonably explained by chance. in the data, we don't observe any benefits\n",
    "or harm from mammograms relative to a regular breast exam.\n",
    "'''.format(z=z, se=se, pvalue=format(pvalue, '.6f')) )"
   ]
  },
  {
   "cell_type": "code",
   "execution_count": 198,
   "metadata": {},
   "outputs": [
    {
     "name": "stdout",
     "output_type": "stream",
     "text": [
      "H0: the prospective supplier have a %3 more inspection success rate than the current supplier. p_pros - p_curr = .03\n",
      "HA: the prospective supplier have a different inspection success rate than %3.  p_pros - p_curr != .03\n",
      "independence: nothing said but to proceed, we'll assume it's randomly sampled.\n",
      "s/f condition: phat1 * n1 = 899.0 // (1-phat1) * n1 = 100.99999999999997 ==> satisfied.\n",
      "phat2 * n2 = 958.0 // (1-phat2) * n2 = 42.000000000000036 ==> satisfied.\n",
      "\n",
      "SE = 0.011447052022245729 // we use the p0 for the null distribution\n",
      "z* = 2.533403355173239\n",
      "p-value = 0.011296\n",
      "for a .05 significance level, because the p-value is smaller than significance, we can reject H0 and conclude\n",
      "there's a statistically significant evidence the prospetive supplier has a more than 3% higher inspection success rate.\n",
      "\n"
     ]
    }
   ],
   "source": [
    "''' example 6.20\n",
    "A quadcopter company is considering a new manufacturer for rotor blades. The new manufacturer\n",
    "would be more expensive, but they claim their higher-quality blades are more reliable, with 3% more\n",
    "blades passing inspection than their competitor.\n",
    "\n",
    "The quality control engineer from Guided Practice 6.19 collects a sample of blades, examining 1000\n",
    "blades from each company, and she finds that 899 blades pass inspection from the current supplier\n",
    "and 958 pass inspection from the prospective supplier. Using these data, evaluate the hypotheses\n",
    "with a significance level of 5%.\n",
    "\n",
    "'''\n",
    "n1 = 1000\n",
    "n2 = 1000\n",
    "p0 = .03 # null value\n",
    "phat1 = 899 / n # success proportion in the first sample\n",
    "minus_phat1 = 1 - phat1\n",
    "phat2 = 958 / n # success proportion in the second sample\n",
    "minus_phat2 = 1 - phat2\n",
    "phat = phat2 - phat1 # point estimate\n",
    "minus_phat = 1 - phat\n",
    "succ1 = phat1 * n # success condition for the first sample\n",
    "fail1 = (1-phat1) * n # failure condition for the first sample\n",
    "succ2 = phat2 * n # success condition for the second sample\n",
    "fail2 = (1-phat2) * n # failure condition for the second sample\n",
    "se = np.sqrt( (phat1*minus_phat1/n1) + (phat2*minus_phat2/n2) ) # calculate standard error and include both sample proportions.\n",
    "z = (phat-p0)/se # how many standard errors away the phat is from the null value in the null distribution\n",
    "pvalue = scipy.stats.norm.sf(abs(z))*2 # find p-value for two-tailed test\n",
    "pvalue\n",
    "\n",
    "print('''H0: the prospective supplier have a %3 more inspection success rate than the current supplier. p_pros - p_curr = .03\n",
    "HA: the prospective supplier have a different inspection success rate than %3.  p_pros - p_curr != .03\n",
    "independence: nothing said but to proceed, we'll assume it's randomly sampled.\n",
    "s/f condition: phat1 * n1 = {succ1} // (1-phat1) * n1 = {fail1} ==> satisfied.\n",
    "phat2 * n2 = {succ2} // (1-phat2) * n2 = {fail2} ==> satisfied.\n",
    "\n",
    "SE = {se} // we use the p0 for the null distribution\n",
    "z* = {z}\n",
    "p-value = {pvalue}\n",
    "for a .05 significance level, because the p-value is smaller than significance, we can reject H0 and conclude\n",
    "there's a statistically significant evidence the prospetive supplier has a more than 3% higher inspection success rate.\n",
    "'''.format(succ1=succ1, fail1=fail1, succ2=succ2, fail2=fail2, se = se,z=z,pvalue=format(pvalue, '.6f')))"
   ]
  },
  {
   "cell_type": "code",
   "execution_count": 6,
   "metadata": {},
   "outputs": [
    {
     "name": "stdout",
     "output_type": "stream",
     "text": [
      "Scenario   conservative  provocative  All\n",
      "Intervene                                \n",
      "no                   10           15   25\n",
      "yes                  15            5   20\n",
      "All                  25           20   45\n",
      "\n",
      "checking independence. this seems like not a randomized experiment. independence condition is not satisfied here.\n",
      "s/f condition: as seen, for provocatives that intervene, there's less than 10. in that condition success-failure condition\n",
      "is not satisfied. since those conditions does not satisfy, we can not reasonably model the sample distributions as normal.\n"
     ]
    }
   ],
   "source": [
    "'''6.17 Social experiment, Part I. A \"social experiment\" conducted by a TV program questioned what\n",
    "people do when they see a very obviously bruised woman getting picked on by her boyfriend. On two\n",
    "different occasions at the same restaurant, the same couple was depicted. In one scenario the woman was\n",
    "dressed \"provocatively\" and in the other scenario the woman was dressed \"conservatively\". The table below\n",
    "shows how many restaurant diners were present under each scenario, and whether or not they intervened.\n",
    "\n",
    "Explain why the sampling distribution of the difference between the proportions of interventions under\n",
    "provocative and conservative scenarios does not follow an approximately normal distribution.'''\n",
    "\n",
    "group_t = 'yes'\n",
    "group_c = 'no'\n",
    "outcome_s = 'provocative'\n",
    "outcome_f = 'conservative'\n",
    "group = np.array([group_t,group_c])\n",
    "group = np.repeat(group, [20,25],axis=0)\n",
    "outcome = np.array([outcome_s,outcome_f,outcome_s,outcome_f])\n",
    "outcome = np.repeat(outcome,[5,15,15,10],axis=0)\n",
    "df = pd.DataFrame ({'Intervene':group,'Scenario':outcome})\n",
    "group = df[\"Intervene\"]\n",
    "outcome = df[\"Scenario\"]\n",
    "ct = pd.crosstab(group,outcome,margins=True,normalize=False) # the version that the values are not normalized\n",
    "\n",
    "print(ct)\n",
    "print('''\n",
    "checking independence. this seems like not a randomized experiment. independence condition is not satisfied here.\n",
    "s/f condition: as seen, for provocatives that intervene, there's less than 10. in that condition success-failure condition\n",
    "is not satisfied. since those conditions does not satisfy, we can not reasonably model the sample distributions as normal.''')"
   ]
  },
  {
   "cell_type": "code",
   "execution_count": 10,
   "metadata": {},
   "outputs": [
    {
     "name": "stdout",
     "output_type": "stream",
     "text": [
      "Outcome    alive  dead  All\n",
      "Group                      \n",
      "control        4    30   34\n",
      "treatment     24    45   69\n",
      "All           28    75  103\n",
      "it's a randomized experiment, so the independence condition satisfies. but unfortunately the in the control group\n",
      "who are alive isn't enough to satisfy the success-failure condition (<10). Because of this, we can not use the normal\n",
      "approximation in building the confidence interval.\n"
     ]
    }
   ],
   "source": [
    "'''6.18 Heart transplant success. The Stanford University Heart Transplant Study was conducted to de-\n",
    "termine whether an experimental heart transplant program increased lifespan. Each patient entering the\n",
    "program was officially designated a heart transplant candidate, meaning that he was gravely ill and might\n",
    "benefit from a new heart. Patients were randomly assigned into treatment and control groups. Patients in\n",
    "the treatment group received a transplant, and those in the control group did not. The table below displays\n",
    "how many patients survived and died in each group.\n",
    "\n",
    "Suppose we are interested in estimating the difference in survival rate between the control and treatment\n",
    "groups using a confidence interval. Explain why we cannot construct such an interval using the normal\n",
    "approximation. What might go wrong if we constructed the confidence interval despite this problem?'''\n",
    "group_t = 'control'\n",
    "group_c = 'treatment'\n",
    "outcome_s = 'alive'\n",
    "outcome_f = 'dead'\n",
    "group = np.array([group_t,group_c])\n",
    "group = np.repeat(group, [34,69],axis=0)\n",
    "outcome = np.array([outcome_s,outcome_f,outcome_s,outcome_f])\n",
    "outcome = np.repeat(outcome,[4,30,24,45],axis=0)\n",
    "df = pd.DataFrame ({'Group':group,'Outcome':outcome})\n",
    "group = df[\"Group\"]\n",
    "outcome = df[\"Outcome\"]\n",
    "ct = pd.crosstab(group,outcome,margins=True,normalize=False) # the version that the values are not normalized\n",
    "print(ct)\n",
    "print('''it's a randomized experiment, so the independence condition satisfies. but unfortunately the in the control group\n",
    "who are alive isn't enough to satisfy the success-failure condition (<10). Because of this, we can not use the normal\n",
    "approximation in building the confidence interval.''')"
   ]
  },
  {
   "cell_type": "code",
   "execution_count": 11,
   "metadata": {},
   "outputs": [
    {
     "name": "stdout",
     "output_type": "stream",
     "text": [
      "a) false.\n",
      "b) true.\n",
      "c) true.\n",
      "d) true\n",
      "e) false. multiply the values with (-1) and the new order will be (-0.06,-0.02).\n"
     ]
    }
   ],
   "source": [
    "'''6.19 Gender and color preference. A study asked 1,924 male and 3,666 female undergraduate college\n",
    "students their favorite color. A 95% confidence interval for the difference between the proportions of males\n",
    "and females whose favorite color is black (pmale - pfemale) was calculated to be (0.02, 0.06). Based on this\n",
    "information, determine if the following statements about undergraduate college students are true or false,\n",
    "and explain your reasoning for each statement you identify as false.\n",
    "(a) We are 95% confident that the true proportion of males whose favorite color is black is 2% lower to 6%\n",
    "higher than the true proportion of females whose favorite color is black.\n",
    "(b) We are 95% confident that the true proportion of males whose favorite color is black is 2% to 6% higher\n",
    "than the true proportion of females whose favorite color is black.\n",
    "(c) 95% of random samples will produce 95% confidence intervals that include the true difference between\n",
    "the population proportions of males and females whose favorite color is black.\n",
    "(d) We can conclude that there is a significant difference between the proportions of males and females\n",
    "whose favorite color is black and that the difference between the two sample proportions is too large to\n",
    "plausibly be due to chance.\n",
    "(e) The 95% confidence interval for (pfemale -pmale) cannot be calculated with only the information given\n",
    "in this exercise.'''\n",
    "print('''a) false.\n",
    "b) true.\n",
    "c) true.\n",
    "d) true\n",
    "e) false. multiply the values with (-1) and the new order will be (-0.06,-0.02).''')"
   ]
  },
  {
   "cell_type": "code",
   "execution_count": 13,
   "metadata": {},
   "outputs": [
    {
     "name": "stdout",
     "output_type": "stream",
     "text": [
      "a) false. no difference level (p<40K - p>=40K = 0) is in the confidence interval. we can't state there's a \n",
      "convincing evidence in this significance level and in this sample size there's a difference between two groups.\n",
      "b) true.\n",
      "c) false, it would be narrower than the 95% confidence level.\n",
      "d) true. simply negate and reverse.\n"
     ]
    }
   ],
   "source": [
    "'''6.20 Government shutdown. The United States federal government shutdown of 2018{2019 occurred\n",
    "from December 22, 2018 until January 25, 2019, a span of 35 days. A Survey USA poll of 614 randomly\n",
    "sampled Americans during this time period reported that 48% of those who make less than $40,000 per\n",
    "year and 55% of those who make $40,000 or more per year said the government shutdown has not at all\n",
    "affected them personally. A 95% confidence interval for (p<40K - p>=40K), where p is the proportion of those\n",
    "who said the government shutdown has not at all affected them personally, is (-0.16, 0.02). Based on this\n",
    "information, determine if the following statements are true or false, and explain your reasoning if you identify\n",
    "the statement as false.\n",
    "(a) At the 5% significance level, the data provide convincing evidence of a real difference in the proportion\n",
    "who are not affected personally between Americans who make less than $40,000 annually and Americans\n",
    "who make $40,000 annually.\n",
    "(b) We are 95% confident that 16% more to 2% fewer Americans who make less than $40,000 per year are\n",
    "not at all personally affected by the government shutdown compared to those who make $40,000 or more\n",
    "per year.\n",
    "(c) A 90% confidence interval for (p<40K - p>=40K) would be wider than the (-0.16, 0.02) interval.\n",
    "(d) A 95% confidence interval for (p>=40K - p<40K) is (-0.02, 0.16).'''\n",
    "print('''a) false. no difference level (p<40K - p>=40K = 0) is in the confidence interval. we can't state there's a \n",
    "convincing evidence in this significance level and in this sample size there's a difference between two groups.\n",
    "b) true.\n",
    "c) false, it would be narrower than the 95% confidence level.\n",
    "d) true. simply negate and reverse.''')"
   ]
  },
  {
   "cell_type": "code",
   "execution_count": 23,
   "metadata": {},
   "outputs": [
    {
     "name": "stdout",
     "output_type": "stream",
     "text": [
      "a) conditions are already checked.\n",
      "SE = 0.029651854994064007\n",
      "z* = 1.96 , margin of error: z* x SE = 0.05811763578836545\n",
      "confidence interval: (phat - z* x SE , phat + z* x SE) = (0.182,0.298)\n",
      "we're 95% confident that the percentage of the democrats who support the national health plan is from 0.182 to 0.298 higher \n",
      "than the independents.\n",
      "b) true.\n",
      "\n"
     ]
    }
   ],
   "source": [
    "'''6.21 National Health Plan, Part III. Exercise 6.11 presents the results of a poll evaluating support for a\n",
    "generically branded \"National Health Plan\" in the United States. 79% of 347 Democrats and 55% of 617\n",
    "Independents support a National Health Plan.\n",
    "(a) Calculate a 95% confidence interval for the difference between the proportion of Democrats and Inde-\n",
    "pendents who support a National Health Plan (pD - pI), and interpret it in this context. We have\n",
    "already checked conditions for you.\n",
    "(b) True or false: If we had picked a random Democrat and a random Independent at the time of this poll,\n",
    "it is more likely that the Democrat would support the National Health Plan than the Independent.'''\n",
    "nD = 347\n",
    "nI = 617\n",
    "pD = .79 # proportion of democrats that support the national health plan\n",
    "minus_pD = 1 - pD\n",
    "pI = .55 # proportion of independents that support the national health plan\n",
    "minus_pI = 1 - pI\n",
    "z = z95 # for the 95% confidence level\n",
    "phat =  pD - pI\n",
    "se = np.sqrt( (pD*minus_pD / nD) + (pI *minus_pI / nI) )\n",
    "me = z * se\n",
    "lo = phat - me\n",
    "hi = phat + me\n",
    "\n",
    "print('''a) conditions are already checked.\n",
    "SE = {se}\n",
    "z* = {z} , margin of error: z* x SE = {me}\n",
    "confidence interval: (phat - z* x SE , phat + z* x SE) = ({lo},{hi})\n",
    "we're 95% confident that the percentage of the democrats who support the national health plan is from {lo} to {hi} higher \n",
    "than the independents.\n",
    "b) true.\n",
    "'''.format(succ1=succ_D, fail1=fail_D, succ2=succ_I, fail2=fail_I, z=z,se = se, me = me, lo=format(lo, '.3f'), hi=format(hi, '.3f')))\n"
   ]
  },
  {
   "cell_type": "code",
   "execution_count": 209,
   "metadata": {},
   "outputs": [
    {
     "data": {
      "text/plain": [
       "'6.22 Sleep deprivation, CA vs. OR, Part I. According to a report on sleep deprivation by the Centers for\\nDisease Control and Prevention, the proportion of California residents who reported insu\\x0ecient rest or sleep\\nduring each of the preceding 30 days is 8.0%, while this proportion is 8.8% for Oregon residents. These\\ndata are based on simple random samples of 11,545 California and 4,691 Oregon residents. Calculate a 95%\\ncon\\ndence interval for the di\\nerence between the proportions of Californians and Oregonians who are sleep\\ndeprived and interpret it in context of the data.25'"
      ]
     },
     "execution_count": 209,
     "metadata": {},
     "output_type": "execute_result"
    }
   ],
   "source": [
    "'''6.22 Sleep deprivation, CA vs. OR, Part I. According to a report on sleep deprivation by the Centers for\n",
    "Disease Control and Prevention, the proportion of California residents who reported insu\u000ecient rest or sleep\n",
    "during each of the preceding 30 days is 8.0%, while this proportion is 8.8% for Oregon residents. These\n",
    "data are based on simple random samples of 11,545 California and 4,691 Oregon residents. Calculate a 95%\n",
    "confidence interval for the di\u000b",
    "erence between the proportions of Californians and Oregonians who are sleep\n",
    "deprived and interpret it in context of the data.25'''"
   ]
  },
  {
   "cell_type": "code",
   "execution_count": 210,
   "metadata": {},
   "outputs": [
    {
     "data": {
      "text/plain": [
       "'6.23 Offshore drilling, Part I. A survey asked 827 randomly sampled registered voters in California \\\\Do\\nyou support? Or do you oppose? Drilling for oil and natural gas off the Coast of California? Or do you\\nnot know enough to say?\" Below is the distribution of responses, separated based on whether or not the\\nrespondent graduated from college.\\n(a) What percent of college graduates and what percent of the\\nnon-college graduates in this sample do not know enough to\\nhave an opinion on drilling for oil and natural gas off the\\nCoast of California?\\n(b) Conduct a hypothesis test to determine if the data provide\\nstrong evidence that the proportion of college graduates who\\ndo not have an opinion on this issue is different than that of\\nnon-college graduates.'"
      ]
     },
     "execution_count": 210,
     "metadata": {},
     "output_type": "execute_result"
    }
   ],
   "source": [
    "'''6.23 Offshore drilling, Part I. A survey asked 827 randomly sampled registered voters in California \\Do\n",
    "you support? Or do you oppose? Drilling for oil and natural gas off the Coast of California? Or do you\n",
    "not know enough to say?\" Below is the distribution of responses, separated based on whether or not the\n",
    "respondent graduated from college.\n",
    "(a) What percent of college graduates and what percent of the non-college graduates in this sample do not know enough to\n",
    "have an opinion on drilling for oil and natural gas off the Coast of California?\n",
    "(b) Conduct a hypothesis test to determine if the data provide strong evidence that the proportion of college graduates who\n",
    "do not have an opinion on this issue is different than that of non-college graduates.'''"
   ]
  },
  {
   "cell_type": "code",
   "execution_count": 211,
   "metadata": {},
   "outputs": [
    {
     "data": {
      "text/plain": [
       "'6.24 Sleep deprivation, CA vs. OR, Part II. Exercise 6.22 provides data on sleep deprivation rates of\\nCalifornians and Oregonians. The proportion of California residents who reported insu\\x0ecient rest or sleep\\nduring each of the preceding 30 days is 8.0%, while this proportion is 8.8% for Oregon residents. These data\\nare based on simple random samples of 11,545 California and 4,691 Oregon residents.\\n(a) Conduct a hypothesis test to determine if these data provide strong evidence the rate of sleep deprivation\\nis different for the two states. (Reminder: Check conditions)\\n(b) It is possible the conclusion of the test in part (a) is incorrect. If this is the case, what type of error was\\nmade?'"
      ]
     },
     "execution_count": 211,
     "metadata": {},
     "output_type": "execute_result"
    }
   ],
   "source": [
    "'''6.24 Sleep deprivation, CA vs. OR, Part II. Exercise 6.22 provides data on sleep deprivation rates of\n",
    "Californians and Oregonians. The proportion of California residents who reported insu\u000ecient rest or sleep\n",
    "during each of the preceding 30 days is 8.0%, while this proportion is 8.8% for Oregon residents. These data\n",
    "are based on simple random samples of 11,545 California and 4,691 Oregon residents.\n",
    "(a) Conduct a hypothesis test to determine if these data provide strong evidence the rate of sleep deprivation\n",
    "is different for the two states. (Reminder: Check conditions)\n",
    "(b) It is possible the conclusion of the test in part (a) is incorrect. If this is the case, what type of error was\n",
    "made?'''"
   ]
  },
  {
   "cell_type": "code",
   "execution_count": 212,
   "metadata": {},
   "outputs": [
    {
     "data": {
      "text/plain": [
       "'6.25 Offshore drilling, Part II. Results of a poll evaluating support for drilling for oil and natural gas o\\n\\nthe coast of California were introduced in Exercise 6.23.\\n(a) What percent of college graduates and what percent of the non-college graduates in this sample support\\ndrilling for oil and natural gas o\\n the Coast of California?\\n(b) Conduct a hypothesis test to determine if the data provide strong evidence that the proportion of college\\ngraduates who support o\\n-shore drilling in California is different than that of non-college graduates.'"
      ]
     },
     "execution_count": 212,
     "metadata": {},
     "output_type": "execute_result"
    }
   ],
   "source": [
    "'''6.25 Offshore drilling, Part II. Results of a poll evaluating support for drilling for oil and natural gas o\u000b",
    "\n",
    "the coast of California were introduced in Exercise 6.23.\n",
    "(a) What percent of college graduates and what percent of the non-college graduates in this sample support\n",
    "drilling for oil and natural gas o\u000b",
    " the Coast of California?\n",
    "(b) Conduct a hypothesis test to determine if the data provide strong evidence that the proportion of college\n",
    "graduates who support o\u000b",
    "-shore drilling in California is different than that of non-college graduates.'''"
   ]
  },
  {
   "cell_type": "code",
   "execution_count": 213,
   "metadata": {},
   "outputs": [
    {
     "data": {
      "text/plain": [
       "'6.26 Full body scan, Part I. A news article reports that \"Americans have differing views on two potentially\\ninconvenient and invasive practices that airports could implement to uncover potential terrorist attacks.\"\\nThis news piece was based on a survey conducted among a random sample of 1,137 adults nationwide, where\\none of the questions on the survey was \\\\Some airports are now using `full-body\\' digital x-ray machines to\\nelectronically screen passengers in airport security lines. Do you think these new x-ray machines should or\\nshould not be used at airports?\" Below is a summary of responses based on party affiliation.27\\n(a) Conduct an appropriate hypothesis test evaluating whether there is a difference in the proportion of\\nRepublicans and Democrats who think the full- body scans should be applied in airports. Assume that\\nall relevant conditions are met.\\n(b) The conclusion of the test in part (a) may be incorrect, meaning a testing error was made. If an error\\nwas made, was it a Type 1 or a Type 2 Error? Explain.'"
      ]
     },
     "execution_count": 213,
     "metadata": {},
     "output_type": "execute_result"
    }
   ],
   "source": [
    "'''6.26 Full body scan, Part I. A news article reports that \"Americans have differing views on two potentially\n",
    "inconvenient and invasive practices that airports could implement to uncover potential terrorist attacks.\"\n",
    "This news piece was based on a survey conducted among a random sample of 1,137 adults nationwide, where\n",
    "one of the questions on the survey was \\Some airports are now using `full-body' digital x-ray machines to\n",
    "electronically screen passengers in airport security lines. Do you think these new x-ray machines should or\n",
    "should not be used at airports?\" Below is a summary of responses based on party affiliation.27\n",
    "(a) Conduct an appropriate hypothesis test evaluating whether there is a difference in the proportion of\n",
    "Republicans and Democrats who think the full- body scans should be applied in airports. Assume that\n",
    "all relevant conditions are met.\n",
    "(b) The conclusion of the test in part (a) may be incorrect, meaning a testing error was made. If an error\n",
    "was made, was it a Type 1 or a Type 2 Error? Explain.'''"
   ]
  },
  {
   "cell_type": "code",
   "execution_count": 214,
   "metadata": {},
   "outputs": [
    {
     "data": {
      "text/plain": [
       "'6.27 Sleep deprived transportation workers. The National Sleep Foundation conducted a survey on\\nthe sleep habits of randomly sampled transportation workers and a control sample of non-transportation\\nworkers. The results of the survey are shown below.\\nConduct a hypothesis test to evaluate if these data provide evidence of a difference between the proportions\\nof truck drivers and non-transportation workers (the control group) who get less than 6 hours of sleep per\\nday, i.e. are considered sleep deprived.'"
      ]
     },
     "execution_count": 214,
     "metadata": {},
     "output_type": "execute_result"
    }
   ],
   "source": [
    "'''6.27 Sleep deprived transportation workers. The National Sleep Foundation conducted a survey on\n",
    "the sleep habits of randomly sampled transportation workers and a control sample of non-transportation\n",
    "workers. The results of the survey are shown below.\n",
    "Conduct a hypothesis test to evaluate if these data provide evidence of a difference between the proportions\n",
    "of truck drivers and non-transportation workers (the control group) who get less than 6 hours of sleep per\n",
    "day, i.e. are considered sleep deprived.'''"
   ]
  },
  {
   "cell_type": "code",
   "execution_count": 217,
   "metadata": {},
   "outputs": [
    {
     "data": {
      "text/plain": [
       "'6.28 Prenatal vitamins and Autism. Researchers studying the link between prenatal vitamin use and\\nautism surveyed the mothers of a random sample of children aged 24 - 60 months with autism and conducted\\nanother separate random sample for children with typical development. The table below shows the number of\\nmothers in each group who did and did not use prenatal vitamins during the three months before pregnancy\\n(periconceptional period).\\n(a) State appropriate hypotheses to test for independence of use of prenatal vitamins during the three\\nmonths before pregnancy and autism.\\n(b) Complete the hypothesis test and state an appropriate conclusion. (Reminder: Verify any necessary\\nconditions for the test.)\\n(c) A New York Times article reporting on this study was titled \\\\Prenatal Vitamins MayWard Off Autism\".\\nDo you \\nnd the title of this article to be appropriate? Explain your answer. Additionally, propose an\\nalternative title.30'"
      ]
     },
     "execution_count": 217,
     "metadata": {},
     "output_type": "execute_result"
    }
   ],
   "source": [
    "'''6.28 Prenatal vitamins and Autism. Researchers studying the link between prenatal vitamin use and\n",
    "autism surveyed the mothers of a random sample of children aged 24 - 60 months with autism and conducted\n",
    "another separate random sample for children with typical development. The table below shows the number of\n",
    "mothers in each group who did and did not use prenatal vitamins during the three months before pregnancy\n",
    "(periconceptional period).\n",
    "(a) State appropriate hypotheses to test for independence of use of prenatal vitamins during the three\n",
    "months before pregnancy and autism.\n",
    "(b) Complete the hypothesis test and state an appropriate conclusion. (Reminder: Verify any necessary\n",
    "conditions for the test.)\n",
    "(c) A New York Times article reporting on this study was titled \\Prenatal Vitamins MayWard Off Autism\".\n",
    "Do you \f",
    "nd the title of this article to be appropriate? Explain your answer. Additionally, propose an\n",
    "alternative title.30'''"
   ]
  },
  {
   "cell_type": "code",
   "execution_count": 215,
   "metadata": {},
   "outputs": [
    {
     "data": {
      "text/plain": [
       "'6.29 HIV in sub-Saharan Africa. In July 2008 the US National Institutes of Health announced that it was\\nstopping a clinical study early because of unexpected results. The study population consisted of HIV-infected\\nwomen in sub-Saharan Africa who had been given single dose Nevaripine (a treatment for HIV) while giving\\nbirth, to prevent transmission of HIV to the infant. The study was a randomized comparison of continued\\ntreatment of a woman (after successful childbirth) with Nevaripine vs Lopinavir, a second drug used to treat\\nHIV. 240 women participated in the study; 120 were randomized to each of the two treatments. Twenty-\\nfour weeks after starting the study treatment, each woman was tested to determine if the HIV infection was\\nbecoming worse (an outcome called virologic failure). Twenty-six of the 120 women treated with Nevaripine\\nexperienced virologic failure, while 10 of the 120 women treated with the other drug experienced virologic\\nfailure.\\n(a) Create a two-way table presenting the results of this study.\\n(b) State appropriate hypotheses to test for difference in virologic failure rates between treatment groups.\\n(c) Complete the hypothesis test and state an appropriate conclusion. (Reminder: Verify any necessary\\nconditions for the test.)'"
      ]
     },
     "execution_count": 215,
     "metadata": {},
     "output_type": "execute_result"
    }
   ],
   "source": [
    "'''6.29 HIV in sub-Saharan Africa. In July 2008 the US National Institutes of Health announced that it was\n",
    "stopping a clinical study early because of unexpected results. The study population consisted of HIV-infected\n",
    "women in sub-Saharan Africa who had been given single dose Nevaripine (a treatment for HIV) while giving\n",
    "birth, to prevent transmission of HIV to the infant. The study was a randomized comparison of continued\n",
    "treatment of a woman (after successful childbirth) with Nevaripine vs Lopinavir, a second drug used to treat\n",
    "HIV. 240 women participated in the study; 120 were randomized to each of the two treatments. Twenty-\n",
    "four weeks after starting the study treatment, each woman was tested to determine if the HIV infection was\n",
    "becoming worse (an outcome called virologic failure). Twenty-six of the 120 women treated with Nevaripine\n",
    "experienced virologic failure, while 10 of the 120 women treated with the other drug experienced virologic\n",
    "failure.\n",
    "(a) Create a two-way table presenting the results of this study.\n",
    "(b) State appropriate hypotheses to test for difference in virologic failure rates between treatment groups.\n",
    "(c) Complete the hypothesis test and state an appropriate conclusion. (Reminder: Verify any necessary\n",
    "conditions for the test.)'''"
   ]
  },
  {
   "cell_type": "code",
   "execution_count": 218,
   "metadata": {},
   "outputs": [
    {
     "data": {
      "text/plain": [
       "'6.30 An apple a day keeps the doctor away. A physical education teacher at a high school wanting to\\nincrease awareness on issues of nutrition and health asked her students at the beginning of the semester\\nwhether they believed the expression \"an apple a day keeps the doctor away\", and 40% of the students\\nresponded yes. Throughout the semester she started each class with a brief discussion of a study highlighting\\npositive e\\nects of eating more fruits and vegetables. She conducted the same apple-a-day survey at the end\\nof the semester, and this time 60% of the students responded yes. Can she used a two-proportion method\\nfrom this section for this analysis? Explain your reasoning.'"
      ]
     },
     "execution_count": 218,
     "metadata": {},
     "output_type": "execute_result"
    }
   ],
   "source": [
    "'''6.30 An apple a day keeps the doctor away. A physical education teacher at a high school wanting to\n",
    "increase awareness on issues of nutrition and health asked her students at the beginning of the semester\n",
    "whether they believed the expression \"an apple a day keeps the doctor away\", and 40% of the students\n",
    "responded yes. Throughout the semester she started each class with a brief discussion of a study highlighting\n",
    "positive e\u000b",
    "ects of eating more fruits and vegetables. She conducted the same apple-a-day survey at the end\n",
    "of the semester, and this time 60% of the students responded yes. Can she used a two-proportion method\n",
    "from this section for this analysis? Explain your reasoning.'''"
   ]
  },
  {
   "cell_type": "code",
   "execution_count": null,
   "metadata": {
    "collapsed": true
   },
   "outputs": [],
   "source": []
  }
 ],
 "metadata": {
  "kernelspec": {
   "display_name": "Python 3",
   "language": "python",
   "name": "python3"
  },
  "language_info": {
   "codemirror_mode": {
    "name": "ipython",
    "version": 3
   },
   "file_extension": ".py",
   "mimetype": "text/x-python",
   "name": "python",
   "nbconvert_exporter": "python",
   "pygments_lexer": "ipython3",
   "version": "3.6.1"
  }
 },
 "nbformat": 4,
 "nbformat_minor": 2
}
