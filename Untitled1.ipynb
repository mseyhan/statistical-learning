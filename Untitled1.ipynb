{
 "cells": [
  {
   "cell_type": "code",
   "execution_count": 1,
   "metadata": {
    "collapsed": true
   },
   "outputs": [],
   "source": [
    "import pandas as pd\n",
    "import numpy as np\n",
    "import random\n",
    "import scipy.stats\n",
    "import math\n",
    "import seaborn as sns\n",
    "from matplotlib import pyplot as plt\n",
    "from random import sample\n",
    "from scipy.stats import chisquare\n",
    "from scipy.stats import geom\n",
    "from scipy.stats import t\n",
    "from scipy import stats\n",
    "from sklearn.linear_model import LinearRegression\n",
    "from sklearn.metrics import r2_score\n",
    "from matplotlib.ticker import AutoMinorLocator\n",
    "%matplotlib inline"
   ]
  },
  {
   "cell_type": "code",
   "execution_count": 2,
   "metadata": {},
   "outputs": [
    {
     "name": "stdout",
     "output_type": "stream",
     "text": [
      "regular:  0.25044351565084044 adjusted:  0.2467841674766379\n",
      "a) bwt = -80.41 + 0.44*gest -3.33*parity -.01*age + 1.15*height + .05 * weight - 8.40 * smoke\n",
      "b) the model predicts every additional day in the variable gestation would result as a +.44 difference in the baby's weight\n",
      "the model predicts every additional year in the mother's age would result +.01 difference in the baby's weight\n",
      "c) because in the multiple regression context, . when we include all of the variables' and inner structures, we can take into\n",
      "account the maybe that particular variable is correlated with another one. this complicates the regression model, those two\n",
      "slopes would be more different in this case.\n",
      "d) -0.58\n",
      "e) regular: 0.2504, adjusted: 0.2468\n"
     ]
    }
   ],
   "source": [
    "\n",
    "bwt0= 120 \n",
    "gest=284 \n",
    "parity = 0\n",
    "age = 27 \n",
    "height=62 \n",
    "weight=100 \n",
    "smoke= 0\n",
    "bwt = -80.41 + 0.44*gest -3.33*parity -.01*age + 1.15*height + .05 * weight - 8.40 * smoke\n",
    "resid1 = bwt0-bwt\n",
    "k=6 # number of the predictor variables in the model.\n",
    "n = 1236 # observations\n",
    "var_res = 249.28 # variability in the residuals \n",
    "var_data = 332.57 # variability in the outcome\n",
    "\n",
    "rsquared = 1 - (var_res/var_data) # regular rsquared\n",
    "adj_rsquared = 1 - (var_res/var_data) * (n-1) / (n-k-1)\n",
    "print('regular: ', rsquared, 'adjusted: ',adj_rsquared)\n",
    "\n",
    "print(f'''a) bwt = -80.41 + 0.44*gest -3.33*parity -.01*age + 1.15*height + .05 * weight - 8.40 * smoke\n",
    "b) the model predicts every additional day in the variable gestation would result as a +.44 difference in the baby's weight\n",
    "the model predicts every additional year in the mother's age would result +.01 difference in the baby's weight\n",
    "c) because in the multiple regression context, . when we include all of the variables' and inner structures, we can take into\n",
    "account the maybe that particular variable is correlated with another one. this complicates the regression model, those two\n",
    "slopes would be more different in this case.\n",
    "d) {resid1:.2f}\n",
    "e) regular: {rsquared:.4f}, adjusted: {adj_rsquared:.4f}''')"
   ]
  },
  {
   "cell_type": "code",
   "execution_count": 5,
   "metadata": {},
   "outputs": [
    {
     "name": "stdout",
     "output_type": "stream",
     "text": [
      "a) days = 18.93 - 9.11 * eth + 3.10 * sex + 2.15 * lrn\n",
      "b) the model predicts a person with a non aboriginal ethical background would spend a 9.11 days less than someone with an \n",
      "aboriginal ethical background on average. \n",
      "the model predicts a male would spend 3.1 more days to learning than a female on average.\n",
      "the model predicts if someone is a fast learner, their days spent learning would increase 2.15 days.\n",
      "c) 24.18\n",
      "d) regular: 0.2504, adjusted: 0.2346\n",
      "\n",
      "\n"
     ]
    }
   ],
   "source": [
    "eth=0 \n",
    "sex=1 \n",
    "lrn=1\n",
    "days = 18.93 - 9.11 * eth + 3.10 * sex + 2.15 * lrn\n",
    "n =146\n",
    "k= 3\n",
    "\n",
    "rsquared = 1 - (var_res/var_data) # regular rsquared\n",
    "adj_rsquared = 1 - (var_res/var_data) * (n-1) / (n-k-1)\n",
    "\n",
    "print(f'''a) days = 18.93 - 9.11 * eth + 3.10 * sex + 2.15 * lrn\n",
    "b) the model predicts a person with a non aboriginal ethical background would spend a 9.11 days less than someone with an \n",
    "aboriginal ethical background on average. \n",
    "the model predicts a male would spend 3.1 more days to learning than a female on average.\n",
    "the model predicts if someone is a fast learner, their days spent learning would increase 2.15 days.\n",
    "c) {days}\n",
    "d) regular: {rsquared:.4f}, adjusted: {adj_rsquared:.4f}\n",
    "''')"
   ]
  },
  {
   "cell_type": "code",
   "execution_count": 15,
   "metadata": {},
   "outputs": [
    {
     "name": "stdout",
     "output_type": "stream",
     "text": [
      "CONFIDENCE INTERVAL\n",
      "standard error = 0.1200, me = 0.2406, dof = 54, t_conf = 2.0049\n",
      "a) we're 95% confident that male students on average have GPAs -0.3206 lower and 0.1606 higher than females\n",
      "when controlling for the other variables in the model\n",
      "b) yes, it should include since all the p-values of predictor variables are far over the significance level of 5%\n",
      "\n"
     ]
    },
    {
     "name": "stderr",
     "output_type": "stream",
     "text": [
      "C:\\Program Files (x86)\\Anaconda3\\lib\\site-packages\\matplotlib\\patches.py:121: UserWarning: Setting the 'color' property will overridethe edgecolor or facecolor properties. \n",
      "  warnings.warn(\"Setting the 'color' property will override\"\n"
     ]
    },
    {
     "data": {
      "image/png": "[encoded data removed]",
      "text/plain": [
       "<matplotlib.figure.Figure at 0x1e8b8ae1b70>"
      ]
     },
     "metadata": {},
     "output_type": "display_data"
    }
   ],
   "source": [
    "b1 = -0.08\n",
    "s_b1 = .12\n",
    "t_b1 = -.68\n",
    "\n",
    "xbar = b1\n",
    "se = s_b1\n",
    "dof = 54\n",
    "cl = .95\n",
    "sl = 1-cl\n",
    "\n",
    "# CONFIDENCE INTERVAL\n",
    "fig = plt.figure(figsize=(14,4))\n",
    "x = np.linspace(-4, 4, 500)\n",
    "s1t = sl / 2\n",
    "t_conf = stats.t.ppf(1-s1t, dof) # upper tail is 1 - confidence level /2 (one tail)\n",
    "se = s_b1\n",
    "me = t_conf * se\n",
    "lo = xbar - me\n",
    "hi = xbar + me\n",
    "print(f'''CONFIDENCE INTERVAL\n",
    "standard error = {se:.4f}, me = {me:.4f}, dof = {dof}, t_conf = {t_conf:.4f}\n",
    "a) we're {cl:.0%} confident that male students on average have GPAs {lo:.4f} lower and {hi:.4f} higher than females\n",
    "when controlling for the other variables in the model\n",
    "b) yes, it should include since all the p-values of predictor variables are far over the significance level of {sl:.0%}\n",
    "'''\n",
    ".format(cl=cl,se=se,me=me,lo=lo,hi=hi,dof=dof,t_conf=t_conf))\n",
    "\n",
    "ax_conf = fig.add_subplot(1,2,2)\n",
    "y = stats.t.pdf(x, dof)\n",
    "two_t_conf = [t_conf, (t_conf)*-1]\n",
    "\n",
    "ax_conf.plot(x, y, color='black',label=f' t-distribution, df= {dof}'.format(df=dof))\n",
    "ax_conf.fill_between(x, y, color='blue', alpha=0.5, where= ~((x<min(two_t_conf)) | (x>max(two_t_conf))) ,label=\"confidence interval\")\n",
    "ax_conf.set_ylabel('Probability Density')\n",
    "ax_conf.set_xlabel('Standard Deviations')\n",
    "ax_conf.set_title('Confidence Interval')\n",
    "ax_conf.text(min(two_t_conf), stats.t.cdf(x=min(two_t_conf), df=dof), '{t_lo:.2f}'.format(t_lo=lo), color='black', \n",
    "        bbox=dict(facecolor='none', edgecolor='black', boxstyle='round,pad=1', color='gray'),fontsize='x-small')\n",
    "ax_conf.text(max(two_t_conf), stats.t.cdf(x=min(two_t_conf), df=dof), '{t_hi:.2f}'.format(t_hi=hi), color='black', \n",
    "        bbox=dict(facecolor='none', edgecolor='black', boxstyle='round,pad=1', color='gray'),fontsize='x-small')\n",
    "legend = ax_conf.legend(shadow=True,fontsize='small')"
   ]
  },
  {
   "cell_type": "code",
   "execution_count": 27,
   "metadata": {
    "scrolled": false
   },
   "outputs": [
    {
     "name": "stdout",
     "output_type": "stream",
     "text": [
      "CONFIDENCE INTERVAL\n",
      "standard error = 0.1300, me = 0.2655, dof = 30, t_conf = 2.0423\n",
      "a) we're 95% confident that the true change per feet for black cherry trees is between 0.0745 and 0.6055 \n",
      "b) predicted:22.093000000000007, actual: 24.2,\n",
      "predicted-actual = 22.09 - 24.2 = -2.11\n",
      "the model underestimates the volume of this tree by 2.11\n"
     ]
    },
    {
     "name": "stderr",
     "output_type": "stream",
     "text": [
      "C:\\Program Files (x86)\\Anaconda3\\lib\\site-packages\\matplotlib\\patches.py:121: UserWarning: Setting the 'color' property will overridethe edgecolor or facecolor properties. \n",
      "  warnings.warn(\"Setting the 'color' property will override\"\n"
     ]
    },
    {
     "data": {
      "image/png": "[encoded data removed]",
      "text/plain": [
       "<matplotlib.figure.Figure at 0x1e8b8a97748>"
      ]
     },
     "metadata": {},
     "output_type": "display_data"
    }
   ],
   "source": [
    "b1 = 0.34\n",
    "s_b1 = .13\n",
    "t_b1 = 2.61\n",
    "\n",
    "xbar = b1\n",
    "se = s_b1\n",
    "dof = 30\n",
    "cl = .95\n",
    "sl = 1-cl\n",
    "\n",
    "# CONFIDENCE INTERVAL\n",
    "fig = plt.figure(figsize=(14,4))\n",
    "x = np.linspace(-4, 4, 500)\n",
    "s1t = sl / 2\n",
    "t_conf = stats.t.ppf(1-s1t, dof) # upper tail is 1 - confidence level /2 (one tail)\n",
    "se = s_b1\n",
    "me = t_conf * se\n",
    "lo = xbar - me\n",
    "hi = xbar + me\n",
    "\n",
    "cubic_vol_pred = -57.99 + 0.34 * 79 + 4.71 * 11.3 \n",
    "cubic_vol_act = 24.2\n",
    "resid = cubic_vol_pred - cubic_vol_act\n",
    "\n",
    "print(f'''CONFIDENCE INTERVAL\n",
    "standard error = {se:.4f}, me = {me:.4f}, dof = {dof}, t_conf = {t_conf:.4f}\n",
    "a) we're {cl:.0%} confident that the true change per feet for black cherry trees is between {lo:.4f} and {hi:.4f} \n",
    "b) predicted:{cubic_vol_pred}, actual: {cubic_vol_act},\n",
    "predicted-actual = {cubic_vol_pred:.2f} - {cubic_vol_act} = {resid:.2f}\n",
    "the model underestimates the volume of this tree by {abs(resid):.2f}'''\n",
    ".format(cl=cl,se=se,me=me,lo=lo,hi=hi,dof=dof,t_conf=t_conf))\n",
    "\n",
    "ax_conf = fig.add_subplot(1,2,2)\n",
    "y = stats.t.pdf(x, dof)\n",
    "two_t_conf = [t_conf, (t_conf)*-1]\n",
    "\n",
    "ax_conf.plot(x, y, color='black',label=f' t-distribution, df= {dof}'.format(df=dof))\n",
    "ax_conf.fill_between(x, y, color='blue', alpha=0.5, where= ~((x<min(two_t_conf)) | (x>max(two_t_conf))) ,label=\"confidence interval\")\n",
    "ax_conf.set_ylabel('Probability Density')\n",
    "ax_conf.set_xlabel('Standard Deviations')\n",
    "ax_conf.set_title('Confidence Interval')\n",
    "ax_conf.text(min(two_t_conf), stats.t.cdf(x=min(two_t_conf), df=dof), '{t_lo:.2f}'.format(t_lo=lo), color='black', \n",
    "        bbox=dict(facecolor='none', edgecolor='black', boxstyle='round,pad=1', color='gray'),fontsize='x-small')\n",
    "ax_conf.text(max(two_t_conf), stats.t.cdf(x=min(two_t_conf), df=dof), '{t_hi:.2f}'.format(t_hi=hi), color='black', \n",
    "        bbox=dict(facecolor='none', edgecolor='black', boxstyle='round,pad=1', color='gray'),fontsize='x-small')\n",
    "legend = ax_conf.legend(shadow=True,fontsize='small')"
   ]
  },
  {
   "cell_type": "code",
   "execution_count": null,
   "metadata": {
    "collapsed": true
   },
   "outputs": [],
   "source": []
  },
  {
   "cell_type": "code",
   "execution_count": null,
   "metadata": {
    "collapsed": true
   },
   "outputs": [],
   "source": []
  },
  {
   "cell_type": "code",
   "execution_count": null,
   "metadata": {
    "collapsed": true
   },
   "outputs": [],
   "source": []
  }
 ],
 "metadata": {
  "kernelspec": {
   "display_name": "Python 3",
   "language": "python",
   "name": "python3"
  },
  "language_info": {
   "codemirror_mode": {
    "name": "ipython",
    "version": 3
   },
   "file_extension": ".py",
   "mimetype": "text/x-python",
   "name": "python",
   "nbconvert_exporter": "python",
   "pygments_lexer": "ipython3",
   "version": "3.6.1"
  }
 },
 "nbformat": 4,
 "nbformat_minor": 2
}
