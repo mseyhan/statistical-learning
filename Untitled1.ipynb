{
 "cells": [
  {
   "cell_type": "code",
   "execution_count": 1,
   "metadata": {
    "collapsed": true
   },
   "outputs": [],
   "source": [
    "import pandas as pd\n",
    "import numpy as np\n",
    "import random\n",
    "import scipy.stats\n",
    "import math\n",
    "import seaborn as sns\n",
    "from matplotlib import pyplot as plt\n",
    "from random import sample\n",
    "from scipy.stats import chisquare\n",
    "from scipy.stats import geom\n",
    "from scipy.stats import t\n",
    "from scipy import stats\n",
    "from sklearn.linear_model import LinearRegression\n",
    "from sklearn.metrics import r2_score\n",
    "from matplotlib.ticker import AutoMinorLocator\n",
    "%matplotlib inline"
   ]
  },
  {
   "cell_type": "code",
   "execution_count": 17,
   "metadata": {},
   "outputs": [
    {
     "name": "stdout",
     "output_type": "stream",
     "text": [
      "regular:  0.25044351565084044 adjusted:  0.2467841674766379\n",
      "a) bwt = -80.41 + 0.44*gest -3.33*parity -.01*age + 1.15*height + .05 * weight - 8.40 * smoke\n",
      "b) the model predicts every additional day in the variable gestation would result as a +.44 difference in the baby's weight\n",
      "the model predicts every additional year in the mother's age would result +.01 difference in the baby's weight\n",
      "c) because in the multiple regression context, . when we include all of the variables' and inner structures, we can take into\n",
      "account the maybe that particular variable is correlated with another one. this complicates the regression model, those two\n",
      "slopes would be more different in this case.\n",
      "d) -0.58\n",
      "e) regular: 0.2504, adjusted: 0.2468\n"
     ]
    }
   ],
   "source": [
    "\n",
    "bwt0= 120 \n",
    "gest=284 \n",
    "parity = 0\n",
    "age = 27 \n",
    "height=62 \n",
    "weight=100 \n",
    "smoke= 0\n",
    "bwt = -80.41 + 0.44*gest -3.33*parity -.01*age + 1.15*height + .05 * weight - 8.40 * smoke\n",
    "resid1 = bwt0-bwt\n",
    "k=6 # number of the predictor variables in the model.\n",
    "n = 1236 # observations\n",
    "var_res = 249.28 # variability in the residuals \n",
    "var_data = 332.57 # variability in the outcome\n",
    "\n",
    "rsquared = 1 - (var_res/var_data) # regular rsquared\n",
    "adj_rsquared = 1 - (var_res/var_data) * (n-1) / (n-k-1)\n",
    "print('regular: ', rsquared, 'adjusted: ',adj_rsquared)\n",
    "\n",
    "print(f'''a) bwt = -80.41 + 0.44*gest -3.33*parity -.01*age + 1.15*height + .05 * weight - 8.40 * smoke\n",
    "b) the model predicts every additional day in the variable gestation would result as a +.44 difference in the baby's weight\n",
    "the model predicts every additional year in the mother's age would result +.01 difference in the baby's weight\n",
    "c) because in the multiple regression context, . when we include all of the variables' and inner structures, we can take into\n",
    "account the maybe that particular variable is correlated with another one. this complicates the regression model, those two\n",
    "slopes would be more different in this case.\n",
    "d) {resid1:.2f}\n",
    "e) regular: {rsquared:.4f}, adjusted: {adj_rsquared:.4f}''')"
   ]
  },
  {
   "cell_type": "code",
   "execution_count": 19,
   "metadata": {},
   "outputs": [
    {
     "name": "stdout",
     "output_type": "stream",
     "text": [
      "a) days = 18.93 - 9.11 * eth + 3.10 * sex + 2.15 * lrn\n",
      "b) the model predicts a person with a non aboriginal ethical background would spend a 9.11 days less than someone with an \n",
      "aboriginal ethical background on average. \n",
      "the model predicts a male would spend 3.1 more days to learning than a female on average.\n",
      "the model predicts if someone is a fast learner, their days spent learning would increase 2.15 days.\n",
      "c) 24.18\n",
      "\n",
      "\n"
     ]
    }
   ],
   "source": [
    "eth=0 \n",
    "sex=1 \n",
    "lrn=1\n",
    "days = 18.93 - 9.11 * eth + 3.10 * sex + 2.15 * lrn\n",
    "print(f'''a) days = 18.93 - 9.11 * eth + 3.10 * sex + 2.15 * lrn\n",
    "b) the model predicts a person with a non aboriginal ethical background would spend a 9.11 days less than someone with an \n",
    "aboriginal ethical background on average. \n",
    "the model predicts a male would spend 3.1 more days to learning than a female on average.\n",
    "the model predicts if someone is a fast learner, their days spent learning would increase 2.15 days.\n",
    "c) {days}\n",
    "\n",
    "''')"
   ]
  },
  {
   "cell_type": "code",
   "execution_count": null,
   "metadata": {
    "collapsed": true
   },
   "outputs": [],
   "source": []
  }
 ],
 "metadata": {
  "kernelspec": {
   "display_name": "Python 3",
   "language": "python",
   "name": "python3"
  },
  "language_info": {
   "codemirror_mode": {
    "name": "ipython",
    "version": 3
   },
   "file_extension": ".py",
   "mimetype": "text/x-python",
   "name": "python",
   "nbconvert_exporter": "python",
   "pygments_lexer": "ipython3",
   "version": "3.6.1"
  }
 },
 "nbformat": 4,
 "nbformat_minor": 2
}
