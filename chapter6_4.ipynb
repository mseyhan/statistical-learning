{
 "cells": [
  {
   "cell_type": "code",
   "execution_count": 2,
   "metadata": {
    "collapsed": true
   },
   "outputs": [],
   "source": [
    "import pandas as pd\n",
    "import numpy as np\n",
    "import random\n",
    "import scipy.stats\n",
    "import math\n",
    "from matplotlib import pyplot as plt\n",
    "from random import sample\n",
    "from scipy.stats import chisquare\n",
    "from scipy.stats import geom\n",
    "from scipy import stats\n",
    "z90 = 1.645\n",
    "z95 = 1.96\n",
    "z99 = 2.576"
   ]
  },
  {
   "cell_type": "code",
   "execution_count": 48,
   "metadata": {},
   "outputs": [
    {
     "name": "stdout",
     "output_type": "stream",
     "text": [
      "Outcome           General  Negative Assumption  Positive Assumption  All\n",
      "College Grad                                                            \n",
      "Disclose Problem        2                   36                   23   61\n",
      "Hide Problem           71                   37                   50  158\n",
      "All                    73                   73                   73  219\n",
      "a) percent of : 0.0327868852459\n",
      "percent of : 0.449367088608\n"
     ]
    },
    {
     "data": {
      "text/plain": [
       "52.666666666666671"
      ]
     },
     "execution_count": 48,
     "metadata": {},
     "output_type": "execute_result"
    }
   ],
   "source": [
    "# generating the two-way table in the exercise, a 2x3 matrix\n",
    "# we're trying to understand whether the buyer's question is independent of whether the seller disclosed a problem.\n",
    "group_1 = 'Disclose Problem'\n",
    "group_2 = 'Hide Problem'\n",
    "outcome_1 = 'General'\n",
    "outcome_2 = 'Positive Assumption'\n",
    "outcome_3 = 'Negative Assumption'\n",
    "group = np.array([group_1,group_2])\n",
    "group = np.repeat(group, [61,158],axis=0)\n",
    "outcome = np.array([outcome_1,outcome_2,outcome_3,outcome_1,outcome_2,outcome_3])\n",
    "outcome = np.repeat(outcome,[2,23,36,71,50,37],axis=0)\n",
    "df = pd.DataFrame ({'College Grad':group,'Outcome':outcome})\n",
    "group = df[\"College Grad\"]\n",
    "outcome = df[\"Outcome\"]\n",
    "ct = pd.crosstab(group,outcome,margins=True,normalize=False) # the version that the values are not normalized\n",
    "ct_n = pd.crosstab(group,outcome,margins=True,normalize='index') # the normalized version based on---.\n",
    "ct_n1 = pd.crosstab(group,outcome,margins=True,normalize=True) # the normalized version based on the sample size of entire study.\n",
    "print(ct)\n",
    "print(\"a) percent of :\",ct_n[outcome_1][group_1])\n",
    "print(\"percent of :\",ct_n[outcome_1][group_2])\n",
    "#print(ct_n)\n",
    "#print(ct_n1)\n",
    "p_pooled = ct_n1[\"All\"][group_1] # pooled proportion is: # of successes in study / sample size in the entire study.\n",
    "minus_p_pooled = 1 - p_pooled\n",
    "# here it should be equal to the expected counts of the successes. for the first group, disclosers\n",
    "\n",
    "exp_1 = p_pooled * ct[outcome_1][\"All\"] # expected count for the 1st group\n",
    "exp_2 = minus_p_pooled * ct[outcome_2][\"All\"] # expected count for the 2nd group\n"
   ]
  },
  {
   "cell_type": "code",
   "execution_count": 33,
   "metadata": {},
   "outputs": [],
   "source": [
    "# How many of the x group would we have expected to yyy ?"
   ]
  },
  {
   "cell_type": "code",
   "execution_count": null,
   "metadata": {
    "collapsed": true
   },
   "outputs": [],
   "source": [
    "ct_n1 * "
   ]
  }
 ],
 "metadata": {
  "kernelspec": {
   "display_name": "Python 3",
   "language": "python",
   "name": "python3"
  },
  "language_info": {
   "codemirror_mode": {
    "name": "ipython",
    "version": 3
   },
   "file_extension": ".py",
   "mimetype": "text/x-python",
   "name": "python",
   "nbconvert_exporter": "python",
   "pygments_lexer": "ipython3",
   "version": "3.6.1"
  }
 },
 "nbformat": 4,
 "nbformat_minor": 2
}
