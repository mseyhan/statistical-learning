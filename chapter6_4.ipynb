{
 "cells": [
  {
   "cell_type": "code",
   "execution_count": 1,
   "metadata": {
    "collapsed": true
   },
   "outputs": [],
   "source": [
    "import pandas as pd\n",
    "import numpy as np\n",
    "import random\n",
    "import scipy.stats\n",
    "import math\n",
    "from matplotlib import pyplot as plt\n",
    "from random import sample\n",
    "from scipy.stats import chisquare\n",
    "from scipy.stats import geom\n",
    "from scipy import stats\n",
    "z90 = 1.645\n",
    "z95 = 1.96\n",
    "z99 = 2.576"
   ]
  },
  {
   "cell_type": "code",
   "execution_count": 2,
   "metadata": {
    "scrolled": true
   },
   "outputs": [
    {
     "name": "stdout",
     "output_type": "stream",
     "text": [
      "Outcome           General  Negative Assumption  Positive Assumption  All\n",
      "College Grad                                                            \n",
      "Disclose Problem        2                   36                   23   61\n",
      "Hide Problem           71                   37                   50  158\n",
      "All                    73                   73                   73  219\n",
      "a) percent of : 0.0327868852459\n",
      "percent of : 0.449367088608\n"
     ]
    }
   ],
   "source": [
    "# generating the two-way table in the exercise, a 2x3 matrix\n",
    "# we're trying to understand whether the buyer's question is independent of whether the seller disclosed a problem.\n",
    "group_1 = 'Disclose Problem'\n",
    "group_2 = 'Hide Problem'\n",
    "outcome_1 = 'General'\n",
    "outcome_2 = 'Positive Assumption'\n",
    "outcome_3 = 'Negative Assumption'\n",
    "group = np.array([group_1,group_2])\n",
    "group = np.repeat(group, [61,158],axis=0)\n",
    "outcome = np.array([outcome_1,outcome_2,outcome_3,outcome_1,outcome_2,outcome_3])\n",
    "outcome = np.repeat(outcome,[2,23,36,71,50,37],axis=0)\n",
    "df = pd.DataFrame ({'College Grad':group,'Outcome':outcome})\n",
    "group = df[\"College Grad\"]\n",
    "outcome = df[\"Outcome\"]\n",
    "ct = pd.crosstab(group,outcome,margins=True,normalize=False) # the version that the values are not normalized\n",
    "ct_n = pd.crosstab(group,outcome,margins=True,normalize='index') # the normalized version based on---.\n",
    "ct_n1 = pd.crosstab(group,outcome,margins=True,normalize=True) # the normalized version based on the sample size of entire study.\n",
    "print(ct)\n",
    "print(\"a) percent of :\",ct_n[outcome_1][group_1])\n",
    "print(\"percent of :\",ct_n[outcome_1][group_2])\n",
    "#print(ct_n)\n",
    "#print(ct_n1)\n",
    "\n",
    "success = group_1\n",
    "p = ct_n1[\"All\"][group_1] # pooled proportion is: # of successes in study / sample size in the entire study.\n",
    "minus_p = 1 - p\n",
    "# here it should be equal to the expected counts of the successes. for the first group, disclosers\n",
    "# p = proportion of all sellers who disclosed the freezing problem\n",
    "\n"
   ]
  },
  {
   "cell_type": "code",
   "execution_count": 155,
   "metadata": {
    "scrolled": false
   },
   "outputs": [
    {
     "name": "stdout",
     "output_type": "stream",
     "text": [
      "This is a 3x2 matrix with\n",
      "groups: ['General', 'Positive Assumption', 'Negative Assumption']\n",
      "outcomes: ['Disclose Problem', 'Hide Problem']\n",
      "insert 3 groups and 6 outcomes in correct order\n",
      "\n",
      "success in this case is:  Disclose Problem \n",
      "failure in this case is:  ['Hide Problem']\n",
      "College Grad      General  Negative Assumption  Positive Assumption  All\n",
      "Outcome                                                                 \n",
      "Disclose Problem        2                   36                   23   61\n",
      "Hide Problem           71                   37                   50  158\n",
      "All                    73                   73                   73  219\n"
     ]
    },
    {
     "data": {
      "text/html": [
       "<div>\n",
       "<style>\n",
       "    .dataframe thead tr:only-child th {\n",
       "        text-align: right;\n",
       "    }\n",
       "\n",
       "    .dataframe thead th {\n",
       "        text-align: left;\n",
       "    }\n",
       "\n",
       "    .dataframe tbody tr th {\n",
       "        vertical-align: top;\n",
       "    }\n",
       "</style>\n",
       "<table border=\"1\" class=\"dataframe\">\n",
       "  <thead>\n",
       "    <tr style=\"text-align: right;\">\n",
       "      <th>College Grad</th>\n",
       "      <th>General</th>\n",
       "      <th>Negative Assumption</th>\n",
       "      <th>Positive Assumption</th>\n",
       "      <th>All</th>\n",
       "    </tr>\n",
       "    <tr>\n",
       "      <th>Outcome</th>\n",
       "      <th></th>\n",
       "      <th></th>\n",
       "      <th></th>\n",
       "      <th></th>\n",
       "    </tr>\n",
       "  </thead>\n",
       "  <tbody>\n",
       "    <tr>\n",
       "      <th>Disclose Problem</th>\n",
       "      <td>Disclose Problem</td>\n",
       "      <td>Disclose Problem</td>\n",
       "      <td>Disclose Problem</td>\n",
       "      <td>Disclose Problem</td>\n",
       "    </tr>\n",
       "    <tr>\n",
       "      <th>Hide Problem</th>\n",
       "      <td>Hide Problem</td>\n",
       "      <td>Hide Problem</td>\n",
       "      <td>Hide Problem</td>\n",
       "      <td>Hide Problem</td>\n",
       "    </tr>\n",
       "    <tr>\n",
       "      <th>All</th>\n",
       "      <td>All</td>\n",
       "      <td>All</td>\n",
       "      <td>All</td>\n",
       "      <td>All</td>\n",
       "    </tr>\n",
       "  </tbody>\n",
       "</table>\n",
       "</div>"
      ],
      "text/plain": [
       "College Grad               General Negative Assumption Positive Assumption  \\\n",
       "Outcome                                                                      \n",
       "Disclose Problem  Disclose Problem    Disclose Problem    Disclose Problem   \n",
       "Hide Problem          Hide Problem        Hide Problem        Hide Problem   \n",
       "All                            All                 All                 All   \n",
       "\n",
       "College Grad                   All  \n",
       "Outcome                             \n",
       "Disclose Problem  Disclose Problem  \n",
       "Hide Problem          Hide Problem  \n",
       "All                            All  "
      ]
     },
     "execution_count": 155,
     "metadata": {},
     "output_type": "execute_result"
    }
   ],
   "source": [
    "# generating the two-way table in the exercise, a 3x2 matrix with 3 groups and 2 outcomes\n",
    "# we're trying to understand whether the buyer's question is independent of whether the seller disclosed a problem.\n",
    "groups = ['General','Positive Assumption','Negative Assumption']\n",
    "group_size = len(groups)\n",
    "outcomes = ['Disclose Problem', 'Hide Problem']\n",
    "outcome_size = len(outcomes)\n",
    "inserts = outcome_size*group_size\n",
    "print('''This is a {x}x{y} matrix with\n",
    "groups: {gr}\n",
    "outcomes: {out}\n",
    "insert {x} groups and {z} outcomes in correct order\n",
    "'''.format(x=group_size,y=outcome_size,gr=groups,out=outcomes,z=inserts))\n",
    "\n",
    "# CREATING THE MATRIX\n",
    "group = np.array(groups)\n",
    "group = np.repeat(group, [73,73,73],axis=0) # INSERT GROUPS\n",
    "outcome = np.array(outcomes*group_size)\n",
    "outcome = np.repeat(outcome,[2,71,23,50,36,37],axis=0) # INSERT OUTCOMES\n",
    "df = pd.DataFrame ({'College Grad':group,'Outcome':outcome})\n",
    "group = df[\"College Grad\"] # SPECIFY THE NAME OF THE GROUP AXIS\n",
    "outcome = df[\"Outcome\"] # SPECIFY THE NAME OF THE OUTCOME AXIS\n",
    "ct = pd.crosstab(group,outcome,margins=True,normalize=False).T # the version that the values are not normalized\n",
    "ct_n = pd.crosstab(group,outcome,margins=True,normalize='index').T # the normalized version based on row totals.\n",
    "ct_n1 = pd.crosstab(group,outcome,margins=True,normalize=True).T # the normalized version based on the sample size of entire study.\n",
    "\n",
    "# DETERMINE SUCCESS AND FAILURE\n",
    "success = outcomes[0]\n",
    "failure = outcomes.copy()\n",
    "failure.remove(success)\n",
    "p = ct_n1.loc[success,\"All\"] # number of successes in study / sample size in the entire study.\n",
    "minus_p = 1- p\n",
    "print(\"success in this case is: \",success, '''\n",
    "failure in this case is: ''',failure)\n",
    "\n",
    "# EXPECTED COUNTS\n",
    "print(ct)\n",
    "new_ct = ct.copy()\n",
    "newer_ct = new_ct.apply(lambda x: x.index)\n",
    "x = [2,36,23]\n",
    "newer_ct"
   ]
  },
  {
   "cell_type": "code",
   "execution_count": 98,
   "metadata": {},
   "outputs": [
    {
     "data": {
      "text/plain": [
       "16.990867579908674"
      ]
     },
     "execution_count": 98,
     "metadata": {},
     "output_type": "execute_result"
    }
   ],
   "source": [
    "tryer = ct.copy()\n",
    "ct.loc[\"Disclose Problem\",\"All\"] * p"
   ]
  },
  {
   "cell_type": "code",
   "execution_count": 4,
   "metadata": {
    "scrolled": true
   },
   "outputs": [
    {
     "data": {
      "text/plain": [
       "52.666666666666671"
      ]
     },
     "execution_count": 4,
     "metadata": {},
     "output_type": "execute_result"
    }
   ],
   "source": [
    "# How many of the x group would we have expected to yyy ?\n",
    "# if there's really NO DIFFERENCE among the questions, (the questions does not affect the outcome, -disclose or not-)\n",
    "# and the 27.85% of sellers were going to disclose the freezing problem no matter what the question was,\n",
    "# how many of the people in General group would we have expected to disclose the problem?\n",
    "\n",
    "exp_1 = p * ct[outcome_1][\"All\"] # expected count for the 1st group\n",
    "exp_2 = minus_p * ct[outcome_2][\"All\"] # expected count for the 2nd group\n",
    "exp_2"
   ]
  },
  {
   "cell_type": "code",
   "execution_count": 25,
   "metadata": {},
   "outputs": [
    {
     "data": {
      "text/html": [
       "<div>\n",
       "<style>\n",
       "    .dataframe thead tr:only-child th {\n",
       "        text-align: right;\n",
       "    }\n",
       "\n",
       "    .dataframe thead th {\n",
       "        text-align: left;\n",
       "    }\n",
       "\n",
       "    .dataframe tbody tr th {\n",
       "        vertical-align: top;\n",
       "    }\n",
       "</style>\n",
       "<table border=\"1\" class=\"dataframe\">\n",
       "  <thead>\n",
       "    <tr style=\"text-align: right;\">\n",
       "      <th>Outcome</th>\n",
       "      <th>General</th>\n",
       "      <th>Negative Assumption</th>\n",
       "      <th>Positive Assumption</th>\n",
       "      <th>All</th>\n",
       "    </tr>\n",
       "    <tr>\n",
       "      <th>College Grad</th>\n",
       "      <th></th>\n",
       "      <th></th>\n",
       "      <th></th>\n",
       "      <th></th>\n",
       "    </tr>\n",
       "  </thead>\n",
       "  <tbody>\n",
       "    <tr>\n",
       "      <th>Disclose Problem</th>\n",
       "      <td>0.557078</td>\n",
       "      <td>36</td>\n",
       "      <td>23</td>\n",
       "      <td>61</td>\n",
       "    </tr>\n",
       "    <tr>\n",
       "      <th>Hide Problem</th>\n",
       "      <td>19.776256</td>\n",
       "      <td>37</td>\n",
       "      <td>50</td>\n",
       "      <td>158</td>\n",
       "    </tr>\n",
       "    <tr>\n",
       "      <th>All</th>\n",
       "      <td>20.333333</td>\n",
       "      <td>73</td>\n",
       "      <td>73</td>\n",
       "      <td>219</td>\n",
       "    </tr>\n",
       "  </tbody>\n",
       "</table>\n",
       "</div>"
      ],
      "text/plain": [
       "Outcome             General  Negative Assumption  Positive Assumption  All\n",
       "College Grad                                                              \n",
       "Disclose Problem   0.557078                   36                   23   61\n",
       "Hide Problem      19.776256                   37                   50  158\n",
       "All               20.333333                   73                   73  219"
      ]
     },
     "execution_count": 25,
     "metadata": {},
     "output_type": "execute_result"
    }
   ],
   "source": [
    "crosstry = ct.copy()\n",
    "crosstry[\"General\"] = crosstry[\"General\"] * p\n",
    "crosstry"
   ]
  },
  {
   "cell_type": "code",
   "execution_count": 52,
   "metadata": {},
   "outputs": [
    {
     "data": {
      "text/plain": [
       "'6.35 Quitters. Does being part of a support group a\\nect the ability of people to quit smoking? A county\\nhealth department enrolled 300 smokers in a randomized experiment. 150 participants were assigned to a\\ngroup that used a nicotine patch and met weekly with a support group; the other 150 received the patch\\nand did not meet with a support group. At the end of the study, 40 of the participants in the patch plus\\nsupport group had quit smoking while only 30 smokers had quit in the other group.\\n(a) Create a two-way table presenting the results of this study.\\n(b) Answer each of the following questions under the null hypothesis that being part of a support group does\\nnot affect the ability of people to quit smoking, and indicate whether the expected values are higher or\\nlower than the observed values.\\ni. How many subjects in the \"patch + support\" group would you expect to quit?\\nii. How many subjects in the \"patch only\" group would you expect to not quit?'"
      ]
     },
     "execution_count": 52,
     "metadata": {},
     "output_type": "execute_result"
    }
   ],
   "source": [
    "'''6.35 Quitters. Does being part of a support group a\u000b",
    "ect the ability of people to quit smoking? A county\n",
    "health department enrolled 300 smokers in a randomized experiment. 150 participants were assigned to a\n",
    "group that used a nicotine patch and met weekly with a support group; the other 150 received the patch\n",
    "and did not meet with a support group. At the end of the study, 40 of the participants in the patch plus\n",
    "support group had quit smoking while only 30 smokers had quit in the other group.\n",
    "(a) Create a two-way table presenting the results of this study.\n",
    "(b) Answer each of the following questions under the null hypothesis that being part of a support group does\n",
    "not affect the ability of people to quit smoking, and indicate whether the expected values are higher or\n",
    "lower than the observed values.\n",
    "i. How many subjects in the \"patch + support\" group would you expect to quit?\n",
    "ii. How many subjects in the \"patch only\" group would you expect to not quit?'''"
   ]
  },
  {
   "cell_type": "code",
   "execution_count": 54,
   "metadata": {},
   "outputs": [
    {
     "data": {
      "text/plain": [
       "\"6.36 Full body scan, Part II. The table below summarizes a data set we first encountered in Exercise 6.26\\nregarding views on full-body scans and political affiliation. The differences in each political group may be\\ndue to chance. Complete the following computations under the null hypothesis of independence between an\\nindividual's party affiliation and his support of full-body scans. It may be useful to first add on an extra\\ncolumn for row totals before proceeding with the computations.\\nParty Affiliation\\nRepublican Democrat Independent\\nAnswer\\nShould 264 299 351\\nShould not 38 55 77\\nDon't know/No answer 16 15 22\\nTotal 318 369 450\\n(a) How many Republicans would you expect to not support the use of full-body scans?\\n(b) How many Democrats would you expect to support the use of full- body scans?\\n(c) How many Independents would you expect to not know or not answer?\""
      ]
     },
     "execution_count": 54,
     "metadata": {},
     "output_type": "execute_result"
    }
   ],
   "source": [
    "'''6.36 Full body scan, Part II. The table below summarizes a data set we first encountered in Exercise 6.26\n",
    "regarding views on full-body scans and political affiliation. The differences in each political group may be\n",
    "due to chance. Complete the following computations under the null hypothesis of independence between an\n",
    "individual's party affiliation and his support of full-body scans. It may be useful to first add on an extra\n",
    "column for row totals before proceeding with the computations.\n",
    "Party Affiliation\n",
    "Republican Democrat Independent\n",
    "Answer\n",
    "Should 264 299 351\n",
    "Should not 38 55 77\n",
    "Don't know/No answer 16 15 22\n",
    "Total 318 369 450\n",
    "(a) How many Republicans would you expect to not support the use of full-body scans?\n",
    "(b) How many Democrats would you expect to support the use of full- body scans?\n",
    "(c) How many Independents would you expect to not know or not answer?'''"
   ]
  },
  {
   "cell_type": "code",
   "execution_count": 55,
   "metadata": {},
   "outputs": [
    {
     "data": {
      "text/plain": [
       "'6.37 Offshore drilling, Part III. The table below summarizes a data set we first encountered in Exercise 6.23\\nthat examines the responses of a random sample of college graduates and non-graduates on the topic of oil\\ndrilling. Complete a chi-square test for these data to check whether there is a statistically signi\\ncant\\ndifference in responses from college graduates and non-graduates.\\nCollege Grad\\nYes No\\nSupport 154 132\\nOppose 180 126\\nDo not know 104 131\\nTotal 438 389'"
      ]
     },
     "execution_count": 55,
     "metadata": {},
     "output_type": "execute_result"
    }
   ],
   "source": [
    "'''6.37 Offshore drilling, Part III. The table below summarizes a data set we first encountered in Exercise 6.23\n",
    "that examines the responses of a random sample of college graduates and non-graduates on the topic of oil\n",
    "drilling. Complete a chi-square test for these data to check whether there is a statistically signi\f",
    "cant\n",
    "difference in responses from college graduates and non-graduates.\n",
    "College Grad\n",
    "Yes No\n",
    "Support 154 132\n",
    "Oppose 180 126\n",
    "Do not know 104 131\n",
    "Total 438 389'''"
   ]
  },
  {
   "cell_type": "code",
   "execution_count": 56,
   "metadata": {},
   "outputs": [
    {
     "data": {
      "text/plain": [
       "'6.38 Parasitic worm. Lymphatic filariasis is a disease caused by a parasitic worm. Complications of the\\ndisease can lead to extreme swelling and other complications. Here we consider results from a randomized\\nexperiment that compared three different drug treatment options to clear people of the this parasite, which\\npeople are working to eliminate entirely. The results for the second year of the study are given below:46\\nClear at Year 2 Not Clear at Year 2\\nThree drugs 52 2\\nTwo drugs 31 24\\nTwo drugs annually 42 14\\n(a) Set up hypotheses for evaluating whether there is any difference in the performance of the treatments,\\nand also check conditions.\\n(b) Statistical software was used to run a chi-square test, which output:\\nX2 = 23:7 df = 2 p-value = 7.2e-6\\nUse these results to evaluate the hypotheses from part (a), and provide a conclusion in the context of\\nthe problem.'"
      ]
     },
     "execution_count": 56,
     "metadata": {},
     "output_type": "execute_result"
    }
   ],
   "source": [
    "'''6.38 Parasitic worm. Lymphatic filariasis is a disease caused by a parasitic worm. Complications of the\n",
    "disease can lead to extreme swelling and other complications. Here we consider results from a randomized\n",
    "experiment that compared three different drug treatment options to clear people of the this parasite, which\n",
    "people are working to eliminate entirely. The results for the second year of the study are given below:46\n",
    "Clear at Year 2 Not Clear at Year 2\n",
    "Three drugs 52 2\n",
    "Two drugs 31 24\n",
    "Two drugs annually 42 14\n",
    "(a) Set up hypotheses for evaluating whether there is any difference in the performance of the treatments,\n",
    "and also check conditions.\n",
    "(b) Statistical software was used to run a chi-square test, which output:\n",
    "X2 = 23:7 df = 2 p-value = 7.2e-6\n",
    "Use these results to evaluate the hypotheses from part (a), and provide a conclusion in the context of\n",
    "the problem.'''"
   ]
  },
  {
   "cell_type": "code",
   "execution_count": 54,
   "metadata": {},
   "outputs": [
    {
     "data": {
      "text/plain": [
       "array(['Disclose Problem', 'Hide Problem', 'Disclose Problem',\n",
       "       'Hide Problem', 'Disclose Problem', 'Hide Problem'], \n",
       "      dtype='<U16')"
      ]
     },
     "execution_count": 54,
     "metadata": {},
     "output_type": "execute_result"
    }
   ],
   "source": [
    "np.array(['Disclose Problem', 'Hide Problem']*3)"
   ]
  },
  {
   "cell_type": "code",
   "execution_count": 64,
   "metadata": {},
   "outputs": [
    {
     "data": {
      "text/plain": [
       "array(['Disclose Problem', 'Hide Problem', 'Disclose Problem',\n",
       "       'Hide Problem'], \n",
       "      dtype='<U16')"
      ]
     },
     "execution_count": 64,
     "metadata": {},
     "output_type": "execute_result"
    }
   ],
   "source": [
    "np.array(outcomes*outcome_size)"
   ]
  },
  {
   "cell_type": "code",
   "execution_count": null,
   "metadata": {
    "collapsed": true
   },
   "outputs": [],
   "source": []
  }
 ],
 "metadata": {
  "kernelspec": {
   "display_name": "Python 3",
   "language": "python",
   "name": "python3"
  },
  "language_info": {
   "codemirror_mode": {
    "name": "ipython",
    "version": 3
   },
   "file_extension": ".py",
   "mimetype": "text/x-python",
   "name": "python",
   "nbconvert_exporter": "python",
   "pygments_lexer": "ipython3",
   "version": "3.6.1"
  }
 },
 "nbformat": 4,
 "nbformat_minor": 2
}
