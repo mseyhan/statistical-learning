{
 "cells": [
  {
   "cell_type": "code",
   "execution_count": 1,
   "metadata": {
    "collapsed": true
   },
   "outputs": [],
   "source": [
    "import pandas as pd\n",
    "import numpy as np\n",
    "import random\n",
    "import scipy.stats\n",
    "import math\n",
    "import seaborn as sns\n",
    "from matplotlib import pyplot as plt\n",
    "from random import sample\n",
    "from scipy.stats import chisquare\n",
    "from scipy.stats import geom\n",
    "from scipy.stats import t\n",
    "from scipy import stats\n",
    "z90 = 1.645\n",
    "z95 = 1.96\n",
    "z99 = 2.576\n",
    "%matplotlib inline"
   ]
  },
  {
   "cell_type": "markdown",
   "metadata": {},
   "source": [
    "CHAPTER 7.2: Paired data"
   ]
  },
  {
   "cell_type": "code",
   "execution_count": 2,
   "metadata": {
    "collapsed": true
   },
   "outputs": [],
   "source": [
    "# when two sets of observations have this special correspondence, they're said to be paired\n",
    "\n",
    "# Two sets of observations are paired if each observation in one set has a special correspondence\n",
    "# or connection with exactly one observation in the other data set.\n",
    "# using differences between paired observations is a common and useful way to analyze paired data."
   ]
  },
  {
   "cell_type": "code",
   "execution_count": 3,
   "metadata": {},
   "outputs": [
    {
     "name": "stdout",
     "output_type": "stream",
     "text": [
      "H0: There's no difference in average textbook price. u_diff = 0\n",
      "HA: There's a difference in average textbook price. HA: u_diff != 0\n",
      "\n",
      "independence: because it's a simple random sample, independence condition satisfied.\n",
      "normality: because none of the outliers are particularly extreme, normality satisfied.\n",
      "because 0.0313 is less than significance level, we reject H0 and conclude\n",
      "amazon prices are on average, lower than the ucla bookstore prices for ucla courses.\n"
     ]
    }
   ],
   "source": [
    "# example 7.17\n",
    "n = 68\n",
    "xbar = 3.58\n",
    "s = 13.42\n",
    "x0 = 0\n",
    "\n",
    "print('''H0: There's no difference in average textbook price. u_diff = 0\n",
    "HA: There's a difference in average textbook price. HA: u_diff != 0\n",
    "\n",
    "independence: because it's a simple random sample, independence condition satisfied.\n",
    "normality: because none of the outliers are particularly extreme, normality satisfied.''')\n",
    "\n",
    "dof = n-1\n",
    "se = s / np.sqrt(n)\n",
    "t = (xbar -x0) / se\n",
    "two_t = [t,t*(-1)]\n",
    "p1t = stats.t.cdf(min(two_t),dof)\n",
    "p = stats.t.cdf(min(two_t),dof) * 2\n",
    "print('''because {p:.4f} is less than significance level, we reject H0 and conclude\n",
    "amazon prices are on average, lower than the ucla bookstore prices for ucla courses.'''.format(p=p))"
   ]
  },
  {
   "cell_type": "code",
   "execution_count": 4,
   "metadata": {},
   "outputs": [
    {
     "name": "stdout",
     "output_type": "stream",
     "text": [
      "these two variables are connected, so paired test should be used.\n"
     ]
    }
   ],
   "source": [
    "'''7.15 Air quality. Air quality measurements were collected in a random sample of 25 country capitals in\n",
    "2013, and then again in the same cities in 2014. We would like to use these data to compare average air\n",
    "quality between the two years. Should we use a paired or non-paired test? Explain your reasoning.'''\n",
    "\n",
    "print('''these two variables are connected, so paired test should be used.''')"
   ]
  },
  {
   "cell_type": "code",
   "execution_count": 5,
   "metadata": {},
   "outputs": [
    {
     "name": "stdout",
     "output_type": "stream",
     "text": [
      "a) true.\n",
      "b) true.\n",
      "c) true.\n",
      "d) false. each observation in one data set is subtracted from the corresponding observation.\n",
      "\n"
     ]
    }
   ],
   "source": [
    "'''7.16 True / False: paired. Determine if the following statements are true or false. If false, explain.\n",
    "(a) In a paired analysis we first take the difference of each pair of observations, and then we do inference\n",
    "on these differences.\n",
    "(b) Two data sets of different sizes cannot be analyzed as paired data.\n",
    "(c) Consider two sets of data that are paired with each other. Each observation in one data set has a natural\n",
    "correspondence with exactly one observation from the other data set.\n",
    "(d) Consider two sets of data that are paired with each other. Each observation in one data set is subtracted\n",
    "from the average of the other data set's observations.'''\n",
    "\n",
    "print('''a) true.\n",
    "b) true.\n",
    "c) true.\n",
    "d) false. each observation in one data set is subtracted from the corresponding observation.\n",
    "''')"
   ]
  },
  {
   "cell_type": "code",
   "execution_count": 6,
   "metadata": {
    "scrolled": false
   },
   "outputs": [
    {
     "name": "stdout",
     "output_type": "stream",
     "text": [
      "a) paired.\n",
      "b) non-paired.\n",
      "c) paired.\n",
      "d) paired.\n"
     ]
    }
   ],
   "source": [
    "'''7.17 Paired or not? Part I. In each of the following scenarios, determine if the data are paired.\n",
    "(a) Compare pre- (beginning of semester) and post-test (end of semester) scores of students.\n",
    "(b) Assess gender-related salary gap by comparing salaries of randomly sampled men and women.\n",
    "(c) Compare artery thicknesses at the beginning of a study and after 2 years of taking Vitamin E for the\n",
    "same group of patients.\n",
    "(d) Assess effectiveness of a diet regimen by comparing the before and after weights of subjects.'''\n",
    "print('''a) paired.\n",
    "b) non-paired.\n",
    "c) paired.\n",
    "d) paired.''')"
   ]
  },
  {
   "cell_type": "markdown",
   "metadata": {},
   "source": [
    "##### in order to conduct a paired-test, there should be a connection between all of two corresponding samples. i.e., if we collected two different data from the same subject, they are probably dependent and we should conduct a paired test. if the two samples collected are independent, we should conduct a non-paired test."
   ]
  },
  {
   "cell_type": "code",
   "execution_count": 7,
   "metadata": {},
   "outputs": [
    {
     "name": "stdout",
     "output_type": "stream",
     "text": [
      "a) non-paired test.\n",
      "b) paired test.\n",
      "c) non-paired test.\n"
     ]
    }
   ],
   "source": [
    "'''7.18 Paired or not? Part II. In each of the following scenarios, determine if the data are paired.\n",
    "(a) We would like to know if Intel's stock and Southwest Airlines' stock have similar rates of return. To find\n",
    "out, we take a random sample of 50 days, and record Intel's and Southwest's stock on those same days.\n",
    "(b) We randomly sample 50 items from Target stores and note the price for each. Then we visit Walmart\n",
    "and collect the price for each of those same 50 items.\n",
    "(c) A school board would like to determine whether there is a difference in average SAT scores for students\n",
    "at one high school versus another high school in the district. To check, they take a simple random\n",
    "sample of 100 students from each high school.'''\n",
    "print('''a) non-paired test.\n",
    "b) paired test.\n",
    "c) non-paired test.''')"
   ]
  },
  {
   "cell_type": "code",
   "execution_count": 19,
   "metadata": {},
   "outputs": [
    {
     "name": "stdout",
     "output_type": "stream",
     "text": [
      " a) there's a relationship between observations since the same subjects (locations) are used in the data\n",
      "observations in the two groups are not independent since there's connection between the variables. for example,\n",
      "for one particular location there's two different year data and they're connected.\n",
      "b) H0: there's no difference in avg number of days exceeding 90F in 1948 and 2018 NOAA stations. u = 0\n",
      "HA: there's difference in avg number of days exceeding 90F in 1948 and 2018 NOAA stations. u != 0\n",
      "c) the independence is satisfied since we conduct a paired test with connected randomly sampled informations.\n",
      "there are no particularly extreme outliers in the histogram, normality condition is okay.\n",
      "d) test statistic (t) = 2.3665 // p-value = 0.0189\n",
      "e) because 0.0189 is less than significance level, we reject H0 and conclude\n",
      "between locations' 1948 and 2018 temperature differences on average, there's a statistically significant difference.\n",
      "f) Type 1 error since we rejected H0. If twe made a T1 error, that means; normally there's no significant difference\n",
      "between two averages but our sample made it look like there is.\n",
      "g) no. \n"
     ]
    }
   ],
   "source": [
    "'''7.19 Global warming, Part I. Let's consider a limited set of climate data, examining temperature differences\n",
    "in 1948 vs 2018. We sampled 197 locations from the National Oceanic and Atmospheric Administration's\n",
    "(NOAA) historical data, where the data was available for both years of interest. We want to know: were\n",
    "there more days with temperatures exceeding 90°F in 2018 or in 1948?12 The difference in number of days\n",
    "exceeding 90°F (number of days in 2018 - number of days in 1948) was calculated for each of the 197 locations.\n",
    "The average of these differences was 2.9 days with a standard deviation of 17.2 days. We are interested in\n",
    "determining whether these data provide strong evidence that there were more days in 2018 that exceeded\n",
    "90°F from NOAA's weather stations.\n",
    "(a) Is there a relationship between the observations collected in 1948\n",
    "and 2018? Or are the observations in the two groups independent?\n",
    "Explain.\n",
    "(b) Write hypotheses for this research in symbols and in words.\n",
    "(c) Check the conditions required to complete this test. A histogram\n",
    "of the differences is given to the right.\n",
    "(d) Calculate the test statistic and find the p-value.\n",
    "(e) Use alpha = 0.05 to evaluate the test, and interpret your conclusion\n",
    "in context.\n",
    "(f) What type of error might we have made? Explain in context what\n",
    "the error means.\n",
    "(g) Based on the results of this hypothesis test, would you expect a\n",
    "confidence interval for the average difference between the number\n",
    "of days exceeding 90°F from 1948 and 2018 to include 0? Explain\n",
    "your reasoning.'''\n",
    "\n",
    "print(''' a) there's a relationship between observations since the same subjects (locations) are used in the data\n",
    "observations in the two groups are not independent since there's connection between the variables. for example,\n",
    "for one particular location there's two different year data and they're connected.\n",
    "b) H0: there's no difference in avg number of days exceeding 90F in 1948 and 2018 NOAA stations. u = 0\n",
    "HA: there's difference in avg number of days exceeding 90F in 1948 and 2018 NOAA stations. u != 0\n",
    "c) the independence is satisfied since we conduct a paired test with connected randomly sampled informations.\n",
    "there are no particularly extreme outliers in the histogram, normality condition is okay.''')\n",
    "# paired hypothesis test\n",
    "n = 197\n",
    "xbar = 2.9\n",
    "s = 17.2\n",
    "x0 = 0\n",
    "\n",
    "dof = n-1\n",
    "se = s / np.sqrt(n)\n",
    "t = (xbar -x0) / se\n",
    "two_t = [t,t*(-1)]\n",
    "p1t = stats.t.cdf(min(two_t),dof)\n",
    "p = stats.t.cdf(min(two_t),dof) * 2\n",
    "print('''d) test statistic (t) = {t:.4f} // p-value = {p:.4f}\n",
    "e) because {p:.4f} is less than significance level, we reject H0 and conclude\n",
    "between locations' 1948 and 2018 temperature differences on average, there's a statistically significant difference.\n",
    "f) Type 1 error since we rejected H0. If twe made a T1 error, that means; normally there's no significant difference\n",
    "between two averages but our sample made it look like there is.\n",
    "g) no. '''\n",
    ".format(p=p,t=max(two_t)))"
   ]
  },
  {
   "cell_type": "code",
   "execution_count": 29,
   "metadata": {},
   "outputs": [
    {
     "name": "stdout",
     "output_type": "stream",
     "text": [
      "a) in the histogram, there's no visible clear difference between the average read and write scores\n",
      "b) no, since it's the same person graded with those scores there's a connection between them. they're not\n",
      "completely independent.\n",
      "c) H0: there's no evident difference in the average scores of students in the reading and writing exams. u = 0\n",
      "HA: there's an evident difference in the average scores of students in the reading and writing exams. u != 0\n",
      "d) independence: since the students are from a simple random sample, there's independence between the students.\n",
      "normality: since there are no particularly extreme outliers in the data it seems normal. it's unimodal and looks\n",
      "like the normal distribution. we can say the data distributed normally.\n",
      "\n",
      "d) test statistic (t) = 0.8673 // p-value = 0.3868\n",
      "e) because 0.3868 is bigger than significance level, we fail to reject H0 and conclude\n",
      "the data does not provide convincing evidence against the notion that there's no difference in the reading and writing\n",
      "exams of students.\n",
      "f) Type 2 error since we failed to reject H0. If twe made a type 2 error, that means; normally there's a significant difference\n",
      "between two averages but our sample made it look like there is not.\n",
      "g) yes. \n"
     ]
    }
   ],
   "source": [
    "'''7.20 High School and Beyond, Part I. The National Center of Education Statistics conducted a survey of\n",
    "high school seniors, collecting test data on reading, writing, and several other subjects. Here we examine a\n",
    "simple random sample of 200 students from this survey. Side-by-side box plots of reading and writing scores\n",
    "as well as a histogram of the differences in scores are shown below.\n",
    "(a) Is there a clear difference in the average reading and writing scores?\n",
    "(b) Are the reading and writing scores of each student independent of each other?\n",
    "(c) Create hypotheses appropriate for the following research question: is there an evident difference in the\n",
    "average scores of students in the reading and writing exam?\n",
    "(d) Check the conditions required to complete this test.\n",
    "(e) The average observed difference in scores is xbar = -0.545, and the standard deviation of the\n",
    "differences is 8.887 points. Do these data provide convincing evidence of a difference between the average\n",
    "scores on the two exams?\n",
    "(f) What type of error might we have made? Explain what the error means in the context of the application.\n",
    "(g) Based on the results of this hypothesis test, would you expect a confidence interval for the average\n",
    "difference between the reading and writing scores to include 0? Explain your reasoning.'''\n",
    "print('''a) in the histogram, there's no visible clear difference between the average read and write scores\n",
    "b) no, since it's the same person graded with those scores there's a connection between them. they're not\n",
    "completely independent.\n",
    "c) H0: there's no evident difference in the average scores of students in the reading and writing exams. u = 0\n",
    "HA: there's an evident difference in the average scores of students in the reading and writing exams. u != 0\n",
    "d) independence: since the students are from a simple random sample, there's independence between the students.\n",
    "normality: since there are no particularly extreme outliers in the data it seems normal. it's unimodal and looks\n",
    "like the normal distribution. we can say the data distributed normally.\n",
    "''')\n",
    "\n",
    "n = 200\n",
    "xbar = -0.545\n",
    "s = 8.887\n",
    "x0 = 0\n",
    "\n",
    "dof = n-1\n",
    "se = s / np.sqrt(n)\n",
    "t = (xbar -x0) / se\n",
    "two_t = [t,t*(-1)]\n",
    "p1t = stats.t.cdf(min(two_t),dof)\n",
    "p = stats.t.cdf(min(two_t),dof) * 2\n",
    "print('''d) test statistic (t) = {t:.4f} // p-value = {p:.4f}\n",
    "e) because {p:.4f} is bigger than significance level, we fail to reject H0 and conclude\n",
    "the data does not provide convincing evidence against the notion that there's no difference in the reading and writing\n",
    "exams of students.\n",
    "f) Type 2 error since we failed to reject H0. If twe made a type 2 error, that means; normally there's a significant difference\n",
    "between two averages but our sample made it look like there is not.\n",
    "g) yes. '''\n",
    ".format(p=p,t=max(two_t)))"
   ]
  },
  {
   "cell_type": "code",
   "execution_count": 54,
   "metadata": {},
   "outputs": [
    {
     "name": "stdout",
     "output_type": "stream",
     "text": [
      "CONFIDENCE INTERVAL\n",
      "a) standard error = 1.2254, me = 2.0251, dof = 199, t_conf = 1.6525\n",
      "b) we're 90% confident that the true difference in the average number of days that hit 90F in 2018\n",
      "relative to 1948 for NOAA stations is between 0.8749 and 4.9251\n",
      "c) yes. because the confidence interval is above 0, we can say there's convincing evidence that there\n",
      "were more days exceeding 90F in 2018 than 1948 at NOAA stations.\n"
     ]
    },
    {
     "name": "stderr",
     "output_type": "stream",
     "text": [
      "C:\\Program Files (x86)\\Anaconda3\\lib\\site-packages\\matplotlib\\patches.py:121: UserWarning: Setting the 'color' property will overridethe edgecolor or facecolor properties. \n",
      "  warnings.warn(\"Setting the 'color' property will override\"\n"
     ]
    },
    {
     "data": {
      "image/png": "[encoded data removed]",
      "text/plain": [
       "<matplotlib.figure.Figure at 0x1633f238048>"
      ]
     },
     "metadata": {},
     "output_type": "display_data"
    }
   ],
   "source": [
    "'''7.21 Global warming, Part II. We considered the change in the number of days exceeding 90°F from 1948\n",
    "and 2018 at 197 randomly sampled locations from the NOAA database in Exercise 7.19. The mean and\n",
    "standard deviation of the reported differences are 2.9 days and 17.2 days.\n",
    "(a) Calculate a 90% confidence interval for the average difference between number of days exceeding 90°F\n",
    "between 1948 and 2018. We've already checked the conditions for you.\n",
    "(b) Interpret the interval in context.\n",
    "(c) Does the confidence interval provide convincing evidence that there were more days exceeding 90°F in\n",
    "2018 than in 1948 at NOAA stations? Explain.'''\n",
    "\n",
    "n = 197\n",
    "xbar = 2.9\n",
    "s = 17.2\n",
    "\n",
    "cl = .90\n",
    "sl = 1-cl\n",
    "s1t = sl/2\n",
    "se = me / t_conf\n",
    "\n",
    "# CONFIDENCE INTERVAL\n",
    "fig = plt.figure(figsize=(14,4))\n",
    "x = np.linspace(-4, 4, 500)\n",
    "s1t = sl / 2\n",
    "t_conf = stats.t.ppf(1-s1t, dof) # upper tail is 1 - confidence level /2 (one tail)\n",
    "se = s / np.sqrt(n)  \n",
    "me = t_conf * se\n",
    "lo = xbar - me\n",
    "hi = xbar + me\n",
    "print('''CONFIDENCE INTERVAL\n",
    "a) standard error = {se:.4f}, me = {me:.4f}, dof = {dof}, t_conf = {t_conf:.4f}\n",
    "b) we're {cl:.0%} confident that the true difference in the average number of days that hit 90F in 2018\n",
    "relative to 1948 for NOAA stations is between {lo:.4f} and {hi:.4f}\n",
    "c) yes. because the confidence interval is above 0, we can say there's convincing evidence that there\n",
    "were more days exceeding 90F in 2018 than 1948 at NOAA stations.'''\n",
    ".format(cl=cl,se=se,me=me,lo=lo,hi=hi,dof=dof,t_conf=t_conf))\n",
    "\n",
    "ax_conf = fig.add_subplot(1,2,2)\n",
    "y = stats.t.pdf(x, dof)\n",
    "two_t_conf = [t_conf, (t_conf)*-1]\n",
    "\n",
    "ax_conf.plot(x, y, color='black',label=f' t-distribution, df= {dof}'.format(df=dof))\n",
    "ax_conf.fill_between(x, y, color='blue', alpha=0.5, where= ~((x<min(two_t_conf)) | (x>max(two_t_conf))) ,label=\"confidence interval\")\n",
    "ax_conf.set_ylabel('Probability Density')\n",
    "ax_conf.set_xlabel('Standard Deviations')\n",
    "ax_conf.set_title('Confidence Interval')\n",
    "ax_conf.text(min(two_t_conf), stats.t.cdf(x=min(two_t_conf), df=dof), '{t_lo:.2f}'.format(t_lo=lo), color='black', \n",
    "        bbox=dict(facecolor='none', edgecolor='black', boxstyle='round,pad=1', color='gray'),fontsize='x-small')\n",
    "ax_conf.text(max(two_t_conf), stats.t.cdf(x=min(two_t_conf), df=dof), '{t_hi:.2f}'.format(t_hi=hi), color='black', \n",
    "        bbox=dict(facecolor='none', edgecolor='black', boxstyle='round,pad=1', color='gray'),fontsize='x-small')\n",
    "legend = ax_conf.legend(shadow=True,fontsize='small')"
   ]
  },
  {
   "cell_type": "code",
   "execution_count": 57,
   "metadata": {},
   "outputs": [
    {
     "name": "stdout",
     "output_type": "stream",
     "text": [
      "CONFIDENCE INTERVAL\n",
      "a) standard error = 0.6284, me = 1.2392, dof = 199, t_conf = 1.9720\n",
      "b) we're 95% confident that the true difference in the average scores of read and write scores of students\n",
      "is -0.6942 between 1.7842\n",
      "c) no. because the confidence interval includes 0.\n"
     ]
    },
    {
     "name": "stderr",
     "output_type": "stream",
     "text": [
      "C:\\Program Files (x86)\\Anaconda3\\lib\\site-packages\\matplotlib\\patches.py:121: UserWarning: Setting the 'color' property will overridethe edgecolor or facecolor properties. \n",
      "  warnings.warn(\"Setting the 'color' property will override\"\n"
     ]
    },
    {
     "data": {
      "image/png": "[encoded data removed]",
      "text/plain": [
       "<matplotlib.figure.Figure at 0x1633f5dbb00>"
      ]
     },
     "metadata": {},
     "output_type": "display_data"
    }
   ],
   "source": [
    "'''7.22 High school and beyond, Part II. We considered the differences between the reading and writing\n",
    "scores of a random sample of 200 students who took the High School and Beyond Survey in Exercise 7.20.\n",
    "The mean and standard deviation of the differences are xbar = 0.545 and 8.887 points.\n",
    "(a) Calculate a 95% confidence interval for the average difference between the reading and writing scores of\n",
    "all students.\n",
    "(b) Interpret this interval in context.\n",
    "(c) Does the confidence interval provide convincing evidence that there is a real difference in the average\n",
    "scores? Explain.'''\n",
    "\n",
    "n = 200\n",
    "xbar = .545\n",
    "s = 8.887\n",
    "\n",
    "cl = .95\n",
    "sl = 1-cl\n",
    "s1t = sl/2\n",
    "se = me / t_conf\n",
    "\n",
    "# CONFIDENCE INTERVAL\n",
    "fig = plt.figure(figsize=(14,4))\n",
    "x = np.linspace(-4, 4, 500)\n",
    "s1t = sl / 2\n",
    "t_conf = stats.t.ppf(1-s1t, dof) # upper tail is 1 - confidence level /2 (one tail)\n",
    "se = s / np.sqrt(n)\n",
    "me = t_conf * se\n",
    "lo = xbar - me\n",
    "hi = xbar + me\n",
    "print('''CONFIDENCE INTERVAL\n",
    "a) standard error = {se:.4f}, me = {me:.4f}, dof = {dof}, t_conf = {t_conf:.4f}\n",
    "b) we're {cl:.0%} confident that the true difference in the average scores of read and write scores of students\n",
    "is {lo:.4f} between {hi:.4f}\n",
    "c) no. because the confidence interval includes 0.'''\n",
    ".format(cl=cl,se=se,me=me,lo=lo,hi=hi,dof=dof,t_conf=t_conf))\n",
    "\n",
    "ax_conf = fig.add_subplot(1,2,2)\n",
    "y = stats.t.pdf(x, dof)\n",
    "two_t_conf = [t_conf, (t_conf)*-1]\n",
    "\n",
    "ax_conf.plot(x, y, color='black',label=f' t-distribution, df= {dof}'.format(df=dof))\n",
    "ax_conf.fill_between(x, y, color='blue', alpha=0.5, where= ~((x<min(two_t_conf)) | (x>max(two_t_conf))) ,label=\"confidence interval\")\n",
    "ax_conf.set_ylabel('Probability Density')\n",
    "ax_conf.set_xlabel('Standard Deviations')\n",
    "ax_conf.set_title('Confidence Interval')\n",
    "ax_conf.text(min(two_t_conf), stats.t.cdf(x=min(two_t_conf), df=dof), '{t_lo:.2f}'.format(t_lo=lo), color='black', \n",
    "        bbox=dict(facecolor='none', edgecolor='black', boxstyle='round,pad=1', color='gray'),fontsize='x-small')\n",
    "ax_conf.text(max(two_t_conf), stats.t.cdf(x=min(two_t_conf), df=dof), '{t_hi:.2f}'.format(t_hi=hi), color='black', \n",
    "        bbox=dict(facecolor='none', edgecolor='black', boxstyle='round,pad=1', color='gray'),fontsize='x-small')\n",
    "legend = ax_conf.legend(shadow=True,fontsize='small')"
   ]
  },
  {
   "cell_type": "code",
   "execution_count": null,
   "metadata": {
    "collapsed": true
   },
   "outputs": [],
   "source": []
  }
 ],
 "metadata": {
  "kernelspec": {
   "display_name": "Python 3",
   "language": "python",
   "name": "python3"
  },
  "language_info": {
   "codemirror_mode": {
    "name": "ipython",
    "version": 3
   },
   "file_extension": ".py",
   "mimetype": "text/x-python",
   "name": "python",
   "nbconvert_exporter": "python",
   "pygments_lexer": "ipython3",
   "version": "3.6.1"
  }
 },
 "nbformat": 4,
 "nbformat_minor": 2
}
