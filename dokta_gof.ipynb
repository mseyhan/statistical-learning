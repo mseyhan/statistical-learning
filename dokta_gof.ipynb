{
 "cells": [
  {
   "cell_type": "code",
   "execution_count": 64,
   "metadata": {
    "collapsed": true
   },
   "outputs": [],
   "source": [
    "import pandas as pd\n",
    "import numpy as np\n",
    "import random\n",
    "import scipy.stats\n",
    "import math\n",
    "from matplotlib import pyplot as plt\n",
    "from random import sample\n",
    "from scipy.stats import chisquare\n",
    "from scipy.stats import geom\n",
    "from scipy import stats\n",
    "z90 = 1.645\n",
    "z95 = 1.96\n",
    "z99 = 2.576"
   ]
  },
  {
   "cell_type": "code",
   "execution_count": 65,
   "metadata": {},
   "outputs": [
    {
     "name": "stdout",
     "output_type": "stream",
     "text": [
      "<class 'pandas.core.frame.DataFrame'>\n",
      "RangeIndex: 5641 entries, 0 to 5640\n",
      "Data columns (total 7 columns):\n",
      "Date         5641 non-null object\n",
      "Open         5641 non-null float64\n",
      "High         5641 non-null float64\n",
      "Low          5641 non-null float64\n",
      "Close        5641 non-null float64\n",
      "Adj Close    5641 non-null float64\n",
      "Volume       5641 non-null float64\n",
      "dtypes: float64(6), object(1)\n",
      "memory usage: 308.6+ KB\n"
     ]
    },
    {
     "data": {
      "text/plain": [
       "5641"
      ]
     },
     "execution_count": 65,
     "metadata": {},
     "output_type": "execute_result"
    }
   ],
   "source": [
    "dokta = pd.read_csv(\"data/DOKTA.csv\", na_values = \"null\")\n",
    "dokta.dropna(inplace=True)\n",
    "dokta.reset_index(inplace=True,drop=True)\n",
    "dokta.info()\n",
    "len(dokta)"
   ]
  },
  {
   "cell_type": "code",
   "execution_count": 66,
   "metadata": {},
   "outputs": [
    {
     "data": {
      "text/plain": [
       "5641"
      ]
     },
     "execution_count": 66,
     "metadata": {},
     "output_type": "execute_result"
    }
   ],
   "source": [
    "dokta[\"Change in Price\"] = dokta[\"Close\"] - dokta[\"Close\"].shift()\n",
    "dokta[\"Outcome\"] = dokta[\"Change in Price\"].apply(lambda x: \"Up\" if x>= 0 else (\"Down\" if pd.notnull(x)==True else \"\"))\n",
    "#dokta[\"Days to Up\"]\n",
    "dokta.head(20)\n",
    "len(dokta)"
   ]
  },
  {
   "cell_type": "code",
   "execution_count": 67,
   "metadata": {},
   "outputs": [
    {
     "data": {
      "text/plain": [
       "5640"
      ]
     },
     "execution_count": 67,
     "metadata": {},
     "output_type": "execute_result"
    }
   ],
   "source": [
    "# if previous day is up and actual day is up, it's 1\n",
    "# if previous day is down and actual day is up, count how many days were down since the last up\n",
    "# if actual day is down simply don't count.\n",
    "# at last, you don't need the index num 0 row, drop it.\n",
    "\n",
    "count = 1\n",
    "days_to_up = list()\n",
    "for a in dokta[\"Outcome\"].index.tolist()[1:]:\n",
    "    #print(a)\n",
    "    oper = dokta[\"Outcome\"][a]\n",
    "    prev = dokta[\"Outcome\"][a-1]\n",
    "    #print(\"previous is: \", prev)\n",
    "    #print(\"actual is: \", oper)\n",
    "\n",
    "    if oper == \"Down\":\n",
    "        count = count + 1\n",
    "        days_to_up.append(\"-\")\n",
    "    elif oper == \"Up\" and prev == \"Down\":\n",
    "        #print(\"Count is: \", count)\n",
    "        days_to_up.append(count)\n",
    "        count = 1\n",
    "    else:\n",
    "        count = 1\n",
    "        days_to_up.append(count)\n",
    "        \n",
    "days_to_up = np.array(days_to_up)\n",
    "len(days_to_up)"
   ]
  },
  {
   "cell_type": "code",
   "execution_count": 68,
   "metadata": {},
   "outputs": [
    {
     "data": {
      "text/html": [
       "<div>\n",
       "<style>\n",
       "    .dataframe thead tr:only-child th {\n",
       "        text-align: right;\n",
       "    }\n",
       "\n",
       "    .dataframe thead th {\n",
       "        text-align: left;\n",
       "    }\n",
       "\n",
       "    .dataframe tbody tr th {\n",
       "        vertical-align: top;\n",
       "    }\n",
       "</style>\n",
       "<table border=\"1\" class=\"dataframe\">\n",
       "  <thead>\n",
       "    <tr style=\"text-align: right;\">\n",
       "      <th></th>\n",
       "      <th>Date</th>\n",
       "      <th>Open</th>\n",
       "      <th>High</th>\n",
       "      <th>Low</th>\n",
       "      <th>Close</th>\n",
       "      <th>Adj Close</th>\n",
       "      <th>Volume</th>\n",
       "      <th>Change in Price</th>\n",
       "      <th>Outcome</th>\n",
       "    </tr>\n",
       "  </thead>\n",
       "  <tbody>\n",
       "    <tr>\n",
       "      <th>0</th>\n",
       "      <td>2000-05-10</td>\n",
       "      <td>19.905212</td>\n",
       "      <td>19.905212</td>\n",
       "      <td>18.483412</td>\n",
       "      <td>19.194311</td>\n",
       "      <td>16.224569</td>\n",
       "      <td>89814.0</td>\n",
       "      <td>NaN</td>\n",
       "      <td></td>\n",
       "    </tr>\n",
       "    <tr>\n",
       "      <th>1</th>\n",
       "      <td>2000-05-11</td>\n",
       "      <td>19.194311</td>\n",
       "      <td>19.194311</td>\n",
       "      <td>18.483412</td>\n",
       "      <td>18.957344</td>\n",
       "      <td>16.024269</td>\n",
       "      <td>22057.0</td>\n",
       "      <td>-0.236967</td>\n",
       "      <td>Down</td>\n",
       "    </tr>\n",
       "    <tr>\n",
       "      <th>2</th>\n",
       "      <td>2000-05-12</td>\n",
       "      <td>20.616114</td>\n",
       "      <td>20.616114</td>\n",
       "      <td>19.194311</td>\n",
       "      <td>20.616114</td>\n",
       "      <td>17.426392</td>\n",
       "      <td>84725.0</td>\n",
       "      <td>1.658770</td>\n",
       "      <td>Up</td>\n",
       "    </tr>\n",
       "    <tr>\n",
       "      <th>3</th>\n",
       "      <td>2000-05-15</td>\n",
       "      <td>21.800947</td>\n",
       "      <td>21.800947</td>\n",
       "      <td>20.616114</td>\n",
       "      <td>21.327015</td>\n",
       "      <td>18.027306</td>\n",
       "      <td>26617.0</td>\n",
       "      <td>0.710901</td>\n",
       "      <td>Up</td>\n",
       "    </tr>\n",
       "    <tr>\n",
       "      <th>4</th>\n",
       "      <td>2000-05-16</td>\n",
       "      <td>21.327015</td>\n",
       "      <td>21.327015</td>\n",
       "      <td>20.379147</td>\n",
       "      <td>20.616114</td>\n",
       "      <td>17.426392</td>\n",
       "      <td>33912.0</td>\n",
       "      <td>-0.710901</td>\n",
       "      <td>Down</td>\n",
       "    </tr>\n",
       "  </tbody>\n",
       "</table>\n",
       "</div>"
      ],
      "text/plain": [
       "         Date       Open       High        Low      Close  Adj Close   Volume  \\\n",
       "0  2000-05-10  19.905212  19.905212  18.483412  19.194311  16.224569  89814.0   \n",
       "1  2000-05-11  19.194311  19.194311  18.483412  18.957344  16.024269  22057.0   \n",
       "2  2000-05-12  20.616114  20.616114  19.194311  20.616114  17.426392  84725.0   \n",
       "3  2000-05-15  21.800947  21.800947  20.616114  21.327015  18.027306  26617.0   \n",
       "4  2000-05-16  21.327015  21.327015  20.379147  20.616114  17.426392  33912.0   \n",
       "\n",
       "   Change in Price Outcome  \n",
       "0              NaN          \n",
       "1        -0.236967    Down  \n",
       "2         1.658770      Up  \n",
       "3         0.710901      Up  \n",
       "4        -0.710901    Down  "
      ]
     },
     "execution_count": 68,
     "metadata": {},
     "output_type": "execute_result"
    }
   ],
   "source": [
    "dokta.head()"
   ]
  },
  {
   "cell_type": "code",
   "execution_count": 69,
   "metadata": {},
   "outputs": [
    {
     "data": {
      "text/html": [
       "<div>\n",
       "<style>\n",
       "    .dataframe thead tr:only-child th {\n",
       "        text-align: right;\n",
       "    }\n",
       "\n",
       "    .dataframe thead th {\n",
       "        text-align: left;\n",
       "    }\n",
       "\n",
       "    .dataframe tbody tr th {\n",
       "        vertical-align: top;\n",
       "    }\n",
       "</style>\n",
       "<table border=\"1\" class=\"dataframe\">\n",
       "  <thead>\n",
       "    <tr style=\"text-align: right;\">\n",
       "      <th></th>\n",
       "      <th>Date</th>\n",
       "      <th>Open</th>\n",
       "      <th>High</th>\n",
       "      <th>Low</th>\n",
       "      <th>Close</th>\n",
       "      <th>Adj Close</th>\n",
       "      <th>Volume</th>\n",
       "      <th>Change in Price</th>\n",
       "      <th>Outcome</th>\n",
       "      <th>Days to Up</th>\n",
       "    </tr>\n",
       "  </thead>\n",
       "  <tbody>\n",
       "    <tr>\n",
       "      <th>0</th>\n",
       "      <td>2000-05-11</td>\n",
       "      <td>19.194311</td>\n",
       "      <td>19.194311</td>\n",
       "      <td>18.483412</td>\n",
       "      <td>18.957344</td>\n",
       "      <td>16.024269</td>\n",
       "      <td>22057.0</td>\n",
       "      <td>-0.236967</td>\n",
       "      <td>Down</td>\n",
       "      <td>-</td>\n",
       "    </tr>\n",
       "    <tr>\n",
       "      <th>1</th>\n",
       "      <td>2000-05-12</td>\n",
       "      <td>20.616114</td>\n",
       "      <td>20.616114</td>\n",
       "      <td>19.194311</td>\n",
       "      <td>20.616114</td>\n",
       "      <td>17.426392</td>\n",
       "      <td>84725.0</td>\n",
       "      <td>1.658770</td>\n",
       "      <td>Up</td>\n",
       "      <td>2</td>\n",
       "    </tr>\n",
       "    <tr>\n",
       "      <th>2</th>\n",
       "      <td>2000-05-15</td>\n",
       "      <td>21.800947</td>\n",
       "      <td>21.800947</td>\n",
       "      <td>20.616114</td>\n",
       "      <td>21.327015</td>\n",
       "      <td>18.027306</td>\n",
       "      <td>26617.0</td>\n",
       "      <td>0.710901</td>\n",
       "      <td>Up</td>\n",
       "      <td>1</td>\n",
       "    </tr>\n",
       "    <tr>\n",
       "      <th>3</th>\n",
       "      <td>2000-05-16</td>\n",
       "      <td>21.327015</td>\n",
       "      <td>21.327015</td>\n",
       "      <td>20.379147</td>\n",
       "      <td>20.616114</td>\n",
       "      <td>17.426392</td>\n",
       "      <td>33912.0</td>\n",
       "      <td>-0.710901</td>\n",
       "      <td>Down</td>\n",
       "      <td>-</td>\n",
       "    </tr>\n",
       "    <tr>\n",
       "      <th>4</th>\n",
       "      <td>2000-05-17</td>\n",
       "      <td>20.379147</td>\n",
       "      <td>20.379147</td>\n",
       "      <td>19.431278</td>\n",
       "      <td>19.668245</td>\n",
       "      <td>16.625177</td>\n",
       "      <td>37921.0</td>\n",
       "      <td>-0.947869</td>\n",
       "      <td>Down</td>\n",
       "      <td>-</td>\n",
       "    </tr>\n",
       "    <tr>\n",
       "      <th>5</th>\n",
       "      <td>2000-05-18</td>\n",
       "      <td>18.957344</td>\n",
       "      <td>18.957344</td>\n",
       "      <td>18.483412</td>\n",
       "      <td>18.957344</td>\n",
       "      <td>16.024269</td>\n",
       "      <td>3714.0</td>\n",
       "      <td>-0.710901</td>\n",
       "      <td>Down</td>\n",
       "      <td>-</td>\n",
       "    </tr>\n",
       "    <tr>\n",
       "      <th>6</th>\n",
       "      <td>2000-05-22</td>\n",
       "      <td>19.194311</td>\n",
       "      <td>19.194311</td>\n",
       "      <td>18.246445</td>\n",
       "      <td>18.957344</td>\n",
       "      <td>16.024269</td>\n",
       "      <td>12685.0</td>\n",
       "      <td>0.000000</td>\n",
       "      <td>Up</td>\n",
       "      <td>4</td>\n",
       "    </tr>\n",
       "    <tr>\n",
       "      <th>7</th>\n",
       "      <td>2000-05-23</td>\n",
       "      <td>19.194311</td>\n",
       "      <td>19.194311</td>\n",
       "      <td>18.246445</td>\n",
       "      <td>18.957344</td>\n",
       "      <td>16.024269</td>\n",
       "      <td>12685.0</td>\n",
       "      <td>0.000000</td>\n",
       "      <td>Up</td>\n",
       "      <td>1</td>\n",
       "    </tr>\n",
       "    <tr>\n",
       "      <th>8</th>\n",
       "      <td>2000-05-26</td>\n",
       "      <td>19.668245</td>\n",
       "      <td>19.668245</td>\n",
       "      <td>19.194311</td>\n",
       "      <td>19.194311</td>\n",
       "      <td>16.224569</td>\n",
       "      <td>3277.0</td>\n",
       "      <td>0.236967</td>\n",
       "      <td>Up</td>\n",
       "      <td>1</td>\n",
       "    </tr>\n",
       "    <tr>\n",
       "      <th>9</th>\n",
       "      <td>2000-06-02</td>\n",
       "      <td>17.772511</td>\n",
       "      <td>17.772511</td>\n",
       "      <td>17.061611</td>\n",
       "      <td>17.535545</td>\n",
       "      <td>14.822450</td>\n",
       "      <td>31318.0</td>\n",
       "      <td>-1.658766</td>\n",
       "      <td>Down</td>\n",
       "      <td>-</td>\n",
       "    </tr>\n",
       "  </tbody>\n",
       "</table>\n",
       "</div>"
      ],
      "text/plain": [
       "         Date       Open       High        Low      Close  Adj Close   Volume  \\\n",
       "0  2000-05-11  19.194311  19.194311  18.483412  18.957344  16.024269  22057.0   \n",
       "1  2000-05-12  20.616114  20.616114  19.194311  20.616114  17.426392  84725.0   \n",
       "2  2000-05-15  21.800947  21.800947  20.616114  21.327015  18.027306  26617.0   \n",
       "3  2000-05-16  21.327015  21.327015  20.379147  20.616114  17.426392  33912.0   \n",
       "4  2000-05-17  20.379147  20.379147  19.431278  19.668245  16.625177  37921.0   \n",
       "5  2000-05-18  18.957344  18.957344  18.483412  18.957344  16.024269   3714.0   \n",
       "6  2000-05-22  19.194311  19.194311  18.246445  18.957344  16.024269  12685.0   \n",
       "7  2000-05-23  19.194311  19.194311  18.246445  18.957344  16.024269  12685.0   \n",
       "8  2000-05-26  19.668245  19.668245  19.194311  19.194311  16.224569   3277.0   \n",
       "9  2000-06-02  17.772511  17.772511  17.061611  17.535545  14.822450  31318.0   \n",
       "\n",
       "   Change in Price Outcome Days to Up  \n",
       "0        -0.236967    Down          -  \n",
       "1         1.658770      Up          2  \n",
       "2         0.710901      Up          1  \n",
       "3        -0.710901    Down          -  \n",
       "4        -0.947869    Down          -  \n",
       "5        -0.710901    Down          -  \n",
       "6         0.000000      Up          4  \n",
       "7         0.000000      Up          1  \n",
       "8         0.236967      Up          1  \n",
       "9        -1.658766    Down          -  "
      ]
     },
     "execution_count": 69,
     "metadata": {},
     "output_type": "execute_result"
    }
   ],
   "source": [
    "dokta_d = dokta.copy()\n",
    "dokta_d.drop([0],inplace=True)\n",
    "dokta_d.reset_index(inplace=True,drop=True)\n",
    "dokta_d[\"Days to Up\"] = days_to_up\n",
    "dokta_d.head(10)"
   ]
  },
  {
   "cell_type": "code",
   "execution_count": 70,
   "metadata": {
    "collapsed": true
   },
   "outputs": [],
   "source": [
    "dokta_t = dokta_d.set_index(\"Date\")\n",
    "dokta_t = dokta_t.T"
   ]
  },
  {
   "cell_type": "code",
   "execution_count": 71,
   "metadata": {},
   "outputs": [
    {
     "data": {
      "text/html": [
       "<div>\n",
       "<style>\n",
       "    .dataframe thead tr:only-child th {\n",
       "        text-align: right;\n",
       "    }\n",
       "\n",
       "    .dataframe thead th {\n",
       "        text-align: left;\n",
       "    }\n",
       "\n",
       "    .dataframe tbody tr th {\n",
       "        vertical-align: top;\n",
       "    }\n",
       "</style>\n",
       "<table border=\"1\" class=\"dataframe\">\n",
       "  <thead>\n",
       "    <tr style=\"text-align: right;\">\n",
       "      <th></th>\n",
       "      <th>Observed</th>\n",
       "      <th>Geometric Distribution</th>\n",
       "    </tr>\n",
       "    <tr>\n",
       "      <th>Days</th>\n",
       "      <th></th>\n",
       "      <th></th>\n",
       "    </tr>\n",
       "  </thead>\n",
       "  <tbody>\n",
       "    <tr>\n",
       "      <th>1</th>\n",
       "      <td>1705</td>\n",
       "      <td>1709.401596</td>\n",
       "    </tr>\n",
       "    <tr>\n",
       "      <th>2</th>\n",
       "      <td>755</td>\n",
       "      <td>768.321462</td>\n",
       "    </tr>\n",
       "    <tr>\n",
       "      <th>3</th>\n",
       "      <td>345</td>\n",
       "      <td>345.335976</td>\n",
       "    </tr>\n",
       "    <tr>\n",
       "      <th>4</th>\n",
       "      <td>187</td>\n",
       "      <td>155.217500</td>\n",
       "    </tr>\n",
       "    <tr>\n",
       "      <th>5</th>\n",
       "      <td>64</td>\n",
       "      <td>69.765312</td>\n",
       "    </tr>\n",
       "    <tr>\n",
       "      <th>6</th>\n",
       "      <td>33</td>\n",
       "      <td>31.357281</td>\n",
       "    </tr>\n",
       "    <tr>\n",
       "      <th>7</th>\n",
       "      <td>9</td>\n",
       "      <td>14.094097</td>\n",
       "    </tr>\n",
       "    <tr>\n",
       "      <th>8</th>\n",
       "      <td>5</td>\n",
       "      <td>6.334847</td>\n",
       "    </tr>\n",
       "    <tr>\n",
       "      <th>9</th>\n",
       "      <td>2</td>\n",
       "      <td>2.847312</td>\n",
       "    </tr>\n",
       "  </tbody>\n",
       "</table>\n",
       "</div>"
      ],
      "text/plain": [
       "      Observed  Geometric Distribution\n",
       "Days                                  \n",
       "1         1705             1709.401596\n",
       "2          755              768.321462\n",
       "3          345              345.335976\n",
       "4          187              155.217500\n",
       "5           64               69.765312\n",
       "6           33               31.357281\n",
       "7            9               14.094097\n",
       "8            5                6.334847\n",
       "9            2                2.847312"
      ]
     },
     "execution_count": 71,
     "metadata": {},
     "output_type": "execute_result"
    }
   ],
   "source": [
    "# probably there are easier ways to accomplish what i've done here. just a palliative solution in this block.\n",
    "# still it works as should be.\n",
    "\n",
    "p = sum(dokta_d.Outcome == \"Up\") / len(dokta_d)\n",
    "up_counts = dokta_d[\"Days to Up\"].value_counts()\n",
    "# has to be at least 5 for the chi2 distribution.\n",
    "bins = list()\n",
    "days = list()\n",
    "last_bin = 0\n",
    "last_geo = 0\n",
    "for i in range(1,20):\n",
    "    try:\n",
    "        if up_counts[i] < 5:\n",
    "                last_bin = last_bin + up_counts[i]\n",
    "        else:\n",
    "            days.append(i)\n",
    "            bins.append(up_counts[i])\n",
    "    except:\n",
    "        pass\n",
    "\n",
    "bins.append(last_bin)\n",
    "days.append(max(days)+1)\n",
    "\n",
    "geom_pd = geom.pmf(days, p)\n",
    "\n",
    "contingency = pd.DataFrame(bins,index=days,columns=[\"Observed\"])\n",
    "contingency[\"Geometric Distribution\"] = geom_pd * sum(contingency[\"Observed\"])\n",
    "contingency.index.name = \"Days\"\n",
    "contingency"
   ]
  },
  {
   "cell_type": "code",
   "execution_count": 72,
   "metadata": {},
   "outputs": [
    {
     "name": "stdout",
     "output_type": "stream",
     "text": [
      "H0: dokta stock being up or down on a given day is independent from all other days.\n",
      "HA: dokta stock being up or down on a given day is not independent from all other days.\n"
     ]
    },
    {
     "data": {
      "text/plain": [
       "0.55053191489361697"
      ]
     },
     "execution_count": 72,
     "metadata": {},
     "output_type": "execute_result"
    }
   ],
   "source": [
    "print('''H0: dokta stock being up or down on a given day is independent from all other days.\n",
    "HA: dokta stock being up or down on a given day is not independent from all other days.''')\n",
    "p"
   ]
  },
  {
   "cell_type": "code",
   "execution_count": 73,
   "metadata": {},
   "outputs": [
    {
     "data": {
      "image/png": "[encoded data removed]",
      "text/plain": [
       "<matplotlib.figure.Figure at 0x16bba7884a8>"
      ]
     },
     "metadata": {},
     "output_type": "display_data"
    }
   ],
   "source": [
    "X = days\n",
    "Y = contingency[\"Observed\"]\n",
    "Z = contingency[\"Geometric Distribution\"]\n",
    "  \n",
    "X_axis = np.arange(len(X))\n",
    "  \n",
    "plt.bar(X_axis - 0.2, Y, 0.4, label = 'Observed')\n",
    "plt.bar(X_axis + 0.2, Z, 0.4, label = 'Expected')\n",
    "  \n",
    "plt.xticks(X_axis, X)\n",
    "plt.xlabel(\"Days\")\n",
    "plt.ylabel(\"Frequency\")\n",
    "plt.title(\"Wait Until Positive Day\")\n",
    "plt.legend()\n",
    "plt.show()"
   ]
  },
  {
   "cell_type": "code",
   "execution_count": 74,
   "metadata": {},
   "outputs": [
    {
     "data": {
      "text/plain": [
       "Power_divergenceResult(statistic=9.687548706449947, pvalue=0.28764422922594512)"
      ]
     },
     "execution_count": 74,
     "metadata": {},
     "output_type": "execute_result"
    }
   ],
   "source": [
    "chisquare(Y,Z)\n",
    "# because pvalue is so big, we can't reject the notion BIST100 stock market being up or down on a given day is independent\n",
    "# from all other days"
   ]
  },
  {
   "cell_type": "code",
   "execution_count": null,
   "metadata": {
    "collapsed": true
   },
   "outputs": [],
   "source": []
  }
 ],
 "metadata": {
  "kernelspec": {
   "display_name": "Python 3",
   "language": "python",
   "name": "python3"
  },
  "language_info": {
   "codemirror_mode": {
    "name": "ipython",
    "version": 3
   },
   "file_extension": ".py",
   "mimetype": "text/x-python",
   "name": "python",
   "nbconvert_exporter": "python",
   "pygments_lexer": "ipython3",
   "version": "3.6.1"
  }
 },
 "nbformat": 4,
 "nbformat_minor": 2
}
