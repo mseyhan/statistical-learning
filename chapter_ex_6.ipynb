{
 "cells": [
  {
   "cell_type": "code",
   "execution_count": 10,
   "metadata": {
    "collapsed": true
   },
   "outputs": [],
   "source": [
    "import pandas as pd\n",
    "import numpy as np\n",
    "import random\n",
    "import scipy.stats\n",
    "import math\n",
    "from matplotlib import pyplot as plt\n",
    "from random import sample\n",
    "from scipy.stats import chisquare\n",
    "from scipy.stats import geom\n",
    "from scipy import stats\n",
    "z90 = 1.645\n",
    "z95 = 1.96\n",
    "z99 = 2.576"
   ]
  },
  {
   "cell_type": "code",
   "execution_count": 11,
   "metadata": {},
   "outputs": [
    {
     "name": "stdout",
     "output_type": "stream",
     "text": [
      "No, since she uses the same sample for two groups, the independence condition does not apply.\n"
     ]
    }
   ],
   "source": [
    "'''6.39 Active learning. A teacher wanting to increase the active learning component of her course is con-\n",
    "cerned about student reactions to changes she is planning to make. She conducts a survey in her class,\n",
    "asking students whether they believe more active learning in the classroom (hands on exercises) instead of\n",
    "traditional lecture will helps improve their learning. She does this at the beginning and end of the semester\n",
    "and wants to evaluate whether students' opinions have changed over the semester. Can she used the methods\n",
    "we learned in this chapter for this analysis? Explain your reasoning.'''\n",
    "print(\"No, since she uses the same sample for two groups, the independence condition does not apply.\")"
   ]
  },
  {
   "cell_type": "code",
   "execution_count": 12,
   "metadata": {},
   "outputs": [
    {
     "name": "stdout",
     "output_type": "stream",
     "text": [
      "H0: there's no difference in group totals than the random assignment of groups \n",
      "HA: there's difference in group totals than the random assignment of groups\n",
      "\n",
      "CHECK CONDITIONS:\n",
      "independence: this is what we check actually.\n",
      "s/f condition: at least 10 s and 10 f for each group\n",
      "\n",
      "This is a 3x2 matrix with\n",
      "groups: ['Position 1', 'Position 2', 'Position 3']\n",
      "outcomes: ['Download', 'No Download']\n",
      "insert 3 groups and 6 outcomes in correct order\n",
      "\n",
      "Outcome     Download  No Download    All\n",
      "Group                                   \n",
      "Position 1      13.8         18.3   32.1\n",
      "Position 2      14.6         18.5   33.1\n",
      "Position 3      12.1         22.7   34.8\n",
      "All             40.5         59.5  100.0\n"
     ]
    },
    {
     "data": {
      "text/plain": [
       "(0.11179999999999961, 0.94563369453183876)"
      ]
     },
     "execution_count": 12,
     "metadata": {},
     "output_type": "execute_result"
    }
   ],
   "source": [
    "'''6.40 Website experiment. The OpenIntro website occasionally experiments with design and link place-\n",
    "ment. We conducted one experiment testing three different placements of a download link for this textbook\n",
    "on the book's main page to see which location, if any, led to the most downloads. The number of site visitors\n",
    "included in the experiment was 701 and is captured in one of the response combinations in the following\n",
    "table:\n",
    "Download No Download\n",
    "Position 1 13.8% 18.3%\n",
    "Position 2 14.6% 18.5%\n",
    "Position 3 12.1% 22.7%\n",
    "(a) Calculate the actual number of site visitors in each of the six response categories.\n",
    "(b) Each individual in the experiment had an equal chance of being in any of the three experiment groups.\n",
    "However, we see that there are slightly different totals for the groups. Is there any evidence that the\n",
    "groups were actually imbalanced? Make sure to clearly state hypotheses, check conditions, calculate the\n",
    "appropriate test statistic and the p-value, and make your conclusion in context of the data.\n",
    "(c) Complete an appropriate hypothesis test to check whether there is evidence that there is a higher rate\n",
    "of site visitors clicking on the textbook link in any of the three groups.'''\n",
    "\n",
    "print('''H0: there's no difference in group totals than the random assignment of groups \n",
    "HA: there's difference in group totals than the random assignment of groups\n",
    "\n",
    "CHECK CONDITIONS:\n",
    "independence: this is what we check actually.\n",
    "s/f condition: at least 10 s and 10 f for each group\n",
    "''')\n",
    "\n",
    "group_name = 'Group' # SPECIFY THE NAME OF THE GROUP AXIS\n",
    "groups = ['Position 1','Position 2', 'Position 3']\n",
    "group_size = len(groups)\n",
    "outcome_name = 'Outcome' # SPECIFY THE NAME OF THE OUTCOME AXIS\n",
    "outcomes = ['Download', 'No Download']\n",
    "outcome_size = len(outcomes)\n",
    "inserts = outcome_size*group_size\n",
    "print('''This is a {x}x{y} matrix with\n",
    "groups: {gr}\n",
    "outcomes: {out}\n",
    "insert {x} groups and {z} outcomes in correct order\n",
    "'''.format(x=group_size,y=outcome_size,gr=groups,out=outcomes,z=inserts))\n",
    "\n",
    "# CREATING THE MATRIX\n",
    "group = np.array(groups)\n",
    "group = np.repeat(group, [321,331,348],axis=0) # INSERT GROUPS\n",
    "outcome = np.array(outcomes*group_size)\n",
    "outcome = np.repeat(outcome,[138,183,146,185,121,227],axis=0) # INSERT OUTCOMES\n",
    "df = pd.DataFrame ({group_name:group,outcome_name:outcome})\n",
    "group = df[group_name]\n",
    "outcome = df[outcome_name]\n",
    "ct = pd.crosstab(group,outcome,margins=True,normalize=False) /10 # the version that the values are not normalized\n",
    "ct_1 = pd.crosstab(group,outcome,margins=False,normalize=False) / 10\n",
    "print(ct)\n",
    "act_arr = np.array(ct[\"All\"][0:3])\n",
    "exp_arr = np.array([100/3,100/3,100/3])\n",
    "exp_arr\n",
    "chi2, p = chisquare(act_arr,exp_arr)\n",
    "chi2,p"
   ]
  },
  {
   "cell_type": "code",
   "execution_count": 13,
   "metadata": {},
   "outputs": [
    {
     "name": "stdout",
     "output_type": "stream",
     "text": [
      "0.33333333333333337\n",
      "[ 225.021  232.031  243.948]\n",
      "[ 233.66666667  233.66666667  233.66666667]\n",
      "p-value is different than the normalized version. this is because, when we try to have  \n"
     ]
    }
   ],
   "source": [
    "# I wanted to try the difference between chisquare test with a normalized contingency table and the raw contingency table\n",
    "n = 701\n",
    "x = ct[\"All\"] * n/100\n",
    "exp_p = 100/3/100\n",
    "print(exp_p)\n",
    "act_arr = np.array(x[0:3])\n",
    "exp_arr = np.array([n*exp_p,n*exp_p,n*exp_p])\n",
    "print(act_arr)\n",
    "print(exp_arr)\n",
    "chisquare(act_arr,exp_arr)\n",
    "print('''p-value is different than the normalized version. this is because, when we try to have  ''')"
   ]
  },
  {
   "cell_type": "code",
   "execution_count": 14,
   "metadata": {},
   "outputs": [
    {
     "name": "stdout",
     "output_type": "stream",
     "text": [
      "This is a 3x5 matrix with\n",
      "groups: ['18-34', '35-54', '55+']\n",
      "outcomes: ['USPS', 'UPS', 'FedEx', 'Something else', 'Not sure']\n",
      "insert 3 groups and 15 outcomes in correct order\n",
      "\n",
      "a) HYPOTHESES\n",
      "H0: the preferred shipping method is independent of the age in US adults.\n",
      "HA: the preferred shipping method is not independent of the age in US adults.\n",
      "\n",
      "CONTINGENCY TABLE:\n",
      " Age              18-34  35-54  55+  All\n",
      "Shipping Method                        \n",
      "FedEx               31     24    9   64\n",
      "Not sure             3      6    4   13\n",
      "Something else       7      6    3   16\n",
      "UPS                 52     76   34  162\n",
      "USPS                72     97   76  245\n",
      "All                165    209  126  500 \n",
      "\n",
      "EXPECTED COUNTS:\n",
      " Age               18-34    35-54      55+    All\n",
      "Shipping Method                                 \n",
      "FedEx             21.12   26.752   16.128   64.0\n",
      "Not sure           4.29    5.434    3.276   13.0\n",
      "Something else     5.28    6.688    4.032   16.0\n",
      "UPS               53.46   67.716   40.824  162.0\n",
      "USPS              80.85  102.410   61.740  245.0\n",
      "All              165.00  209.000  126.000  500.0 \n",
      "\n",
      "CONCLUSION:\n",
      "if there's no difference in terms of shipping method preference rate between age groups, H0 is true, \n",
      "then the test statistic X^2 = 16.299509431415334 closely follows a chi2 distribution with 8 degrees of freedom. \n",
      "With this info:\n",
      "Since p = 0.038288410117926476 and it's less than .05 significance level, we reject the null hypothesis and conclude \n",
      "the shipping method preference had statistically significant differences in different age groups in the experiment.\n",
      "There is strong evidence that there is an association between age and shipping method preference.\n",
      "b) no. for example there's less than 5 people in expected counts of 55+ old group who stated they prefer some other \n",
      "shipping method in holiday gifts\n"
     ]
    }
   ],
   "source": [
    "'''6.41 Shipping holiday gifts. A local news survey asked 500 randomly sampled Los Angeles residents\n",
    "which shipping carrier they prefer to use for shipping holiday gifts. The table below shows the distribution\n",
    "of responses by age group as well as the expected counts for each cell (shown in parentheses).\n",
    "Age\n",
    "18-34 35-54 55+ Total\n",
    "Shipping Method\n",
    "USPS 72 (81) 97 (102) 76 (62) 245\n",
    "UPS 52 (53) 76 (68) 34 (41) 162\n",
    "FedEx 31 (21) 24 (27) 9 (16) 64\n",
    "Something else 7 (5) 6 (7) 3 (4) 16\n",
    "Not sure 3 (5) 6 (5) 4 (3) 13\n",
    "Total 165 209 126 500\n",
    "(a) State the null and alternative hypotheses for testing for independence of age and preferred shipping\n",
    "method for holiday gifts among Los Angeles residents.\n",
    "(b) Are the conditions for inference using a chi-square test satisfied?'''\n",
    "\n",
    "group_name = 'Age' # SPECIFY THE NAME OF THE GROUP AXIS\n",
    "groups = ['18-34','35-54','55+']\n",
    "group_size = len(groups)\n",
    "outcome_name = 'Shipping Method' # SPECIFY THE NAME OF THE OUTCOME AXIS\n",
    "outcomes = ['USPS', 'UPS', 'FedEx','Something else','Not sure']\n",
    "outcome_size = len(outcomes)\n",
    "inserts = outcome_size*group_size\n",
    "print('''This is a {x}x{y} matrix with\n",
    "groups: {gr}\n",
    "outcomes: {out}\n",
    "insert {x} groups and {z} outcomes in correct order\n",
    "'''.format(x=group_size,y=outcome_size,gr=groups,out=outcomes,z=inserts))\n",
    "\n",
    "# CREATING THE MATRIX\n",
    "group = np.array(groups)\n",
    "group = np.repeat(group, [165,209,126],axis=0) # INSERT GROUPS\n",
    "outcome = np.array(outcomes*group_size)\n",
    "outcome = np.repeat(outcome,[72,52,31,7,3,97,76,24,6,6,76,34,9,3,4],axis=0) # INSERT OUTCOMES\n",
    "df = pd.DataFrame ({group_name:group,outcome_name:outcome})\n",
    "group = df[group_name] \n",
    "outcome = df[outcome_name] \n",
    "ct = pd.crosstab(group,outcome,margins=True,normalize=False).T # the version that the values are not normalized\n",
    "ct_arr = np.array(pd.crosstab(group,outcome).T) # crosstab but as an array without the margins for the statistical tests.\n",
    "ct_n = pd.crosstab(group,outcome,margins=True,normalize='index').T # the normalized version based on row totals.\n",
    "ct_n1 = pd.crosstab(group,outcome,margins=True,normalize=True).T # the normalized version based on the sample size of entire study.\n",
    "\n",
    "print('''a) HYPOTHESES\n",
    "H0: the preferred shipping method is independent of the age in US adults.\n",
    "HA: the preferred shipping method is not independent of the age in US adults.\n",
    "''')\n",
    "\n",
    "# EXPECTED COUNTS\n",
    "print(\"CONTINGENCY TABLE:\\n\",ct,\"\\n\")\n",
    "exp_ct = ct.apply(lambda x:  x[x.index][\"All\"] * ct.loc[\"All\",x.index] /ct.iloc[outcome_size,group_size] ,axis=1)\n",
    "print(\"EXPECTED COUNTS:\\n\",exp_ct,\"\\n\")\n",
    "\n",
    "# it's easily accessible via stats.contingency.expected_freq and scipy.chi2_contingency:\n",
    "# print(\"EXP. COUNTS -as matrix-:\\n\",stats.contingency.expected_freq(ct_arr),\"\\n\")\n",
    "chi2, p, dof, exp = stats.chi2_contingency(ct_arr)\n",
    "chi2, p, dof\n",
    "\n",
    "print('''CONCLUSION:\n",
    "if there's no difference in terms of shipping method preference rate between age groups, H0 is true, \n",
    "then the test statistic X^2 = {chi2} closely follows a chi2 distribution with {dof} degrees of freedom. \n",
    "With this info:\n",
    "Since p = {p} and it's less than .05 significance level, we reject the null hypothesis and conclude \n",
    "the shipping method preference had statistically significant differences in different age groups in the experiment.\n",
    "There is strong evidence that there is an association between age and shipping method preference.\n",
    "b) no. for example there's less than 5 people in expected counts of 55+ old group who stated they prefer some other \n",
    "shipping method in holiday gifts'''.format(chi2=chi2,dof=dof,p=p))"
   ]
  },
  {
   "cell_type": "code",
   "execution_count": 15,
   "metadata": {},
   "outputs": [
    {
     "name": "stderr",
     "output_type": "stream",
     "text": [
      "ERROR:root:An unexpected error occurred while tokenizing input\n",
      "The following traceback may be corrupted or invalid\n",
      "The error message is: ('EOF in multi-line string', (1, 26))\n",
      "\n"
     ]
    },
    {
     "name": "stdout",
     "output_type": "stream",
     "text": [
      "a) n = 1507 , p0 = 0.5, phat = 0.56, 1-p0 = 0.5\n",
      "H0: there's no majority among Americans who believe the Civil War is still relevant with politics nowadays. p = .5\n",
      "HA: there's a majority among Americans who believe the Civil War is still relevant with politics nowadays. p != .5\n",
      "- independence condition satisfied since the poll is randomly sampled.\n",
      "- success-failure condition: p0 * n = 753.5, (1-p0) * n = 753.5 // satisfied.\n",
      "SE = sqrt(p(1-p)/n) = sqrt((0.5*0.5)/1507) = 0.012879926306424467 // we use the p0 for the null distribution\n",
      "z* = 4.658411746507605\n",
      "p-value = 0.000003\n",
      "because the p-value is so little, we can't reject H0 and conclude the data does not suggest a sufficient evidence to believe\n",
      "there's a majority among Americans who believe the Civil War is still relevant with politics nowadays.\n",
      "\n"
     ]
    },
    {
     "ename": "NameError",
     "evalue": "name 'minus_phat' is not defined",
     "output_type": "error",
     "traceback": [
      "\u001b[1;31m---------------------------------------------------------------------------\u001b[0m",
      "\u001b[1;31mNameError\u001b[0m                                 Traceback (most recent call last)",
      "\u001b[1;32m<ipython-input-15-949eba9c5701>\u001b[0m in \u001b[0;36m<module>\u001b[1;34m()\u001b[0m\n\u001b[0;32m     37\u001b[0m \u001b[1;32mis\u001b[0m \u001b[0mbetween\u001b[0m \u001b[1;33m{\u001b[0m\u001b[0mlo\u001b[0m\u001b[1;33m}\u001b[0m \u001b[1;32mand\u001b[0m \u001b[1;33m{\u001b[0m\u001b[0mhi\u001b[0m\u001b[1;33m}\u001b[0m\u001b[1;33m.\u001b[0m\u001b[1;33m\u001b[0m\u001b[0m\n\u001b[0;32m     38\u001b[0m \u001b[0msince\u001b[0m \u001b[1;36m.50\u001b[0m \u001b[1;32mis\u001b[0m \u001b[1;32mnot\u001b[0m \u001b[0mincluded\u001b[0m \u001b[1;32min\u001b[0m \u001b[0mthe\u001b[0m \u001b[0mconfidence\u001b[0m \u001b[0minterval\u001b[0m\u001b[1;33m,\u001b[0m \u001b[0mwe\u001b[0m \u001b[0mcan\u001b[0m \u001b[0msay\u001b[0m \u001b[0mthere\u001b[0m\u001b[0;31m'\u001b[0m\u001b[0ms\u001b[0m \u001b[0ma\u001b[0m \u001b[0mmajority\u001b[0m\u001b[1;33m,\u001b[0m \u001b[1;32mand\u001b[0m \u001b[0mthis\u001b[0m \u001b[0magrees\u001b[0m \u001b[1;32mwith\u001b[0m \u001b[0mthe\u001b[0m \u001b[0mhypothesis\u001b[0m \u001b[0mtest\u001b[0m\u001b[1;33m\u001b[0m\u001b[0m\n\u001b[1;32m---> 39\u001b[1;33m that we conducted earlier.'''.format(n=n,z=z,phat=phat, minus_phat= minus_phat, se = se, me = me, lo=lo, hi=hi))\n\u001b[0m",
      "\u001b[1;31mNameError\u001b[0m: name 'minus_phat' is not defined"
     ]
    }
   ],
   "source": [
    "'''6.42 The Civil War. A national survey conducted among a simple random sample of 1,507 adults shows\n",
    "that 56% of Americans think the Civil War is still relevant to American politics and political life.\n",
    "(a) Conduct a hypothesis test to determine if these data provide strong evidence that the majority of the\n",
    "Americans think the Civil War is still relevant.\n",
    "(b) Interpret the p-value in this context.\n",
    "(c) Calculate a 90% confidence interval for the proportion of Americans who think the Civil War is still\n",
    "relevant. Interpret the interval in this context, and comment on whether or not the confidence interval\n",
    "agrees with the conclusion of the hypothesis test.'''\n",
    "n = 1507\n",
    "p0 = .50\n",
    "minus_p = 1 - p0\n",
    "phat = .56\n",
    "succ = p0 * n\n",
    "fail = minus_p * n\n",
    "se = np.sqrt(p0*minus_p / n) # calculate standard error for null value p0\n",
    "z = (phat-p0)/se # how many standard errors away the phat is from the null value in the null distribution\n",
    "pvalue = scipy.stats.norm.sf(abs(z))*2 # find p-value for two-tailed test\n",
    "\n",
    "print('''a) n = {n} , p0 = {p0}, phat = {phat}, 1-p0 = {minus_p}\n",
    "H0: there's no majority among Americans who believe the Civil War is still relevant with politics nowadays. p = .5\n",
    "HA: there's a majority among Americans who believe the Civil War is still relevant with politics nowadays. p != .5\n",
    "- independence condition satisfied since the poll is randomly sampled.\n",
    "- success-failure condition: p0 * n = {succ}, (1-p0) * n = {fail} // satisfied.\n",
    "SE = sqrt(p(1-p)/n) = sqrt(({p0}*{minus_p})/{n}) = {se} // we use the p0 for the null distribution\n",
    "z* = {z}\n",
    "p-value = {pvalue}\n",
    "because the p-value is so little, we can't reject H0 and conclude the data does not suggest a sufficient evidence to believe\n",
    "there's a majority among Americans who believe the Civil War is still relevant with politics nowadays.\n",
    "'''.format(n=n,p0=p0,phat=phat, minus_p= minus_p, succ=succ, fail=fail, se = se,z=z,pvalue=format(pvalue, '.6f')))\n",
    "\n",
    "me = z90 * se\n",
    "lo = phat - me\n",
    "hi = phat + me\n",
    "print('''margin of error: z* x SE = {me}\n",
    "confidence interval: (phat - z* x SE , phat + z* x SE) = ({lo},{hi})\n",
    "we are 90% confident that the true proportion of people who believe the Civil War is still relevant in the politics nowadays\n",
    "is between {lo} and {hi}.\n",
    "since .50 is not included in the confidence interval, we can say there's a majority, and this agrees with the hypothesis test\n",
    "that we conducted earlier.'''.format(n=n,z=z,phat=phat, minus_phat= minus_phat, se = se, me = me, lo=lo, hi=hi))\n"
   ]
  },
  {
   "cell_type": "code",
   "execution_count": 19,
   "metadata": {},
   "outputs": [
    {
     "name": "stdout",
     "output_type": "stream",
     "text": [
      "a) - independence condition satisfied since the poll is randomly sampled.\n",
      "- success-failure condition: phat * n = 40.0, (1-phat) * n = 160.0 // satisfied.\n",
      "SE = sqrt(p(1-p)/n) = sqrt((0.2*0.8)/200) = 0.028284271247461905\n",
      "\n",
      "margin of error: z* x SE = 0.05543717164502533\n",
      "confidence interval: (phat - z* x SE , phat + z* x SE) = (0.1445628283549747,0.25543717164502533)\n",
      "we are 95% confident that the true proportion of smokers in the university is between 0.1445628283549747 and 0.25543717164502533.\n",
      "\n",
      "b) at most, if margin of error should be = .02, then when the z* remains the same, se should be 0.010204081632653062,\n",
      "and n should be at least 1536.64\n",
      "\n"
     ]
    }
   ],
   "source": [
    "'''6.43 College smokers. We are interested in estimating the proportion of students at a university who\n",
    "smoke. Out of a random sample of 200 students from this university, 40 students smoke.\n",
    "(a) Calculate a 95% confidence interval for the proportion of students at this university who smoke, and\n",
    "interpret this interval in context. (Reminder: Check conditions.)\n",
    "(b) If we wanted the margin of error to be no larger than 2% at a 95% confidence level for the proportion\n",
    "of students who smoke, how big of a sample would we need?'''\n",
    "\n",
    "n = 200\n",
    "smoke = 40\n",
    "phat = smoke / n\n",
    "minus_p = 1 - phat\n",
    "\n",
    "succ = phat * n\n",
    "fail = minus_p * n\n",
    "se = np.sqrt(phat*minus_p / n)\n",
    "me = z95 * se\n",
    "lo = phat - me\n",
    "hi = phat + me\n",
    "\n",
    "new_me = .02\n",
    "new_se = new_me/z95\n",
    "new_n = phat*minus_p / new_se ** 2\n",
    "\n",
    "print('''a) - independence condition satisfied since the poll is randomly sampled.\n",
    "- success-failure condition: phat * n = {succ}, (1-phat) * n = {fail} // satisfied.\n",
    "SE = sqrt(p(1-p)/n) = sqrt(({phat}*{minus_p})/{n}) = {se}\n",
    "\n",
    "margin of error: z* x SE = {me}\n",
    "confidence interval: (phat - z* x SE , phat + z* x SE) = ({lo},{hi})\n",
    "we are 95% confident that the true proportion of smokers in the university is between {lo} and {hi}.\n",
    "\n",
    "b) at most, if margin of error should be = .02, then when the z* remains the same, se should be {new_se},\n",
    "and n should be at least {new_n}\n",
    "'''.format(n=n,z=z,phat=phat, minus_p= minus_p, se = se, me = me, lo=lo, hi=hi,succ=succ,fail=fail, new_se=new_se, new_n = new_n))"
   ]
  },
  {
   "cell_type": "code",
   "execution_count": 20,
   "metadata": {},
   "outputs": [
    {
     "name": "stdout",
     "output_type": "stream",
     "text": [
      "\n"
     ]
    }
   ],
   "source": [
    "'''6.44 Acetaminophen and liver damage. It is believed that large doses of acetaminophen (the active\n",
    "ingredient in over the counter pain relievers like Tylenol) may cause damage to the liver. A researcher\n",
    "wants to conduct a study to estimate the proportion of acetaminophen users who have liver damage. For\n",
    "participating in this study, he will pay each subject $20 and provide a free medical consultation if the patient\n",
    "has liver damage.\n",
    "(a) If he wants to limit the margin of error of his 98% confidence interval to 2%, what is the minimum\n",
    "amount of money he needs to set aside to pay his subjects?\n",
    "(b) The amount you calculated in part (a) is substantially over his budget so he decides to use fewer subjects.\n",
    "How will this affect the width of his confidence interval?'''\n",
    "print('''''')"
   ]
  },
  {
   "cell_type": "code",
   "execution_count": 21,
   "metadata": {},
   "outputs": [
    {
     "name": "stdout",
     "output_type": "stream",
     "text": [
      "a) parameter of interest is the proportion of graduates who find a job within one year from that university.\n",
      "phat = 0.87\n",
      "b) independence condition satisfied since the sample is random\n",
      "success-failure condition: phat * n = 348.0, (1-phat) * n = 52.0 // satisfied.\n",
      "c) SE = sqrt(p(1-p)/n) = sqrt((0.87*0.13)/400) = 0.016815171720800236\n",
      "\n",
      "margin of error: z* x SE = 0.03295773657276846\n",
      "confidence interval: (phat - z* x SE , phat + z* x SE) = (0.8370422634272315,0.9029577365727685)\n",
      "we are 95% confident that the true proportion of students found a job within one year in the university \n",
      "is between 0.8370422634272315 and 0.9029577365727685.\n",
      "d) at 95 times out of 100, the 95% confidence intervals will include the true proportion of students who found a \n",
      "job within a year.\n",
      "e) 99% CONFIDENCE INTERVAL\n",
      "margin of error: z* x SE = 0.04331588235278141\n",
      "confidence interval: (phat - z* x SE , phat + z* x SE) = (0.8266841176472186,0.9133158823527814)\n",
      "we are 99% confident that the true proportion of smokers in the university is between 0.8266841176472186 and 0.9133158823527814.\n",
      "f) 99 is wider than 95 confidence interval to catch the true proportion with a greater chance.\n",
      "\n"
     ]
    }
   ],
   "source": [
    "'''6.45 Life after college. We are interested in estimating the proportion of graduates at a mid-sized uni-\n",
    "versity who found a job within one year of completing their undergraduate degree. Suppose we conduct a\n",
    "survey and find out that 348 of the 400 randomly sampled graduates found jobs. The graduating class under\n",
    "consideration included over 4500 students.\n",
    "(a) Describe the population parameter of interest. What is the value of the point estimate of this parameter?\n",
    "(b) Check if the conditions for constructing a confidence interval based on these data are met.\n",
    "(c) Calculate a 95% confidence interval for the proportion of graduates who found a job within one year of\n",
    "completing their undergraduate degree at this university, and interpret it in the context of the data.\n",
    "(d) What does \"95% confidence\" mean?\n",
    "(e) Now calculate a 99% confidence interval for the same parameter and interpret it in the context of the\n",
    "data.\n",
    "(f) Compare the widths of the 95% and 99% confidence intervals. Which one is wider? Explain.'''\n",
    "n = 400\n",
    "found = 348  # the students who found job in 1 year\n",
    "phat = found / n\n",
    "minus_p = 1 - phat\n",
    "\n",
    "succ = phat * n\n",
    "fail = minus_p * n\n",
    "se = np.sqrt(phat*minus_p / n)\n",
    "me = z95 * se\n",
    "lo = phat - me\n",
    "hi = phat + me\n",
    "\n",
    "me1 = z99 *se\n",
    "lo1 = phat - me1\n",
    "hi1 = phat + me1\n",
    "print('''a) parameter of interest is the proportion of graduates who find a job within one year from that university.\n",
    "phat = {phat}\n",
    "b) independence condition satisfied since the sample is random\n",
    "success-failure condition: phat * n = {succ}, (1-phat) * n = {fail} // satisfied.\n",
    "c) SE = sqrt(p(1-p)/n) = sqrt(({phat}*{minus_p})/{n}) = {se}\n",
    "\n",
    "margin of error: z* x SE = {me}\n",
    "confidence interval: (phat - z* x SE , phat + z* x SE) = ({lo},{hi})\n",
    "we are 95% confident that the true proportion of students found a job within one year in the university \n",
    "is between {lo} and {hi}.\n",
    "d) at 95 times out of 100, the 95% confidence intervals will include the true proportion of students who found a \n",
    "job within a year.\n",
    "e) 99% CONFIDENCE INTERVAL\n",
    "margin of error: z* x SE = {me1}\n",
    "confidence interval: (phat - z* x SE , phat + z* x SE) = ({lo1},{hi1})\n",
    "we are 99% confident that the true proportion of smokers in the university is between {lo1} and {hi1}.\n",
    "f) 99 is wider than 95 confidence interval to catch the true proportion with a greater chance.\n",
    "'''.format(n=n,phat=phat, minus_p= minus_p, se = se, me = me, lo=lo, hi=hi,succ=succ,fail=fail,me1=me1,lo1=lo1,hi1=hi1))"
   ]
  },
  {
   "cell_type": "code",
   "execution_count": 22,
   "metadata": {},
   "outputs": [
    {
     "name": "stdout",
     "output_type": "stream",
     "text": [
      "This is a 2x2 matrix with\n",
      "groups: ['Employed', 'Unemployed']\n",
      "outcomes: ['Yes', 'No']\n",
      "insert 2 groups and 4 outcomes in correct order\n",
      "\n",
      "a) \n",
      " Employment Status  Employed  Unemployed    All\n",
      "Diabetes                                      \n",
      "No                    47057        5708  52765\n",
      "Yes                     717         147    864\n",
      "All                   47774        5855  53629\n"
     ]
    }
   ],
   "source": [
    "'''6.46 Diabetes and unemployment. A Gallup poll surveyed Americans about their employment status\n",
    "and whether or not they have diabetes. The survey results indicate that 1.5% of the 47,774 employed (full\n",
    "or part time) and 2.5% of the 5,855 unemployed 18-29 year olds have diabetes.\n",
    "(a) Create a two-way table presenting the results of this study.\n",
    "(b) State appropriate hypotheses to test for difference in proportions of diabetes between employed and\n",
    "unemployed Americans.\n",
    "(c) The sample difference is about 1%. If we completed the hypothesis test, we would find that the p-value\n",
    "is very small (about 0), meaning the difference is statistically significant. Use this result to explain the\n",
    "difference between statistically significant and practically significant findings.'''\n",
    "group_name = 'Employment Status' # SPECIFY THE NAME OF THE GROUP AXIS\n",
    "groups = ['Employed','Unemployed']\n",
    "group_size = len(groups)\n",
    "outcome_name = 'Diabetes' # SPECIFY THE NAME OF THE OUTCOME AXIS\n",
    "outcomes = ['Yes', 'No']\n",
    "outcome_size = len(outcomes)\n",
    "inserts = outcome_size*group_size\n",
    "print('''This is a {x}x{y} matrix with\n",
    "groups: {gr}\n",
    "outcomes: {out}\n",
    "insert {x} groups and {z} outcomes in correct order\n",
    "'''.format(x=group_size,y=outcome_size,gr=groups,out=outcomes,z=inserts))\n",
    "# CREATING THE MATRIX\n",
    "group = np.array(groups)\n",
    "group = np.repeat(group, [47774,5855],axis=0) # INSERT GROUPS\n",
    "outcome = np.array(outcomes*group_size)\n",
    "outcome = np.repeat(outcome,[717,47057,147,5708],axis=0) # INSERT OUTCOMES\n",
    "df = pd.DataFrame ({group_name:group,outcome_name:outcome})\n",
    "group = df[group_name]\n",
    "outcome = df[outcome_name]\n",
    "ct = pd.crosstab(group,outcome,margins=True,normalize=False).T # the version that the values are not normalized\n",
    "ct_arr = np.array(pd.crosstab(group,outcome).T) # crosstab but as an array without the margins for the statistical tests.\n",
    "ct_n = pd.crosstab(group,outcome,margins=False,normalize='index').T # the normalized version based on row totals.\n",
    "ct_n1 = pd.crosstab(group,outcome,margins=True,normalize=True).T # the normalized version based on the sample size of entire study.\n",
    "print(\"a) \\n\",ct)\n",
    "\n"
   ]
  },
  {
   "cell_type": "code",
   "execution_count": 23,
   "metadata": {},
   "outputs": [
    {
     "data": {
      "text/plain": [
       "5708"
      ]
     },
     "execution_count": 23,
     "metadata": {},
     "output_type": "execute_result"
    }
   ],
   "source": [
    "'''6.47 Rock-paper-scissors. Rock-paper-scissors is a hand game played by two or more people where\n",
    "players choose to sign either rock, paper, or scissors with their hands. For your statistics class project, you\n",
    "want to evaluate whether players choose between these three options randomly, or if certain options are\n",
    "favored above others. You ask two friends to play rock-paper-scissors and count the times each option is\n",
    "played. The following table summarizes the data:\n",
    "Rock Paper Scissors\n",
    "43 21 35\n",
    "Use these data to evaluate whether players choose between these three options randomly, or if certain options\n",
    "are favored above others. Make sure to clearly outline each step of your analysis, and interpret your results\n",
    "in context of the data and the research question.'''\n",
    "5855-147"
   ]
  },
  {
   "cell_type": "code",
   "execution_count": 24,
   "metadata": {},
   "outputs": [
    {
     "data": {
      "text/plain": [
       "'6.48 2010 Healthcare Law. On June 28, 2012 the U.S. Supreme Court upheld the much debated 2010\\nhealthcare law, declaring it constitutional. A Gallup poll released the day after this decision indicates that\\n46% of 1,012 Americans agree with this decision. At a 95% confidence level, this sample has a 3% margin of\\nerror. Based on this information, determine if the following statements are true or false, and explain your\\nreasoning.\\n(a) We are 95% confident that between 43% and 49% of Americans in this sample support the decision of\\nthe U.S. Supreme Court on the 2010 healthcare law.\\n(b) We are 95% confident that between 43% and 49% of Americans support the decision of the U.S. Supreme\\nCourt on the 2010 healthcare law.\\n(c) If we considered many random samples of 1,012 Americans, and we calculated the sample proportions\\nof those who support the decision of the U.S. Supreme Court, 95% of those sample proportions will be\\nbetween 43% and 49%.\\n(d) The margin of error at a 90% confidence level would be higher than 3%.'"
      ]
     },
     "execution_count": 24,
     "metadata": {},
     "output_type": "execute_result"
    }
   ],
   "source": [
    "'''6.48 2010 Healthcare Law. On June 28, 2012 the U.S. Supreme Court upheld the much debated 2010\n",
    "healthcare law, declaring it constitutional. A Gallup poll released the day after this decision indicates that\n",
    "46% of 1,012 Americans agree with this decision. At a 95% confidence level, this sample has a 3% margin of\n",
    "error. Based on this information, determine if the following statements are true or false, and explain your\n",
    "reasoning.\n",
    "(a) We are 95% confident that between 43% and 49% of Americans in this sample support the decision of\n",
    "the U.S. Supreme Court on the 2010 healthcare law.\n",
    "(b) We are 95% confident that between 43% and 49% of Americans support the decision of the U.S. Supreme\n",
    "Court on the 2010 healthcare law.\n",
    "(c) If we considered many random samples of 1,012 Americans, and we calculated the sample proportions\n",
    "of those who support the decision of the U.S. Supreme Court, 95% of those sample proportions will be\n",
    "between 43% and 49%.\n",
    "(d) The margin of error at a 90% confidence level would be higher than 3%.'''"
   ]
  },
  {
   "cell_type": "code",
   "execution_count": 25,
   "metadata": {},
   "outputs": [
    {
     "data": {
      "text/plain": [
       "'6.49 Browsing on the mobile device. A survey of 2,254 American adults indicates that 17% of cell phone\\nowners browse the internet exclusively on their phone rather than a computer or other device.\\n(a) According to an online article, a report from a mobile research company indicates that 38 percent of\\nChinese mobile web users only access the internet through their cell phones.51 Conduct a hypothesis\\ntest to determine if these data provide strong evidence that the proportion of Americans who only use\\ntheir cell phones to access the internet is different than the Chinese proportion of 38%.\\n(b) Interpret the p-value in this context.\\n(c) Calculate a 95% confidence interval for the proportion of Americans who access the internet on their\\ncell phones, and interpret the interval in this context.'"
      ]
     },
     "execution_count": 25,
     "metadata": {},
     "output_type": "execute_result"
    }
   ],
   "source": [
    "'''6.49 Browsing on the mobile device. A survey of 2,254 American adults indicates that 17% of cell phone\n",
    "owners browse the internet exclusively on their phone rather than a computer or other device.\n",
    "(a) According to an online article, a report from a mobile research company indicates that 38 percent of\n",
    "Chinese mobile web users only access the internet through their cell phones.51 Conduct a hypothesis\n",
    "test to determine if these data provide strong evidence that the proportion of Americans who only use\n",
    "their cell phones to access the internet is different than the Chinese proportion of 38%.\n",
    "(b) Interpret the p-value in this context.\n",
    "(c) Calculate a 95% confidence interval for the proportion of Americans who access the internet on their\n",
    "cell phones, and interpret the interval in this context.'''"
   ]
  },
  {
   "cell_type": "code",
   "execution_count": 26,
   "metadata": {},
   "outputs": [
    {
     "data": {
      "text/plain": [
       "'6.50 Coffee and Depression. Researchers conducted a study investigating the relationship between caf-\\nfeinated coffee consumption and risk of depression in women. They collected data on 50,739 women free of\\ndepression symptoms at the start of the study in the year 1996, and these women were followed through 2006.\\nThe researchers used questionnaires to collect data on caffeinated coffee consumption, asked each individual\\nabout physician- diagnosed depression, and also asked about the use of antidepressants. The table below\\nshows the distribution of incidences of depression by amount of caffeinated coffee consumption.\\nCaffeinated coffee consumption\\n\\x14 1 2-6 1 2-3 \\x15 4\\ncup/week cups/week cup/day cups/day cups/day Total\\nClinical Yes 670 373 905 564 95 2,607\\ndepression No 11,545 6,244 16,329 11,726 2,288 48,132\\nTotal 12,215 6,617 17,234 12,290 2,383 50,739\\n(a) What type of test is appropriate for evaluating if there is an association between co\\nee intake and\\ndepression?\\n(b) Write the hypotheses for the test you identified in part (a).\\n(c) Calculate the overall proportion of women who do and do not su\\ner from depression.\\n(d) Identify the expected count for the highlighted cell, and calculate the contribution of this cell to the test\\nstatistic, i.e. (Observed \\U00100000 Expected)2=Expected.\\n(e) The test statistic is X^2 = 20:93. What is the p-value?\\n(f) What is the conclusion of the hypothesis test?\\n(g) One of the authors of this study was quoted on the NYTimes as saying it was \"too early to recommend\\nthat women load up on extra coffee\" based on just this study. Do you agree with this statement?\\nExplain your reasoning.'"
      ]
     },
     "execution_count": 26,
     "metadata": {},
     "output_type": "execute_result"
    }
   ],
   "source": [
    "'''6.50 Coffee and Depression. Researchers conducted a study investigating the relationship between caf-\n",
    "feinated coffee consumption and risk of depression in women. They collected data on 50,739 women free of\n",
    "depression symptoms at the start of the study in the year 1996, and these women were followed through 2006.\n",
    "The researchers used questionnaires to collect data on caffeinated coffee consumption, asked each individual\n",
    "about physician- diagnosed depression, and also asked about the use of antidepressants. The table below\n",
    "shows the distribution of incidences of depression by amount of caffeinated coffee consumption.\n",
    "Caffeinated coffee consumption\n",
    "\u0014 1 2-6 1 2-3 \u0015 4\n",
    "cup/week cups/week cup/day cups/day cups/day Total\n",
    "Clinical Yes 670 373 905 564 95 2,607\n",
    "depression No 11,545 6,244 16,329 11,726 2,288 48,132\n",
    "Total 12,215 6,617 17,234 12,290 2,383 50,739\n",
    "(a) What type of test is appropriate for evaluating if there is an association between co\u000b",
    "ee intake and\n",
    "depression?\n",
    "(b) Write the hypotheses for the test you identified in part (a).\n",
    "(c) Calculate the overall proportion of women who do and do not su\u000b",
    "er from depression.\n",
    "(d) Identify the expected count for the highlighted cell, and calculate the contribution of this cell to the test\n",
    "statistic, i.e. (Observed 􀀀 Expected)2=Expected.\n",
    "(e) The test statistic is X^2 = 20:93. What is the p-value?\n",
    "(f) What is the conclusion of the hypothesis test?\n",
    "(g) One of the authors of this study was quoted on the NYTimes as saying it was \"too early to recommend\n",
    "that women load up on extra coffee\" based on just this study. Do you agree with this statement?\n",
    "Explain your reasoning.'''"
   ]
  },
  {
   "cell_type": "code",
   "execution_count": null,
   "metadata": {
    "collapsed": true
   },
   "outputs": [],
   "source": []
  },
  {
   "cell_type": "code",
   "execution_count": null,
   "metadata": {
    "collapsed": true
   },
   "outputs": [],
   "source": []
  },
  {
   "cell_type": "code",
   "execution_count": null,
   "metadata": {
    "collapsed": true
   },
   "outputs": [],
   "source": []
  }
 ],
 "metadata": {
  "kernelspec": {
   "display_name": "Python 3",
   "language": "python",
   "name": "python3"
  },
  "language_info": {
   "codemirror_mode": {
    "name": "ipython",
    "version": 3
   },
   "file_extension": ".py",
   "mimetype": "text/x-python",
   "name": "python",
   "nbconvert_exporter": "python",
   "pygments_lexer": "ipython3",
   "version": "3.6.1"
  }
 },
 "nbformat": 4,
 "nbformat_minor": 2
}
