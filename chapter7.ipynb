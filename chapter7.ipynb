{
 "cells": [
  {
   "cell_type": "code",
   "execution_count": 2,
   "metadata": {},
   "outputs": [],
   "source": [
    "import pandas as pd\n",
    "import numpy as np\n",
    "import random\n",
    "import scipy.stats\n",
    "import math\n",
    "from matplotlib import pyplot as plt\n",
    "from random import sample"
   ]
  },
  {
   "cell_type": "code",
   "execution_count": 3,
   "metadata": {},
   "outputs": [
    {
     "name": "stdout",
     "output_type": "stream",
     "text": [
      "consultant's complication rate 0.04838709677419355\n",
      "OVERVIEW TO THE PROPORTIONS IN SIMULATION:  [0.06451612903225806, 0.14516129032258066, 0.11290322580645161, 0.16129032258064516, 0.0967741935483871, 0.03225806451612903, 0.04838709677419355, 0.0967741935483871, 0.12903225806451613, 0.12903225806451613]\n",
      "LEFT TAIL PROBABILITY:  0.1168\n",
      "since it's greater than our significance level of 0.05, we can not reject H0 and conclude:\n",
      "the data does not provide convincing evidence about an association between the consultant's work and fewer surgery complications\n"
     ]
    }
   ],
   "source": [
    "'''People providing an organ for donation sometimes seek the help of a special \"medical consultant\". \n",
    "These consultants assist the patient in all aspects of the surgery, with the goal of reducing\n",
    "the possibility of complications during the medical procedure and recovery. Patients might choose\n",
    "a consultant based in part on the historical complication rate of the consultant's clients. One consultant \n",
    "tried to attract patients by noting the average complication rate for liver donor surgeries in\n",
    "the US is about 10%, but her clients have only had 3 complications in the 62 liver donor surgeries\n",
    "she has facilitated. She claims this is strong evidence that her work meaningfully contributes to\n",
    "reducing complications (and therefore she should be hired!).\n",
    "H0: there's no association between the consultant's contributions and the client's complication rate.\n",
    "HA: patients who work with the consultant have a lower rate of complication rate than %10\n",
    "'''\n",
    "\n",
    "patients = 62 # consultant's 62 clients\n",
    "comp_rate = .10 # claimed US general complication rate claimed by the consultant, which will be H0\n",
    "not_comp_rate = 1 - comp_rate \n",
    "prop_list = list() # empty list for the simulated proportions\n",
    "sim_num = 10000 # how many times we'll simulate\n",
    "cons_rate = 3 / patients # consultant's claimed complication rate\n",
    "print(\"consultant's complication rate\",cons_rate)\n",
    "\n",
    "for i in range(0,sim_num):\n",
    "    x = np.array([\"complication\", \"not\"]) # creating an array of possible outcomes\n",
    "    possible_entries = np.repeat(x, [comp_rate*10, not_comp_rate*10], axis=0) # the array for possible entries\n",
    "    sampled_entries = list()\n",
    "    for i in range(0,patients):\n",
    "        sampled_entry = random.sample(list(possible_entries), k=1)[0] # sampling from the possible entries\n",
    "        sampled_entries.append(sampled_entry) # appending the sample to a list\n",
    "    prop = sampled_entries.count('complication')/patients # calculate proportion rate from the sampled entry list\n",
    "    prop_list.append(prop) # add the proportion to the proportion list\n",
    "print(\"OVERVIEW TO THE PROPORTIONS IN SIMULATION: \",prop_list[0:10])\n",
    "\n",
    "# LEFT TAIL calculation. the observations which is less than phat. \n",
    "def condition(x):\n",
    "    return x<=cons_rate\n",
    "left_tail = sum(condition(x) for x in prop_list) / sim_num\n",
    "print(\"LEFT TAIL PROBABILITY: \",left_tail)\n",
    "print('''since it's greater than our significance level of 0.05, we can not reject H0 and conclude:\n",
    "the data does not provide convincing evidence about an association between the consultant's work and fewer surgery complications''')"
   ]
  },
  {
   "cell_type": "code",
   "execution_count": 5,
   "metadata": {},
   "outputs": [
    {
     "data": {
      "text/plain": [
       "(array([ 107., 1061., 2777., 3200., 1942.,  711.,  168.,   27.,    7.]),\n",
       " array([0.        , 0.03046595, 0.0609319 , 0.09139785, 0.1218638 ,\n",
       "        0.15232975, 0.1827957 , 0.21326165, 0.2437276 , 0.27419355]),\n",
       " <BarContainer object of 9 artists>)"
      ]
     },
     "execution_count": 5,
     "metadata": {},
     "output_type": "execute_result"
    },
    {
     "data": {
      "image/png": "[encoded data removed]",
      "text/plain": [
       "<Figure size 432x288 with 1 Axes>"
      ]
     },
     "metadata": {
      "needs_background": "light"
     },
     "output_type": "display_data"
    }
   ],
   "source": [
    "plt.hist(prop_list,9)"
   ]
  },
  {
   "cell_type": "code",
   "execution_count": 10,
   "metadata": {},
   "outputs": [
    {
     "name": "stdout",
     "output_type": "stream",
     "text": [
      "0.045464360587835186  as seen, the two p-values generated with the first method and the binomial distribution calculation are so close.\n"
     ]
    }
   ],
   "source": [
    "# generating the exact null distribution and p-value // binomial distribution\n",
    "n = 62\n",
    "k = 3 # we want to calculate probabilities for 3 or less complications.\n",
    "p = .1  # null hypothesis, national average\n",
    "minusp = 1 - p\n",
    "a = list()\n",
    "for j in range(0,k):\n",
    "    calc = math.comb(n,j) * (p**j) * minusp**(n-j)\n",
    "    a.append(calc) # i think watching inside a list is better because we can see the components easily with hashing. \n",
    "\n",
    "print(sum(a),\" as seen, the two p-values generated with the first method and the binomial distribution calculation are so close.\")"
   ]
  },
  {
   "cell_type": "code",
   "execution_count": null,
   "metadata": {},
   "outputs": [],
   "source": []
  }
 ],
 "metadata": {
  "kernelspec": {
   "display_name": "Python 3.9.12 ('base')",
   "language": "python",
   "name": "python3"
  },
  "language_info": {
   "codemirror_mode": {
    "name": "ipython",
    "version": 3
   },
   "file_extension": ".py",
   "mimetype": "text/x-python",
   "name": "python",
   "nbconvert_exporter": "python",
   "pygments_lexer": "ipython3",
   "version": "3.9.12"
  },
  "orig_nbformat": 4,
  "vscode": {
   "interpreter": {
    "hash": "3c06e3e46abf38078fe4dac36a0085ec2b134ebbd73dd076183d243eeca6918f"
   }
  }
 },
 "nbformat": 4,
 "nbformat_minor": 2
}
