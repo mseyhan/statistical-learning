{
 "cells": [
  {
   "cell_type": "code",
   "execution_count": 2,
   "metadata": {},
   "outputs": [],
   "source": [
    "import pandas as pd\n",
    "import numpy as np\n",
    "import random\n",
    "import scipy.stats"
   ]
  },
  {
   "cell_type": "code",
   "execution_count": 3,
   "metadata": {},
   "outputs": [
    {
     "name": "stdout",
     "output_type": "stream",
     "text": [
      "<class 'numpy.ndarray'>\n"
     ]
    },
    {
     "data": {
      "text/plain": [
       "array(['support', 'support', 'support', ..., 'not', 'not', 'not'],\n",
       "      dtype='<U7')"
      ]
     },
     "execution_count": 3,
     "metadata": {},
     "output_type": "execute_result"
    }
   ],
   "source": [
    "pop_size = 25000000\n",
    "supp_rate = .88\n",
    "not_rate = .12\n",
    "x = np.array([\"support\", \"not\"])\n",
    "possible_entries = np.repeat(x, [supp_rate*pop_size, not_rate*pop_size], axis=0)\n",
    "print(type(possible_entries))\n",
    "possible_entries"
   ]
  },
  {
   "cell_type": "code",
   "execution_count": 4,
   "metadata": {},
   "outputs": [],
   "source": [
    "sampled_entries = random.sample(list(possible_entries), k=1000)"
   ]
  },
  {
   "cell_type": "code",
   "execution_count": 5,
   "metadata": {},
   "outputs": [
    {
     "data": {
      "text/plain": [
       "[0.878,\n",
       " 0.881,\n",
       " 0.859,\n",
       " 0.882,\n",
       " 0.868,\n",
       " 0.893,\n",
       " 0.876,\n",
       " 0.885,\n",
       " 0.878,\n",
       " 0.889,\n",
       " 0.882,\n",
       " 0.882,\n",
       " 0.884,\n",
       " 0.871,\n",
       " 0.887,\n",
       " 0.874,\n",
       " 0.879,\n",
       " 0.883,\n",
       " 0.872,\n",
       " 0.877,\n",
       " 0.904,\n",
       " 0.88,\n",
       " 0.877,\n",
       " 0.889,\n",
       " 0.882,\n",
       " 0.876,\n",
       " 0.875,\n",
       " 0.899,\n",
       " 0.871,\n",
       " 0.875,\n",
       " 0.867,\n",
       " 0.879,\n",
       " 0.887,\n",
       " 0.877,\n",
       " 0.87,\n",
       " 0.889,\n",
       " 0.87,\n",
       " 0.886,\n",
       " 0.88,\n",
       " 0.88,\n",
       " 0.886,\n",
       " 0.888,\n",
       " 0.881,\n",
       " 0.881,\n",
       " 0.9,\n",
       " 0.88,\n",
       " 0.891,\n",
       " 0.883,\n",
       " 0.875,\n",
       " 0.889,\n",
       " 0.892,\n",
       " 0.871,\n",
       " 0.876,\n",
       " 0.898,\n",
       " 0.863,\n",
       " 0.881,\n",
       " 0.893,\n",
       " 0.877,\n",
       " 0.895,\n",
       " 0.867,\n",
       " 0.887,\n",
       " 0.858,\n",
       " 0.878,\n",
       " 0.905,\n",
       " 0.884,\n",
       " 0.869,\n",
       " 0.897,\n",
       " 0.88,\n",
       " 0.884,\n",
       " 0.881,\n",
       " 0.874,\n",
       " 0.878,\n",
       " 0.885,\n",
       " 0.869,\n",
       " 0.865,\n",
       " 0.878,\n",
       " 0.886,\n",
       " 0.881,\n",
       " 0.877,\n",
       " 0.884,\n",
       " 0.885,\n",
       " 0.892,\n",
       " 0.896,\n",
       " 0.89,\n",
       " 0.903,\n",
       " 0.876,\n",
       " 0.876,\n",
       " 0.888,\n",
       " 0.877,\n",
       " 0.877,\n",
       " 0.879,\n",
       " 0.882,\n",
       " 0.888,\n",
       " 0.874,\n",
       " 0.876,\n",
       " 0.884,\n",
       " 0.906,\n",
       " 0.88,\n",
       " 0.876,\n",
       " 0.88]"
      ]
     },
     "execution_count": 5,
     "metadata": {},
     "output_type": "execute_result"
    }
   ],
   "source": [
    "# Suppose the proportion of American adults who support the expansion of solar energy is p = 0:88,\n",
    "# which is our parameter of interest. If we were to take a poll of 1000 American adults on this\n",
    "# topic, the estimate would not be perfect, but how close might we expect the sample proportion in\n",
    "# the poll would be to 88%? We want to understand, how does the sample proportion phat behave when\n",
    "# the true population proportion is 0.88.\n",
    "\n",
    "pop_size = 2500000\n",
    "supp_rate = .88\n",
    "not_rate = .12\n",
    "prop_list = list()\n",
    "for i in range(0,100):\n",
    "    x = np.array([\"support\", \"not\"])\n",
    "    possible_entries = np.repeat(x, [supp_rate*pop_size, not_rate*pop_size], axis=0)\n",
    "    sampled_entries = random.sample(list(possible_entries), k=1000)\n",
    "    prop = sampled_entries.count(\"support\")/1000\n",
    "    prop_list.append(prop)\n",
    "\n",
    "prop_list"
   ]
  },
  {
   "cell_type": "code",
   "execution_count": 6,
   "metadata": {},
   "outputs": [
    {
     "data": {
      "text/plain": [
       "(array([ 2.,  4.,  9., 20., 21., 18., 12.,  6.,  4.,  4.]),\n",
       " array([0.858 , 0.8628, 0.8676, 0.8724, 0.8772, 0.882 , 0.8868, 0.8916,\n",
       "        0.8964, 0.9012, 0.906 ]),\n",
       " <BarContainer object of 10 artists>)"
      ]
     },
     "execution_count": 6,
     "metadata": {},
     "output_type": "execute_result"
    },
    {
     "data": {
      "image/png": "[encoded data removed]",
      "text/plain": [
       "<Figure size 432x288 with 1 Axes>"
      ]
     },
     "metadata": {
      "needs_background": "light"
     },
     "output_type": "display_data"
    }
   ],
   "source": [
    "from matplotlib import pyplot as plt\n",
    "plt.hist(prop_list,10)"
   ]
  },
  {
   "cell_type": "code",
   "execution_count": 7,
   "metadata": {},
   "outputs": [
    {
     "name": "stdout",
     "output_type": "stream",
     "text": [
      "PREPARE.\n",
      "n= 1042\n",
      "phat= 0.82\n",
      "CHECK.\n",
      "independence: if the poll is a simple random sample, the observations should be independent.\n",
      "success failure condition:  854.4399999999999 187.56000000000006\n",
      "CALCULATE.\n",
      "standard error:  0.011901708775845125\n",
      "95% confidence level z score is: 1.96\n",
      "CONFIDENCE INTERVAL:  (0.7966726507993435, 0.8433273492006564)\n",
      "CONCLUDE.\n",
      "We're 95% confident that the proportion of NYC adults who supports \n",
      "quarantines is between 0.7966726507993435 and 0.8433273492006564\n",
      "\n",
      "If we took many such samples and computed a 95% confidence interval for each, then about 95% of those\n",
      "intervals would contain the actual proportion of New York adults who supported a quarantine for anyone who has\n",
      "come into contact with an Ebola patient.\n",
      "\n"
     ]
    }
   ],
   "source": [
    "'''\n",
    "EXAMPLE 5.12\n",
    "    question:\n",
    "In New York City on October 23rd, 2014, a doctor who had recently been treating Ebola\n",
    "patients in Guinea went to the hospital with a slight fever and was subsequently diagnosed with\n",
    "Ebola. Soon thereafter, an NBC 4 New York/The Wall Street Journal/Marist Poll found that 82%\n",
    "of New Yorkers favored a \\mandatory 21-day quarantine for anyone who has come in contact with an\n",
    "Ebola patient\". This poll included responses of 1,042 New York adults between Oct 26th and 28th,\n",
    "2014.\n",
    "'''\n",
    "n = 1042\n",
    "print(\"PREPARE.\")\n",
    "print(\"n=\",n)\n",
    "phat = .82\n",
    "print(\"phat=\",phat)\n",
    "print(\"CHECK.\")\n",
    "print(\"independence: if the poll is a simple random sample, the observations should be independent.\")\n",
    "print(\"success failure condition: \", n*phat, n*(1-phat))\n",
    "print(\"CALCULATE.\")\n",
    "se = np.sqrt((phat*(1-phat)) / n)\n",
    "print(\"standard error: \", se)\n",
    "z=1.96\n",
    "print(\"95% confidence level z score is:\",z)\n",
    "conf_int = (phat-(z*se), phat+(z*se))\n",
    "print(\"CONFIDENCE INTERVAL: \", conf_int )\n",
    "print('''CONCLUDE.\n",
    "We're 95% confident that the proportion of NYC adults who supports \n",
    "quarantines is between {} and {}'''.format(conf_int[0],conf_int[1]))\n",
    "print('''\n",
    "If we took many such samples and computed a 95% confidence interval for each, then about 95% of those\n",
    "intervals would contain the actual proportion of New York adults who supported a quarantine for anyone who has\n",
    "come into contact with an Ebola patient.\n",
    "''')\n"
   ]
  },
  {
   "cell_type": "code",
   "execution_count": 8,
   "metadata": {},
   "outputs": [
    {
     "name": "stdout",
     "output_type": "stream",
     "text": [
      "PREPARE.\n",
      "n= 1000\n",
      "phat= 0.848\n",
      "CHECK.\n",
      "independence: if the poll is a simple random sample, the observations should be independent.\n",
      " 848.0 152.00000000000003\n",
      "CALCULATE.\n",
      "standard error:  0.011353237423748348\n",
      "99% confidence level z score is: 2.58\n",
      "CONFIDENCE INTERVAL:  (0.8187086474467292, 0.8772913525532707)\n",
      "CONCLUDE.\n",
      "We're 99% confident that the proportion of NYC adults who supports \n",
      "quarantines is between 0.8187086474467292 and 0.8772913525532707\n"
     ]
    }
   ],
   "source": [
    "'''\n",
    "EXAMPLE 5.12\n",
    "    question:\n",
    "In the Pew Research poll about solar energy, they also inquired about other forms of energy, and\n",
    "84.8% of the 1000 respondents supported expanding the use of wind turbines.\n",
    "(a) Is it reasonable to model the proportion of US adults who support expanding wind turbines\n",
    "using a normal distribution?\n",
    "(b) Create a 99% confidence interval for the level of American support for expanding the use of\n",
    "wind turbines for power generation.\n",
    "'''\n",
    "n = 1000\n",
    "print(\"PREPARE.\")\n",
    "print(\"n=\",n)\n",
    "phat = .848\n",
    "print(\"phat=\",phat)\n",
    "print(\"CHECK.\")\n",
    "print(\"independence: if the poll is a simple random sample, the observations should be independent.\")\n",
    "succ = n*phat\n",
    "fail = n*(1-phat)\n",
    "print(\"\", succ, fail)\n",
    "print(\"CALCULATE.\")\n",
    "se = np.sqrt((phat*(1-phat)) / n)\n",
    "print(\"standard error: \", se)\n",
    "z = 2.58\n",
    "print(\"99% confidence level z score is:\",z)\n",
    "conf_int = (phat-(z*se), phat+(z*se))\n",
    "print(\"CONFIDENCE INTERVAL: \", conf_int )\n",
    "print('''CONCLUDE.\n",
    "We're 99% confident that the proportion of NYC adults who supports \n",
    "quarantines is between {} and {}'''.format(conf_int[0],conf_int[1]))"
   ]
  },
  {
   "cell_type": "code",
   "execution_count": 9,
   "metadata": {},
   "outputs": [
    {
     "name": "stdout",
     "output_type": "stream",
     "text": [
      "CONFIDENCE INTERVAL:  (0.42648, 0.47352)\n",
      "CONCLUDE.\n",
      "We're 95% confident that the proportion of NYC adults who supports \n",
      "quarantines is between 0.42648 and 0.47352\n"
     ]
    }
   ],
   "source": [
    "'''In 2013, the Pew Research Foundation reported that 45% of U.S. adults report\n",
    "that they live with one or more chronic conditions\". However, this value was based on a sample, so it may\n",
    "not be a perfect estimate for the population parameter of interest on its own. The study reported a standard\n",
    "error of about 1.2%, and a normal model may reasonably be used in this setting. Create a 95% confidence\n",
    "interval for the proportion of U.S. adults who live with one or more chronic conditions. Also interpret the\n",
    "confidence interval in the context of the study.'''\n",
    "\n",
    "phat = .45\n",
    "se=0.012\n",
    "z = 1.96\n",
    "conf_int = (phat-(z*se), phat+(z*se))\n",
    "print(\"CONFIDENCE INTERVAL: \", conf_int )\n",
    "print('''CONCLUDE.\n",
    "We're 95% confident that the proportion of NYC adults who supports \n",
    "quarantines is between {} and {}'''.format(conf_int[0],conf_int[1]))"
   ]
  },
  {
   "cell_type": "code",
   "execution_count": 10,
   "metadata": {},
   "outputs": [
    {
     "name": "stdout",
     "output_type": "stream",
     "text": [
      "CONFIDENCE INTERVAL:  (0.45808000000000004, 0.58192)\n",
      "CONCLUDE.\n",
      "We're 99% confident that the proportion of NYC adults who supports \n",
      "quarantines is between 0.45808000000000004 and 0.58192\n"
     ]
    }
   ],
   "source": [
    "'''A poll conducted in 2013 found that 52% of U.S. adult Twitter users get\n",
    "at least some news on Twitter. The standard error for this estimate was 2.4%, and a normal distribution\n",
    "may be used to model the sample proportion. Construct a 99% confidence interval for the fraction of U.S.\n",
    "adult Twitter users who get some news on Twitter, and interpret the confidence interval in context.'''\n",
    "\n",
    "phat = .52\n",
    "se=0.024\n",
    "z = 2.58\n",
    "conf_int = (phat-(z*se), phat+(z*se))\n",
    "print(\"CONFIDENCE INTERVAL: \", conf_int )\n",
    "print('''CONCLUDE.\n",
    "We're 99% confident that the proportion of NYC adults who supports \n",
    "quarantines is between {} and {}'''.format(conf_int[0],conf_int[1]))"
   ]
  },
  {
   "cell_type": "code",
   "execution_count": 11,
   "metadata": {},
   "outputs": [
    {
     "name": "stdout",
     "output_type": "stream",
     "text": [
      "\n",
      "a) False. No we can't. We can't be certain because some extreme situations can always happen. We only can say:\n",
      "\"We're 95% confident that proportion of NYC adults who supports quarantines is between 0.42648 and 0.47352\n",
      "b) True. For each 100 studies, 5 of them probably won't capture the true fraction of the population parameter.\n",
      "c) True. Because the confidence interval doesn't capture 50% estimation, we can say we have statistically\n",
      "significant evidence to believe it's not 50. This means that in a hypothesis test, we would reject the null \n",
      "hypothesis that the proportion is 0.5. And also it's far away from the mean by standard deviations.\n",
      "d) False.\n",
      "\n"
     ]
    }
   ],
   "source": [
    "'''In 2013, the Pew Research Foundation reported that 45% of U.S. adults\n",
    "report that they live with one or more chronic conditions\", and the standard error for this estimate is 1.2%.\n",
    "Identify each of the following statements as true or false. Provide an explanation to justify each of your\n",
    "answers.\n",
    "(a) We can say with certainty that the confidence interval from Exercise 5.7 contains the true percentage\n",
    "of U.S. adults who suffer from a chronic illness.\n",
    "(b) If we repeated this study 1,000 times and constructed a 95% confidence interval for each study, then\n",
    "approximately 950 of those confidence intervals would contain the true fraction of U.S. adults who suffer\n",
    "from chronic illnesses.\n",
    "(c) The poll provides statistically significant evidence (at the a = 0.05 level) that the percentage of U.S.\n",
    "adults who suffer from chronic illnesses is below 50%.\n",
    "(d) Since the standard error is 1.2%, only 1.2% of people in the study communicated uncertainty about\n",
    "their answer.'''\n",
    "print('''\n",
    "a) False. No we can't. We can't be certain because some extreme situations can always happen. We only can say:\n",
    "\"We're 95% confident that proportion of NYC adults who supports quarantines is between 0.42648 and 0.47352\n",
    "b) True. For each 100 studies, 5 of them probably won't capture the true fraction of the population parameter.\n",
    "c) True. Because the confidence interval doesn't capture 50% estimation, we can say we have statistically\n",
    "significant evidence to believe it's not 50. This means that in a hypothesis test, we would reject the null \n",
    "hypothesis that the proportion is 0.5. And also it's far away from the mean by standard deviations.\n",
    "d) False.\n",
    "''')\n"
   ]
  },
  {
   "cell_type": "code",
   "execution_count": 12,
   "metadata": {},
   "outputs": [
    {
     "name": "stdout",
     "output_type": "stream",
     "text": [
      "(a) False. We can't draw a conclusion like in that statement because (0.45808000000000004, 0.58192) is our confidence\n",
      "interval and there are values less than 50% in the confidence interval.\n",
      "(b) False. Standard error shows us how the average error in our sampling distribution looks like. We can't draw a conclusion\n",
      "like in the statement.\n",
      "(c) False. If we collect more data, we'd expect to reduce the standard error of the estimate.\n",
      "(d) False. 99% confidence interval would be wider because we want to capture the correct amount so that we widen our interval.\n",
      "\n"
     ]
    }
   ],
   "source": [
    "'''Twitter users and news, Part II. A poll conducted in 2013 found that 52% of U.S. adult Twitter users\n",
    "get at least some news on Twitter, and the standard error for this estimate was 2.4%. Identify each of the\n",
    "following statements as true or false. Provide an explanation to justify each of your answers.\n",
    "(a) The data provide statistically significant evidence that more than half of U.S. adult Twitter users get\n",
    "some news through Twitter. Use a significant level of a = 0.01 (This part uses concepts from\n",
    "Section 5.3 and will be corrected in a future edition.)\n",
    "(b) Since the standard error is 2.4%, we can conclude that 97.6% of all U.S. adult Twitter users were\n",
    "included in the study.\n",
    "(c) If we want to reduce the standard error of the estimate, we should collect less data.\n",
    "(d) If we construct a 90% confidence interval for the percentage of U.S. adults Twitter users who get\n",
    "some news through Twitter, this confidence interval will be wider than a corresponding 99% confidence\n",
    "interval.'''\n",
    "\n",
    "print('''(a) False. We can't draw a conclusion like in that statement because (0.45808000000000004, 0.58192) is our confidence\n",
    "interval and there are values less than 50% in the confidence interval.\n",
    "(b) False. Standard error shows us how the average error in our sampling distribution looks like. We can't draw a conclusion\n",
    "like in the statement.\n",
    "(c) False. If we collect more data, we'd expect to reduce the standard error of the estimate.\n",
    "(d) False. 99% confidence interval would be wider because we want to capture the correct amount so that we widen our interval.\n",
    "''')"
   ]
  },
  {
   "cell_type": "code",
   "execution_count": 13,
   "metadata": {},
   "outputs": [
    {
     "name": "stdout",
     "output_type": "stream",
     "text": [
      "\n",
      "a) False. We're 95% confident that the average waiting time of all patients at the hospital is between 128 and 147 minutes.\n",
      "We already know the sample mean if we had sampling and it's provided in the data already.\n",
      "b) True.\n",
      "c) False. It's not about sample mean, it's about population parameter.\n",
      "d) False. 99% confidence interval would be wider because we want to capture the correct amount so that we widen our interval.\n",
      "e) True. 147 - 128 = 19 / 2 = 9.5 + 128 = 137.5\n",
      "f) Margin of error: (z* x SE) so the z is same because it's given 95%. It's about SE and the way to cut the SE in half is\n",
      "sqrt(p(1-p)/n). if we double the sample size it's not enough. we have to do it 4 times because of the square root in the formula\n",
      "\n"
     ]
    }
   ],
   "source": [
    "'''5.11 Waiting at an ER, Part I. A hospital administrator hoping to improve wait times decides to estimate\n",
    "the average emergency room waiting time at her hospital. She collects a simple random sample of 64 patients\n",
    "and determines the time (in minutes) between when they checked in to the ER until they were first seen by\n",
    "a doctor. A 95% confidence interval based on this sample is (128 minutes, 147 minutes), which is based on\n",
    "the normal model for the mean. Determine whether the following statements are true or false, and explain\n",
    "your reasoning.\n",
    "(a) We are 95% confident that the average waiting time of these 64 emergency room patients is between\n",
    "128 and 147 minutes.\n",
    "(b) We are 95% confident that the average waiting time of all patients at this hospital's emergency room is\n",
    "between 128 and 147 minutes.\n",
    "(c) 95% of random samples have a sample mean between 128 and 147 minutes.\n",
    "(d) A 99% confidence interval would be narrower than the 95% confidence interval since we need to be more\n",
    "sure of our estimate.\n",
    "(e) The margin of error is 9.5 and the sample mean is 137.5.\n",
    "(f) In order to decrease the margin of error of a 95% confidence interval to half of what it is now, we would\n",
    "need to double the sample size. (Hint: the margin of error for a mean scales in the same way with\n",
    "sample size as the margin of error for a proportion.)'''\n",
    "\n",
    "print('''\n",
    "a) False. We're 95% confident that the average waiting time of all patients at the hospital is between 128 and 147 minutes.\n",
    "We already know the sample mean if we had sampling and it's provided in the data already.\n",
    "b) True.\n",
    "c) False. It's not about sample mean, it's about population parameter.\n",
    "d) False. 99% confidence interval would be wider because we want to capture the correct amount so that we widen our interval.\n",
    "e) True. 147 - 128 = 19 / 2 = 9.5 + 128 = 137.5\n",
    "f) Margin of error: (z* x SE) so the z is same because it's given 95%. It's about SE and the way to cut the SE in half is\n",
    "sqrt(p(1-p)/n). if we double the sample size it's not enough. we have to do it 4 times because of the square root in the formula\n",
    "''')"
   ]
  },
  {
   "cell_type": "code",
   "execution_count": 14,
   "metadata": {},
   "outputs": [
    {
     "name": "stdout",
     "output_type": "stream",
     "text": [
      "(a) We're 95% confident that the percentage of US residents who doesn't feel alright mentally in 50 days\n",
      "is between 3.40 and 4.24.\n",
      "(b) 95% confident means how plausible the range is for the population parameter. We're 95% sure\n",
      "that the percentage of US residents who doesn't feel alright mentally in 50 days is between 3.40 and 4.24.\n",
      "(c) Wider. \n",
      "(d) Because the respondents decrease, I expect standard error to be larger.\n",
      "\n"
     ]
    }
   ],
   "source": [
    "'''5.12 Mental health. The General Social Survey asked the question: \\For how many days during the past\n",
    "30 days was your mental health, which includes stress, depression, and problems with emotions, not good?\"\n",
    "Based on responses from 1,151 US residents, the survey reported a 95% confidence interval of 3.40 to 4.24\n",
    "days in 2010.\n",
    "(a) Interpret this interval in context of the data.\n",
    "(b) What does 95% confident\" mean? Explain in the context of the application.\n",
    "(c) Suppose the researchers think a 99% confidence level would be more appropriate for this interval. Will\n",
    "this new interval be smaller or wider than the 95% confidence interval?\n",
    "(d) If a new survey were to be done with 500 Americans, do you think the standard error of the estimate\n",
    "be larger, smaller, or about the same.'''\n",
    "\n",
    "print('''(a) We're 95% confident that the percentage of US residents who doesn't feel alright mentally in 50 days\n",
    "is between 3.40 and 4.24.\n",
    "(b) 95% confident means how plausible the range is for the population parameter. We're 95% sure\n",
    "that the percentage of US residents who doesn't feel alright mentally in 50 days is between 3.40 and 4.24.\n",
    "(c) Wider. \n",
    "(d) Because the respondents decrease, I expect standard error to be larger.\n",
    "''')\n"
   ]
  },
  {
   "cell_type": "code",
   "execution_count": 15,
   "metadata": {},
   "outputs": [
    {
     "name": "stdout",
     "output_type": "stream",
     "text": [
      "(a) independence: if users are randomly assigned, condition met.\n",
      "success-failure condition: 64 and 752-64 = 688 is both greater than 10.\n",
      "(b) SE = sqrt(p(1-p) / n) = sqrt(0.0778 / 752) = 0.01017\n",
      "(c) 90% confidence z* = 1.645\n",
      "phat = 0.0851063829787234\n",
      "margin of error: 1.645 * 0.01017 = 0.016729650000000002\n",
      "confidence interval: (0.08510 - 0.016729650000000002 ,  0.08510 + 0.016729650000000002) = (0.06827035000000001,0.10172965)\n",
      "\n"
     ]
    }
   ],
   "source": [
    "'''5.13 Website registration. A website is trying to increase registration for first-time visitors, exposing 1%\n",
    "of these visitors to a new site design. Of 752 randomly sampled visitors over a month who saw the new\n",
    "design, 64 registered.\n",
    "(a) Check any conditions required for constructing a confidence interval.\n",
    "(b) Compute the standard error.\n",
    "(c) Construct and interpret a 90% confidence interval for the fraction of first-time visitors of the site who\n",
    "would register under the new design (assuming stable behaviors by new visitors over time).'''\n",
    "\n",
    "print('''(a) independence: if users are randomly assigned, condition met.\n",
    "success-failure condition: 64 and 752-64 = 688 is both greater than 10.\n",
    "(b) SE = sqrt(p(1-p) / n) = sqrt(0.0778 / 752) = 0.01017\n",
    "(c) 90% confidence z* = 1.645\n",
    "phat = {phat}\n",
    "margin of error: 1.645 * 0.01017 = {me}\n",
    "confidence interval: (0.08510 - {me} ,  0.08510 + {me}) = ({lo},{hi})\n",
    "'''.format(phat=64/752,me=(1.645 * 0.01017),lo= 0.085 - (1.645 * 0.01017),hi= 0.085 + (1.645 * 0.01017)))"
   ]
  },
  {
   "cell_type": "code",
   "execution_count": 16,
   "metadata": {},
   "outputs": [
    {
     "name": "stdout",
     "output_type": "stream",
     "text": [
      "(a) n = 603 , phat = 0.23548922056384744, 1-phat = 0.7645107794361525\n",
      "SE = sqrt(p(1-p)/n) = sqrt((0.23548922056384744*0.7645107794361525)/603) = 0.01727900246846652\n",
      "z* = 1.96 , margin of error: z* x SE = 0.03386684483819438\n",
      "confidence interval: (phat - z* x SE , phat + z* x SE) = (0.20162237572565306,0.2693560654020418)\n",
      "\n"
     ]
    }
   ],
   "source": [
    "'''5.14 Coupons driving visits. A store randomly samples 603 shoppers over the course of a year and\n",
    "finds that 142 of them made their visit because of a coupon they'd received in the mail. Construct a 95%\n",
    "confidence interval for the fraction of all shoppers during the year whose visit was because of a coupon they'd\n",
    "received in the mail.'''\n",
    "n = 603\n",
    "succ = 142\n",
    "phat = succ/n\n",
    "minus_phat = 1-(succ/n)\n",
    "z = 1.96\n",
    "se = np.sqrt(phat*minus_phat / n)\n",
    "me= 1.96 * se\n",
    "lo = phat - me\n",
    "hi = phat + me\n",
    "print('''(a) n = {n} , phat = {phat}, 1-phat = {minus_phat}\n",
    "SE = sqrt(p(1-p)/n) = sqrt(({phat}*{minus_phat})/{n}) = {se}\n",
    "z* = {z} , margin of error: z* x SE = {me}\n",
    "confidence interval: (phat - z* x SE , phat + z* x SE) = ({lo},{hi})\n",
    "'''.format(n=n,z=z,phat=phat, minus_phat= minus_phat, se = se, me = me, lo=lo, hi=hi))\n"
   ]
  },
  {
   "cell_type": "code",
   "execution_count": 17,
   "metadata": {},
   "outputs": [
    {
     "name": "stdout",
     "output_type": "stream",
     "text": [
      "incorrect    0.76\n",
      "correct      0.24\n",
      "Name: response, dtype: float64\n",
      "n = 50 , phat = 0.24, 1-phat = 0.76\n",
      "SE = sqrt(p(1-p)/n) = sqrt((0.24*0.76)/50) = 0.060398675482166\n",
      "z* = 1.96 , margin of error: z* x SE = 0.11838140394504536\n",
      "confidence interval: (phat - z* x SE , phat + z* x SE) = (0.12161859605495463,0.35838140394504536\n",
      "Because our p0 -null value- is within the range of our confidence interval that we built for\n",
      "24% correct guess rate; we can't say that the null hypothesis is implausible.\n",
      "the data do not provide sufficient evidence to reject the notion that the performance of college \n",
      "educated adults was different than random guessing, and we do not reject the null hypothesis, H0.)\n",
      "\n"
     ]
    }
   ],
   "source": [
    "rosling = pd.read_csv(\"../openintro_stats/data/rosling_responses.csv\")\n",
    "first_question = rosling[rosling[\"question\"] == \"children_with_1_or_more_vaccination\"][\"response\"]\n",
    "print(first_question.value_counts(normalize=True))\n",
    "# rosling's responses dataset tells us in the poll, 24% of the people who attended at the poll\n",
    "# correctly guessed the answer of the question. but we need to find out if that result is\n",
    "# statistically significant or was it just due to chance. If it's not by chance, we can state\n",
    "# that the data provide strong evidence against the null hypothesis and we reject H0.\n",
    "n = first_question.count()\n",
    "phat = first_question.value_counts(normalize=True)[\"correct\"]\n",
    "minus_phat = 1 - phat\n",
    "z = 1.96 # for the 95% significance level.\n",
    "se = np.sqrt(phat*minus_phat / n)\n",
    "me= z * se\n",
    "lo = phat - me\n",
    "hi = phat + me\n",
    "print('''n = {n} , phat = {phat}, 1-phat = {minus_phat}\n",
    "SE = sqrt(p(1-p)/n) = sqrt(({phat}*{minus_phat})/{n}) = {se}\n",
    "z* = {z} , margin of error: z* x SE = {me}\n",
    "confidence interval: (phat - z* x SE , phat + z* x SE) = ({lo},{hi}\n",
    "Because our p0 -null value- is within the range of our confidence interval that we built for\n",
    "24% correct guess rate; we can't say that the null hypothesis is implausible.\n",
    "the data do not provide sufficient evidence to reject the notion that the performance of college \n",
    "educated adults was different than random guessing, and we do not reject the null hypothesis, H0.)\n",
    "'''.format(n=n,z=z,phat=phat, minus_phat= minus_phat, se = se, me = me, lo=lo, hi=hi))"
   ]
  },
  {
   "cell_type": "code",
   "execution_count": 18,
   "metadata": {},
   "outputs": [
    {
     "name": "stdout",
     "output_type": "stream",
     "text": [
      "incorrect    0.850877\n",
      "correct      0.149123\n",
      "Name: response, dtype: float64\n",
      "n = 228 , phat = 0.14912280701754385, 1-phat = 0.8508771929824561\n",
      "SE = sqrt(p(1-p)/n) = sqrt((0.14912280701754385*0.8508771929824561)/228) = 0.023590549275261954\n",
      "z* = 1.96 , margin of error: z* x SE = 0.04623747657951343\n",
      "confidence interval: (phat - z* x SE , phat + z* x SE) = (0.10288533043803041,0.1953602835970573)\n",
      "#H0: the proportion who get the answer correct is the same as random guessing: 1-in-3, or p = 0.333\n",
      "#HA: the proportion who get the answer correct is different than random guessing, p =! 0.333\n",
      "Because our p0 -null value- IS NOT within the range of our confidence interval that we built for\n",
      "15% correct guess rate; we can't say that the null hypothesis is implausible.\n",
      "the data DOES provide sufficient evidence to reject H0.\n",
      "Educated adults was different than random guessing, and we REJECT the null hypothesis, H0 in favor of alternative, HA.)\n",
      "\n"
     ]
    }
   ],
   "source": [
    "second_question = rosling[rosling[\"question\"] == \"children_in_2100\"][\"response\"]\n",
    "print(second_question.value_counts(normalize=True))\n",
    "n = second_question.count()\n",
    "phat = second_question.value_counts(normalize=True)[\"correct\"]\n",
    "minus_phat = 1 - phat\n",
    "z = 1.96 # for the 95% significance level.\n",
    "se = np.sqrt(phat*minus_phat / n)\n",
    "me= z * se\n",
    "lo = phat - me\n",
    "hi = phat + me\n",
    "print('''n = {n} , phat = {phat}, 1-phat = {minus_phat}\n",
    "SE = sqrt(p(1-p)/n) = sqrt(({phat}*{minus_phat})/{n}) = {se}\n",
    "z* = {z} , margin of error: z* x SE = {me}\n",
    "confidence interval: (phat - z* x SE , phat + z* x SE) = ({lo},{hi})\n",
    "#H0: the proportion who get the answer correct is the same as random guessing: 1-in-3, or p = 0.333\n",
    "#HA: the proportion who get the answer correct is different than random guessing, p =! 0.333\n",
    "Because our p0 -null value- IS NOT within the range of our confidence interval that we built for\n",
    "15% correct guess rate; we can't say that the null hypothesis is implausible.\n",
    "the data DOES provide sufficient evidence to reject H0.\n",
    "Educated adults was different than random guessing, and we REJECT the null hypothesis, H0 in favor of alternative, HA.)\n",
    "'''.format(n=n,z=z,phat=phat, minus_phat= minus_phat, se = se, me = me, lo=lo, hi=hi))"
   ]
  },
  {
   "cell_type": "code",
   "execution_count": 19,
   "metadata": {},
   "outputs": [
    {
     "name": "stdout",
     "output_type": "stream",
     "text": [
      "5.15\n",
      "a)\n",
      "H0: there are no majority or minority of the students' performance improved p = 0.5\n",
      "HA: there are majority or minority of the students' performance improved p != 0.5\n",
      "b) \n",
      "H0: there is no difference in the company's employee productivity in March Madness than usual, p = 15\n",
      "HA: there is difference in the company's employee productivity in March Madness than usual, p != 15\n",
      " \n",
      "5.16\n",
      "a) firstly, we don't know about the sample size here. it's an important discussion since we have additional steps\n",
      "to follow when evaluating inference from a poll. but that being a random sample checks the independence condition.\n",
      "H0: average calorie intake of diners in a restaurant didn't change. p = 1100\n",
      "HA: average calorie intake of diners in a restaurant changed. p != 1100\n",
      "b) independence condition has met. success-failure condition has met.\n",
      "H0: there's no real difference in alcohol consumption rate between the whole nation and wisconsin. p = .70\n",
      "HA: there's significant difference in alcohol consumption rate between the whole nation and wisconsin. p != .70\n",
      "\n"
     ]
    }
   ],
   "source": [
    "print('''5.15\n",
    "a)\n",
    "H0: there are no majority or minority of the students' performance improved p = 0.5\n",
    "HA: there are majority or minority of the students' performance improved p != 0.5\n",
    "b) \n",
    "H0: there is no difference in the company's employee productivity in March Madness than usual, p = 15\n",
    "HA: there is difference in the company's employee productivity in March Madness than usual, p != 15\n",
    "''',\n",
    "'''\n",
    "5.16\n",
    "a) firstly, we don't know about the sample size here. it's an important discussion since we have additional steps\n",
    "to follow when evaluating inference from a poll. but that being a random sample checks the independence condition.\n",
    "H0: average calorie intake of diners in a restaurant didn't change. p = 1100\n",
    "HA: average calorie intake of diners in a restaurant changed. p != 1100\n",
    "b) independence condition has met. success-failure condition has met.\n",
    "H0: there's no real difference in alcohol consumption rate between the whole nation and wisconsin. p = .70\n",
    "HA: there's significant difference in alcohol consumption rate between the whole nation and wisconsin. p != .70\n",
    "''')\n",
    "\n"
   ]
  },
  {
   "cell_type": "code",
   "execution_count": 20,
   "metadata": {},
   "outputs": [
    {
     "name": "stdout",
     "output_type": "stream",
     "text": [
      "\n",
      "5.17\n",
      "while conducting the hypothesis test, we have to build two competing ideas. our hypotheses should be like following;\n",
      "H0: the true proportion of college students who spend 10+ hourspweek for online communication is same as the study / p = .60\n",
      "HA: the true proportion of college students who spend 10+ hourspweek for online communication is not same as the study / p != .60\n",
      " \n",
      "5.18\n",
      "the hypothesis test is about the population, we shouldn't build them with the sample proportion we'll test the\n",
      "sample proportion, not building hypotheses with it. has to be built with .25, not .24 since .24 is our sample proportion\n",
      "H0: the real proportion of 25yr olds have gotten married is no different than the study. p = .25\n",
      "HA: the real proportion of 25yr olds have gotten married is different than the study. p != .25\n",
      "\n"
     ]
    }
   ],
   "source": [
    "print('''\n",
    "5.17\n",
    "while conducting the hypothesis test, we have to build two competing ideas. our hypotheses should be like following;\n",
    "H0: the true proportion of college students who spend 10+ hourspweek for online communication is same as the study / p = .60\n",
    "HA: the true proportion of college students who spend 10+ hourspweek for online communication is not same as the study / p != .60\n",
    "'''\n",
    ",\n",
    "'''\n",
    "5.18\n",
    "the hypothesis test is about the population, we shouldn't build them with the sample proportion we'll test the\n",
    "sample proportion, not building hypotheses with it. has to be built with .25, not .24 since .24 is our sample proportion\n",
    "H0: the real proportion of 25yr olds have gotten married is no different than the study. p = .25\n",
    "HA: the real proportion of 25yr olds have gotten married is different than the study. p != .25\n",
    "''')"
   ]
  },
  {
   "cell_type": "code",
   "execution_count": 21,
   "metadata": {},
   "outputs": [
    {
     "name": "stdout",
     "output_type": "stream",
     "text": [
      "5.19\n",
      "a) yes. the claim is supported by the confidence interval since in our 95% confidence interval there's not the value %50.\n",
      "this basically says: \"we're 95% confident that the true proportion is between 54-64%, there are always a majority.\"\n",
      "b) no. this confidence interval does not support this conjecture since %70 is out of our confidence interval.\n",
      "c) no. increasing the significance level would narrow the confidence interval. because when we increase significance\n",
      "from .05 to .10, we're updating our acceptance limit for an \"incredibly occurring event\". we state some more likely \n",
      "occurring events are unacceptable for us. because the confidence interval not covering the area of 70%, increasing the\n",
      "significance level won't help, actually it'll go to the opposite direction so that claim won't be supported if we don't\n",
      "choose a smaller significance level such as .01\n",
      "\n",
      " \n",
      "5.20\n",
      "a) this is unsupported because the claim isn't supported by our confidence interval.\n",
      "b) 132 minutes are in the confidence interval. this claim is supported.\n",
      "c) yes. because it's already in the confidence interval and when we decrease our sigificance level the confidence interval\n",
      "will not be narrower, that means it will still be within the confidence interval in that condition. no problem.\n",
      "\n"
     ]
    }
   ],
   "source": [
    "print('''5.19\n",
    "a) yes. the claim is supported by the confidence interval since in our 95% confidence interval there's not the value %50.\n",
    "this basically says: \"we're 95% confident that the true proportion is between 54-64%, there are always a majority.\"\n",
    "b) no. this confidence interval does not support this conjecture since %70 is out of our confidence interval.\n",
    "c) no. increasing the significance level would narrow the confidence interval. because when we increase significance\n",
    "from .05 to .10, we're updating our acceptance limit for an \"incredibly occurring event\". we state some more likely \n",
    "occurring events are unacceptable for us. because the confidence interval not covering the area of 70%, increasing the\n",
    "significance level won't help, actually it'll go to the opposite direction so that claim won't be supported if we don't\n",
    "choose a smaller significance level such as .01\n",
    "\n",
    "''',\n",
    "'''\n",
    "5.20\n",
    "a) this is unsupported because the claim isn't supported by our confidence interval.\n",
    "b) 132 minutes are in the confidence interval. this claim is supported.\n",
    "c) yes. because it's already in the confidence interval and when we decrease our sigificance level the confidence interval\n",
    "will not be narrower, that means it will still be within the confidence interval in that condition. no problem.\n",
    "''')"
   ]
  },
  {
   "cell_type": "code",
   "execution_count": 22,
   "metadata": {},
   "outputs": [
    {
     "name": "stdout",
     "output_type": "stream",
     "text": [
      "(a) n = 1000 , p0 = 0.5, phat = 0.42, 1-phat = 0.5\n",
      "- independence condition satisfied since the poll is randomly sampled.\n",
      "- success-failure condition: p0 *n = 500.0, p0 * n = 500.0 // satisfied.\n",
      "H0: there is no majority of US adults who believe raising the minimum wage will help the economy. p = 0.5\n",
      "HA: there is a majority of US adults who believe raising the minimum wage will help the economy. p != 0.5\n",
      "SE = sqrt(p(1-p)/n) = sqrt((0.5*0.5)/1000) = 0.015811388300841896 // we use the p0 for the null distribution\n",
      "z* = -5.059644256269408\n",
      "p-value = 0.00000042\n",
      "since our p value is so little that less than .05 or even .01 significance level, we can reject the null hypothesis\n",
      "and conclude there's a majority in US adults believing raising minimum wage will help economy.\n",
      "\n"
     ]
    }
   ],
   "source": [
    "'''5.21 Minimum wage, Part I. \n",
    "Do a majority of US adults believe raising the minimum wage will help the economy, or is there a majority who do not \n",
    "believe this? A Rasmussen Reports survey of 1,000 US adults found that 42% believe it will help the economy.\n",
    "Conduct an appropriate hypothesis test to help answer the research question.'''\n",
    "n = 1000\n",
    "p0 = .5\n",
    "minus_p = 1 - p0\n",
    "phat = .42\n",
    "succ = p0 * n\n",
    "fail = minus_p * n\n",
    "se = np.sqrt(p0*minus_p / n) # calculate standard error for null value p0\n",
    "z = (phat-p0)/se # how many standard errors away the phat is from the null value in the null distribution\n",
    "pvalue = scipy.stats.norm.sf(abs(z))*2 #find p-value for two-tailed test\n",
    "\n",
    "print('''(a) n = {n} , p0 = {p0}, phat = {phat}, 1-phat = {minus_p}\n",
    "- independence condition satisfied since the poll is randomly sampled.\n",
    "- success-failure condition: p0 *n = {succ}, p0 * n = {fail} // satisfied.\n",
    "H0: there is no majority of US adults who believe raising the minimum wage will help the economy. p = 0.5\n",
    "HA: there is a majority of US adults who believe raising the minimum wage will help the economy. p != 0.5\n",
    "SE = sqrt(p(1-p)/n) = sqrt(({p0}*{minus_p})/{n}) = {se} // we use the p0 for the null distribution\n",
    "z* = {z}\n",
    "p-value = {pvalue}\n",
    "since our p value is so little that less than .05 or even .01 significance level, we can reject the null hypothesis\n",
    "and conclude there's a majority in US adults believing raising minimum wage will help economy.\n",
    "'''.format(n=n,p0=p0,phat=phat, minus_p= minus_p, succ=succ, fail=fail, se = se,z=z,pvalue=format(pvalue, '.8f')))"
   ]
  },
  {
   "cell_type": "code",
   "execution_count": 51,
   "metadata": {},
   "outputs": [
    {
     "name": "stdout",
     "output_type": "stream",
     "text": [
      "(a) n = 400 , p0 = 0.5, phat = 0.7225, 1-p0 = 0.5\n",
      "- independence condition satisfied since the poll is randomly sampled.\n",
      "- success-failure condition: p0 * n = 200.0, (1-p0) * n = 200.0 // satisfied.\n",
      "H0: there's no majority of students who do not get enough sleep. p = 0.5\n",
      "HA: there's a majority of students who do not get enough sleep. p != 0.5\n",
      "SE = sqrt(p(1-p)/n) = sqrt((0.5*0.5)/400) = 0.025 // we use the p0 for the null distribution\n",
      "z* = 8.9\n",
      "p-value = 0.00000000000000000056\n",
      "since our p value is so little that less than .01 significance level, we can reject the null hypothesis\n",
      "and conclude there's actually a majority of students who do not get enough sleep in that university. and\n",
      "our point estimate shows a higher proportion in favor of the ones that dont get enough sleep.\n",
      "\n"
     ]
    }
   ],
   "source": [
    "'''5.22 Getting enough sleep. \n",
    "400 students were randomly sampled from a large university, and 289 said they did not get enough sleep. \n",
    "Conduct a hypothesis test to check whether this represents a statistically significant difference from 50%, \n",
    "and use a significance level of 0.01.'''\n",
    "n = 400\n",
    "p0 = .5\n",
    "minus_p = 1 - p0\n",
    "enough = 289\n",
    "phat = enough / n\n",
    "succ = p0 * n\n",
    "fail = minus_p * n\n",
    "se = np.sqrt(p0*minus_p / n) # calculate standard error for null value p0\n",
    "z = (phat-p0)/se # how many standard errors away the phat is from the null value in the null distribution\n",
    "pvalue = scipy.stats.norm.sf(abs(z))*2 # find p-value for two-tailed test\n",
    "\n",
    "print('''(a) n = {n} , p0 = {p0}, phat = {phat}, 1-p0 = {minus_p}\n",
    "- independence condition satisfied since the poll is randomly sampled.\n",
    "- success-failure condition: p0 * n = {succ}, (1-p0) * n = {fail} // satisfied.\n",
    "H0: there's no majority of students who do not get enough sleep. p = 0.5\n",
    "HA: there's a majority of students who do not get enough sleep. p != 0.5\n",
    "SE = sqrt(p(1-p)/n) = sqrt(({p0}*{minus_p})/{n}) = {se} // we use the p0 for the null distribution\n",
    "z* = {z}\n",
    "p-value = {pvalue}\n",
    "since our p value is so little that less than .01 significance level, we can reject the null hypothesis\n",
    "and conclude there's actually a majority of students who do not get enough sleep in that university. and\n",
    "our point estimate shows a higher proportion in favor of the ones that dont get enough sleep.\n",
    "'''.format(n=n,p0=p0,phat=phat, minus_p= minus_p, succ=succ, fail=fail, se = se,z=z,pvalue=format(pvalue, '.20f')))"
   ]
  },
  {
   "cell_type": "code",
   "execution_count": 24,
   "metadata": {},
   "outputs": [
    {
     "name": "stdout",
     "output_type": "stream",
     "text": [
      " phat = 0.394676994741771\n",
      "\n"
     ]
    }
   ],
   "source": [
    "'''5.23 Working backwards, Part I. \n",
    "You are given the following hypotheses:\n",
    "H0 : p = 0.3\n",
    "HA : p != 0.3\n",
    "We know the sample size is 90. For what sample proportion would the p-value be equal to 0.05? Assume\n",
    "that all conditions necessary for inference are satisfied.'''\n",
    "n = 90\n",
    "p0 = .3\n",
    "minus_p = 1 - p0\n",
    "se = np.sqrt(p0*minus_p / n) # calculate standard error for null value p0\n",
    "z = 1.96 # p value equals .05 means 1.96 standard deviations away\n",
    "phat = z * se + p0\n",
    "\n",
    "print(''' phat = {phat}\n",
    "'''.format(phat=phat))"
   ]
  },
  {
   "cell_type": "code",
   "execution_count": 25,
   "metadata": {},
   "outputs": [
    {
     "name": "stdout",
     "output_type": "stream",
     "text": [
      " phat = 0.9204750441213314\n",
      "\n"
     ]
    }
   ],
   "source": [
    "'''5.24 Working backwards, Part II. \n",
    "You are given the following hypotheses:\n",
    "H0 : p = 0.9\n",
    "HA : p != 0.9\n",
    "We know that the sample size is 1,429. For what sample proportion would the p-value be equal to 0.01?\n",
    "Assume that all conditions necessary for inference are satisfied.'''\n",
    "n = 1429\n",
    "p0 = .9\n",
    "minus_p = 1 - p0\n",
    "se = np.sqrt(p0*minus_p / n) # calculate standard error for null value p0\n",
    "z = 2.58 # p value equals .01 means 2.58 standard deviations away\n",
    "phat = z * se + p0\n",
    "\n",
    "print(''' phat = {phat}\n",
    "'''.format(phat=phat))"
   ]
  },
  {
   "cell_type": "code",
   "execution_count": 26,
   "metadata": {},
   "outputs": [
    {
     "name": "stdout",
     "output_type": "stream",
     "text": [
      "\n",
      "H0: there's no significant difference between using anti-depressants or not.\n",
      "HA: theres a significant difference between using anti-depressants or not.\n",
      "Type 1 Error: concluding that there's some real difference in whether using the anti-depressants or not while there isn't\n",
      "Type 2 Error: concluding that there's no real difference in whether using the anti-depressants or not while there is\n",
      "\n"
     ]
    }
   ],
   "source": [
    "'''5.25 Testing for Fibromyalgia. A patient named Diana was diagnosed with Fibromyalgia, a long-term\n",
    "syndrome of body pain, and was prescribed anti-depressants. Being the skeptic that she is, Diana didn't\n",
    "initially believe that anti-depressants would help her symptoms. However after a couple months of being on\n",
    "the medication she decides that the anti-depressants are working, because she feels like her symptoms are\n",
    "in fact getting better.\n",
    "(a) Write the hypotheses in words for Diana's skeptical position when she started taking the anti-depressants.\n",
    "(b) What is a Type 1 Error in this context?\n",
    "(c) What is a Type 2 Error in this context?'''\n",
    "\n",
    "print('''\n",
    "H0: there's no significant difference between using anti-depressants or not.\n",
    "HA: theres a significant difference between using anti-depressants or not.\n",
    "Type 1 Error: concluding that there's some real difference in whether using the anti-depressants or not while there isn't\n",
    "Type 2 Error: concluding that there's no real difference in whether using the anti-depressants or not while there is\n",
    "''')\n",
    "\n"
   ]
  },
  {
   "cell_type": "code",
   "execution_count": 27,
   "metadata": {},
   "outputs": [
    {
     "name": "stdout",
     "output_type": "stream",
     "text": [
      "5.26\n",
      "a) scenario (I) is larger\n",
      "b) since me= z * se, and in two scenarios standard error remains the same, the one that has bigger z-score will be larger.\n",
      "higher confidence level means higher z-score because we widen our expectations for a valid value. bigger z-score means\n",
      "bigger margin of error. so scenario (I) is larger.\n",
      "c) two scenarios are the same. p-value for a z-score doesn't change in the normal distribution.\n",
      "d) lower significance level means higher type 2 error rate.\n",
      "\n"
     ]
    }
   ],
   "source": [
    "'''5.26 Which is higher? In each part below, there is a value of interest and two scenarios (I and II). For\n",
    "each part, report if the value of interest is larger under scenario I, scenario II, or whether the value is equal\n",
    "under the scenarios.\n",
    "(a) The standard error of phat when (I) n = 125 or (II) n = 500.\n",
    "(b) The margin of error of a confidence interval when the confidence level is (I) 90% or (II) 80%.\n",
    "(c) The p-value for a Z-statistic of 2.5 calculated based on a (I) sample with n = 500 or based on a (II) sample\n",
    "with n = 1000.\n",
    "(d) The probability of making a Type 2 Error when the alternative hypothesis is true and the significance\n",
    "level is (I) 0.05 or (II) 0.10.'''\n",
    "print('''5.26\n",
    "a) scenario (I) is larger\n",
    "b) since me= z * se, and in two scenarios standard error remains the same, the one that has bigger z-score will be larger.\n",
    "higher confidence level means higher z-score because we widen our expectations for a valid value. bigger z-score means\n",
    "bigger margin of error. so scenario (I) is larger.\n",
    "c) two scenarios are the same. p-value for a z-score doesn't change in the normal distribution.\n",
    "d) lower significance level means higher type 2 error rate.\n",
    "''')"
   ]
  },
  {
   "cell_type": "code",
   "execution_count": 28,
   "metadata": {},
   "outputs": [
    {
     "name": "stdout",
     "output_type": "stream",
     "text": [
      "5.27\n",
      "a) We're 95% confident that the real mean of the relaxation time of Americans is between 1.23 and 1.92  \n",
      "b) It should be larger than the confidence interval stated above. Because the bigger margin of error the bigger confidence interval is.\n",
      "c) since the sample size increases, the standard error decreases, margin of error decreases too.\n",
      "\n"
     ]
    }
   ],
   "source": [
    "'''5.27 Relaxing after work. The General Social Survey asked the question: \"After an average work day,\n",
    "about how many hours do you have to relax or pursue activities that you enjoy?\" to a random sample of\n",
    "1,155 Americans. A 95% confidence interval for the mean number of hours spent relaxing or pursuing\n",
    "activities they enjoy was (1.38, 1.92).\n",
    "(a) Interpret this interval in context of the data.\n",
    "(b) Suppose another set of researchers reported a confidence interval with a larger margin of error based on\n",
    "the same sample of 1,155 Americans. How does their confidence level compare to the confidence level\n",
    "of the interval stated above?\n",
    "(c) Suppose next year a new survey asking the same question is conducted, and this time the sample size\n",
    "is 2,500. Assuming that the population characteristics, with respect to how much time people spend\n",
    "relaxing after work, have not changed much within a year. How will the margin of error of the 95%\n",
    "confidence interval constructed'''\n",
    "print('''5.27\n",
    "a) We're 95% confident that the real mean of the relaxation time of Americans is between 1.23 and 1.92  \n",
    "b) It should be larger than the confidence interval stated above. Because the bigger margin of error the bigger confidence interval is.\n",
    "c) since the sample size increases, the standard error decreases, margin of error decreases too.\n",
    "''')"
   ]
  },
  {
   "cell_type": "code",
   "execution_count": 32,
   "metadata": {},
   "outputs": [
    {
     "name": "stdout",
     "output_type": "stream",
     "text": [
      "5.28\n",
      "n = 1000 , phat = 0.42, 1-phat = 0.5800000000000001\n",
      "SE = sqrt(p(1-p)/n) = sqrt((0.42*0.5800000000000001)/1000) = 0.015607690412101338\n",
      "z* = 2.58 , margin of error: z* x SE = 0.04026784126322145\n",
      "confidence interval: (phat - z* x SE , phat + z* x SE) = (0.3797321587367785,0.46026784126322146)\n",
      "\n"
     ]
    }
   ],
   "source": [
    "'''5.28 Minimum wage, Part II. In Exercise 5.21, we learned that a Rasmussen Reports survey of 1,000 US\n",
    "adults found that 42% believe raising the minimum wage will help the economy. Construct a 99% confidence\n",
    "interval for the true proportion of US adults who believe this.'''\n",
    "n = 1000\n",
    "phat = .42\n",
    "minus_phat = 1 - phat\n",
    "z = 2.58 # for the 99% significance level.\n",
    "se = np.sqrt(phat*minus_phat / n)\n",
    "me = z * se\n",
    "lo = phat - me\n",
    "hi = phat + me\n",
    "print('''5.28\n",
    "n = {n} , phat = {phat}, 1-phat = {minus_phat}\n",
    "SE = sqrt(p(1-p)/n) = sqrt(({phat}*{minus_phat})/{n}) = {se}\n",
    "z* = {z} , margin of error: z* x SE = {me}\n",
    "confidence interval: (phat - z* x SE , phat + z* x SE) = ({lo},{hi})\n",
    "'''.format(n=n,z=z,phat=phat, minus_phat= minus_phat, se = se, me = me, lo=lo, hi=hi))"
   ]
  },
  {
   "cell_type": "code",
   "execution_count": 47,
   "metadata": {},
   "outputs": [
    {
     "name": "stdout",
     "output_type": "stream",
     "text": [
      "5.29\n",
      "a) \n",
      "H0: the restaurant does comply the regulations necessary\n",
      "HA: the restaurant does not comply the regulations necessary\n",
      "b) type 1 error is rejecting the H0 while H0 is true. in this case, while the restaurant fits the rules necessary,\n",
      "if the inspector concludes that it's not, that's a type 1 error.\n",
      "c) type 2 error is not rejecting the H0 while the alternative is true. in this case, while the restaurant is in gross\n",
      "violation, if the inspector concludes they're not; this is a type 2 error.\n",
      "d) for the restaurant owner, it's more problematic if the inspector makes a type 1 error because in that scenario\n",
      "his restaurant's license will be revoked.\n",
      "e) for the diners, type 2 error is more problematic. Because in that scenario, they will continue eating food\n",
      "that isn't hygienic without knowing it is. \n",
      "f) if i were a diner there, i would prefer the inspector embrace the strong evidence rule. i wouldn't set a high\n",
      "standard to revoke the license so that in case  the restaurant is having some rare-occurring events that are not \n",
      "hygienic, that wouldn't be acceptable and they can not move on.\n",
      "\n"
     ]
    }
   ],
   "source": [
    "'''5.29 Testing for food safety. A food safety inspector is called upon to investigate a restaurant with a few\n",
    "customer reports of poor sanitation practices. The food safety inspector uses a hypothesis testing framework\n",
    "to evaluate whether regulations are not being met. If he decides the restaurant is in gross violation, its license\n",
    "to serve food will be revoked.\n",
    "(a) Write the hypotheses in words.\n",
    "(b) What is a Type 1 Error in this context?\n",
    "(c) What is a Type 2 Error in this context?\n",
    "(d) Which error is more problematic for the restaurant owner? Why?\n",
    "(e) Which error is more problematic for the diners? Why?\n",
    "(f) As a diner, would you prefer that the food safety inspector requires strong evidence or very strong\n",
    "evidence of health concerns before revoking a restaurant's license? Explain your reasoning.'''\n",
    "\n",
    "print('''5.29\n",
    "a) \n",
    "H0: the restaurant does comply the regulations necessary\n",
    "HA: the restaurant does not comply the regulations necessary\n",
    "b) type 1 error is rejecting the H0 while H0 is true. in this case, while the restaurant fits the rules necessary,\n",
    "if the inspector concludes that it's not, that's a type 1 error.\n",
    "c) type 2 error is not rejecting the H0 while the alternative is true. in this case, while the restaurant is in gross\n",
    "violation, if the inspector concludes they're not; this is a type 2 error.\n",
    "d) for the restaurant owner, it's more problematic if the inspector makes a type 1 error because in that scenario\n",
    "his restaurant's license will be revoked.\n",
    "e) for the diners, type 2 error is more problematic. Because in that scenario, they will continue eating food\n",
    "that isn't hygienic without knowing it is. \n",
    "f) if i were a diner there, i would prefer the inspector embrace the strong evidence rule. i wouldn't set a high\n",
    "standard to revoke the license so that in case  the restaurant is having some rare-occurring events that are not \n",
    "hygienic, that wouldn't be acceptable and they can not move on.\n",
    "''')\n"
   ]
  },
  {
   "cell_type": "code",
   "execution_count": 48,
   "metadata": {},
   "outputs": [
    {
     "name": "stdout",
     "output_type": "stream",
     "text": [
      "5.30\n",
      "a) true. because the confidence interval after setting a bigger confidence level will be larger and the given value\n",
      "is already in the confidence interval, it'll stay within the interval.\n",
      "b) false. because when we choose a smaller significance level we demand very strong evidence favoring HA, we want \n",
      "to be very cautious about rejecting the null hypothesis. this will result with a lower type 1 error probability.\n",
      "c) false. while we say we failed to reject the H0, we don't automatically accept H0.\n",
      "d) true. because the margin of error scales with standard error and standard error decreases when n is bigger,\n",
      "bigger sample sizes will result with a smaller confidence interval.\n",
      "\n"
     ]
    }
   ],
   "source": [
    "'''5.30 True or false. Determine if the following statements are true or false, and explain your reasoning. If\n",
    "false, state how it could be corrected.\n",
    "(a) If a given value (for example, the null hypothesized value of a parameter) is within a 95% confidence\n",
    "interval, it will also be within a 99% confidence interval.\n",
    "(b) Decreasing the significance level (alpha) will increase the probability of making a Type 1 Error.\n",
    "(c) Suppose the null hypothesis is p = 0.5 and we fail to reject H0. Under this scenario, the true population\n",
    "proportion is 0.5.\n",
    "(d) With large sample sizes, even small differences between the null value and the observed point estimate,\n",
    "a difference often called the effect size, will be identified as statistically significant.'''\n",
    "\n",
    "print('''5.30\n",
    "a) true. because the confidence interval after setting a bigger confidence level will be larger and the given value\n",
    "is already in the confidence interval, it'll stay within the interval.\n",
    "b) false. because when we choose a smaller significance level we demand very strong evidence favoring HA, we want \n",
    "to be very cautious about rejecting the null hypothesis. this will result with a lower type 1 error probability.\n",
    "c) false. while we say we failed to reject the H0, we don't automatically accept H0.\n",
    "d) true. because the margin of error scales with standard error and standard error decreases when n is bigger,\n",
    "bigger sample sizes will result with a smaller confidence interval.\n",
    "''')"
   ]
  },
  {
   "cell_type": "code",
   "execution_count": 49,
   "metadata": {},
   "outputs": [
    {
     "name": "stdout",
     "output_type": "stream",
     "text": [
      "5.31\n",
      "a) \n",
      "H0: the real proportion of having major problems in their relationships between unemployed and underemployed \n",
      "people in US are equal. p_unemployed = p_underemployed\n",
      "HA: the real proportion of having major problems in their relationships between unemployed and underemployed \n",
      "people in US aren't equal. p_unemployed != p_underemployed\n",
      "b) for example at a 95% confidence level with a p-value of 0.35, we fail reject the H0 since the p value is too big. \n",
      "we can conclude the data doesn't provide a convincing evidence that the unemployed and underemployed people who are \n",
      "having relationship problems are different.\n",
      "\n"
     ]
    }
   ],
   "source": [
    "'''5.31 Unemployment and relationship problems. A USA Today/Gallup poll asked a group of unemployed\n",
    "and underemployed Americans if they have had major problems in their relationships with their spouse or\n",
    "another close family member as a result of not having a job (if unemployed) or not having a full-time job (if\n",
    "underemployed). 27% of the 1,145 unemployed respondents and 25% of the 675 underemployed respondents\n",
    "said they had major problems in relationships as a result of their employment status.\n",
    "(a) What are the hypotheses for evaluating if the proportions of unemployed and underemployed people\n",
    "who had relationship problems were different?\n",
    "(b) The p-value for this hypothesis test is approximately 0.35. Explain what this means in context of the\n",
    "hypothesis test and the data.'''\n",
    "print('''5.31\n",
    "a) \n",
    "H0: the real proportion of having major problems in their relationships between unemployed and underemployed \n",
    "people in US are equal. p_unemployed = p_underemployed\n",
    "HA: the real proportion of having major problems in their relationships between unemployed and underemployed \n",
    "people in US aren't equal. p_unemployed != p_underemployed\n",
    "b) for example at a 95% confidence level with a p-value of 0.35, we fail reject the H0 since the p value is too big. \n",
    "we can conclude the data doesn't provide a convincing evidence that the unemployed and underemployed people who are \n",
    "having relationship problems are different.\n",
    "''')"
   ]
  },
  {
   "cell_type": "code",
   "execution_count": 61,
   "metadata": {},
   "outputs": [
    {
     "name": "stdout",
     "output_type": "stream",
     "text": [
      "(a) n = 194 , p0 = 0.08, phat = 0.10824742268041238, 1-p0 = 0.92\n",
      "H0: the nearsightedness rate in all children is equal to 0.08. p = 0.08\n",
      "HA: the nearsightedness rate in all children isn't equal to 0.08. p != 0.08\n",
      "- independence condition satisfied since the poll is randomly sampled.\n",
      "- success-failure condition: p0 * n = 15.52, (1-p0) * n = 178.48000000000002 // satisfied.\n",
      "SE = sqrt(p(1-p)/n) = sqrt((0.08*0.92)/194) = 0.019477716583289967 // we use the p0 for the null distribution\n",
      "z* = 1.4502430282123513\n",
      "p-value = 0.14699076003690414449\n",
      "since the p value is too high, we can not reject the null hypothesis and conclude the data does not provide a \n",
      "convincing evidence against the H0. we can't say %8 rate is inaccurate.\n",
      "\n"
     ]
    }
   ],
   "source": [
    "'''5.32 Nearsighted. It is believed that nearsightedness affects about 8% of all children. In a random sample\n",
    "of 194 children, 21 are nearsighted. Conduct a hypothesis test for the following question: do these data\n",
    "provide evidence that the 8% value is inaccurate?'''\n",
    "n = 194\n",
    "p0 = .08\n",
    "minus_p = 1 - p0\n",
    "nearsight = 21\n",
    "phat = nearsight / n\n",
    "succ = p0 * n\n",
    "fail = minus_p * n\n",
    "se = np.sqrt(p0*minus_p / n) # calculate standard error for null value p0\n",
    "z = (phat-p0)/se # how many standard errors away the phat is from the null value in the null distribution\n",
    "pvalue = scipy.stats.norm.sf(abs(z))*2 # find p-value for two-tailed test\n",
    "\n",
    "print('''(a) n = {n} , p0 = {p0}, phat = {phat}, 1-p0 = {minus_p}\n",
    "H0: the nearsightedness rate in all children is equal to 0.08. p = 0.08\n",
    "HA: the nearsightedness rate in all children isn't equal to 0.08. p != 0.08\n",
    "- independence condition satisfied since the poll is randomly sampled.\n",
    "- success-failure condition: p0 * n = {succ}, (1-p0) * n = {fail} // satisfied.\n",
    "SE = sqrt(p(1-p)/n) = sqrt(({p0}*{minus_p})/{n}) = {se} // we use the p0 for the null distribution\n",
    "z* = {z}\n",
    "p-value = {pvalue}\n",
    "since the p value is too high, we can not reject the null hypothesis and conclude the data does not provide a \n",
    "convincing evidence against the H0. we can't say %8 rate is inaccurate.\n",
    "'''.format(n=n,p0=p0,phat=phat, minus_p= minus_p, succ=succ, fail=fail, se = se,z=z,pvalue=format(pvalue, '.20f')))"
   ]
  },
  {
   "cell_type": "code",
   "execution_count": 55,
   "metadata": {},
   "outputs": [
    {
     "name": "stdout",
     "output_type": "stream",
     "text": [
      "5.33\n",
      "no. because the value (130) is in the confidence interval, we can not say there's convincing evidence in the data\n",
      "that the true average is different than what the nutrition label suggests.\n",
      "\n"
     ]
    }
   ],
   "source": [
    "'''5.33 Nutrition labels. The nutrition label on a bag of potato chips says that a one ounce (28 gram) serving\n",
    "of potato chips has 130 calories and contains ten grams of fat, with three grams of saturated fat. A random\n",
    "sample of 35 bags yielded a confidence interval for the number of calories per bag of 128.2 to 139.8 calories.\n",
    "Is there evidence that the nutrition label does not provide an accurate measure of calories in the bags of\n",
    "potato chips?'''\n",
    "print('''5.33\n",
    "no. because the value (130) is in the confidence interval, we can not say there's convincing evidence in the data\n",
    "that the true average is different than what the nutrition label suggests.\n",
    "''')"
   ]
  },
  {
   "cell_type": "code",
   "execution_count": 54,
   "metadata": {},
   "outputs": [
    {
     "name": "stdout",
     "output_type": "stream",
     "text": [
      "5.34\n",
      "sampling distribution is a distribution for sample proportions. it contains how frequently we'll encounter samples\n",
      "or the probability of a sample to be seen. if we increase the sample size the center of the distribution remains\n",
      "same with the sample proportion. the shape would be more continuous, and because the sample size increases \n",
      "there will be a lower standard error which causes a narrower spread.  \n",
      "\n"
     ]
    }
   ],
   "source": [
    "'''5.34 CLT for proportions. Define the term \"sampling distribution\" of the sample proportion, and describe\n",
    "how the shape, center, and spread of the sampling distribution change as the sample size increases when\n",
    "p = 0.1.'''\n",
    "print('''5.34\n",
    "sampling distribution is a distribution for sample proportions. it contains how frequently we'll encounter samples\n",
    "or the probability of a sample to be seen. if we increase the sample size the center of the distribution remains\n",
    "same with the sample proportion. the shape would be more continuous, and because the sample size increases \n",
    "there will be a lower standard error which causes a narrower spread.  \n",
    "''')"
   ]
  },
  {
   "cell_type": "code",
   "execution_count": 57,
   "metadata": {},
   "outputs": [
    {
     "name": "stdout",
     "output_type": "stream",
     "text": [
      "5.35\n",
      "true. because if the sample size gets larger standard error will be smaller. this causes a more little confidence\n",
      "interval then we'll be talking about some smaller differences to be not significant. our spread will be narrower. \n",
      "\n"
     ]
    }
   ],
   "source": [
    "'''5.35 Practical vs. statistical significance. Determine whether the following statement is true or false,\n",
    "and explain your reasoning: \"With large sample sizes, even small differences between the null value and the\n",
    "observed point estimate can be statistically significant.\" '''\n",
    "print('''5.35\n",
    "true. because if the sample size gets larger standard error will be smaller. this causes a more little confidence\n",
    "interval then we'll be talking about some smaller differences to be not significant. our spread will be narrower. \n",
    "''')"
   ]
  },
  {
   "cell_type": "code",
   "execution_count": 62,
   "metadata": {},
   "outputs": [
    {
     "name": "stdout",
     "output_type": "stream",
     "text": [
      "5.36\n",
      "p-value will be smaller. because with a bigger sample size, standard error will decrease and the z-value will\n",
      "be higher. because there will be a p-value that corresponds to a bigger z-value, probability in a less likely\n",
      "occurring event in the sampling distribution will be smaller.\n",
      "\n"
     ]
    }
   ],
   "source": [
    "'''5.36 Same observation, different sample size. Suppose you conduct a hypothesis test based on a sample\n",
    "where the sample size is n = 50, and arrive at a p-value of 0.08. You then refer back to your notes and\n",
    "discover that you made a careless mistake, the sample size should have been n = 500. Will your p-value\n",
    "increase, decrease, or stay the same? Explain.'''\n",
    "print('''5.36\n",
    "p-value will be smaller. because with a bigger sample size, standard error will decrease and the z-value will\n",
    "be higher. because there will be a p-value that corresponds to a bigger z-value, probability in a less likely\n",
    "occurring event in the sampling distribution will be smaller.\n",
    "''')"
   ]
  },
  {
   "cell_type": "code",
   "execution_count": 73,
   "metadata": {},
   "outputs": [
    {
     "name": "stdout",
     "output_type": "stream",
     "text": [
      "n = 21 , p0 = 0.5, phat = 0.9047619047619048, 1-p0 = 0.5\n",
      "H0: there's no difference in the real fraction of cases where men are paid more than women.\n",
      "HA: there's a difference in the real fraction of cases where men are paid more than women.\n",
      "- independence condition satisfied since the poll is randomly sampled.\n",
      "- success-failure condition: p0 * n = 10.5, (1-p0) * n = 10.5 // satisfied.\n",
      "SE = sqrt(p(1-p)/n) = sqrt((0.5*0.5)/21) = 0.10910894511799618 // we use the p0 for the null distribution\n",
      "z* = 3.709704134011871\n",
      "p-value = 0.000208\n",
      "since the p-value is smaller than .05, we can reject the H0 and conclude there's a convincing evidence in the data\n",
      "in favor of HA, there's a real difference between salaries of men and women.\n",
      "\n"
     ]
    }
   ],
   "source": [
    "'''5.37 Gender pay gap in medicine. A study examined the average pay for men and women entering the\n",
    "workforce as doctors for 21 different positions.\n",
    "(a) If each gender was equally paid, then we would expect about half of those positions to have men paid\n",
    "more than women and women would be paid more than men in the other half of positions. Write\n",
    "appropriate hypotheses to test this scenario.\n",
    "(b) Men were, on average, paid more in 19 of those 21 positions. Complete a hypothesis test using your\n",
    "hypotheses from part (a).'''\n",
    "\n",
    "n = 21\n",
    "p0 = .5\n",
    "minus_p = 1 - p0\n",
    "men_higher = 19\n",
    "phat = men_higher / n\n",
    "succ = p0 * n\n",
    "fail = minus_p * n\n",
    "se = np.sqrt(p0*minus_p / n) # calculate standard error for null value p0\n",
    "z = (phat-p0)/se # how many standard errors away the phat is from the null value in the null distribution\n",
    "pvalue = scipy.stats.norm.sf(abs(z))*2 # find p-value for two-tailed test\n",
    "\n",
    "print('''n = {n} , p0 = {p0}, phat = {phat}, 1-p0 = {minus_p}\n",
    "H0: there's no difference in the real fraction of cases where men are paid more than women.\n",
    "HA: there's a difference in the real fraction of cases where men are paid more than women.\n",
    "- independence condition satisfied since the poll is randomly sampled.\n",
    "- success-failure condition: p0 * n = {succ}, (1-p0) * n = {fail} // satisfied.\n",
    "SE = sqrt(p(1-p)/n) = sqrt(({p0}*{minus_p})/{n}) = {se} // we use the p0 for the null distribution\n",
    "z* = {z}\n",
    "p-value = {pvalue}\n",
    "since the p-value is smaller than .05, we can reject the H0 and conclude there's a convincing evidence in the data\n",
    "in favor of HA, there's a real difference between salaries of men and women.\n",
    "'''.format(n=n,p0=p0,phat=phat, minus_p= minus_p, succ=succ, fail=fail, se = se,z=z,pvalue=format(pvalue, '.6f')))"
   ]
  },
  {
   "cell_type": "code",
   "execution_count": null,
   "metadata": {},
   "outputs": [],
   "source": []
  }
 ],
 "metadata": {
  "interpreter": {
   "hash": "c469c999aae2bf6d578d6881606ced546d1546d312a4811937df5b24665ee8bc"
  },
  "kernelspec": {
   "display_name": "Python 3.7.11 ('base')",
   "language": "python",
   "name": "python3"
  },
  "language_info": {
   "codemirror_mode": {
    "name": "ipython",
    "version": 3
   },
   "file_extension": ".py",
   "mimetype": "text/x-python",
   "name": "python",
   "nbconvert_exporter": "python",
   "pygments_lexer": "ipython3",
   "version": "3.7.11"
  },
  "orig_nbformat": 4
 },
 "nbformat": 4,
 "nbformat_minor": 2
}
