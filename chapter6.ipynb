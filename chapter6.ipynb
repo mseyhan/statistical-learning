{
 "cells": [
  {
   "cell_type": "code",
   "execution_count": 1,
   "metadata": {
    "collapsed": true
   },
   "outputs": [],
   "source": [
    "import pandas as pd\n",
    "import numpy as np\n",
    "import random\n",
    "import scipy.stats\n",
    "import math\n",
    "from matplotlib import pyplot as plt\n",
    "from random import sample"
   ]
  },
  {
   "cell_type": "code",
   "execution_count": 3,
   "metadata": {},
   "outputs": [
    {
     "name": "stdout",
     "output_type": "stream",
     "text": [
      "consultant's complication rate 0.04838709677419355\n",
      "OVERVIEW TO THE PROPORTIONS IN SIMULATION:  [0.06451612903225806, 0.14516129032258066, 0.11290322580645161, 0.16129032258064516, 0.0967741935483871, 0.03225806451612903, 0.04838709677419355, 0.0967741935483871, 0.12903225806451613, 0.12903225806451613]\n",
      "LEFT TAIL PROBABILITY:  0.1168\n",
      "since it's greater than our significance level of 0.05, we can not reject H0 and conclude:\n",
      "the data does not provide convincing evidence about an association between the consultant's work and fewer surgery complications\n"
     ]
    }
   ],
   "source": [
    "'''People providing an organ for donation sometimes seek the help of a special \"medical consultant\". \n",
    "These consultants assist the patient in all aspects of the surgery, with the goal of reducing\n",
    "the possibility of complications during the medical procedure and recovery. Patients might choose\n",
    "a consultant based in part on the historical complication rate of the consultant's clients. One consultant \n",
    "tried to attract patients by noting the average complication rate for liver donor surgeries in\n",
    "the US is about 10%, but her clients have only had 3 complications in the 62 liver donor surgeries\n",
    "she has facilitated. She claims this is strong evidence that her work meaningfully contributes to\n",
    "reducing complications (and therefore she should be hired!).\n",
    "H0: there's no association between the consultant's contributions and the client's complication rate.\n",
    "HA: patients who work with the consultant have a lower rate of complication rate than %10\n",
    "'''\n",
    "\n",
    "patients = 62 # consultant's 62 clients\n",
    "comp_rate = .10 # claimed US general complication rate claimed by the consultant, which will be H0\n",
    "not_comp_rate = 1 - comp_rate \n",
    "prop_list = list() # empty list for the simulated proportions\n",
    "sim_num = 10000 # how many times we'll simulate\n",
    "cons_rate = 3 / patients # consultant's claimed complication rate\n",
    "print(\"consultant's complication rate\",cons_rate)\n",
    "\n",
    "for i in range(0,sim_num):\n",
    "    x = np.array([\"complication\", \"not\"]) # creating an array of possible outcomes\n",
    "    possible_entries = np.repeat(x, [comp_rate*10, not_comp_rate*10], axis=0) # the array for possible entries\n",
    "    sampled_entries = list()\n",
    "    for i in range(0,patients):\n",
    "        sampled_entry = random.sample(list(possible_entries), k=1)[0] # sampling from the possible entries\n",
    "        sampled_entries.append(sampled_entry) # appending the sample to a list\n",
    "    prop = sampled_entries.count('complication')/patients # calculate proportion rate from the sampled entry list\n",
    "    prop_list.append(prop) # add the proportion to the proportion list\n",
    "print(\"OVERVIEW TO THE PROPORTIONS IN SIMULATION: \",prop_list[0:10])\n",
    "\n",
    "# LEFT TAIL calculation. the observations which is less than phat. \n",
    "def condition(x):\n",
    "    return x<=cons_rate\n",
    "left_tail = sum(condition(x) for x in prop_list) / sim_num\n",
    "print(\"LEFT TAIL PROBABILITY: \",left_tail)\n",
    "print('''since it's greater than our significance level of 0.05, we can not reject H0 and conclude:\n",
    "the data does not provide convincing evidence about an association between the consultant's work and fewer surgery complications''')"
   ]
  },
  {
   "cell_type": "code",
   "execution_count": 5,
   "metadata": {},
   "outputs": [
    {
     "data": {
      "text/plain": [
       "(array([ 107., 1061., 2777., 3200., 1942.,  711.,  168.,   27.,    7.]),\n",
       " array([0.        , 0.03046595, 0.0609319 , 0.09139785, 0.1218638 ,\n",
       "        0.15232975, 0.1827957 , 0.21326165, 0.2437276 , 0.27419355]),\n",
       " <BarContainer object of 9 artists>)"
      ]
     },
     "execution_count": 5,
     "metadata": {},
     "output_type": "execute_result"
    },
    {
     "data": {
      "image/png": "[encoded data removed]",
      "text/plain": [
       "<Figure size 432x288 with 1 Axes>"
      ]
     },
     "metadata": {
      "needs_background": "light"
     },
     "output_type": "display_data"
    }
   ],
   "source": [
    "plt.hist(prop_list,9)"
   ]
  },
  {
   "cell_type": "code",
   "execution_count": 10,
   "metadata": {
    "scrolled": true
   },
   "outputs": [
    {
     "name": "stdout",
     "output_type": "stream",
     "text": [
      "0.045464360587835186  as seen, the two p-values generated with the first method and the binomial distribution calculation are so close.\n"
     ]
    }
   ],
   "source": [
    "# generating the exact null distribution and p-value // binomial distribution\n",
    "n = 62\n",
    "k = 3 # we want to calculate probabilities for 3 or less complications.\n",
    "p = .1  # null hypothesis, national average\n",
    "minusp = 1 - p\n",
    "a = list()\n",
    "for j in range(0,k):\n",
    "    calc = math.comb(n,j) * (p**j) * minusp**(n-j)\n",
    "    a.append(calc) # i think watching inside a list is better because we can see the components easily with hashing. \n",
    "\n",
    "print(sum(a),\" as seen, the two p-values generated with the first method and the binomial distribution calculation are so close.\")"
   ]
  },
  {
   "cell_type": "code",
   "execution_count": 2,
   "metadata": {},
   "outputs": [
    {
     "name": "stdout",
     "output_type": "stream",
     "text": [
      "a)  4.8 <10 --false, doesn't satisfy the success failure condition\n",
      "b)  4.0 <10 --doesn't satisfy the succes-failure condition. since the condition doesn't meet and there's a natural bound in 0, where we can not observe a negative proportion of college students are vegeterian; the distribution should be accumulated around 0. this will result in a right skewed distribution\n",
      "c) n = 125 , p0 = 0.08, phat = 0.12, 1-p0 = 0.92\n",
      "- independence condition satisfied since the poll is randomly sampled.\n",
      "- success-failure condition: p0 * n = 10.0, (1-p0) * n = 115.0 // satisfied. \n",
      "since both conditions are met, the sampling distribution is normally distributed.\n",
      "SE = sqrt(p(1-p)/n) = sqrt((0.08*0.92)/125) = 0.02426520142096496 // standard error calculation for computing z*\n",
      "z* = 1.6484511834894673\n",
      "since the z-score is not too far away from the phat, we can't say .12 vegeterian fraction is unusual in the sample of 125 students.\n",
      "\n",
      " d) n = 250 , p0 = 0.08, phat = 0.12, 1-p0 = 0.92\n",
      "- independence condition satisfied since the poll is randomly sampled.\n",
      "- success-failure condition: p0 * n = 20.0, (1-p0) * n = 230.0 // satisfied. \n",
      "since both conditions are met, the sampling distribution is normally distributed.\n",
      "SE = sqrt(p(1-p)/n) = sqrt((0.08*0.92)/250) = 0.017158088471621775 // standard error calculation for computing z*\n",
      "z* = 2.331262020600784\n",
      "since the z-score is far away from the phat, we can say .12 vegeterian fraction is unusual in the sample of 250 students.\n",
      "as seen in the example, when we collected more data, sampled more people we saw in this case the actual case is unusual but\n",
      "in the previous level of sample size we were thinking that it's not unusual. that's why we always say \"the data does not \n",
      "provide sufficient evidence to believe xxx\". because we don't know the real fraction and the population parameter remains \n",
      "unknown, we're trying to avoid the mistaken opinion. \n",
      "\n",
      "e) false. simply doubling the sample size doesn't directly cut the SE in half because of the formula. in that case decreases\n",
      "the SE 1/sqrt(2) times.\n",
      "\n"
     ]
    }
   ],
   "source": [
    "'''6.1 Vegetarian college students. Suppose that 8% of college students are vegetarians. Determine if the\n",
    "following statements are true or false, and explain your reasoning.\n",
    "(a) The distribution of the sample proportions of vegetarians in random samples of size 60 is approximately\n",
    "normal since n >= 30.\n",
    "(b) The distribution of the sample proportions of vegetarian college students in random samples of size 50\n",
    "is right skewed.\n",
    "(c) A random sample of 125 college students where 12% are vegetarians would be considered unusual.\n",
    "(d) A random sample of 250 college students where 12% are vegetarians would be considered unusual.\n",
    "(e) The standard error would be reduced by one-half if we increased the sample size from 125 to 250.'''\n",
    "p0 = .08\n",
    "minus_p0 = 1-p0\n",
    "phat = .12\n",
    "print(\"a) \",60 * p0, \"<10 --false, doesn't satisfy the success failure condition\")\n",
    "print(\"b) \",50 * p0, \"<10 --doesn't satisfy the succes-failure condition. since the condition doesn't meet and there's a natural bound in 0, where we can not observe a negative proportion of college students are vegeterian; the distribution should be accumulated around 0. this will result in a right skewed distribution\")\n",
    "\n",
    "n1 = 125\n",
    "succ1 = p0 * n1\n",
    "fail1 = minus_p0 * n1\n",
    "se1 = np.sqrt(p0*minus_p0 / n1) # calculate standard error for null value p0\n",
    "z1 = (phat-p0)/se1 # computing z score, how many standard errors away the phat is from the null value in the null distribution.\n",
    "# because we want to see how many standard errors away our .12 proportion is. if it's too far away from .8, we can say it's unusual\n",
    "print('''c) n = {n1} , p0 = {p0}, phat = {phat}, 1-p0 = {minus_p0}\n",
    "- independence condition satisfied since the poll is randomly sampled.\n",
    "- success-failure condition: p0 * n = {succ1}, (1-p0) * n = {fail1} // satisfied. \n",
    "since both conditions are met, the sampling distribution is normally distributed.\n",
    "SE = sqrt(p(1-p)/n) = sqrt(({p0}*{minus_p0})/{n1}) = {se1} // standard error calculation for computing z*\n",
    "z* = {z1}\n",
    "since the z-score is not too far away from the phat, we can't say .12 vegeterian fraction is unusual in the sample of 125 students.\n",
    "'''.format(n1=n1,p0=p0,phat=phat, minus_p0= minus_p0, succ1=succ1, fail1=fail1, se1 = se1,z1=z1))\n",
    "\n",
    "\n",
    "n2 = 250\n",
    "succ2 = p0 * n2\n",
    "fail2 = minus_p0 * n2\n",
    "se2 = np.sqrt(p0*minus_p0 / n2) # calculate standard error for null value p0\n",
    "z2 = (phat-p0)/se2 # computing z score, how many standard errors away the phat is from the null value in the null distribution.\n",
    "# because we want to see how many standard errors away our .12 proportion is. if it's too far away from .8, we can say it's unusual\n",
    "\n",
    "print(''' d) n = {n2} , p0 = {p0}, phat = {phat}, 1-p0 = {minus_p0}\n",
    "- independence condition satisfied since the poll is randomly sampled.\n",
    "- success-failure condition: p0 * n = {succ2}, (1-p0) * n = {fail2} // satisfied. \n",
    "since both conditions are met, the sampling distribution is normally distributed.\n",
    "SE = sqrt(p(1-p)/n) = sqrt(({p0}*{minus_p0})/{n2}) = {se2} // standard error calculation for computing z*\n",
    "z* = {z2}\n",
    "since the z-score is far away from the phat, we can say .12 vegeterian fraction is unusual in the sample of 250 students.\n",
    "as seen in the example, when we collected more data, sampled more people we saw in this case the actual case is unusual but\n",
    "in the previous level of sample size we were thinking that it's not unusual. that's why we always say \"the data does not \n",
    "provide sufficient evidence to believe xxx\". because we don't know the real fraction and the population parameter remains \n",
    "unknown, we're trying to avoid the mistaken opinion. \n",
    "\n",
    "e) false. simply doubling the sample size doesn't directly cut the SE in half because of the formula. in that case decreases\n",
    "the SE 1/sqrt(2) times.\n",
    "'''.format(n2=n2,p0=p0,phat=phat, minus_p0= minus_p0, succ2=succ2, fail2=fail2, se2 = se2,z2=z2))"
   ]
  },
  {
   "cell_type": "code",
   "execution_count": 3,
   "metadata": {},
   "outputs": [
    {
     "name": "stdout",
     "output_type": "stream",
     "text": [
      "a) success-failure condition: p0 * n = 15.4, (1-p0) * n = 4.6 // isn't satisfied because of failure condition. \n",
      "the statement is true, there's a natural bound in %100. it's expected be slightly left skewed.\n",
      "\n",
      "b) success-failure condition: p0 * n = 30.8, (1-p0) * n = 9.2 // false. s/f condition isn't satisfied because of\n",
      "the failure condition. we expect a slight skew in the distribution.\n",
      "\n",
      "c) n = 60 , p0 = 0.77, phat = 0.85, 1-p0 = 0.22999999999999998\n",
      "- independence condition satisfied since the poll is randomly sampled.\n",
      "- success-failure condition: p0 * n = 46.2, (1-p0) * n = 13.799999999999999 // satisfied. \n",
      "since both conditions are met, the sampling distribution is normally distributed.\n",
      "SE = sqrt(p(1-p)/n) = sqrt((0.77*0.22999999999999998)/60) = 0.05432924319983361 // standard error calculation for computing z*\n",
      "z* = 1.4725034859356365\n",
      "since the z-score is not too far away from the phat, we can't say .12 vegeterian fraction is unusual in the sample of 60 students.\n",
      "\n",
      "d) n = 120 , p0 = 0.77, phat = 0.85, 1-p0 = 0.22999999999999998\n",
      "- independence condition satisfied since the poll is randomly sampled.\n",
      "- success-failure condition: p0 * n = 92.4, (1-p0) * n = 27.599999999999998 // satisfied. \n",
      "since both conditions are met, the sampling distribution is normally distributed.\n",
      "SE = sqrt(p(1-p)/n) = sqrt((0.77*0.22999999999999998)/120) = 0.03841657628333547 // standard error calculation for computing z*\n",
      "z* = 2.082434400451837\n",
      "since the z-score is far away from the phat, we can say .12 vegeterian fraction is unusual in the sample of 120 students.\n",
      "\n"
     ]
    }
   ],
   "source": [
    "'''6.2 Young Americans, Part I. About 77% of young adults think they can achieve the American dream.\n",
    "Determine if the following statements are true or false, and explain your reasoning.\n",
    "(a) The distribution of sample proportions of young Americans who think they can achieve the American\n",
    "dream in samples of size 20 is left skewed.\n",
    "(b) The distribution of sample proportions of young Americans who think they can achieve the American\n",
    "dream in random samples of size 40 is approximately normal since n >= 30.\n",
    "(c) A random sample of 60 young Americans where 85% think they can achieve the American dream would\n",
    "be considered unusual.\n",
    "(d) A random sample of 120 young Americans where 85% think they can achieve the American dream would\n",
    "be considered unusual.'''\n",
    "\n",
    "p0 = .77\n",
    "minus_p0 = 1-p0\n",
    "n = 20\n",
    "succ = p0 * n\n",
    "fail = minus_p0 * n\n",
    "print('''a) success-failure condition: p0 * n = {succ}, (1-p0) * n = {fail} // isn't satisfied because of failure condition. \n",
    "the statement is true, there's a natural bound in %100. it's expected be slightly left skewed.\n",
    "'''.format(n=n,p0=p0, minus_p0= minus_p0, succ=succ, fail=fail))\n",
    "\n",
    "n1 = 40\n",
    "succ1 = p0 * n1\n",
    "fail1 = minus_p0 * n1\n",
    "print('''b) success-failure condition: p0 * n = {succ}, (1-p0) * n = {fail} // false. s/f condition isn't satisfied because of\n",
    "the failure condition. we expect a slight skew in the distribution.\n",
    "'''.format(n=n1,p0=p0, minus_p0= minus_p0, succ=succ1, fail=fail1))\n",
    "\n",
    "phat = .85\n",
    "n2 = 60\n",
    "succ2 = p0 * n2\n",
    "fail2 = minus_p0 * n2\n",
    "se2 = np.sqrt(p0*minus_p0 / n2) # calculate standard error for null value p0\n",
    "z2 = (phat-p0)/se2 # computing z score, how many standard errors away the phat is from the null value in the null distribution.\n",
    "# because we want to see how many standard errors away our .12 proportion is. if it's too far away from .8, we can say it's unusual\n",
    "\n",
    "print('''c) n = {n} , p0 = {p0}, phat = {phat}, 1-p0 = {minus_p0}\n",
    "- independence condition satisfied since the poll is randomly sampled.\n",
    "- success-failure condition: p0 * n = {succ}, (1-p0) * n = {fail} // satisfied. \n",
    "since both conditions are met, the sampling distribution is normally distributed.\n",
    "SE = sqrt(p(1-p)/n) = sqrt(({p0}*{minus_p0})/{n}) = {se} // standard error calculation for computing z*\n",
    "z* = {z}\n",
    "since the z-score is not too far away from the phat, we can't say .12 vegeterian fraction is unusual in the sample of 60 students.\n",
    "'''.format(n=n2,p0=p0,phat=phat, minus_p0= minus_p0, succ=succ2, fail=fail2, se = se2,z=z2))\n",
    "\n",
    "n3 = 120\n",
    "succ3 = p0 * n3\n",
    "fail3 = minus_p0 * n3\n",
    "se3 = np.sqrt(p0*minus_p0 / n3) # calculate standard error for null value p0\n",
    "z3 = (phat-p0)/se3 # computing z score, how many standard errors away the phat is from the null value in the null distribution.\n",
    "# because we want to see how many standard errors away our .12 proportion is. if it's too far away from .8, we can say it's unusual\n",
    "\n",
    "print('''d) n = {n} , p0 = {p0}, phat = {phat}, 1-p0 = {minus_p0}\n",
    "- independence condition satisfied since the poll is randomly sampled.\n",
    "- success-failure condition: p0 * n = {succ}, (1-p0) * n = {fail} // satisfied. \n",
    "since both conditions are met, the sampling distribution is normally distributed.\n",
    "SE = sqrt(p(1-p)/n) = sqrt(({p0}*{minus_p0})/{n}) = {se} // standard error calculation for computing z*\n",
    "z* = {z}\n",
    "since the z-score is far away from the phat, we can say .12 vegeterian fraction is unusual in the sample of 120 students.\n",
    "'''.format(n=n3,p0=p0,phat=phat, minus_p0= minus_p0, succ=succ3, fail=fail3, se = se3,z=z3))"
   ]
  },
  {
   "cell_type": "code",
   "execution_count": 4,
   "metadata": {},
   "outputs": [
    {
     "name": "stdout",
     "output_type": "stream",
     "text": [
      "a) success-failure condition: p0 * n = 27.0, (1-p0) * n = 2.999999999999999 // true. isn't satisfied because of failure condition. \n",
      "the statement is true, there's a natural bound in %100. it's expected be slightly left skewed.\n",
      "\n",
      "b) true. the standard error for sample size of 30 is: 0.054772255750516606\n",
      "the standard error for sample size of 120 (4 times larger than ) is: 0.027386127875258303\n",
      "the standard error is reduced 0.5 times when the sample size is 4 times larger\n",
      "\n",
      "c) success-failure condition: p0 * n = 126.0, (1-p0) * n = 13.999999999999996 //  true. because it's randomly sampled\n",
      "and success-failure condition is met.\n",
      "\n",
      "d) success-failure condition: p0 * n = 92.4, (1-p0) * n = 27.599999999999998 //  true. because it's randomly sampled\n",
      "and success-failure condition is met.\n",
      "\n"
     ]
    }
   ],
   "source": [
    "'''6.3 Orange tabbies. Suppose that 90% of orange tabby cats are male. Determine if the following state-\n",
    "ments are true or false, and explain your reasoning.\n",
    "(a) The distribution of sample proportions of random samples of size 30 is left skewed.\n",
    "(b) Using a sample size that is 4 times as large will reduce the standard error of the sample proportion by\n",
    "one-half.\n",
    "(c) The distribution of sample proportions of random samples of size 140 is approximately normal.\n",
    "(d) The distribution of sample proportions of random samples of size 280 is approximately normal.'''\n",
    "\n",
    "p0 = .90\n",
    "minus_p0 = 1-p0\n",
    "n = 30\n",
    "succ = p0 * n\n",
    "fail = minus_p0 * n\n",
    "print('''a) success-failure condition: p0 * n = {succ}, (1-p0) * n = {fail} // true. isn't satisfied because of failure condition. \n",
    "the statement is true, there's a natural bound in %100. it's expected be slightly left skewed.\n",
    "'''.format(n=n,p0=p0, minus_p0= minus_p0, succ=succ, fail=fail))\n",
    "\n",
    "n1 = 120 # changing the sample size as 4 times larger\n",
    "se = np.sqrt(p0*minus_p0 / n) # calculate standard error for the first sample size\n",
    "se1 = np.sqrt(p0*minus_p0 / n1) # calculate standard error for the second sample size\n",
    "reduced = se1 / se \n",
    "print('''b) true. the standard error for sample size of 30 is: {se}\n",
    "the standard error for sample size of 120 (4 times larger than ) is: {se1}\n",
    "the standard error is reduced {reduced} times when the sample size is 4 times larger\n",
    "'''.format(se=se, se1=se1, reduced=reduced))\n",
    "\n",
    "n2 = 140\n",
    "succ2 = p0 * n2\n",
    "fail2 = minus_p0 * n2\n",
    "print('''c) success-failure condition: p0 * n = {succ}, (1-p0) * n = {fail} //  true. because it's randomly sampled\n",
    "and success-failure condition is met.\n",
    "'''.format(n=n2,p0=p0, minus_p0= minus_p0, succ=succ2, fail=fail2))\n",
    "\n",
    "n3 = 280\n",
    "succ2 = p0 * n3\n",
    "fail2 = minus_p0 * n3\n",
    "print('''d) success-failure condition: p0 * n = {succ}, (1-p0) * n = {fail} //  true. because it's randomly sampled\n",
    "and success-failure condition is met.\n",
    "'''.format(n=n3,p0=p0, minus_p0= minus_p0, succ=succ3, fail=fail3))"
   ]
  },
  {
   "cell_type": "code",
   "execution_count": 5,
   "metadata": {},
   "outputs": [
    {
     "name": "stdout",
     "output_type": "stream",
     "text": [
      "\n",
      "a) true. because the success-failure condition does not satisfy and there's a natural bound in 0.\n",
      "\n",
      "b) true. because less than 40 samples will not satisfy success-failure condition. we'll see skewed distributions if the condition does not satisfy.\n",
      "\n",
      "c) n = 50 , p0 = 0.25, phat = 0.2, 1-p0 = 0.75\n",
      "- independence condition satisfied since the poll is randomly sampled.\n",
      "- success-failure condition: p0 * n = 12.5, (1-p0) * n = 37.5 // satisfied. \n",
      "since both conditions are met, the sampling distribution is normally distributed.\n",
      "SE = sqrt(p(1-p)/n) = sqrt((0.25*0.75)/50) = 0.06123724356957945 // standard error calculation for computing z*\n",
      "z* = -0.8164965809277259\n",
      "since the z-score is not sufficiently far away from the phat, we can say 0.2 fraction is unusual in the sample of 50 young americans.\n",
      "\n",
      "d) n = 150 , p0 = 0.25, phat = 0.2, 1-p0 = 0.75\n",
      "- independence condition satisfied since the poll is randomly sampled.\n",
      "- success-failure condition: p0 * n = 37.5, (1-p0) * n = 112.5 // satisfied. \n",
      "since both conditions are met, the sampling distribution is normally distributed.\n",
      "SE = sqrt(p(1-p)/n) = sqrt((0.25*0.75)/150) = 0.035355339059327376 // standard error calculation for computing z*\n",
      "z* = 1.6484511834894673\n",
      "since the z-score is not sufficiently far away from the phat, we can say 0.2 fraction is unusual in the sample of 150 young americans.\n",
      "\n"
     ]
    }
   ],
   "source": [
    "'''6.4 Young Americans, Part II. About 25% of young Americans have delayed starting a family due to\n",
    "the continued economic slump. Determine if the following statements are true or false, and explain your\n",
    "reasoning.\n",
    "(a) The distribution of sample proportions of young Americans who have delayed starting a family due to\n",
    "the continued economic slump in random samples of size 12 is right skewed.\n",
    "(b) In order for the distribution of sample proportions of young Americans who have delayed starting a\n",
    "family due to the continued economic slump to be approximately normal, we need random samples\n",
    "where the sample size is at least 40.\n",
    "(c) A random sample of 50 young Americans where 20% have delayed starting a family due to the continued\n",
    "economic slump would be considered unusual.\n",
    "(d) A random sample of 150 young Americans where 20% have delayed starting a family due to the continued\n",
    "economic slump would be considered unusual.\n",
    "(e) Tripling the sample size will reduce the standard error of the sample proportion by one-third.'''\n",
    "\n",
    "print('''\n",
    "a) true. because the success-failure condition does not satisfy and there's a natural bound in 0.\n",
    "\n",
    "b) true. because less than 40 samples will not satisfy success-failure condition. we'll see skewed distributions if the condition does not satisfy.\n",
    "''')\n",
    "\n",
    "phat = .20\n",
    "p0 = .25\n",
    "minus_p0 = 1-p0\n",
    "n = 50\n",
    "succ = p0 * n\n",
    "fail = minus_p0 * n\n",
    "se = np.sqrt(p0*minus_p0 / n) # calculate standard error for null value p0\n",
    "z = (phat-p0)/se # computing z score, how many standard errors away the phat is from the null value in the null distribution.\n",
    "# because we want to see how many standard errors away our .20 proportion is. if it's too far away from .25 by standard errors,\n",
    "# we can say it's unusual\n",
    "\n",
    "print('''c) n = {n} , p0 = {p0}, phat = {phat}, 1-p0 = {minus_p0}\n",
    "- independence condition satisfied since the poll is randomly sampled.\n",
    "- success-failure condition: p0 * n = {succ}, (1-p0) * n = {fail} // satisfied. \n",
    "since both conditions are met, the sampling distribution is normally distributed.\n",
    "SE = sqrt(p(1-p)/n) = sqrt(({p0}*{minus_p0})/{n}) = {se} // standard error calculation for computing z*\n",
    "z* = {z}\n",
    "since the z-score is not sufficiently far away from the phat, we can say {phat} fraction is unusual in the sample of {n} young americans.\n",
    "'''.format(n=n,p0=p0,phat=phat, minus_p0= minus_p0, succ=succ, fail=fail, se = se,z=z))\n",
    "\n",
    "n1 = 150\n",
    "succ1 = p0 * n1\n",
    "fail1 = minus_p0 * n1\n",
    "se1 = np.sqrt(p0*minus_p0 / n1) # calculate standard error for null value p0\n",
    "z = (phat-p0)/se1 # computing z score, how many standard errors away the phat is from the null value in the null distribution.\n",
    "# because we want to see how many standard errors away our .12 proportion is. if it's too far away from .8, we can say it's unusual\n",
    "\n",
    "print('''d) n = {n} , p0 = {p0}, phat = {phat}, 1-p0 = {minus_p0}\n",
    "- independence condition satisfied since the poll is randomly sampled.\n",
    "- success-failure condition: p0 * n = {succ}, (1-p0) * n = {fail} // satisfied. \n",
    "since both conditions are met, the sampling distribution is normally distributed.\n",
    "SE = sqrt(p(1-p)/n) = sqrt(({p0}*{minus_p0})/{n}) = {se} // standard error calculation for computing z*\n",
    "z* = {z}\n",
    "since the z-score is not sufficiently far away from the phat, we can say {phat} fraction is unusual in the sample of {n} young americans.\n",
    "'''.format(n=n1,p0=p0,phat=phat, minus_p0= minus_p0, succ=succ1, fail=fail1, se = se1, z=z1))"
   ]
  },
  {
   "cell_type": "code",
   "execution_count": 6,
   "metadata": {},
   "outputs": [
    {
     "name": "stdout",
     "output_type": "stream",
     "text": [
      "a) false. because the confidence interval and hypothesis tests are for concluding on population proportion.\n",
      "b) true statement.\n",
      "c) true.\n",
      "d) true. margin of error: z* x SE\n",
      "standard error: sqrt(p*(1-p) / n)\n",
      "if you want to cut the margin of error in half, you have to cut SE in half, and to do it you have to quadruple the sample size.\n",
      "e) true. the confidence interval is above %50. we're 95% confident that there is a majority group in the true population.\n",
      "\n"
     ]
    }
   ],
   "source": [
    "'''6.5 Gender equality. The General Social Survey asked a random sample of 1,390 Americans the following\n",
    "question: \"On the whole, do you think it should or should not be the government's responsibility to promote\n",
    "equality between men and women?\" 82% of the respondents said it \"should be\". At a 95% confidence level,\n",
    "this sample has 2% margin of error. Based on this information, determine if the following statements are\n",
    "true or false, and explain your reasoning.\n",
    "(a) We are 95% confident that between 80% and 84% of Americans in this sample think it's the government's\n",
    "responsibility to promote equality between men and women.\n",
    "(b) We are 95% confident that between 80% and 84% of all Americans think it's the government's respon-\n",
    "sibility to promote equality between men and women.\n",
    "(c) If we considered many random samples of 1,390 Americans, and we calculated 95% confidence intervals\n",
    "for each, 95% of these intervals would include the true population proportion of Americans who think\n",
    "it's the government's responsibility to promote equality between men and women.\n",
    "(d) In order to decrease the margin of error to 1%, we would need to quadruple (multiply by 4) the sample\n",
    "size.\n",
    "(e) Based on this confidence interval, there is sufficient evidence to conclude that a majority of Americans\n",
    "think it's the government's responsibility to promote equality between men and women.'''\n",
    "\n",
    "print('''a) false. because the confidence interval and hypothesis tests are for concluding on population proportion.\n",
    "b) true statement.\n",
    "c) true.\n",
    "d) true. margin of error: z* x SE\n",
    "standard error: sqrt(p*(1-p) / n)\n",
    "if you want to cut the margin of error in half, you have to cut SE in half, and to do it you have to quadruple the sample size.\n",
    "e) true. the confidence interval is above %50. we're 95% confident that there is a majority group in the true population.\n",
    "''')"
   ]
  },
  {
   "cell_type": "code",
   "execution_count": 7,
   "metadata": {},
   "outputs": [
    {
     "name": "stdout",
     "output_type": "stream",
     "text": [
      "n = 1018 , phat = 0.66, 1-phat = 0.33999999999999997\n",
      "SE = sqrt(p(1-p)/n) = sqrt((0.66*0.33999999999999997)/1018) = 0.014846959959509985\n",
      "z* = 1.96 , margin of error: z* x SE = 0.02910004152063957\n",
      "confidence interval: (phat - z* x SE , phat + z* x SE) = (0.6308999584793604,0.6891000415206396)\n",
      "\n",
      "\n",
      "\n",
      "\n"
     ]
    }
   ],
   "source": [
    "'''6.6 Elderly drivers. The Marist Poll published a report stating that 66% of adults nationally think licensed\n",
    "drivers should be required to retake their road test once they reach 65 years of age. It was also reported\n",
    "that interviews were conducted on 1,018 American adults, and that the margin of error was 3% using a 95%\n",
    "confidence level.\n",
    "(a) Verify the margin of error reported by The Marist Poll.\n",
    "(b) Based on a 95% confidence interval, does the poll provide convincing evidence that more than 70% of\n",
    "the population think that licensed drivers should be required to retake their road test once they turn\n",
    "65?'''\n",
    "\n",
    "n = 1018\n",
    "phat = .66\n",
    "minus_phat = 1 - phat\n",
    "z = 1.96 # for the 95% significance level.\n",
    "se = np.sqrt(phat*minus_phat / n)\n",
    "me = z * se\n",
    "lo = phat - me\n",
    "hi = phat + me\n",
    "print('''n = {n} , phat = {phat}, 1-phat = {minus_phat}\n",
    "SE = sqrt(p(1-p)/n) = sqrt(({phat}*{minus_phat})/{n}) = {se}\n",
    "z* = {z} , margin of error: z* x SE = {me}\n",
    "confidence interval: (phat - z* x SE , phat + z* x SE) = ({lo},{hi})\n",
    "'''.format(n=n,z=z,phat=phat, minus_phat= minus_phat, se = se, me = me, lo=lo, hi=hi))\n",
    "print('''\n",
    "\n",
    "''')"
   ]
  },
  {
   "cell_type": "markdown",
   "metadata": {},
   "source": [
    "'''6.7 Fireworks on July 4th. A local news outlet reported that 56% of 600 randomly sampled Kansas\n",
    "residents planned to set off fireworks on July 4th. Determine the margin of error for the 56% point estimate\n",
    "using a 95% confidence level.'''\n",
    "print('''\n",
    "\n",
    "''')"
   ]
  },
  {
   "cell_type": "code",
   "execution_count": 8,
   "metadata": {},
   "outputs": [
    {
     "name": "stdout",
     "output_type": "stream",
     "text": [
      "\n",
      "\n",
      "\n"
     ]
    }
   ],
   "source": [
    "'''6.8 Life rating in Greece. Greece has faced a severe economic crisis since the end of 2009. A Gallup poll\n",
    "surveyed 1,000 randomly sampled Greeks in 2011 and found that 25% of them said they would rate their\n",
    "lives poorly enough to be considered \\su\u000b",
    "ering\".11\n",
    "(a) Describe the population parameter of interest. What is the value of the point estimate of this parameter?\n",
    "(b) Check if the conditions required for constructing a con\f",
    "dence interval based on these data are met.\n",
    "(c) Construct a 95% con\f",
    "dence interval for the proportion of Greeks who are \\su\u000b",
    "ering\".\n",
    "(d) Without doing any calculations, describe what would happen to the con\f",
    "dence interval if we decided to\n",
    "use a higher con\f",
    "dence level.\n",
    "(e) Without doing any calculations, describe what would happen to the con\f",
    "dence interval if we used a\n",
    "larger sample.'''\n",
    "print('''\n",
    "\n",
    "''')"
   ]
  },
  {
   "cell_type": "code",
   "execution_count": 9,
   "metadata": {},
   "outputs": [
    {
     "name": "stdout",
     "output_type": "stream",
     "text": [
      "\n",
      "\n",
      "\n"
     ]
    }
   ],
   "source": [
    "'''6.9 Study abroad. A survey on 1,509 high school seniors who took the SAT and who completed an optional\n",
    "web survey shows that 55% of high school seniors are fairly certain that they will participate in a study\n",
    "abroad program in college.12\n",
    "(a) Is this sample a representative sample from the population of all high school seniors in the US? Explain\n",
    "your reasoning.\n",
    "(b) Let's suppose the conditions for inference are met. Even if your answer to part (a) indicated that this\n",
    "approach would not be reliable, this analysis may still be interesting to carry out (though not report).\n",
    "Construct a 90% con\f",
    "dence interval for the proportion of high school seniors (of those who took the\n",
    "SAT) who are fairly certain they will participate in a study abroad program in college, and interpret\n",
    "this interval in context.\n",
    "(c) What does \\90% con\f",
    "dence\" mean?\n",
    "(d) Based on this interval, would it be appropriate to claim that the majority of high school seniors are\n",
    "fairly certain that they will participate in a study abroad program in college?'''\n",
    "print('''\n",
    "\n",
    "''')"
   ]
  },
  {
   "cell_type": "code",
   "execution_count": 10,
   "metadata": {},
   "outputs": [
    {
     "name": "stdout",
     "output_type": "stream",
     "text": [
      "\n",
      "\n",
      "\n"
     ]
    }
   ],
   "source": [
    "'''6.10 Legalization of marijuana, Part I. The General Social Survey asked 1,578 US residents: \\Do you\n",
    "think the use of marijuana should be made legal, or not?\" 61% of the respondents said it should be made\n",
    "legal.13\n",
    "(a) Is 61% a sample statistic or a population parameter? Explain.\n",
    "(b) Construct a 95% con\f",
    "dence interval for the proportion of US residents who think marijuana should be\n",
    "made legal, and interpret it in the context of the data.\n",
    "(c) A critic points out that this 95% con\f",
    "dence interval is only accurate if the statistic follows a normal\n",
    "distribution, or if the normal model is a good approximation. Is this true for these data? Explain.\n",
    "(d) A news piece on this survey's \f",
    "ndings states, \\Majority of Americans think marijuana should be legal-\n",
    "ized.\" Based on your con\f",
    "dence interval, is this news piece's statement justi\f",
    "ed?'''\n",
    "print('''\n",
    "\n",
    "''')"
   ]
  },
  {
   "cell_type": "code",
   "execution_count": 11,
   "metadata": {},
   "outputs": [
    {
     "name": "stdout",
     "output_type": "stream",
     "text": [
      "\n",
      "\n",
      "\n"
     ]
    }
   ],
   "source": [
    "'''6.11 National Health Plan, Part I. A Kaiser Family Foundation poll for US adults in 2019 found that 79%\n",
    "of Democrats, 55% of Independents, and 24% of Republicans supported a generic \"National Health Plan\".\n",
    "There were 347 Democrats, 298 Republicans, and 617 Independents surveyed.14\n",
    "(a) A political pundit on TV claims that a majority of Independents support a National Health Plan. Do\n",
    "these data provide strong evidence to support this type of statement?\n",
    "(b) Would you expect a confidence interval for the proportion of Independents who oppose the public option\n",
    "plan to include 0.5? Explain.'''\n",
    "print('''\n",
    "\n",
    "''')"
   ]
  },
  {
   "cell_type": "code",
   "execution_count": 12,
   "metadata": {},
   "outputs": [
    {
     "name": "stdout",
     "output_type": "stream",
     "text": [
      "\n",
      "\n",
      "\n"
     ]
    }
   ],
   "source": [
    "'''6.12 Is college worth it? Part I. Among a simple random sample of 331 American adults who do not have\n",
    "a four-year college degree and are not currently enrolled in school, 48% said they decided not to go to college\n",
    "because they could not a\u000b",
    "ord school.15\n",
    "(a) A newspaper article states that only a minority of the Americans who decide not to go to college do\n",
    "so because they cannot a\u000b",
    "ord it and uses the point estimate from this survey as evidence. Conduct a\n",
    "hypothesis test to determine if these data provide strong evidence supporting this statement.\n",
    "(b) Would you expect a con\f",
    "dence interval for the proportion of American adults who decide not to go to\n",
    "college because they cannot a\u000b",
    "ord it to include 0.5? Explain.'''\n",
    "print('''\n",
    "\n",
    "''')"
   ]
  },
  {
   "cell_type": "code",
   "execution_count": 13,
   "metadata": {},
   "outputs": [
    {
     "name": "stdout",
     "output_type": "stream",
     "text": [
      "\n",
      "\n",
      "\n"
     ]
    }
   ],
   "source": [
    "'''6.13 Taste test. Some people claim that they can tell the di\u000b",
    "erence between a diet soda and a regular soda\n",
    "in the \f",
    "rst sip. A researcher wanting to test this claim randomly sampled 80 such people. He then \f",
    "lled 80\n",
    "plain white cups with soda, half diet and half regular through random assignment, and asked each person\n",
    "to take one sip from their cup and identify the soda as diet or regular. 53 participants correctly identi\f",
    "ed\n",
    "the soda.\n",
    "(a) Do these data provide strong evidence that these people are any better or worse than random guessing\n",
    "at telling the di\u000b",
    "erence between diet and regular soda?\n",
    "(b) Interpret the p-value in this context.'''\n",
    "print('''\n",
    "\n",
    "''')"
   ]
  },
  {
   "cell_type": "code",
   "execution_count": 14,
   "metadata": {},
   "outputs": [
    {
     "name": "stdout",
     "output_type": "stream",
     "text": [
      "\n",
      "\n",
      "\n"
     ]
    }
   ],
   "source": [
    "'''6.14 Is college worth it? Part II. Exercise 6.12 presents the results of a poll where 48% of 331 Americans\n",
    "who decide to not go to college do so because they cannot afford it.\n",
    "(a) Calculate a 90% confidence interval for the proportion of Americans who decide to not go to college\n",
    "because they cannot afford it, and interpret the interval in context.\n",
    "(b) Suppose we wanted the margin of error for the 90% con\f",
    "dence level to be about 1.5%. How large of a\n",
    "survey would you recommend?'''\n",
    "print('''\n",
    "\n",
    "''')"
   ]
  },
  {
   "cell_type": "code",
   "execution_count": 15,
   "metadata": {},
   "outputs": [
    {
     "name": "stdout",
     "output_type": "stream",
     "text": [
      "\n",
      "\n",
      "\n"
     ]
    }
   ],
   "source": [
    "'''6.15 National Health Plan, Part II. Exercise 6.11 presents the results of a poll evaluating support for a\n",
    "generic \"National Health Plan\" in the US in 2019, reporting that 55% of Independents are supportive. If we\n",
    "wanted to estimate this number to within 1% with 90% confidence, what would be an appropriate sample\n",
    "size?'''\n",
    "print('''\n",
    "\n",
    "''')"
   ]
  },
  {
   "cell_type": "code",
   "execution_count": 16,
   "metadata": {},
   "outputs": [
    {
     "name": "stdout",
     "output_type": "stream",
     "text": [
      "\n",
      "\n",
      "\n"
     ]
    }
   ],
   "source": [
    "'''6.16 Legalize Marijuana, Part II. As discussed in Exercise 6.10, the General Social Survey reported a\n",
    "sample where about 61% of US residents thought marijuana should be made legal. If we wanted to limit the\n",
    "margin of error of a 95% con\f",
    "dence interval to 2%, about how many Americans would we need to survey?'''\n",
    "print('''\n",
    "\n",
    "''')"
   ]
  },
  {
   "cell_type": "code",
   "execution_count": null,
   "metadata": {
    "collapsed": true
   },
   "outputs": [],
   "source": []
  },
  {
   "cell_type": "code",
   "execution_count": null,
   "metadata": {
    "collapsed": true
   },
   "outputs": [],
   "source": []
  }
 ],
 "metadata": {
  "kernelspec": {
   "display_name": "Python 3",
   "language": "python",
   "name": "python3"
  },
  "language_info": {
   "codemirror_mode": {
    "name": "ipython",
    "version": 3
   },
   "file_extension": ".py",
   "mimetype": "text/x-python",
   "name": "python",
   "nbconvert_exporter": "python",
   "pygments_lexer": "ipython3",
   "version": "3.6.1"
  },
  "vscode": {
   "interpreter": {
    "hash": "3c06e3e46abf38078fe4dac36a0085ec2b134ebbd73dd076183d243eeca6918f"
   }
  }
 },
 "nbformat": 4,
 "nbformat_minor": 2
}
