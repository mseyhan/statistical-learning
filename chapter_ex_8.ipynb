{
 "cells": [
  {
   "cell_type": "code",
   "execution_count": 1,
   "metadata": {
    "collapsed": true
   },
   "outputs": [],
   "source": [
    "import pandas as pd\n",
    "import numpy as np\n",
    "import random\n",
    "import scipy.stats\n",
    "import math\n",
    "import seaborn as sns\n",
    "from matplotlib import pyplot as plt\n",
    "from random import sample\n",
    "from scipy.stats import chisquare\n",
    "from scipy.stats import geom\n",
    "from scipy.stats import t\n",
    "from scipy import stats\n",
    "from sklearn.linear_model import LinearRegression\n",
    "from sklearn.metrics import r2_score\n",
    "from matplotlib.ticker import AutoMinorLocator\n",
    "%matplotlib inline"
   ]
  },
  {
   "cell_type": "code",
   "execution_count": 2,
   "metadata": {},
   "outputs": [
    {
     "ename": "SyntaxError",
     "evalue": "invalid syntax (<ipython-input-2-d8e1d2577c44>, line 1)",
     "output_type": "error",
     "traceback": [
      "\u001b[1;36m  File \u001b[1;32m\"<ipython-input-2-d8e1d2577c44>\"\u001b[1;36m, line \u001b[1;32m1\u001b[0m\n\u001b[1;33m    8.37 True / False. Determine if the following statements are true or false. If false, explain why.\u001b[0m\n\u001b[1;37m            ^\u001b[0m\n\u001b[1;31mSyntaxError\u001b[0m\u001b[1;31m:\u001b[0m invalid syntax\n"
     ]
    }
   ],
   "source": [
    "'''8.37 True / False. Determine if the following statements are true or false. If false, explain why.\n",
    "(a) A correlation coe\u000ecient of -0.90 indicates a stronger linear relationship than a correlation of 0.5.\n",
    "(b) Correlation is a measure of the association between any two variables.'''"
   ]
  },
  {
   "cell_type": "code",
   "execution_count": 3,
   "metadata": {},
   "outputs": [
    {
     "data": {
      "text/plain": [
       "'8.38 Trees. The scatterplots below show the relationship between height, diameter, and volume of timber\\nin 31 felled black cherry trees. The diameter of the tree is measured 4.5 feet above the ground.20\\nl l l\\nl\\nl l\\nl\\nl\\nl\\nl\\nl\\nll\\nl\\nl\\nl\\nl\\nl\\nl l\\nl\\nl\\nl\\nl\\nl\\nl l\\nl\\nll\\nl\\nHeight (feet)\\nVolume (cubic feet)\\n60 70 80 90\\n0\\n20\\n40\\n60\\n80\\nlll\\nl\\nll\\nl l\\nl\\nl\\nl\\nll\\nl\\nl\\nl\\nl\\nl\\nll\\nl\\nl\\nl\\nl\\nl\\nll\\nl\\nll\\nl\\nDiameter (inches)\\nVolume (cubic feet)\\n8 12 16 20\\n0\\n20\\n40\\n60\\n80\\n(a) Describe the relationship between volume and height of these trees.\\n(b) Describe the relationship between volume and diameter of these trees.\\n(c) Suppose you have height and diameter measurements for another black cherry tree. Which of these\\nvariables would be preferable to use to predict the volume of timber in this tree using a simple linear\\nregression model? Explain your reasoning.'"
      ]
     },
     "execution_count": 3,
     "metadata": {},
     "output_type": "execute_result"
    }
   ],
   "source": [
    "'''8.38 Trees. The scatterplots below show the relationship between height, diameter, and volume of timber\n",
    "in 31 felled black cherry trees. The diameter of the tree is measured 4.5 feet above the ground.20\n",
    "l l l\n",
    "l\n",
    "l l\n",
    "l\n",
    "l\n",
    "l\n",
    "l\n",
    "l\n",
    "ll\n",
    "l\n",
    "l\n",
    "l\n",
    "l\n",
    "l\n",
    "l l\n",
    "l\n",
    "l\n",
    "l\n",
    "l\n",
    "l\n",
    "l l\n",
    "l\n",
    "ll\n",
    "l\n",
    "Height (feet)\n",
    "Volume (cubic feet)\n",
    "60 70 80 90\n",
    "0\n",
    "20\n",
    "40\n",
    "60\n",
    "80\n",
    "lll\n",
    "l\n",
    "ll\n",
    "l l\n",
    "l\n",
    "l\n",
    "l\n",
    "ll\n",
    "l\n",
    "l\n",
    "l\n",
    "l\n",
    "l\n",
    "ll\n",
    "l\n",
    "l\n",
    "l\n",
    "l\n",
    "l\n",
    "ll\n",
    "l\n",
    "ll\n",
    "l\n",
    "Diameter (inches)\n",
    "Volume (cubic feet)\n",
    "8 12 16 20\n",
    "0\n",
    "20\n",
    "40\n",
    "60\n",
    "80\n",
    "(a) Describe the relationship between volume and height of these trees.\n",
    "(b) Describe the relationship between volume and diameter of these trees.\n",
    "(c) Suppose you have height and diameter measurements for another black cherry tree. Which of these\n",
    "variables would be preferable to use to predict the volume of timber in this tree using a simple linear\n",
    "regression model? Explain your reasoning.'''"
   ]
  },
  {
   "cell_type": "code",
   "execution_count": 4,
   "metadata": {},
   "outputs": [
    {
     "data": {
      "text/plain": [
       "\"8.39 Husbands and wives, Part III. Exercise 8.33 presents a scatterplot displaying the relationship between\\nhusbands' and wives' ages in a random sample of 170 married couples in Britain, where both partners' ages\\nare below 65 years. Given below is summary output of the least squares \\nt for predicting wife's age from\\nhusband's age.\\nHusband's age (in years)\\nWife's age (in years)\\n20 40 60\\n20\\n40\\n60\\nEstimate Std. Error t value Pr(>jtj)\\n(Intercept) 1.5740 1.1501 1.37 0.1730\\nage husband 0.9112 0.0259 35.25 0.0000\\ndf = 168\\n(a) We might wonder, is the age di\\nerence between husbands and wives consistent across ages? If this were\\nthe case, then the slope parameter would be \\n1 = 1. Use the information above to evaluate if there is\\nstrong evidence that the di\\nerence in husband and wife ages di\\ners for di\\nerent ages.\\n(b) Write the equation of the regression line for predicting wife's age from husband's age.\\n(c) Interpret the slope and intercept in context.\\n(d) Given that R2 = 0:88, what is the correlation of ages in this data set?\\n(e) You meet a married man from Britain who is 55 years old. What would you predict his wife's age to\\nbe? How reliable is this prediction?\\n(f) You meet another married man from Britain who is 85 years old. Would it be wise to use the same\\nlinear model to predict his wife's age? Explain.\""
      ]
     },
     "execution_count": 4,
     "metadata": {},
     "output_type": "execute_result"
    }
   ],
   "source": [
    "'''8.39 Husbands and wives, Part III. Exercise 8.33 presents a scatterplot displaying the relationship between\n",
    "husbands' and wives' ages in a random sample of 170 married couples in Britain, where both partners' ages\n",
    "are below 65 years. Given below is summary output of the least squares \f",
    "t for predicting wife's age from\n",
    "husband's age.\n",
    "Husband's age (in years)\n",
    "Wife's age (in years)\n",
    "20 40 60\n",
    "20\n",
    "40\n",
    "60\n",
    "Estimate Std. Error t value Pr(>jtj)\n",
    "(Intercept) 1.5740 1.1501 1.37 0.1730\n",
    "age husband 0.9112 0.0259 35.25 0.0000\n",
    "df = 168\n",
    "(a) We might wonder, is the age di\u000b",
    "erence between husbands and wives consistent across ages? If this were\n",
    "the case, then the slope parameter would be \f",
    "1 = 1. Use the information above to evaluate if there is\n",
    "strong evidence that the di\u000b",
    "erence in husband and wife ages di\u000b",
    "ers for di\u000b",
    "erent ages.\n",
    "(b) Write the equation of the regression line for predicting wife's age from husband's age.\n",
    "(c) Interpret the slope and intercept in context.\n",
    "(d) Given that R2 = 0:88, what is the correlation of ages in this data set?\n",
    "(e) You meet a married man from Britain who is 55 years old. What would you predict his wife's age to\n",
    "be? How reliable is this prediction?\n",
    "(f) You meet another married man from Britain who is 85 years old. Would it be wise to use the same\n",
    "linear model to predict his wife's age? Explain.'''"
   ]
  },
  {
   "cell_type": "code",
   "execution_count": 5,
   "metadata": {},
   "outputs": [
    {
     "data": {
      "text/plain": [
       "'8.40 Cats, Part II. Exercise 8.26 presents regression output from a model for predicting the heart weight\\n(in g) of cats from their body weight (in kg). The coe\\x0ecients are estimated using a dataset of 144 domestic\\ncat. The model output is also provided below.\\nEstimate Std. Error t value Pr(>jtj)\\n(Intercept) -0.357 0.692 -0.515 0.607\\nbody wt 4.034 0.250 16.119 0.000\\ns = 1:452 R2 = 64:66% R2\\nadj = 64:41%\\n(a) We see that the point estimate for the slope is positive. What are the hypotheses for evaluating whether\\nbody weight is positively associated with heart weight in cats?\\n(b) State the conclusion of the hypothesis test from part (a) in context of the data.\\n(c) Calculate a 95% con\\ndence interval for the slope of body weight, and interpret it in context of the data.\\n(d) Do your results from the hypothesis test and the con\\ndence interval agree? Explain.\\n8.41 Nutrition at Starbucks, Part II. Exercise 8.22 introduced a data set on nutrition information on\\nStarbucks food menu items. Based on the scatterplot and the residual plot provided, describe the relationship\\nbetween the protein content and calories of these menu items, and determine if a simple linear model is\\nappropriate to predict amount of protein from the number of calories.\\nCalories\\nProtein (grams)\\n100 200 300 400 500\\n0\\n10\\n20\\n30\\n−20\\n0\\n20'"
      ]
     },
     "execution_count": 5,
     "metadata": {},
     "output_type": "execute_result"
    }
   ],
   "source": [
    "'''8.40 Cats, Part II. Exercise 8.26 presents regression output from a model for predicting the heart weight\n",
    "(in g) of cats from their body weight (in kg). The coe\u000ecients are estimated using a dataset of 144 domestic\n",
    "cat. The model output is also provided below.\n",
    "Estimate Std. Error t value Pr(>jtj)\n",
    "(Intercept) -0.357 0.692 -0.515 0.607\n",
    "body wt 4.034 0.250 16.119 0.000\n",
    "s = 1:452 R2 = 64:66% R2\n",
    "adj = 64:41%\n",
    "(a) We see that the point estimate for the slope is positive. What are the hypotheses for evaluating whether\n",
    "body weight is positively associated with heart weight in cats?\n",
    "(b) State the conclusion of the hypothesis test from part (a) in context of the data.\n",
    "(c) Calculate a 95% con\f",
    "dence interval for the slope of body weight, and interpret it in context of the data.\n",
    "(d) Do your results from the hypothesis test and the con\f",
    "dence interval agree? Explain.\n",
    "8.41 Nutrition at Starbucks, Part II. Exercise 8.22 introduced a data set on nutrition information on\n",
    "Starbucks food menu items. Based on the scatterplot and the residual plot provided, describe the relationship\n",
    "between the protein content and calories of these menu items, and determine if a simple linear model is\n",
    "appropriate to predict amount of protein from the number of calories.\n",
    "Calories\n",
    "Protein (grams)\n",
    "100 200 300 400 500\n",
    "0\n",
    "10\n",
    "20\n",
    "30\n",
    "−20\n",
    "0\n",
    "20'''"
   ]
  },
  {
   "cell_type": "code",
   "execution_count": 6,
   "metadata": {},
   "outputs": [
    {
     "data": {
      "text/plain": [
       "'8.42 Helmets and lunches. The scatterplot shows the relationship between socioeconomic status measured\\nas the percentage of children in a neighborhood receiving reduced-fee lunches at school (lunch) and the\\npercentage of bike riders in the neighborhood wearing helmets (helmet). The average percentage of children\\nreceiving reduced-fee lunches is 30.8% with a standard deviation of 26.7% and the average percentage of\\nbike riders wearing helmets is 38.8% with a standard deviation of 16.9%.\\n(a) If the R2 for the least-squares regression line for\\nthese data is 72%, what is the correlation\\nbetween lunch and helmet?\\n(b) Calculate the slope and intercept for the\\nleast-squares regression line for these data.\\n(c) Interpret the intercept of the least-squares\\nregression line in the context of the application.\\n(d) Interpret the slope of the least-squares regression\\nline in the context of the application.\\n(e) What would the value of the residual be for a\\nneighborhood where 40% of the children receive\\nreduced-fee lunches and 40% of the bike riders\\nwear helmets? Interpret the meaning of this\\nresidual in the context of the application.\\nl\\nl\\nl\\nl\\nl\\nl\\nl\\nl\\nl\\nl l\\nl\\nRate of Receiving a Reduced−Fee Lunch\\n0% 20% 40% 60% 80%\\n0%\\n20%\\n40%\\n60%\\nRate of Wearing a Helmet'"
      ]
     },
     "execution_count": 6,
     "metadata": {},
     "output_type": "execute_result"
    }
   ],
   "source": [
    "'''8.42 Helmets and lunches. The scatterplot shows the relationship between socioeconomic status measured\n",
    "as the percentage of children in a neighborhood receiving reduced-fee lunches at school (lunch) and the\n",
    "percentage of bike riders in the neighborhood wearing helmets (helmet). The average percentage of children\n",
    "receiving reduced-fee lunches is 30.8% with a standard deviation of 26.7% and the average percentage of\n",
    "bike riders wearing helmets is 38.8% with a standard deviation of 16.9%.\n",
    "(a) If the R2 for the least-squares regression line for\n",
    "these data is 72%, what is the correlation\n",
    "between lunch and helmet?\n",
    "(b) Calculate the slope and intercept for the\n",
    "least-squares regression line for these data.\n",
    "(c) Interpret the intercept of the least-squares\n",
    "regression line in the context of the application.\n",
    "(d) Interpret the slope of the least-squares regression\n",
    "line in the context of the application.\n",
    "(e) What would the value of the residual be for a\n",
    "neighborhood where 40% of the children receive\n",
    "reduced-fee lunches and 40% of the bike riders\n",
    "wear helmets? Interpret the meaning of this\n",
    "residual in the context of the application.\n",
    "l\n",
    "l\n",
    "l\n",
    "l\n",
    "l\n",
    "l\n",
    "l\n",
    "l\n",
    "l\n",
    "l l\n",
    "l\n",
    "Rate of Receiving a Reduced−Fee Lunch\n",
    "0% 20% 40% 60% 80%\n",
    "0%\n",
    "20%\n",
    "40%\n",
    "60%\n",
    "Rate of Wearing a Helmet'''"
   ]
  },
  {
   "cell_type": "code",
   "execution_count": 7,
   "metadata": {},
   "outputs": [
    {
     "data": {
      "text/plain": [
       "'8.43 Match the correlation, Part III. Match each correlation to the corresponding scatterplot.\\n(a) r = \\U001000000:72\\n(b) r = 0:07\\n(c) r = 0:86\\n(d) r = 0:99'"
      ]
     },
     "execution_count": 7,
     "metadata": {},
     "output_type": "execute_result"
    }
   ],
   "source": [
    "'''8.43 Match the correlation, Part III. Match each correlation to the corresponding scatterplot.\n",
    "(a) r = 􀀀0:72\n",
    "(b) r = 0:07\n",
    "(c) r = 0:86\n",
    "(d) r = 0:99'''"
   ]
  },
  {
   "cell_type": "code",
   "execution_count": 8,
   "metadata": {},
   "outputs": [
    {
     "data": {
      "text/plain": [
       "'8.44 Rate my professor. Many college courses conclude by giving students the opportunity to evaluate\\nthe course and the instructor anonymously. However, the use of these student evaluations as an indicator of\\ncourse quality and teaching e\\nectiveness is often criticized because these measures may re\\nect the in\\nuence\\nof non-teaching related characteristics, such as the physical appearance of the instructor. Researchers at\\nUniversity of Texas, Austin collected data on teaching evaluation score (higher score means better) and\\nstandardized beauty score (a score of 0 means average, negative score means below average, and a positive\\nscore means above average) for a sample of 463 professors.21 The scatterplot below shows the relationship\\nbetween these variables, and regression output is provided for predicting teaching evaluation score from\\nbeauty score.\\nEstimate Std. Error t value Pr(>jtj)\\n(Intercept) 4.010 0.0255 157.21 0.0000\\nbeauty Cell 1 0.0322 4.13 0.0000\\n(a) Given that the average standardized beauty\\nscore is -0.0883 and average teaching\\nevaluation score is 3.9983, calculate the\\nslope. Alternatively, the slope may be\\ncomputed using just the information\\nprovided in the model summary table.\\n(b) Do these data provide convincing evidence\\nthat the slope of the relationship between\\nteaching evaluation and beauty is positive?\\nExplain your reasoning.\\n(c) List the conditions required for linear\\nregression and check if each one is satis\\ned\\nfor this model based on the following\\ndiagnostic plots.'"
      ]
     },
     "execution_count": 8,
     "metadata": {},
     "output_type": "execute_result"
    }
   ],
   "source": [
    "'''8.44 Rate my professor. Many college courses conclude by giving students the opportunity to evaluate\n",
    "the course and the instructor anonymously. However, the use of these student evaluations as an indicator of\n",
    "course quality and teaching e\u000b",
    "ectiveness is often criticized because these measures may re\n",
    "ect the in\n",
    "uence\n",
    "of non-teaching related characteristics, such as the physical appearance of the instructor. Researchers at\n",
    "University of Texas, Austin collected data on teaching evaluation score (higher score means better) and\n",
    "standardized beauty score (a score of 0 means average, negative score means below average, and a positive\n",
    "score means above average) for a sample of 463 professors.21 The scatterplot below shows the relationship\n",
    "between these variables, and regression output is provided for predicting teaching evaluation score from\n",
    "beauty score.\n",
    "Estimate Std. Error t value Pr(>jtj)\n",
    "(Intercept) 4.010 0.0255 157.21 0.0000\n",
    "beauty Cell 1 0.0322 4.13 0.0000\n",
    "(a) Given that the average standardized beauty\n",
    "score is -0.0883 and average teaching\n",
    "evaluation score is 3.9983, calculate the\n",
    "slope. Alternatively, the slope may be\n",
    "computed using just the information\n",
    "provided in the model summary table.\n",
    "(b) Do these data provide convincing evidence\n",
    "that the slope of the relationship between\n",
    "teaching evaluation and beauty is positive?\n",
    "Explain your reasoning.\n",
    "(c) List the conditions required for linear\n",
    "regression and check if each one is satis\f",
    "ed\n",
    "for this model based on the following\n",
    "diagnostic plots.'''"
   ]
  },
  {
   "cell_type": "code",
   "execution_count": null,
   "metadata": {
    "collapsed": true
   },
   "outputs": [],
   "source": []
  }
 ],
 "metadata": {
  "kernelspec": {
   "display_name": "Python 3",
   "language": "python",
   "name": "python3"
  },
  "language_info": {
   "codemirror_mode": {
    "name": "ipython",
    "version": 3
   },
   "file_extension": ".py",
   "mimetype": "text/x-python",
   "name": "python",
   "nbconvert_exporter": "python",
   "pygments_lexer": "ipython3",
   "version": "3.6.1"
  }
 },
 "nbformat": 4,
 "nbformat_minor": 2
}
