{
 "cells": [
  {
   "cell_type": "code",
   "execution_count": 15,
   "metadata": {
    "collapsed": true
   },
   "outputs": [],
   "source": [
    "import pandas as pd\n",
    "import numpy as np\n",
    "import random\n",
    "import scipy.stats\n",
    "import math\n",
    "import seaborn as sns\n",
    "from matplotlib import pyplot as plt\n",
    "from random import sample\n",
    "from scipy.stats import chisquare\n",
    "from scipy.stats import geom\n",
    "from scipy.stats import t\n",
    "from scipy import stats\n",
    "from sklearn.linear_model import LinearRegression\n",
    "from sklearn.metrics import r2_score\n",
    "from matplotlib.ticker import AutoMinorLocator\n",
    "%matplotlib inline"
   ]
  },
  {
   "cell_type": "code",
   "execution_count": 16,
   "metadata": {},
   "outputs": [
    {
     "name": "stdout",
     "output_type": "stream",
     "text": [
      "a) true.\n",
      "b) false. only numerical variables.\n"
     ]
    }
   ],
   "source": [
    "'''8.37 True / False. Determine if the following statements are true or false. If false, explain why.\n",
    "(a) A correlation coefficient of -0.90 indicates a stronger linear relationship than a correlation of 0.5.\n",
    "(b) Correlation is a measure of the association between any two variables.'''\n",
    "print('''a) true.\n",
    "b) false. only numerical variables.''')"
   ]
  },
  {
   "cell_type": "code",
   "execution_count": 17,
   "metadata": {},
   "outputs": [
    {
     "name": "stdout",
     "output_type": "stream",
     "text": [
      "a) moderate positive linear relationship\n",
      "b) strong positive linear relationship\n",
      "c) diameter. the variability is low, diameter looks more correlated with volume of a tree than height. diameter should\n",
      "have a bigger correlation coefficient. diameter would predict volume more reliably.\n"
     ]
    }
   ],
   "source": [
    "'''8.38 Trees. The scatterplots below show the relationship between height, diameter, and volume of timber\n",
    "in 31 felled black cherry trees. The diameter of the tree is measured 4.5 feet above the ground.\n",
    "(a) Describe the relationship between volume and height of these trees.\n",
    "(b) Describe the relationship between volume and diameter of these trees.\n",
    "(c) Suppose you have height and diameter measurements for another black cherry tree. Which of these\n",
    "variables would be preferable to use to predict the volume of timber in this tree using a simple linear\n",
    "regression model? Explain your reasoning.'''\n",
    "print(f'''a) moderate positive linear relationship\n",
    "b) strong positive linear relationship\n",
    "c) diameter. the variability is low, diameter looks more correlated with volume of a tree than height. diameter should\n",
    "have a bigger correlation coefficient. diameter would predict volume more reliably.''')"
   ]
  },
  {
   "cell_type": "code",
   "execution_count": 32,
   "metadata": {},
   "outputs": [
    {
     "name": "stdout",
     "output_type": "stream",
     "text": [
      "a) if the age difference between husbands and wives are consistent across ages, the slope of the\n",
      "regression line would be 1. To test this claim, we can set hypotheses: H0: beta_1 = 1, HA: beta_1 != 0\n",
      "t_score: (.9112 - 1) / .0259 = -3.4286\n",
      "0.0008 # two tailed p-value of corresponding t-score\n",
      "b) age_wife = 1.5740 + .9112 * age_husband\n",
      "c) for each additional year in husband's age, the model predicts an additional 0.9112 years in wife's age.\n",
      "d) since R^2 is high, there's a strong correlation of ages in this data set.\n",
      "e) would be 51.69 years old. that would be reliable because there's a high correlation between the variables.\n",
      "f) no. observation is out of the data's realm. this would require extrapolation.\n"
     ]
    }
   ],
   "source": [
    "'''8.39 Husbands and wives, Part III. Exercise 8.33 presents a scatterplot displaying the relationship between\n",
    "husbands' and wives' ages in a random sample of 170 married couples in Britain, where both partners' ages\n",
    "are below 65 years. Given below is summary output of the least squares fit for predicting wife's age from\n",
    "husband's age.\n",
    "(a) We might wonder, is the age difference between husbands and wives consistent across ages? If this were\n",
    "the case, then the slope parameter would be beta_1 = 1. Use the information above to evaluate if there is\n",
    "strong evidence that the difference in husband and wife ages differs for different ages.\n",
    "(b) Write the equation of the regression line for predicting wife's age from husband's age.\n",
    "(c) Interpret the slope and intercept in context.\n",
    "(d) Given that R2 = 0.88, what is the correlation of ages in this data set?\n",
    "(e) You meet a married man from Britain who is 55 years old. What would you predict his wife's age to\n",
    "be? How reliable is this prediction?\n",
    "(f) You meet another married man from Britain who is 85 years old. Would it be wise to use the same\n",
    "linear model to predict his wife's age? Explain.'''\n",
    "\n",
    "print(f'''a) if the age difference between husbands and wives are consistent across ages, the slope of the\n",
    "regression line would be 1. To test this claim, we can set hypotheses: H0: beta_1 = 1, HA: beta_1 != 0\n",
    "t_score: (.9112 - 1) / .0259 = {(.9112 - 1) / .0259:.4f}\n",
    "{stats.t.cdf(x= (.9112 - 1) / .0259, df=168) * 2:.4f} # two tailed p-value of corresponding t-score\n",
    "b) age_wife = 1.5740 + .9112 * age_husband\n",
    "c) for each additional year in husband's age, the model predicts an additional 0.9112 years in wife's age.\n",
    "d) since R^2 is high, there's a strong correlation of ages in this data set.\n",
    "e) would be {1.5740 + .9112 * 55} years old. that would be reliable because there's a high correlation between the variables.\n",
    "f) no. observation is out of the data's realm. this would require extrapolation.''')"
   ]
  },
  {
   "cell_type": "code",
   "execution_count": 64,
   "metadata": {},
   "outputs": [
    {
     "name": "stdout",
     "output_type": "stream",
     "text": [
      "a) hypotheses:\n",
      "H0: the true slope coefficient for predicting heart weight from body weight of cats is 0. there's no association between\n",
      "the two variables.\n",
      "HA: the true slope coefficient for predicting heart weight from body weight of cats is different from 0. there's no association \n",
      "between the two variables.\n",
      "b) since p value = 0.000 is smaller than our significance level of 5%, we reject the null hypothesis and conclude \n",
      "the data provide strong evidence that the average number of traffic accident is significantly different between two dates.\n",
      "\n",
      "c) CONFIDENCE INTERVAL\n",
      "standard error = 0.2500, me = 0.4942, dof = 143, t_conf = 1.9767\n",
      "we're 95% confident that the true slope coefficient for predicting heart weight from body weight of cats \n",
      "is between 3.5398 and 4.5282\n",
      "d) yes. because there's no 0 within the confidence interval, we can say both results from confidence interval and hypothesis\n",
      "test agrees.\n",
      "\n"
     ]
    },
    {
     "name": "stderr",
     "output_type": "stream",
     "text": [
      "C:\\Program Files (x86)\\Anaconda3\\lib\\site-packages\\matplotlib\\patches.py:121: UserWarning: Setting the 'color' property will overridethe edgecolor or facecolor properties. \n",
      "  warnings.warn(\"Setting the 'color' property will override\"\n"
     ]
    },
    {
     "data": {
      "image/png": "[encoded data removed]",
      "text/plain": [
       "<matplotlib.figure.Figure at 0x1c355a84e48>"
      ]
     },
     "metadata": {},
     "output_type": "display_data"
    }
   ],
   "source": [
    "'''8.40 Cats, Part II. Exercise 8.26 presents regression output from a model for predicting the heart weight\n",
    "(in g) of cats from their body weight (in kg). The coefficients are estimated using a dataset of 144 domestic\n",
    "cat. The model output is also provided below.\n",
    "(a) We see that the point estimate for the slope is positive. What are the hypotheses for evaluating whether\n",
    "body weight is positively associated with heart weight in cats?\n",
    "(b) State the conclusion of the hypothesis test from part (a) in context of the data.\n",
    "(c) Calculate a 95% confidence interval for the slope of body weight, and interpret it in context of the data.\n",
    "(d) Do your results from the hypothesis test and the confidence interval agree? Explain.'''\n",
    "\n",
    "b0 = -0.357\n",
    "s_b0 = .692\n",
    "t_b0 = -.515\n",
    "\n",
    "b1 = 4.034\n",
    "s_b1 = .250\n",
    "t_b1 = 16.119\n",
    "\n",
    "x0 = 0\n",
    "xbar = b1\n",
    "se = s_b1\n",
    "dof = 143\n",
    "cl = .95\n",
    "sl = 1-cl\n",
    "\n",
    "t = (xbar - x0) / se # compute t-score\n",
    "two_t = [t,t*(-1)] # t-scores for right and left tail\n",
    "p1t = stats.t.cdf(x=min(two_t), df=dof) # one tail probability -left tail-\n",
    "p = stats.t.cdf(x=min(two_t), df=dof) * 2 # two tailed p-value of corresponding t-score\n",
    "\n",
    "\n",
    "print(f'''a) hypotheses:\n",
    "H0: the true slope coefficient for predicting heart weight from body weight of cats is 0. there's no association between\n",
    "the two variables.\n",
    "HA: the true slope coefficient for predicting heart weight from body weight of cats is different from 0. there's no association \n",
    "between the two variables.\n",
    "b) since p value = {p:.3f} is smaller than our significance level of {sl:.0%}, we reject the null hypothesis and conclude \n",
    "the data provide strong evidence that the average number of traffic accident is significantly different between two dates.\n",
    "''')\n",
    "\n",
    "# CONFIDENCE INTERVAL\n",
    "fig = plt.figure(figsize=(14,4))\n",
    "x = np.linspace(-4, 4, 500)\n",
    "s1t = sl / 2\n",
    "t_conf = stats.t.ppf(1-s1t, dof) # upper tail is 1 - confidence level /2 (one tail)\n",
    "se = s_b1\n",
    "me = t_conf * se\n",
    "lo = xbar - me\n",
    "hi = xbar + me\n",
    "print(f'''c) CONFIDENCE INTERVAL\n",
    "standard error = {se:.4f}, me = {me:.4f}, dof = {dof}, t_conf = {t_conf:.4f}\n",
    "we're {cl:.0%} confident that the true slope coefficient for predicting heart weight from body weight of cats \n",
    "is between {lo:.4f} and {hi:.4f}\n",
    "d) yes. because there's no 0 within the confidence interval, we can say both results from confidence interval and hypothesis\n",
    "test agrees.\n",
    "''')\n",
    "\n",
    "ax_conf = fig.add_subplot(1,2,2)\n",
    "y = stats.t.pdf(x, dof)\n",
    "two_t_conf = [t_conf, (t_conf)*-1]\n",
    "\n",
    "ax_conf.plot(x, y, color='black',label=f' t-distribution, df= {dof}'.format(df=dof))\n",
    "ax_conf.fill_between(x, y, color='blue', alpha=0.5, where= ~((x<min(two_t_conf)) | (x>max(two_t_conf))) ,label=\"confidence interval\")\n",
    "ax_conf.set_ylabel('Probability Density')\n",
    "ax_conf.set_xlabel('Standard Deviations')\n",
    "ax_conf.set_title('Confidence Interval')\n",
    "ax_conf.text(min(two_t_conf), stats.t.cdf(x=min(two_t_conf), df=dof), '{t_lo:.2f}'.format(t_lo=lo), color='black', \n",
    "        bbox=dict(facecolor='none', edgecolor='black', boxstyle='round,pad=1', color='gray'),fontsize='x-small')\n",
    "ax_conf.text(max(two_t_conf), stats.t.cdf(x=min(two_t_conf), df=dof), '{t_hi:.2f}'.format(t_hi=hi), color='black', \n",
    "        bbox=dict(facecolor='none', edgecolor='black', boxstyle='round,pad=1', color='gray'),fontsize='x-small')\n",
    "legend = ax_conf.legend(shadow=True,fontsize='small')"
   ]
  },
  {
   "cell_type": "code",
   "execution_count": 66,
   "metadata": {},
   "outputs": [
    {
     "name": "stdout",
     "output_type": "stream",
     "text": [
      "moderate to strong, positive, linear relationship between the variables. there's an upwards trend. but the residuals\n",
      "seems to grow for bigger x values.\n",
      "there might be two clusters, left and right. \n",
      "might not be suitable to fit a regression line here.\n"
     ]
    }
   ],
   "source": [
    "'''8.41 Nutrition at Starbucks, Part II. Exercise 8.22 introduced a data set on nutrition information on\n",
    "Starbucks food menu items. Based on the scatterplot and the residual plot provided, describe the relationship\n",
    "between the protein content and calories of these menu items, and determine if a simple linear model is\n",
    "appropriate to predict amount of protein from the number of calories.'''\n",
    "print('''moderate to strong, positive, linear relationship between the variables. there's an upwards trend. but the residuals\n",
    "seems to grow for bigger x values.\n",
    "there might be two clusters, left and right. \n",
    "might not be suitable to fit a regression line here.''')"
   ]
  },
  {
   "cell_type": "code",
   "execution_count": 88,
   "metadata": {},
   "outputs": [
    {
     "name": "stdout",
     "output_type": "stream",
     "text": [
      "a) -0.85\n",
      "b) beta_1 = -0.54 --- beta_0 = 55.34\n",
      "c) a neighborhood with a reduced feed lunch rate of 0 percent is expected to have a 55.34% rate of bike riders wearing helmet\n",
      "d) for additional reduced feed lunch rate, the model predicts a -0.54% change in bike riders wearing helmet\n",
      "e) the model fit have predicted the bike riders wearing helmet from reduced feed lunch rate -6.141 less\n"
     ]
    }
   ],
   "source": [
    "'''8.42 Helmets and lunches. The scatterplot shows the relationship between socioeconomic status measured\n",
    "as the percentage of children in a neighborhood receiving reduced-fee lunches at school (lunch) and the\n",
    "percentage of bike riders in the neighborhood wearing helmets (helmet). The average percentage of children\n",
    "receiving reduced-fee lunches is 30.8% with a standard deviation of 26.7% and the average percentage of\n",
    "bike riders wearing helmets is 38.8% with a standard deviation of 16.9%.\n",
    "(a) If the R2 for the least-squares regression line for\n",
    "these data is 72%, what is the correlation\n",
    "between lunch and helmet?\n",
    "(b) Calculate the slope and intercept for the\n",
    "least-squares regression line for these data.\n",
    "(c) Interpret the intercept of the least-squares\n",
    "regression line in the context of the application.\n",
    "(d) Interpret the slope of the least-squares regression\n",
    "line in the context of the application.\n",
    "(e) What would the value of the residual be for a\n",
    "neighborhood where 40% of the children receive\n",
    "reduced-fee lunches and 40% of the bike riders\n",
    "wear helmets? Interpret the meaning of this\n",
    "residual in the context of the application.'''\n",
    "ybar = 38.8\n",
    "s_y = 16.9\n",
    "\n",
    "xbar = 30.8\n",
    "s_x = 26.7\n",
    "\n",
    "R = -np.sqrt(0.72)\n",
    "b1 = s_y/s_x * R\n",
    "b0 = ybar - (b1*xbar)\n",
    "\n",
    "print(f'''a) {R:.2f}\n",
    "b) beta_1 = {b1:.2f} --- beta_0 = {b0:.2f}\n",
    "c) a neighborhood with a reduced feed lunch rate of 0 percent is expected to have a 55.34% rate of bike riders wearing helmet\n",
    "d) for additional reduced feed lunch rate, the model predicts a {b1:.2f}% change in bike riders wearing helmet\n",
    "e) the model fit have predicted the bike riders wearing helmet from reduced feed lunch rate {(b0 + b1*40) - 40:.3f} less''')"
   ]
  },
  {
   "cell_type": "code",
   "execution_count": 89,
   "metadata": {},
   "outputs": [
    {
     "name": "stdout",
     "output_type": "stream",
     "text": [
      "(a) r = 0.72  - 2\n",
      "(b) r = 0.07  - 4\n",
      "(c) r = 0.86  - 1\n",
      "(d) r = 0.99  - 3\n"
     ]
    }
   ],
   "source": [
    "'''8.43 Match the correlation, Part III. Match each correlation to the corresponding scatterplot.'''\n",
    "print('''(a) r = 0.72  - 2\n",
    "(b) r = 0.07  - 4\n",
    "(c) r = 0.86  - 1\n",
    "(d) r = 0.99  - 3''')"
   ]
  },
  {
   "cell_type": "code",
   "execution_count": 96,
   "metadata": {},
   "outputs": [
    {
     "name": "stdout",
     "output_type": "stream",
     "text": [
      "a) 0.13250283125707613\n",
      "b) yes, the data provide convincing evidence that the slope of the relationship between teaching evaluation and beauty is\n",
      "positive. since the p-value in the regression output is approximately 0, we fail to reject the null hypothesis because in the\n",
      "realm that H0 is true, it's almost impossible that we observe that value. so it's beyond our level of \"probable\" then we reject\n",
      "the H0 and say this is something impossible enough that we can't accept.\n",
      "c) linearity. can't see an evident non-linear trend in the data. this condition is met.\n",
      "nearly normal residuals. the residuals looks like they're normally distributed.\n",
      "constant variability. variability of the observations looks constant for every value of x\n",
      "independent observations. order of data collection seems completely random. there's no time series etc.\n",
      "\n"
     ]
    }
   ],
   "source": [
    "'''8.44 Rate my professor. Many college courses conclude by giving students the opportunity to evaluate\n",
    "the course and the instructor anonymously. However, the use of these student evaluations as an indicator of\n",
    "course quality and teaching effectiveness is often criticized because these measures may reflect the influence\n",
    "of non-teaching related characteristics, such as the physical appearance of the instructor. Researchers at\n",
    "University of Texas, Austin collected data on teaching evaluation score (higher score means better) and\n",
    "standardized beauty score (a score of 0 means average, negative score means below average, and a positive\n",
    "score means above average) for a sample of 463 professors.21 The scatterplot below shows the relationship\n",
    "between these variables, and regression output is provided for predicting teaching evaluation score from\n",
    "beauty score.\n",
    "(a) Given that the average standardized beauty\n",
    "score is -0.0883 and average teaching\n",
    "evaluation score is 3.9983, calculate the\n",
    "slope. Alternatively, the slope may be\n",
    "computed using just the information\n",
    "provided in the model summary table.\n",
    "(b) Do these data provide convincing evidence\n",
    "that the slope of the relationship between\n",
    "teaching evaluation and beauty is positive?\n",
    "Explain your reasoning.\n",
    "(c) List the conditions required for linear\n",
    "regression and check if each one is satis\f",
    "ed\n",
    "for this model based on the following\n",
    "diagnostic plots.'''\n",
    "\n",
    "b1 = (3.9983 - 4.010)/-.0883\n",
    "\n",
    "print(f'''a) {b1}\n",
    "b) yes, the data provide convincing evidence that the slope of the relationship between teaching evaluation and beauty is\n",
    "positive. since the p-value in the regression output is approximately 0, we fail to reject the null hypothesis because in the\n",
    "realm that H0 is true, it's almost impossible that we observe that value. so it's beyond our level of \"probable\" then we reject\n",
    "the H0 and say this is something impossible enough that we can't accept.\n",
    "c) linearity. can't see an evident non-linear trend in the data. this condition is met.\n",
    "nearly normal residuals. the residuals looks like they're normally distributed.\n",
    "constant variability. variability of the observations looks constant for every value of x\n",
    "independent observations. order of data collection seems completely random. there's no time series etc.''')"
   ]
  }
 ],
 "metadata": {
  "kernelspec": {
   "display_name": "Python 3",
   "language": "python",
   "name": "python3"
  },
  "language_info": {
   "codemirror_mode": {
    "name": "ipython",
    "version": 3
   },
   "file_extension": ".py",
   "mimetype": "text/x-python",
   "name": "python",
   "nbconvert_exporter": "python",
   "pygments_lexer": "ipython3",
   "version": "3.6.1"
  }
 },
 "nbformat": 4,
 "nbformat_minor": 2
}
