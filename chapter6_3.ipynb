{
 "cells": [
  {
   "cell_type": "code",
   "execution_count": 12,
   "metadata": {
    "collapsed": true
   },
   "outputs": [],
   "source": [
    "import pandas as pd\n",
    "import numpy as np\n",
    "import random\n",
    "import scipy.stats\n",
    "import math\n",
    "from matplotlib import pyplot as plt\n",
    "from random import sample\n",
    "from scipy.stats import chisquare\n",
    "from scipy import stats\n",
    "z90 = 1.645\n",
    "z95 = 1.96\n",
    "z99 = 2.576"
   ]
  },
  {
   "cell_type": "code",
   "execution_count": 23,
   "metadata": {},
   "outputs": [
    {
     "name": "stdout",
     "output_type": "stream",
     "text": [
      "a)  0.100060833119\n",
      "b)  0.116484157773\n",
      "c)  0.403798457104\n",
      "d)  0.110866245605\n",
      "e)  0.0404276819945\n",
      "f)  0.0266252743364\n"
     ]
    }
   ],
   "source": [
    "# figure 6.8\n",
    "print(\"a) \",1 - stats.chi2.cdf(6.25, 3)) # calculate the tail area in a chi2 distribution\n",
    "print(\"b) \",1 - stats.chi2.cdf(4.3, 2))\n",
    "print(\"c) \",1 - stats.chi2.cdf(5.1, 5))\n",
    "print(\"d) \",1 - stats.chi2.cdf(11.7, 7))\n",
    "print(\"e) \",1 - stats.chi2.cdf(10, 4))\n",
    "print(\"f) \",1 - stats.chi2.cdf(9.21, 3))"
   ]
  },
  {
   "cell_type": "code",
   "execution_count": null,
   "metadata": {},
   "outputs": [],
   "source": []
  },
  {
   "cell_type": "code",
   "execution_count": null,
   "metadata": {},
   "outputs": [],
   "source": []
  },
  {
   "cell_type": "code",
   "execution_count": 20,
   "metadata": {},
   "outputs": [],
   "source": []
  },
  {
   "cell_type": "code",
   "execution_count": 21,
   "metadata": {},
   "outputs": [],
   "source": []
  },
  {
   "cell_type": "code",
   "execution_count": 22,
   "metadata": {},
   "outputs": [],
   "source": []
  },
  {
   "cell_type": "code",
   "execution_count": null,
   "metadata": {
    "collapsed": true
   },
   "outputs": [],
   "source": []
  }
 ],
 "metadata": {
  "kernelspec": {
   "display_name": "Python 3",
   "language": "python",
   "name": "python3"
  },
  "language_info": {
   "codemirror_mode": {
    "name": "ipython",
    "version": 3
   },
   "file_extension": ".py",
   "mimetype": "text/x-python",
   "name": "python",
   "nbconvert_exporter": "python",
   "pygments_lexer": "ipython3",
   "version": "3.6.1"
  }
 },
 "nbformat": 4,
 "nbformat_minor": 2
}
