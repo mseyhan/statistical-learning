{
 "cells": [
  {
   "cell_type": "code",
   "execution_count": 3,
   "metadata": {
    "collapsed": true
   },
   "outputs": [],
   "source": [
    "import pandas as pd\n",
    "import numpy as np\n",
    "import random\n",
    "import scipy.stats\n",
    "import math\n",
    "from matplotlib import pyplot as plt\n",
    "from random import sample\n",
    "from scipy.stats import chisquare\n",
    "from scipy.stats import geom\n",
    "from scipy import stats\n",
    "z90 = 1.645\n",
    "z95 = 1.96\n",
    "z99 = 2.576"
   ]
  },
  {
   "cell_type": "code",
   "execution_count": 7,
   "metadata": {
    "scrolled": true
   },
   "outputs": [
    {
     "name": "stdout",
     "output_type": "stream",
     "text": [
      "a)  0.100060833119\n",
      "b)  0.116484157773\n",
      "c)  0.403798457104\n",
      "d)  0.110866245605\n",
      "e)  0.0404276819945\n",
      "f)  0.0266252743364\n",
      "Power_divergenceResult(statistic=5.8896103896103895, pvalue=0.11710619130850619)\n"
     ]
    }
   ],
   "source": [
    "# figure 6.8\n",
    "print(\"a) \",1 - stats.chi2.cdf(6.25, 3)) # calculate the tail area in a chi2 distribution\n",
    "print(\"b) \",1 - stats.chi2.cdf(4.3, 2))\n",
    "print(\"c) \",1 - stats.chi2.cdf(5.1, 5))\n",
    "print(\"d) \",1 - stats.chi2.cdf(11.7, 7))\n",
    "print(\"e) \",1 - stats.chi2.cdf(10, 4))\n",
    "print(\"f) \",1 - stats.chi2.cdf(9.21, 3))"
   ]
  },
  {
   "cell_type": "code",
   "execution_count": 12,
   "metadata": {},
   "outputs": [
    {
     "name": "stdout",
     "output_type": "stream",
     "text": [
      "Power_divergenceResult(statistic=5.8896103896103895, pvalue=0.11710619130850619)\n"
     ]
    }
   ],
   "source": [
    "# figure 6.6\n",
    "print(chisquare([205,26,25,19],[198,19.25,33,24.75])) # chi-square test statistic and the p-value for corresponding figure."
   ]
  },
  {
   "cell_type": "code",
   "execution_count": 22,
   "metadata": {},
   "outputs": [
    {
     "name": "stdout",
     "output_type": "stream",
     "text": [
      "a) false. it has only one parameter, which is the degree of freedom.\n",
      "b) true.\n",
      "c) true.\n",
      "d) false. as the degrees of freedom increases, the shape of the chi2 distribution becomes more symmetrical\n"
     ]
    }
   ],
   "source": [
    "'''6.31 True or false, Part I. Determine if the statements below are true or false. For each false statement,\n",
    "suggest an alternative wording to make it a true statement.\n",
    "(a) The chi-square distribution, just like the normal distribution, has two parameters, mean and standard\n",
    "deviation.\n",
    "(b) The chi-square distribution is always right skewed, regardless of the value of the degrees of freedom\n",
    "parameter.\n",
    "(c) The chi-square statistic is always positive.\n",
    "(d) As the degrees of freedom increases, the shape of the chi-square distribution becomes more skewed.'''\n",
    "print('''a) false. it has only one parameter, which is the degree of freedom.\n",
    "b) true.\n",
    "c) true.\n",
    "d) false. as the degrees of freedom increases, the shape of the chi2 distribution becomes more symmetrical''')"
   ]
  },
  {
   "cell_type": "code",
   "execution_count": 23,
   "metadata": {},
   "outputs": [
    {
     "name": "stdout",
     "output_type": "stream",
     "text": [
      "a) true.\n",
      "b)  0.0752352461465 yes, we would fail to reject H0 because the p-value is greater than .05\n",
      "c) false. we should compute only the right tail since greater values shows a lower chance. left tail is the most probable ones.\n",
      "d) false. it increases since the spread widens, seen in the chi2 distributions.\n",
      "\n"
     ]
    }
   ],
   "source": [
    "'''6.32 True or false, Part II. Determine if the statements below are true or false. For each false statement,\n",
    "suggest an alternative wording to make it a true statement.\n",
    "(a) As the degrees of freedom increases, the mean of the chi-square distribution increases.\n",
    "(b) If you found x2 = 10 with df = 5 you would fail to reject H0 at the 5% significance level.\n",
    "(c) When finding the p-value of a chi-square test, we always shade the tail areas in both tails.\n",
    "(d) As the degrees of freedom increases, the variability of the chi-square distribution decreases.\n",
    "\n",
    "'''\n",
    "print(\"a) true.\")\n",
    "print(\"b) \",1 - stats.chi2.cdf(10, 5), \"yes, we would fail to reject H0 because the p-value is greater than .05\")\n",
    "print('''c) false. we should compute only the right tail since greater values shows a lower chance. left tail is the most probable ones.\n",
    "d) false. it increases since the spread widens, seen in the chi2 distributions.\n",
    "''')"
   ]
  },
  {
   "cell_type": "code",
   "execution_count": 40,
   "metadata": {},
   "outputs": [
    {
     "name": "stdout",
     "output_type": "stream",
     "text": [
      "a) H0: the predictions of the professor fits with the reality. (the real distribution follows the professor's predictions.)\n",
      "HA: H0: the predictions of the professor does not fit with the reality. (the real distribution doesn't follow the professor's predictions.)\n",
      "b) of 126 students: \n",
      " 75.6 will buy the hard copy,\n",
      " 31.5 will print from web,\n",
      " 18.9 will read online, \n",
      "c) \"independence: not randomly sampled. /// Sample size: all expected counts are at least 5 \n",
      "d) the dof is 3-1 = 2 /// chi2 statistic and p-value: Power_divergenceResult(statistic=2.3201058201058204, pvalue=0.31346959475097858) \n",
      "e) in a 95% confidence level, we fail to reject H0 since the p-value is greater than .5 -our significance level-\n",
      "we conclude the data does not provide sufficient evidence indicating the professor's expectations are statistically inaccurate.\n"
     ]
    }
   ],
   "source": [
    "'''6.33 Open source textbook. A professor using an open source introductory statistics book predicts that\n",
    "60% of the students will purchase a hard copy of the book, 25% will print it out from the web, and 15%\n",
    "will read it online. At the end of the semester he asks his students to complete a survey where they indicate\n",
    "what format of the book they used. Of the 126 students, 71 said they bought a hard copy of the book, 30\n",
    "said they printed it out from the web, and 25 said they read it online.\n",
    "(a) State the hypotheses for testing if the professor's predictions were inaccurate.\n",
    "(b) How many students did the professor expect to buy the book, print the book, and read the book\n",
    "exclusively online?\n",
    "(c) This is an appropriate setting for a chi-square test. List the conditions required for a test and verify\n",
    "they are satisfied.\n",
    "(d) Calculate the chi-squared statistic, the degrees of freedom associated with it, and the p-value.\n",
    "(e) Based on the p-value calculated in part (d), what is the conclusion of the hypothesis test? Interpret\n",
    "your conclusion in this context.\n",
    "'''\n",
    "print('''a) H0: the predictions of the professor fits with the reality. (the real distribution follows the professor's predictions.)\n",
    "HA: H0: the predictions of the professor does not fit with the reality. (the real distribution doesn't follow the professor's predictions.)''')\n",
    "print('''b) of 126 students: \n",
    "''', 126*60/100, '''will buy the hard copy,\n",
    "''', 126*25/100, '''will print from web,\n",
    "''', 126*15/100,'''will read online,''' ,\n",
    "'''\n",
    "c) \"independence: not randomly sampled. /// Sample size: all expected counts are at least 5''','''\n",
    "d) the dof is 3-1 = 2 /// chi2 statistic and p-value:''', chisquare([71,30,25],[75.6,31.5,18.9]),'''\n",
    "e) in a 95% confidence level, we fail to reject H0 since the p-value is greater than .5 -our significance level-\n",
    "we conclude the data does not provide sufficient evidence indicating the professor's expectations are statistically inaccurate.''')"
   ]
  },
  {
   "cell_type": "code",
   "execution_count": 71,
   "metadata": {},
   "outputs": [
    {
     "name": "stdout",
     "output_type": "stream",
     "text": [
      "a) if the barking deer does not prefer to forage in a specific habitat, the distribution of deers that forage in \n",
      "habitats should follow the distribution of the forage sites in area.\n",
      "H0: the barking deer does not prefer a specific habitat to forage.\n",
      "HA: the barking deer prefer a specific habitat to forage.\n",
      "\n",
      "actual [345, 61, 16, 4]\n",
      "expected [185.73600000000002, 168.69600000000003, 62.622, 20.448]\n",
      "b) goodness of fit test \n",
      "c) independence: fits /// sample size: fits.\n",
      "d) the data provides convincing evidence that barking deer prefer to forage in certain habitats over others.\n"
     ]
    }
   ],
   "source": [
    "'''6.34 Barking deer. Microhabitat factors associated with forage and bed sites of barking deer in Hainan\n",
    "Island, China were examined. In this region woods make up 4.8% of the land, cultivated grass plot makes\n",
    "up 14.7%, and deciduous forests make up 39.6%. Of the 426 sites where the deer forage, 4 were categorized\n",
    "as woods, 16 as cultivated grassplot, and 61 as deciduous forests. The table below summarizes these data.39\n",
    "\n",
    "Woods Cultivated grassplot Deciduous forests Other Total\n",
    "4 16 61 345 426\n",
    "\n",
    "(a) Write the hypotheses for testing if barking deer prefer to forage in certain habitats over others.\n",
    "(b) What type of test can we use to answer this research question?\n",
    "(c) Check if the assumptions and conditions required for this test are satisfied.\n",
    "(d) Do these data provide convincing evidence that barking deer prefer to forage in certain habitats over others? \n",
    "Conduct an appropriate hypothesis test to answer this research question.'''\n",
    "\n",
    "print('''a) if the barking deer does not prefer to forage in a specific habitat, the distribution of deers that forage in \n",
    "habitats should follow the distribution of the forage sites in area.\n",
    "H0: the barking deer does not prefer a specific habitat to forage.\n",
    "HA: the barking deer prefer a specific habitat to forage.\n",
    "''')\n",
    "a = [426 * 43.6 / 100, 426 * 39.6 / 100, 426 * 14.7 / 100, 426 * 4.8 / 100]\n",
    "b = [345,61,16,4]\n",
    "print(\"actual\", b)\n",
    "print(\"expected\",a)\n",
    "chisquare(b,a)\n",
    "print('''b) goodness of fit test \n",
    "c) independence: fits /// sample size: fits.\n",
    "d) the data provides convincing evidence that barking deer prefer to forage in certain habitats over others.''')"
   ]
  },
  {
   "cell_type": "code",
   "execution_count": null,
   "metadata": {},
   "outputs": [],
   "source": []
  },
  {
   "cell_type": "code",
   "execution_count": null,
   "metadata": {},
   "outputs": [],
   "source": []
  },
  {
   "cell_type": "code",
   "execution_count": null,
   "metadata": {
    "collapsed": true
   },
   "outputs": [],
   "source": []
  }
 ],
 "metadata": {
  "kernelspec": {
   "display_name": "Python 3",
   "language": "python",
   "name": "python3"
  },
  "language_info": {
   "codemirror_mode": {
    "name": "ipython",
    "version": 3
   },
   "file_extension": ".py",
   "mimetype": "text/x-python",
   "name": "python",
   "nbconvert_exporter": "python",
   "pygments_lexer": "ipython3",
   "version": "3.6.1"
  }
 },
 "nbformat": 4,
 "nbformat_minor": 2
}
